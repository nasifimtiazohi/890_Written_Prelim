{
 "cells": [
  {
   "cell_type": "code",
   "execution_count": 2,
   "metadata": {},
   "outputs": [],
   "source": [
    "import sys\n",
    "sys.path.append('../main')\n",
    "import sql\n",
    "import pandas as pd\n",
    "from functools import reduce"
   ]
  },
  {
   "cell_type": "code",
   "execution_count": 18,
   "metadata": {},
   "outputs": [
    {
     "output_type": "execute_result",
     "data": {
      "text/plain": "             memory_cvss2  memory_cvss3\nname                                   \nFirefox               7.5           9.8\nLibreOffice           7.5           9.8\nLinux                 7.2           7.8\nOpenCV                6.8           8.8\nSamba                 5.0           6.5\nThunderbird           7.6           9.8",
      "text/html": "<div>\n<style scoped>\n    .dataframe tbody tr th:only-of-type {\n        vertical-align: middle;\n    }\n\n    .dataframe tbody tr th {\n        vertical-align: top;\n    }\n\n    .dataframe thead th {\n        text-align: right;\n    }\n</style>\n<table border=\"1\" class=\"dataframe\">\n  <thead>\n    <tr style=\"text-align: right;\">\n      <th></th>\n      <th>memory_cvss2</th>\n      <th>memory_cvss3</th>\n    </tr>\n    <tr>\n      <th>name</th>\n      <th></th>\n      <th></th>\n    </tr>\n  </thead>\n  <tbody>\n    <tr>\n      <th>Firefox</th>\n      <td>7.5</td>\n      <td>9.8</td>\n    </tr>\n    <tr>\n      <th>LibreOffice</th>\n      <td>7.5</td>\n      <td>9.8</td>\n    </tr>\n    <tr>\n      <th>Linux</th>\n      <td>7.2</td>\n      <td>7.8</td>\n    </tr>\n    <tr>\n      <th>OpenCV</th>\n      <td>6.8</td>\n      <td>8.8</td>\n    </tr>\n    <tr>\n      <th>Samba</th>\n      <td>5.0</td>\n      <td>6.5</td>\n    </tr>\n    <tr>\n      <th>Thunderbird</th>\n      <td>7.6</td>\n      <td>9.8</td>\n    </tr>\n  </tbody>\n</table>\n</div>"
     },
     "metadata": {},
     "execution_count": 18
    }
   ],
   "source": [
    "q='''select * from cve c\n",
    "    join memory_cwe mc on c.CWE = mc.CWE\n",
    "    join project p on c.project_id = p.id\n",
    "    where memory = 1;'''\n",
    "df=pd.DataFrame(sql.execute(q))\n",
    "cvss3 = df.groupby('name')[['cvss3_score']].median()\n",
    "cvss2 = df.groupby('name')[['cvss2_score']].median()\n",
    "df=reduce(lambda x,y:pd.merge(x,y,on='name'),[cvss2, cvss3])\n",
    "df = df.rename(columns={'cvss3_score':'memory_cvss3','cvss2_score':'memory_cvss2'})\n",
    "memory = df\n",
    "memory"
   ]
  },
  {
   "cell_type": "code",
   "execution_count": 19,
   "metadata": {},
   "outputs": [],
   "source": [
    "q='''select * from cve c\n",
    "    join memory_cwe mc on c.CWE = mc.CWE\n",
    "    join project p on c.project_id = p.id\n",
    "    where memory is null;'''\n",
    "df=pd.DataFrame(sql.execute(q))\n",
    "cvss3 = df.groupby('name')[['cvss3_score']].median()\n",
    "cvss2 = df.groupby('name')[['cvss2_score']].median()\n",
    "df=reduce(lambda x,y:pd.merge(x,y,on='name'),[cvss2, cvss3])\n",
    "df = df.rename(columns={'cvss3_score':'nonmemory_cvss3','cvss2_score':'nonmemory_cvss2'})\n",
    "nonmemory = df"
   ]
  },
  {
   "cell_type": "code",
   "execution_count": 20,
   "metadata": {},
   "outputs": [
    {
     "output_type": "execute_result",
     "data": {
      "text/plain": "             memory_cvss2  memory_cvss3  nonmemory_cvss2  nonmemory_cvss3\nname                                                                     \nFirefox               7.5           9.8              5.0              6.1\nLibreOffice           7.5           9.8              6.8              7.8\nLinux                 7.2           7.8              4.9              6.8\nOpenCV                6.8           8.8              5.0              7.5\nSamba                 5.0           6.5              5.0              6.5\nThunderbird           7.6           9.8              5.0              6.5",
      "text/html": "<div>\n<style scoped>\n    .dataframe tbody tr th:only-of-type {\n        vertical-align: middle;\n    }\n\n    .dataframe tbody tr th {\n        vertical-align: top;\n    }\n\n    .dataframe thead th {\n        text-align: right;\n    }\n</style>\n<table border=\"1\" class=\"dataframe\">\n  <thead>\n    <tr style=\"text-align: right;\">\n      <th></th>\n      <th>memory_cvss2</th>\n      <th>memory_cvss3</th>\n      <th>nonmemory_cvss2</th>\n      <th>nonmemory_cvss3</th>\n    </tr>\n    <tr>\n      <th>name</th>\n      <th></th>\n      <th></th>\n      <th></th>\n      <th></th>\n    </tr>\n  </thead>\n  <tbody>\n    <tr>\n      <th>Firefox</th>\n      <td>7.5</td>\n      <td>9.8</td>\n      <td>5.0</td>\n      <td>6.1</td>\n    </tr>\n    <tr>\n      <th>LibreOffice</th>\n      <td>7.5</td>\n      <td>9.8</td>\n      <td>6.8</td>\n      <td>7.8</td>\n    </tr>\n    <tr>\n      <th>Linux</th>\n      <td>7.2</td>\n      <td>7.8</td>\n      <td>4.9</td>\n      <td>6.8</td>\n    </tr>\n    <tr>\n      <th>OpenCV</th>\n      <td>6.8</td>\n      <td>8.8</td>\n      <td>5.0</td>\n      <td>7.5</td>\n    </tr>\n    <tr>\n      <th>Samba</th>\n      <td>5.0</td>\n      <td>6.5</td>\n      <td>5.0</td>\n      <td>6.5</td>\n    </tr>\n    <tr>\n      <th>Thunderbird</th>\n      <td>7.6</td>\n      <td>9.8</td>\n      <td>5.0</td>\n      <td>6.5</td>\n    </tr>\n  </tbody>\n</table>\n</div>"
     },
     "metadata": {},
     "execution_count": 20
    }
   ],
   "source": [
    "df=reduce(lambda x,y:pd.merge(x,y,on='name'),[memory, nonmemory])\n",
    "df"
   ]
  },
  {
   "cell_type": "code",
   "execution_count": null,
   "metadata": {},
   "outputs": [],
   "source": []
  }
 ],
 "metadata": {
  "language_info": {
   "codemirror_mode": {
    "name": "ipython",
    "version": 3
   },
   "file_extension": ".py",
   "mimetype": "text/x-python",
   "name": "python",
   "nbconvert_exporter": "python",
   "pygments_lexer": "ipython3",
   "version": "3.7.7-final"
  },
  "orig_nbformat": 2,
  "kernelspec": {
   "name": "python3",
   "display_name": "Python 3"
  }
 },
 "nbformat": 4,
 "nbformat_minor": 2
}