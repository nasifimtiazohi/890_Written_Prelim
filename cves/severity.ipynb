{
 "cells": [
  {
   "cell_type": "code",
   "execution_count": 35,
   "metadata": {},
   "outputs": [],
   "source": [
    "import sys\n",
    "sys.path.append('../main')\n",
    "import sql\n",
    "import pandas as pd\n",
    "from functools import reduce"
   ]
  },
  {
   "cell_type": "code",
   "execution_count": 36,
   "metadata": {},
   "outputs": [
    {
     "output_type": "execute_result",
     "data": {
      "text/plain": "             memory_cvss2  memory_cvss3\nname                                   \nFirefox              7.50           9.8\nLibreOffice          7.50           9.8\nLinux                7.20           7.8\nOpenCV               6.80           8.8\nSamba                5.00           6.5\nThunderbird          7.55           9.8",
      "text/html": "<div>\n<style scoped>\n    .dataframe tbody tr th:only-of-type {\n        vertical-align: middle;\n    }\n\n    .dataframe tbody tr th {\n        vertical-align: top;\n    }\n\n    .dataframe thead th {\n        text-align: right;\n    }\n</style>\n<table border=\"1\" class=\"dataframe\">\n  <thead>\n    <tr style=\"text-align: right;\">\n      <th></th>\n      <th>memory_cvss2</th>\n      <th>memory_cvss3</th>\n    </tr>\n    <tr>\n      <th>name</th>\n      <th></th>\n      <th></th>\n    </tr>\n  </thead>\n  <tbody>\n    <tr>\n      <th>Firefox</th>\n      <td>7.50</td>\n      <td>9.8</td>\n    </tr>\n    <tr>\n      <th>LibreOffice</th>\n      <td>7.50</td>\n      <td>9.8</td>\n    </tr>\n    <tr>\n      <th>Linux</th>\n      <td>7.20</td>\n      <td>7.8</td>\n    </tr>\n    <tr>\n      <th>OpenCV</th>\n      <td>6.80</td>\n      <td>8.8</td>\n    </tr>\n    <tr>\n      <th>Samba</th>\n      <td>5.00</td>\n      <td>6.5</td>\n    </tr>\n    <tr>\n      <th>Thunderbird</th>\n      <td>7.55</td>\n      <td>9.8</td>\n    </tr>\n  </tbody>\n</table>\n</div>"
     },
     "metadata": {},
     "execution_count": 36
    }
   ],
   "source": [
    "q='''select * from cve c\n",
    "    join memory_cwe mc on c.CWE = mc.CWE\n",
    "    join project p on c.project_id = p.id\n",
    "    where memory = 1;'''\n",
    "df=pd.DataFrame(sql.execute(q))\n",
    "cvss3 = df.groupby('name')[['cvss3_score']].median()\n",
    "cvss2 = df.groupby('name')[['cvss2_score']].median()\n",
    "df=reduce(lambda x,y:pd.merge(x,y,on='name'),[cvss2, cvss3])\n",
    "df = df.rename(columns={'cvss3_score':'memory_cvss3','cvss2_score':'memory_cvss2'})\n",
    "memory = df\n",
    "memory"
   ]
  },
  {
   "cell_type": "code",
   "execution_count": 37,
   "metadata": {},
   "outputs": [],
   "source": [
    "q='''select * from cve c\n",
    "    join memory_cwe mc on c.CWE = mc.CWE\n",
    "    join project p on c.project_id = p.id\n",
    "    where memory is null;'''\n",
    "df=pd.DataFrame(sql.execute(q))\n",
    "cvss3 = df.groupby('name')[['cvss3_score']].median()\n",
    "cvss2 = df.groupby('name')[['cvss2_score']].median()\n",
    "df=reduce(lambda x,y:pd.merge(x,y,on='name'),[cvss2, cvss3])\n",
    "df = df.rename(columns={'cvss3_score':'nonmemory_cvss3','cvss2_score':'nonmemory_cvss2'})\n",
    "nonmemory = df"
   ]
  },
  {
   "cell_type": "code",
   "execution_count": 38,
   "metadata": {},
   "outputs": [],
   "source": [
    "q='''select name, count(*) as memory\n",
    "from cve c\n",
    "join project p on c.project_id = p.id\n",
    "join memory_cwe mc on c.CWE = mc.CWE\n",
    "where memory=1\n",
    "group by name;'''\n",
    "mc=pd.DataFrame(sql.execute(q))\n"
   ]
  },
  {
   "cell_type": "code",
   "execution_count": 39,
   "metadata": {},
   "outputs": [
    {
     "output_type": "execute_result",
     "data": {
      "text/plain": "          name  memory  memory_cvss2  memory_cvss3  nonmemory_cvss2  \\\n0      Firefox     624          7.50           9.8             5.00   \n1  Thunderbird     426          7.55           9.8             5.00   \n2        Linux    1427          7.20           7.8             4.90   \n3        Samba      41          5.00           6.5             5.00   \n4  LibreOffice      16          7.50           9.8             6.80   \n5       OpenCV      25          6.80           8.8             4.65   \n\n   nonmemory_cvss3  \n0              6.1  \n1              6.5  \n2              6.7  \n3              6.5  \n4              7.8  \n5              6.7  ",
      "text/html": "<div>\n<style scoped>\n    .dataframe tbody tr th:only-of-type {\n        vertical-align: middle;\n    }\n\n    .dataframe tbody tr th {\n        vertical-align: top;\n    }\n\n    .dataframe thead th {\n        text-align: right;\n    }\n</style>\n<table border=\"1\" class=\"dataframe\">\n  <thead>\n    <tr style=\"text-align: right;\">\n      <th></th>\n      <th>name</th>\n      <th>memory</th>\n      <th>memory_cvss2</th>\n      <th>memory_cvss3</th>\n      <th>nonmemory_cvss2</th>\n      <th>nonmemory_cvss3</th>\n    </tr>\n  </thead>\n  <tbody>\n    <tr>\n      <th>0</th>\n      <td>Firefox</td>\n      <td>624</td>\n      <td>7.50</td>\n      <td>9.8</td>\n      <td>5.00</td>\n      <td>6.1</td>\n    </tr>\n    <tr>\n      <th>1</th>\n      <td>Thunderbird</td>\n      <td>426</td>\n      <td>7.55</td>\n      <td>9.8</td>\n      <td>5.00</td>\n      <td>6.5</td>\n    </tr>\n    <tr>\n      <th>2</th>\n      <td>Linux</td>\n      <td>1427</td>\n      <td>7.20</td>\n      <td>7.8</td>\n      <td>4.90</td>\n      <td>6.7</td>\n    </tr>\n    <tr>\n      <th>3</th>\n      <td>Samba</td>\n      <td>41</td>\n      <td>5.00</td>\n      <td>6.5</td>\n      <td>5.00</td>\n      <td>6.5</td>\n    </tr>\n    <tr>\n      <th>4</th>\n      <td>LibreOffice</td>\n      <td>16</td>\n      <td>7.50</td>\n      <td>9.8</td>\n      <td>6.80</td>\n      <td>7.8</td>\n    </tr>\n    <tr>\n      <th>5</th>\n      <td>OpenCV</td>\n      <td>25</td>\n      <td>6.80</td>\n      <td>8.8</td>\n      <td>4.65</td>\n      <td>6.7</td>\n    </tr>\n  </tbody>\n</table>\n</div>"
     },
     "metadata": {},
     "execution_count": 39
    }
   ],
   "source": [
    "df=reduce(lambda x,y:pd.merge(x,y,on='name'),[mc,memory, nonmemory])\n",
    "df"
   ]
  },
  {
   "cell_type": "code",
   "execution_count": 40,
   "metadata": {},
   "outputs": [
    {
     "output_type": "execute_result",
     "data": {
      "text/plain": "(3.0, 0.00884228658785868, 7.35, 5.0)"
     },
     "metadata": {},
     "execution_count": 40
    }
   ],
   "source": [
    "from scipy.stats import mannwhitneyu\n",
    "stat, p = mannwhitneyu(df.memory_cvss2,df.nonmemory_cvss2)\n",
    "stat, p, df.memory_cvss2.median(), df.nonmemory_cvss2.median()"
   ]
  },
  {
   "cell_type": "code",
   "execution_count": 41,
   "metadata": {},
   "outputs": [
    {
     "output_type": "execute_result",
     "data": {
      "text/plain": "(4.5, 0.017043467129899254, 9.3, 6.6)"
     },
     "metadata": {},
     "execution_count": 41
    }
   ],
   "source": [
    "stat, p = mannwhitneyu(df.memory_cvss3,df.nonmemory_cvss3)\n",
    "stat, p, df.memory_cvss3.median(), df.nonmemory_cvss3.median()"
   ]
  },
  {
   "cell_type": "code",
   "execution_count": 42,
   "metadata": {
    "tags": []
   },
   "outputs": [
    {
     "output_type": "stream",
     "name": "stdout",
     "text": "| Project     |   Memory CVEs |   Median CVSS2 score |   Median CVSS3 score |\n|:------------|--------------:|---------------------:|---------------------:|\n| Firefox     |           624 |                 7.5  |                  9.8 |\n| Thunderbird |           426 |                 7.55 |                  9.8 |\n| Linux       |          1427 |                 7.2  |                  7.8 |\n| Samba       |            41 |                 5    |                  6.5 |\n| LibreOffice |            16 |                 7.5  |                  9.8 |\n| OpenCV      |            25 |                 6.8  |                  8.8 |\n"
    }
   ],
   "source": [
    "from tabulate import tabulate\n",
    "df=df.rename(columns={'name':'Project', 'memory':'Memory CVEs','memory_cvss2':'Median CVSS2 score','memory_cvss3':'Median CVSS3 score'})\n",
    "df=df.drop(columns=['nonmemory_cvss2','nonmemory_cvss3'])\n",
    "print(tabulate(df, tablefmt='pipe',headers='keys',showindex=False))"
   ]
  },
  {
   "cell_type": "code",
   "execution_count": null,
   "metadata": {},
   "outputs": [],
   "source": []
  }
 ],
 "metadata": {
  "language_info": {
   "codemirror_mode": {
    "name": "ipython",
    "version": 3
   },
   "file_extension": ".py",
   "mimetype": "text/x-python",
   "name": "python",
   "nbconvert_exporter": "python",
   "pygments_lexer": "ipython3",
   "version": "3.7.7-final"
  },
  "orig_nbformat": 2,
  "kernelspec": {
   "name": "python3",
   "display_name": "Python 3"
  }
 },
 "nbformat": 4,
 "nbformat_minor": 2
}