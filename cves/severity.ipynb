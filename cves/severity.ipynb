{
 "cells": [
  {
   "cell_type": "code",
   "execution_count": 14,
   "metadata": {},
   "outputs": [],
   "source": [
    "import sys\n",
    "sys.path.append('../main')\n",
    "import sql\n",
    "import pandas as pd\n",
    "from functools import reduce"
   ]
  },
  {
   "cell_type": "code",
   "execution_count": 15,
   "metadata": {},
   "outputs": [
    {
     "output_type": "execute_result",
     "data": {
      "text/plain": [
       "             memory_cvss2  memory_cvss3\n",
       "name                                   \n",
       "Firefox              7.50           9.8\n",
       "LibreOffice          7.50           9.8\n",
       "Linux                7.20           7.8\n",
       "OpenCV               6.80           8.8\n",
       "Samba                5.00           6.5\n",
       "Thunderbird          7.55           9.8"
      ],
      "text/html": "<div>\n<style scoped>\n    .dataframe tbody tr th:only-of-type {\n        vertical-align: middle;\n    }\n\n    .dataframe tbody tr th {\n        vertical-align: top;\n    }\n\n    .dataframe thead th {\n        text-align: right;\n    }\n</style>\n<table border=\"1\" class=\"dataframe\">\n  <thead>\n    <tr style=\"text-align: right;\">\n      <th></th>\n      <th>memory_cvss2</th>\n      <th>memory_cvss3</th>\n    </tr>\n    <tr>\n      <th>name</th>\n      <th></th>\n      <th></th>\n    </tr>\n  </thead>\n  <tbody>\n    <tr>\n      <th>Firefox</th>\n      <td>7.50</td>\n      <td>9.8</td>\n    </tr>\n    <tr>\n      <th>LibreOffice</th>\n      <td>7.50</td>\n      <td>9.8</td>\n    </tr>\n    <tr>\n      <th>Linux</th>\n      <td>7.20</td>\n      <td>7.8</td>\n    </tr>\n    <tr>\n      <th>OpenCV</th>\n      <td>6.80</td>\n      <td>8.8</td>\n    </tr>\n    <tr>\n      <th>Samba</th>\n      <td>5.00</td>\n      <td>6.5</td>\n    </tr>\n    <tr>\n      <th>Thunderbird</th>\n      <td>7.55</td>\n      <td>9.8</td>\n    </tr>\n  </tbody>\n</table>\n</div>"
     },
     "metadata": {},
     "execution_count": 15
    }
   ],
   "source": [
    "q='''select * from cve c\n",
    "    join memory_cwe mc on c.CWE = mc.CWE\n",
    "    join project p on c.project_id = p.id\n",
    "    where memory = 1;'''\n",
    "df=pd.DataFrame(sql.execute(q))\n",
    "cvss3 = df.groupby('name')[['cvss3_score']].median()\n",
    "cvss2 = df.groupby('name')[['cvss2_score']].median()\n",
    "df=reduce(lambda x,y:pd.merge(x,y,on='name'),[cvss2, cvss3])\n",
    "df = df.rename(columns={'cvss3_score':'memory_cvss3','cvss2_score':'memory_cvss2'})\n",
    "memory = df\n",
    "memory"
   ]
  },
  {
   "cell_type": "code",
   "execution_count": 16,
   "metadata": {},
   "outputs": [],
   "source": [
    "q='''select name, count(*) as nonmemory\n",
    "from cve c\n",
    "join project p on c.project_id = p.id\n",
    "join memory_cwe mc on c.CWE = mc.CWE\n",
    "where memory is null\n",
    "group by name;'''\n",
    "nmc=pd.DataFrame(sql.execute(q))"
   ]
  },
  {
   "cell_type": "code",
   "execution_count": 17,
   "metadata": {},
   "outputs": [
    {
     "output_type": "execute_result",
     "data": {
      "text/plain": [
       "          name  nonmemory  nonmemory_cvss2  nonmemory_cvss3\n",
       "0      Firefox        737             5.00              6.1\n",
       "1  Thunderbird        308             5.00              6.5\n",
       "2        Linux       1150             4.90              6.7\n",
       "3        Samba         84             5.00              6.5\n",
       "4  LibreOffice         20             6.80              7.8\n",
       "5       OpenCV          6             4.65              6.7\n",
       "6         Kodi          3             4.30              6.1"
      ],
      "text/html": "<div>\n<style scoped>\n    .dataframe tbody tr th:only-of-type {\n        vertical-align: middle;\n    }\n\n    .dataframe tbody tr th {\n        vertical-align: top;\n    }\n\n    .dataframe thead th {\n        text-align: right;\n    }\n</style>\n<table border=\"1\" class=\"dataframe\">\n  <thead>\n    <tr style=\"text-align: right;\">\n      <th></th>\n      <th>name</th>\n      <th>nonmemory</th>\n      <th>nonmemory_cvss2</th>\n      <th>nonmemory_cvss3</th>\n    </tr>\n  </thead>\n  <tbody>\n    <tr>\n      <th>0</th>\n      <td>Firefox</td>\n      <td>737</td>\n      <td>5.00</td>\n      <td>6.1</td>\n    </tr>\n    <tr>\n      <th>1</th>\n      <td>Thunderbird</td>\n      <td>308</td>\n      <td>5.00</td>\n      <td>6.5</td>\n    </tr>\n    <tr>\n      <th>2</th>\n      <td>Linux</td>\n      <td>1150</td>\n      <td>4.90</td>\n      <td>6.7</td>\n    </tr>\n    <tr>\n      <th>3</th>\n      <td>Samba</td>\n      <td>84</td>\n      <td>5.00</td>\n      <td>6.5</td>\n    </tr>\n    <tr>\n      <th>4</th>\n      <td>LibreOffice</td>\n      <td>20</td>\n      <td>6.80</td>\n      <td>7.8</td>\n    </tr>\n    <tr>\n      <th>5</th>\n      <td>OpenCV</td>\n      <td>6</td>\n      <td>4.65</td>\n      <td>6.7</td>\n    </tr>\n    <tr>\n      <th>6</th>\n      <td>Kodi</td>\n      <td>3</td>\n      <td>4.30</td>\n      <td>6.1</td>\n    </tr>\n  </tbody>\n</table>\n</div>"
     },
     "metadata": {},
     "execution_count": 17
    }
   ],
   "source": [
    "q='''select * from cve c\n",
    "    join memory_cwe mc on c.CWE = mc.CWE\n",
    "    join project p on c.project_id = p.id\n",
    "    where memory is null;'''\n",
    "df=pd.DataFrame(sql.execute(q))\n",
    "cvss3 = df.groupby('name')[['cvss3_score']].median()\n",
    "cvss2 = df.groupby('name')[['cvss2_score']].median()\n",
    "df=reduce(lambda x,y:pd.merge(x,y,on='name'),[nmc, cvss2, cvss3])\n",
    "df = df.rename(columns={'cvss3_score':'nonmemory_cvss3','cvss2_score':'nonmemory_cvss2'})\n",
    "nonmemory = df\n",
    "nonmemory"
   ]
  },
  {
   "cell_type": "code",
   "execution_count": 18,
   "metadata": {},
   "outputs": [],
   "source": [
    "q='''select name, count(*) as memory\n",
    "from cve c\n",
    "join project p on c.project_id = p.id\n",
    "join memory_cwe mc on c.CWE = mc.CWE\n",
    "where memory=1\n",
    "group by name;'''\n",
    "mc=pd.DataFrame(sql.execute(q))\n"
   ]
  },
  {
   "cell_type": "code",
   "execution_count": 19,
   "metadata": {},
   "outputs": [
    {
     "output_type": "execute_result",
     "data": {
      "text/plain": [
       "          name  memory  memory_cvss2  memory_cvss3  nonmemory  \\\n",
       "0      Firefox     624          7.50           9.8        737   \n",
       "1  Thunderbird     426          7.55           9.8        308   \n",
       "2        Linux    1427          7.20           7.8       1150   \n",
       "3        Samba      41          5.00           6.5         84   \n",
       "4  LibreOffice      16          7.50           9.8         20   \n",
       "5       OpenCV      25          6.80           8.8          6   \n",
       "\n",
       "   nonmemory_cvss2  nonmemory_cvss3  \n",
       "0             5.00              6.1  \n",
       "1             5.00              6.5  \n",
       "2             4.90              6.7  \n",
       "3             5.00              6.5  \n",
       "4             6.80              7.8  \n",
       "5             4.65              6.7  "
      ],
      "text/html": "<div>\n<style scoped>\n    .dataframe tbody tr th:only-of-type {\n        vertical-align: middle;\n    }\n\n    .dataframe tbody tr th {\n        vertical-align: top;\n    }\n\n    .dataframe thead th {\n        text-align: right;\n    }\n</style>\n<table border=\"1\" class=\"dataframe\">\n  <thead>\n    <tr style=\"text-align: right;\">\n      <th></th>\n      <th>name</th>\n      <th>memory</th>\n      <th>memory_cvss2</th>\n      <th>memory_cvss3</th>\n      <th>nonmemory</th>\n      <th>nonmemory_cvss2</th>\n      <th>nonmemory_cvss3</th>\n    </tr>\n  </thead>\n  <tbody>\n    <tr>\n      <th>0</th>\n      <td>Firefox</td>\n      <td>624</td>\n      <td>7.50</td>\n      <td>9.8</td>\n      <td>737</td>\n      <td>5.00</td>\n      <td>6.1</td>\n    </tr>\n    <tr>\n      <th>1</th>\n      <td>Thunderbird</td>\n      <td>426</td>\n      <td>7.55</td>\n      <td>9.8</td>\n      <td>308</td>\n      <td>5.00</td>\n      <td>6.5</td>\n    </tr>\n    <tr>\n      <th>2</th>\n      <td>Linux</td>\n      <td>1427</td>\n      <td>7.20</td>\n      <td>7.8</td>\n      <td>1150</td>\n      <td>4.90</td>\n      <td>6.7</td>\n    </tr>\n    <tr>\n      <th>3</th>\n      <td>Samba</td>\n      <td>41</td>\n      <td>5.00</td>\n      <td>6.5</td>\n      <td>84</td>\n      <td>5.00</td>\n      <td>6.5</td>\n    </tr>\n    <tr>\n      <th>4</th>\n      <td>LibreOffice</td>\n      <td>16</td>\n      <td>7.50</td>\n      <td>9.8</td>\n      <td>20</td>\n      <td>6.80</td>\n      <td>7.8</td>\n    </tr>\n    <tr>\n      <th>5</th>\n      <td>OpenCV</td>\n      <td>25</td>\n      <td>6.80</td>\n      <td>8.8</td>\n      <td>6</td>\n      <td>4.65</td>\n      <td>6.7</td>\n    </tr>\n  </tbody>\n</table>\n</div>"
     },
     "metadata": {},
     "execution_count": 19
    }
   ],
   "source": [
    "df=reduce(lambda x,y:pd.merge(x,y,on='name'),[mc,memory, nonmemory])\n",
    "df"
   ]
  },
  {
   "cell_type": "code",
   "execution_count": 20,
   "metadata": {},
   "outputs": [
    {
     "output_type": "execute_result",
     "data": {
      "text/plain": [
       "(3.0, 0.00884228658785868, 7.35, 5.0)"
      ]
     },
     "metadata": {},
     "execution_count": 20
    }
   ],
   "source": [
    "from scipy.stats import mannwhitneyu\n",
    "stat, p = mannwhitneyu(df.memory_cvss2,df.nonmemory_cvss2)\n",
    "stat, p, df.memory_cvss2.median(), df.nonmemory_cvss2.median()"
   ]
  },
  {
   "cell_type": "code",
   "execution_count": 21,
   "metadata": {},
   "outputs": [
    {
     "output_type": "execute_result",
     "data": {
      "text/plain": [
       "(4.5, 0.017043467129899254, 9.3, 6.6)"
      ]
     },
     "metadata": {},
     "execution_count": 21
    }
   ],
   "source": [
    "stat, p = mannwhitneyu(df.memory_cvss3,df.nonmemory_cvss3)\n",
    "stat, p, df.memory_cvss3.median(), df.nonmemory_cvss3.median()"
   ]
  },
  {
   "cell_type": "code",
   "execution_count": 22,
   "metadata": {
    "tags": []
   },
   "outputs": [
    {
     "output_type": "stream",
     "name": "stdout",
     "text": [
      "\\begin{tabular}{lrrrrrr}\n\\hline\n name        &   memory &   memory\\_cvss2 &   memory\\_cvss3 &   nonmemory &   nonmemory\\_cvss2 &   nonmemory\\_cvss3 \\\\\n\\hline\n Linux       &     1427 &           7.2  &            7.8 &        1150 &              4.9  &               6.7 \\\\\n Firefox     &      624 &           7.5  &            9.8 &         737 &              5    &               6.1 \\\\\n Thunderbird &      426 &           7.55 &            9.8 &         308 &              5    &               6.5 \\\\\n Samba       &       41 &           5    &            6.5 &          84 &              5    &               6.5 \\\\\n OpenCV      &       25 &           6.8  &            8.8 &           6 &              4.65 &               6.7 \\\\\n LibreOffice &       16 &           7.5  &            9.8 &          20 &              6.8  &               7.8 \\\\\n\\hline\n\\end{tabular}\n"
     ]
    }
   ],
   "source": [
    "from tabulate import tabulate\n",
    "df=df.sort_values('memory', ascending=False)\n",
    "#df=df.rename(columns={'name':'Project', 'memory':'Memory CVEs','memory_cvss2':'Median CVSS2 score','memory_cvss3':'Median CVSS3 score'})\n",
    "#df=df.drop(columns=['nonmemory_cvss2','nonmemory_cvss3'])\n",
    "print(tabulate(df, tablefmt='latex',headers='keys',showindex=False))"
   ]
  },
  {
   "cell_type": "code",
   "execution_count": null,
   "metadata": {},
   "outputs": [],
   "source": []
  }
 ],
 "metadata": {
  "language_info": {
   "codemirror_mode": {
    "name": "ipython",
    "version": 3
   },
   "file_extension": ".py",
   "mimetype": "text/x-python",
   "name": "python",
   "nbconvert_exporter": "python",
   "pygments_lexer": "ipython3",
   "version": "3.9.2-final"
  },
  "orig_nbformat": 2,
  "kernelspec": {
   "name": "python392jvsc74a57bd045e6bb90db539892217150e51eb80500a9bf028439c0d739bd24c7b8d42327c6",
   "display_name": "Python 3.9.2 64-bit ('advisory-lifecycle': pipenv)",
   "language": "python"
  }
 },
 "nbformat": 4,
 "nbformat_minor": 2
}