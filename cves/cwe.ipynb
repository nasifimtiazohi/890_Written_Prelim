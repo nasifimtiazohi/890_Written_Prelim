{
 "cells": [
  {
   "cell_type": "code",
   "execution_count": 1,
   "metadata": {},
   "outputs": [],
   "source": [
    "import sys\n",
    "sys.path.append('../main')\n",
    "import sql\n",
    "import pandas as pd\n",
    "from functools import reduce"
   ]
  },
  {
   "cell_type": "code",
   "execution_count": 9,
   "metadata": {},
   "outputs": [
    {
     "output_type": "execute_result",
     "data": {
      "text/plain": "113"
     },
     "metadata": {},
     "execution_count": 9
    }
   ],
   "source": [
    "q='''select count(distinct CWE) as c\n",
    "    from cve\n",
    "    where CWE not like %s\n",
    "    '''\n",
    "r=sql.execute(q,('%NVD%'))\n",
    "r[0]['c']"
   ]
  },
  {
   "cell_type": "code",
   "execution_count": 12,
   "metadata": {},
   "outputs": [
    {
     "output_type": "execute_result",
     "data": {
      "text/plain": "22"
     },
     "metadata": {},
     "execution_count": 12
    }
   ],
   "source": [
    "q='''select count(distinct mc.CWE) as c\n",
    "    from cve\n",
    "    join memory_cwe mc on cve.CWE = mc.CWE\n",
    "    where memory = 1;'''\n",
    "sql.execute(q)[0]['c']"
   ]
  },
  {
   "cell_type": "code",
   "execution_count": null,
   "metadata": {},
   "outputs": [],
   "source": []
  }
 ],
 "metadata": {
  "language_info": {
   "codemirror_mode": {
    "name": "ipython",
    "version": 3
   },
   "file_extension": ".py",
   "mimetype": "text/x-python",
   "name": "python",
   "nbconvert_exporter": "python",
   "pygments_lexer": "ipython3",
   "version": "3.7.7-final"
  },
  "orig_nbformat": 2,
  "kernelspec": {
   "name": "python3",
   "display_name": "Python 3"
  }
 },
 "nbformat": 4,
 "nbformat_minor": 2
}