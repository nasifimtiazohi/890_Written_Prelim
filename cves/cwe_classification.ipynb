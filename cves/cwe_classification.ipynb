{
 "metadata": {
  "language_info": {
   "codemirror_mode": {
    "name": "ipython",
    "version": 3
   },
   "file_extension": ".py",
   "mimetype": "text/x-python",
   "name": "python",
   "nbconvert_exporter": "python",
   "pygments_lexer": "ipython3",
   "version": "3.7.7-final"
  },
  "orig_nbformat": 2,
  "kernelspec": {
   "name": "python3",
   "display_name": "Python 3"
  }
 },
 "nbformat": 4,
 "nbformat_minor": 2,
 "cells": [
  {
   "cell_type": "code",
   "execution_count": 6,
   "metadata": {},
   "outputs": [],
   "source": [
    "import sys\n",
    "sys.path.append('../main')\n",
    "import sql\n",
    "import pandas as pd\n",
    "from functools import reduce\n",
    "from tabulate import tabulate\n",
    "def get(q):\n",
    "    return pd.DataFrame(sql.execute(q))"
   ]
  },
  {
   "cell_type": "code",
   "execution_count": 2,
   "metadata": {},
   "outputs": [
    {
     "output_type": "execute_result",
     "data": {
      "text/plain": "161"
     },
     "metadata": {},
     "execution_count": 2
    }
   ],
   "source": [
    "q='''select *\n",
    "from\n",
    "(select distinct CWE, avg(memory) as memory\n",
    "from alert a\n",
    "join memory_error me on a.alert_type_id = me.alert_type_id\n",
    "where language in ('C','C++') and CWE is not null\n",
    "group by CWE\n",
    "union\n",
    "select distinct c.CWE, memory\n",
    "from cve c\n",
    "join memory_cwe mc on c.CWE = mc.CWE) t'''\n",
    "all = pd.DataFrame(sql.execute(q))\n",
    "len(all)"
   ]
  },
  {
   "cell_type": "code",
   "execution_count": 3,
   "metadata": {},
   "outputs": [],
   "source": [
    "# For CVE CWEs, 9 out of 89 were disagreed.\n",
    "# For Coverity CWEs, 20 out of 191 were disagreed\n",
    "#Kohen's Kappa agreement rate .79\n",
    "\n"
   ]
  },
  {
   "cell_type": "code",
   "execution_count": 4,
   "metadata": {},
   "outputs": [
    {
     "output_type": "execute_result",
     "data": {
      "text/plain": "43"
     },
     "metadata": {},
     "execution_count": 4
    }
   ],
   "source": [
    "q='''select *\n",
    "from\n",
    "(select distinct CWE, avg(memory) as memory\n",
    "from alert a\n",
    "join memory_error me on a.alert_type_id = me.alert_type_id\n",
    "where language in ('C','C++') and CWE is not null\n",
    "group by CWE\n",
    "union\n",
    "select distinct c.CWE, memory\n",
    "from cve c\n",
    "join memory_cwe mc on c.CWE = mc.CWE) t\n",
    "where memory = 1;'''\n",
    "memory= pd.DataFrame(sql.execute(q))\n",
    "len(memory)"
   ]
  }
 ]
}