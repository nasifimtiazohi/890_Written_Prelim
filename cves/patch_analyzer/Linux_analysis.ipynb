{
 "metadata": {
  "language_info": {
   "codemirror_mode": {
    "name": "ipython",
    "version": 3
   },
   "file_extension": ".py",
   "mimetype": "text/x-python",
   "name": "python",
   "nbconvert_exporter": "python",
   "pygments_lexer": "ipython3",
   "version": "3.7.7-final"
  },
  "orig_nbformat": 2,
  "kernelspec": {
   "name": "python3",
   "display_name": "Python 3"
  }
 },
 "nbformat": 4,
 "nbformat_minor": 2,
 "cells": [
  {
   "cell_type": "code",
   "execution_count": 1,
   "metadata": {},
   "outputs": [],
   "source": [
    "import sys\n",
    "sys.path.append('../../main')\n",
    "import sql"
   ]
  },
  {
   "cell_type": "code",
   "execution_count": 3,
   "metadata": {},
   "outputs": [
    {
     "output_type": "execute_result",
     "data": {
      "text/plain": "[{'count(distinct id)': 3021}]"
     },
     "metadata": {},
     "execution_count": 3
    }
   ],
   "source": [
    "q='select count(distinct id) from cve where project_id=7'\n",
    "sql.execute(q)"
   ]
  },
  {
   "cell_type": "code",
   "execution_count": 4,
   "metadata": {},
   "outputs": [
    {
     "output_type": "execute_result",
     "data": {
      "text/plain": "[{'count(distinct id)': 1390}]"
     },
     "metadata": {},
     "execution_count": 4
    }
   ],
   "source": [
    "q='''select count(distinct id) from cve c\n",
    "    join memory_cwe mc on c.CWE=mc.CWE\n",
    "    where project_id=7 and memory=1'''\n",
    "sql.execute(q)"
   ]
  },
  {
   "cell_type": "code",
   "execution_count": 6,
   "metadata": {},
   "outputs": [
    {
     "output_type": "execute_result",
     "data": {
      "text/plain": "[{'count(distinct cve)': 596}]"
     },
     "metadata": {},
     "execution_count": 6
    }
   ],
   "source": [
    "q='''select count(distinct cve) from cve_fix_commits\n",
    "where commit is not null '''\n",
    "sql.execute(q)"
   ]
  },
  {
   "cell_type": "code",
   "execution_count": 7,
   "metadata": {},
   "outputs": [
    {
     "output_type": "execute_result",
     "data": {
      "text/plain": "[{'count(distinct cve)': 322}]"
     },
     "metadata": {},
     "execution_count": 7
    }
   ],
   "source": [
    "q='''select count(distinct cve) from cve_file_alerts where alert_id > 0 '''\n",
    "sql.execute(q)"
   ]
  },
  {
   "cell_type": "code",
   "execution_count": 8,
   "metadata": {},
   "outputs": [
    {
     "output_type": "execute_result",
     "data": {
      "text/plain": "[{'count(distinct cve)': 52}]"
     },
     "metadata": {},
     "execution_count": 8
    }
   ],
   "source": [
    "q='''select count(distinct cve) from cve_function_alerts'''\n",
    "sql.execute(q)"
   ]
  },
  {
   "cell_type": "code",
   "execution_count": 14,
   "metadata": {},
   "outputs": [
    {
     "output_type": "execute_result",
     "data": {
      "text/plain": "[70, 83, 98, 251, 282, 336, 445, 567, 567, 567, 709, 799, 869, 1064, 3234]"
     },
     "metadata": {},
     "execution_count": 14
    }
   ],
   "source": [
    "q='''select cve, type, a.*, s.date as last_detected\n",
    "from cve_file_alerts cfa\n",
    "join alert a on cfa.alert_id = a.id\n",
    "join alert_type t on a.alert_type_id = t.id\n",
    "join snapshot s on a.last_snapshot_id=s.id\n",
    "where fixed_at_patch = 'yes';'''\n",
    "results=sql.execute(q)\n",
    "lifespan = []\n",
    "for item in results:\n",
    "    diff= item['last_detected'].date() - item['first_detected']\n",
    "    lifespan.append(diff.days)\n",
    "lifespan.sort()\n",
    "lifespan"
   ]
  },
  {
   "cell_type": "code",
   "execution_count": null,
   "metadata": {},
   "outputs": [],
   "source": []
  }
 ]
}