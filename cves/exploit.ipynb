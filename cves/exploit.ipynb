{
 "metadata": {
  "language_info": {
   "codemirror_mode": {
    "name": "ipython",
    "version": 3
   },
   "file_extension": ".py",
   "mimetype": "text/x-python",
   "name": "python",
   "nbconvert_exporter": "python",
   "pygments_lexer": "ipython3",
   "version": "3.7.7-final"
  },
  "orig_nbformat": 2,
  "kernelspec": {
   "name": "python3",
   "display_name": "Python 3"
  }
 },
 "nbformat": 4,
 "nbformat_minor": 2,
 "cells": [
  {
   "cell_type": "code",
   "execution_count": 16,
   "metadata": {},
   "outputs": [],
   "source": [
    "import sys\n",
    "sys.path.append('../main')\n",
    "import sql\n",
    "import pandas as pd\n",
    "from functools import reduce\n",
    "from tabulate import tabulate"
   ]
  },
  {
   "cell_type": "code",
   "execution_count": 17,
   "metadata": {},
   "outputs": [
    {
     "output_type": "execute_result",
     "data": {
      "text/plain": "     id                                               name    c\n0   119  Improper Restriction of Operations within the ...  145\n1   416                                     Use After Free   41\n2   787                                Out-of-bounds Write   13\n3   190                     Integer Overflow or Wraparound    9\n4   125                                 Out-of-bounds Read    7\n5   824                    Access of Uninitialized Pointer    4\n6   476                           NULL Pointer Dereference    3\n7   191             Integer Underflow (Wrap or Wraparound)    2\n8   122                         Heap-based Buffer Overflow    2\n9   415                                        Double Free    2\n10  843  Access of Resource Using Incompatible Type ('T...    1\n11  400                  Uncontrolled Resource Consumption    1\n12  120  Buffer Copy without Checking Size of Input ('C...    1\n13  404              Improper Resource Shutdown or Release    1\n14  129                 Improper Validation of Array Index    1\n15  131               Incorrect Calculation of Buffer Size    1",
      "text/html": "<div>\n<style scoped>\n    .dataframe tbody tr th:only-of-type {\n        vertical-align: middle;\n    }\n\n    .dataframe tbody tr th {\n        vertical-align: top;\n    }\n\n    .dataframe thead th {\n        text-align: right;\n    }\n</style>\n<table border=\"1\" class=\"dataframe\">\n  <thead>\n    <tr style=\"text-align: right;\">\n      <th></th>\n      <th>id</th>\n      <th>name</th>\n      <th>c</th>\n    </tr>\n  </thead>\n  <tbody>\n    <tr>\n      <th>0</th>\n      <td>119</td>\n      <td>Improper Restriction of Operations within the ...</td>\n      <td>145</td>\n    </tr>\n    <tr>\n      <th>1</th>\n      <td>416</td>\n      <td>Use After Free</td>\n      <td>41</td>\n    </tr>\n    <tr>\n      <th>2</th>\n      <td>787</td>\n      <td>Out-of-bounds Write</td>\n      <td>13</td>\n    </tr>\n    <tr>\n      <th>3</th>\n      <td>190</td>\n      <td>Integer Overflow or Wraparound</td>\n      <td>9</td>\n    </tr>\n    <tr>\n      <th>4</th>\n      <td>125</td>\n      <td>Out-of-bounds Read</td>\n      <td>7</td>\n    </tr>\n    <tr>\n      <th>5</th>\n      <td>824</td>\n      <td>Access of Uninitialized Pointer</td>\n      <td>4</td>\n    </tr>\n    <tr>\n      <th>6</th>\n      <td>476</td>\n      <td>NULL Pointer Dereference</td>\n      <td>3</td>\n    </tr>\n    <tr>\n      <th>7</th>\n      <td>191</td>\n      <td>Integer Underflow (Wrap or Wraparound)</td>\n      <td>2</td>\n    </tr>\n    <tr>\n      <th>8</th>\n      <td>122</td>\n      <td>Heap-based Buffer Overflow</td>\n      <td>2</td>\n    </tr>\n    <tr>\n      <th>9</th>\n      <td>415</td>\n      <td>Double Free</td>\n      <td>2</td>\n    </tr>\n    <tr>\n      <th>10</th>\n      <td>843</td>\n      <td>Access of Resource Using Incompatible Type ('T...</td>\n      <td>1</td>\n    </tr>\n    <tr>\n      <th>11</th>\n      <td>400</td>\n      <td>Uncontrolled Resource Consumption</td>\n      <td>1</td>\n    </tr>\n    <tr>\n      <th>12</th>\n      <td>120</td>\n      <td>Buffer Copy without Checking Size of Input ('C...</td>\n      <td>1</td>\n    </tr>\n    <tr>\n      <th>13</th>\n      <td>404</td>\n      <td>Improper Resource Shutdown or Release</td>\n      <td>1</td>\n    </tr>\n    <tr>\n      <th>14</th>\n      <td>129</td>\n      <td>Improper Validation of Array Index</td>\n      <td>1</td>\n    </tr>\n    <tr>\n      <th>15</th>\n      <td>131</td>\n      <td>Incorrect Calculation of Buffer Size</td>\n      <td>1</td>\n    </tr>\n  </tbody>\n</table>\n</div>"
     },
     "metadata": {},
     "execution_count": 17
    }
   ],
   "source": [
    "q='''select c.id, c.name, count(*) as c\n",
    "from cve_exploit ce\n",
    "join cve cv\n",
    "on ce.cve=cv.id\n",
    "join cwe c on cv.CWE=c.id\n",
    "join memory_cwe mc on cv.CWE = mc.CWE\n",
    "where memory=1\n",
    "group by c.id, c.name\n",
    "order by count(*) desc;'''\n",
    "df=pd.DataFrame(sql.execute(q))\n",
    "df"
   ]
  },
  {
   "cell_type": "code",
   "execution_count": 18,
   "metadata": {},
   "outputs": [
    {
     "output_type": "execute_result",
     "data": {
      "text/plain": "234"
     },
     "metadata": {},
     "execution_count": 18
    }
   ],
   "source": [
    "total=df.c.sum()\n",
    "total"
   ]
  },
  {
   "cell_type": "code",
   "execution_count": 19,
   "metadata": {},
   "outputs": [],
   "source": [
    "df['rate']= round((df.c/total)*100,1)\n",
    "df.c=df.c.astype(str)+ ' ('+df.rate.astype(str)+\"%)\"\n",
    "df=df.drop(columns=['rate'])\n",
    "df=df.rename(columns={'id':'CWE-id','name':'CWE-name', 'c':'portion among memory CVEs'})\n",
    "df=df.head(10)"
   ]
  },
  {
   "cell_type": "code",
   "execution_count": 21,
   "metadata": {
    "tags": []
   },
   "outputs": [
    {
     "output_type": "stream",
     "name": "stdout",
     "text": "|   CWE-id | CWE-name                                                                | portion among memory CVEs   |\n|---------:|:------------------------------------------------------------------------|:----------------------------|\n|      119 | Improper Restriction of Operations within the Bounds of a Memory Buffer | 145 (62.0%)                 |\n|      416 | Use After Free                                                          | 41 (17.5%)                  |\n|      787 | Out-of-bounds Write                                                     | 13 (5.6%)                   |\n|      190 | Integer Overflow or Wraparound                                          | 9 (3.8%)                    |\n|      125 | Out-of-bounds Read                                                      | 7 (3.0%)                    |\n|      824 | Access of Uninitialized Pointer                                         | 4 (1.7%)                    |\n|      476 | NULL Pointer Dereference                                                | 3 (1.3%)                    |\n|      191 | Integer Underflow (Wrap or Wraparound)                                  | 2 (0.9%)                    |\n|      122 | Heap-based Buffer Overflow                                              | 2 (0.9%)                    |\n|      415 | Double Free                                                             | 2 (0.9%)                    |\n"
    }
   ],
   "source": [
    "print(tabulate(df, tablefmt='pipe',headers='keys',showindex=False))"
   ]
  },
  {
   "cell_type": "code",
   "execution_count": null,
   "metadata": {},
   "outputs": [],
   "source": []
  }
 ]
}