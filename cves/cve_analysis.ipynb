{
 "metadata": {
  "language_info": {
   "codemirror_mode": {
    "name": "ipython",
    "version": 3
   },
   "file_extension": ".py",
   "mimetype": "text/x-python",
   "name": "python",
   "nbconvert_exporter": "python",
   "pygments_lexer": "ipython3",
   "version": "3.7.7-final"
  },
  "orig_nbformat": 2,
  "kernelspec": {
   "name": "python3",
   "display_name": "Python 3"
  }
 },
 "nbformat": 4,
 "nbformat_minor": 2,
 "cells": [
  {
   "cell_type": "code",
   "execution_count": 32,
   "metadata": {},
   "outputs": [],
   "source": [
    "import sys\n",
    "sys.path.append('../main')\n",
    "import sql\n",
    "import pandas as pd\n",
    "from functools import reduce\n",
    "from tabulate import tabulate\n",
    "def get(q):\n",
    "    return pd.DataFrame(sql.execute(q))"
   ]
  },
  {
   "cell_type": "code",
   "execution_count": 33,
   "metadata": {},
   "outputs": [],
   "source": [
    "#sanity check on date matching \n",
    "#might adjust with three months in future\n",
    "q='''select project_id, min(publish_date),max(publish_date), start_date, end_date\n",
    "from cve c\n",
    "join project p on c.project_id = p.id\n",
    "group by project_id, start_date, end_date;'''"
   ]
  },
  {
   "cell_type": "code",
   "execution_count": 34,
   "metadata": {},
   "outputs": [
    {
     "output_type": "execute_result",
     "data": {
      "text/plain": "          name  total\n0      Firefox   1731\n1  Thunderbird    940\n2        Linux   3144\n3        Samba    138\n4  LibreOffice     40\n5       OpenCV     33\n6         Kodi      3",
      "text/html": "<div>\n<style scoped>\n    .dataframe tbody tr th:only-of-type {\n        vertical-align: middle;\n    }\n\n    .dataframe tbody tr th {\n        vertical-align: top;\n    }\n\n    .dataframe thead th {\n        text-align: right;\n    }\n</style>\n<table border=\"1\" class=\"dataframe\">\n  <thead>\n    <tr style=\"text-align: right;\">\n      <th></th>\n      <th>name</th>\n      <th>total</th>\n    </tr>\n  </thead>\n  <tbody>\n    <tr>\n      <th>0</th>\n      <td>Firefox</td>\n      <td>1731</td>\n    </tr>\n    <tr>\n      <th>1</th>\n      <td>Thunderbird</td>\n      <td>940</td>\n    </tr>\n    <tr>\n      <th>2</th>\n      <td>Linux</td>\n      <td>3144</td>\n    </tr>\n    <tr>\n      <th>3</th>\n      <td>Samba</td>\n      <td>138</td>\n    </tr>\n    <tr>\n      <th>4</th>\n      <td>LibreOffice</td>\n      <td>40</td>\n    </tr>\n    <tr>\n      <th>5</th>\n      <td>OpenCV</td>\n      <td>33</td>\n    </tr>\n    <tr>\n      <th>6</th>\n      <td>Kodi</td>\n      <td>3</td>\n    </tr>\n  </tbody>\n</table>\n</div>"
     },
     "metadata": {},
     "execution_count": 34
    }
   ],
   "source": [
    "q='''select name, count(*) as total\n",
    "from cve c\n",
    "join project p on c.project_id = p.id\n",
    "group by name;'''\n",
    "tc=get(q)\n",
    "tc"
   ]
  },
  {
   "cell_type": "code",
   "execution_count": 35,
   "metadata": {},
   "outputs": [
    {
     "output_type": "execute_result",
     "data": {
      "text/plain": "          name  memory\n0      Firefox     624\n1  Thunderbird     426\n2        Linux    1427\n3        Samba      41\n4  LibreOffice      16\n5       OpenCV      25",
      "text/html": "<div>\n<style scoped>\n    .dataframe tbody tr th:only-of-type {\n        vertical-align: middle;\n    }\n\n    .dataframe tbody tr th {\n        vertical-align: top;\n    }\n\n    .dataframe thead th {\n        text-align: right;\n    }\n</style>\n<table border=\"1\" class=\"dataframe\">\n  <thead>\n    <tr style=\"text-align: right;\">\n      <th></th>\n      <th>name</th>\n      <th>memory</th>\n    </tr>\n  </thead>\n  <tbody>\n    <tr>\n      <th>0</th>\n      <td>Firefox</td>\n      <td>624</td>\n    </tr>\n    <tr>\n      <th>1</th>\n      <td>Thunderbird</td>\n      <td>426</td>\n    </tr>\n    <tr>\n      <th>2</th>\n      <td>Linux</td>\n      <td>1427</td>\n    </tr>\n    <tr>\n      <th>3</th>\n      <td>Samba</td>\n      <td>41</td>\n    </tr>\n    <tr>\n      <th>4</th>\n      <td>LibreOffice</td>\n      <td>16</td>\n    </tr>\n    <tr>\n      <th>5</th>\n      <td>OpenCV</td>\n      <td>25</td>\n    </tr>\n  </tbody>\n</table>\n</div>"
     },
     "metadata": {},
     "execution_count": 35
    }
   ],
   "source": [
    "q='''select name, count(*) as memory\n",
    "from cve c\n",
    "join project p on c.project_id = p.id\n",
    "join memory_cwe mc on c.CWE = mc.CWE\n",
    "where memory=1\n",
    "group by name;'''\n",
    "mc=get(q)\n",
    "mc"
   ]
  },
  {
   "cell_type": "code",
   "execution_count": 39,
   "metadata": {
    "tags": []
   },
   "outputs": [],
   "source": [
    "df=reduce(lambda x,y: pd.merge(x,y,on='name', how='left'),[tc,mc])\n",
    "df=df.fillna(0)\n",
    "df=df.sort_values('total',ascending=False)\n",
    "df.memory=df.memory.astype(int)\n",
    "df.memory = round((df.memory / df.total)*100,1)\n"
   ]
  },
  {
   "cell_type": "code",
   "execution_count": 40,
   "metadata": {},
   "outputs": [
    {
     "output_type": "execute_result",
     "data": {
      "text/plain": "40.0"
     },
     "metadata": {},
     "execution_count": 40
    }
   ],
   "source": [
    "df.memory.median()"
   ]
  },
  {
   "cell_type": "code",
   "execution_count": 37,
   "metadata": {
    "tags": []
   },
   "outputs": [
    {
     "output_type": "stream",
     "name": "stdout",
     "text": "| Project     | No. of CVEs (within study timeline)   | memory-related CVEs   |\n|:------------|:--------------------------------------|:----------------------|\n| Linux       | 3,144                                 | 45.4%                 |\n| Firefox     | 1,731                                 | 36.0%                 |\n| Thunderbird | 940                                   | 45.3%                 |\n| Samba       | 138                                   | 29.7%                 |\n| LibreOffice | 40                                    | 40.0%                 |\n| OpenCV      | 33                                    | 75.8%                 |\n| Kodi        | 3                                     | 0.0%                  |\n"
    }
   ],
   "source": [
    "df.total=df.total.apply(lambda x: '{:,}'.format(x))\n",
    "df.memory=df.memory.astype(str) + '%'\n",
    "df=df.rename(columns={'name':'Project','total':'No. of CVEs (within study timeline)','memory':'memory-related CVEs'})\n",
    "print(tabulate(df, tablefmt='pipe', headers='keys',showindex=False))"
   ]
  }
 ]
}