{
 "cells": [
  {
   "cell_type": "code",
   "execution_count": 10,
   "metadata": {},
   "outputs": [],
   "source": [
    "import sys\n",
    "sys.path.append('../main')\n",
    "import sql\n",
    "import pandas as pd\n",
    "from functools import reduce\n",
    "from tabulate import tabulate"
   ]
  },
  {
   "cell_type": "code",
   "execution_count": 19,
   "metadata": {
    "tags": []
   },
   "outputs": [
    {
     "output_type": "stream",
     "name": "stdout",
     "text": "| name         |   total memory |   intentional memory |   false positive memory |   alive memory |   unknown elimination memory |\n|:-------------|---------------:|---------------------:|------------------------:|---------------:|-----------------------------:|\n| Chromium EC  |            306 |                 0.33 |                    2.61 |           3.59 |                        63.73 |\n| Firefox      |           5448 |                 3.82 |                    9.69 |           8.87 |                        25.11 |\n| Kodi         |            682 |                10.56 |                    9.38 |          11.44 |                         9.09 |\n| LibreOffice  |           4194 |                 0.81 |                   18.36 |           0.07 |                         6.75 |\n| Linux        |           7903 |                 1.64 |                    4.02 |          21.08 |                        28.22 |\n| OpenCV       |            710 |                 0.56 |                    1.97 |           8.31 |                        41.55 |\n| Samba        |           1700 |                 0.82 |                    2.88 |          18.12 |                        35.53 |\n| Thunderbird  |            357 |                 0.28 |                    0.28 |          31.37 |                        38.94 |\n| VTK          |           1166 |                 0.09 |                    0.17 |          86.96 |                         4.8  |\n| ovirt-engine |           1272 |                 5.58 |                   49.21 |           9.04 |                         8.57 |\n"
    }
   ],
   "source": [
    "q='''select * from alert a\n",
    "join project p on a.project_id = p.id\n",
    "join memory_error me on a.alert_type_id = me.alert_type_id\n",
    "where is_invalid=0\n",
    "and me.memory =1\n",
    "order by name;'''\n",
    "root=pd.DataFrame(sql.execute(q)) \n",
    "total=root.groupby('name')[['cid']].count()\n",
    "total.rename(columns={'cid':'total'},inplace=True)\n",
    "intentional=root[root['classification']=='Intentional'].groupby('name')[['cid']].count()\n",
    "intentional.rename(columns={'cid':'i'},inplace=True)\n",
    "fp=root[root['classification']=='False Positive'].groupby('name')[['cid']].count()\n",
    "fp.rename(columns={'cid':'fp'},inplace=True)\n",
    "alive = root[root['status']=='New'].groupby('name')[['cid']].count()\n",
    "alive.rename(columns={'cid':'alive'},inplace=True)\n",
    "df=reduce(lambda x,y:pd.merge(x,y,on='name'),[total,intentional,fp,alive])\n",
    "q='''select name, count(*) as c from alert a\n",
    "    join project p on a.project_id = p.id\n",
    "    join memory_error me on a.alert_type_id = me.alert_type_id\n",
    "    join actionability a2 on a.id = a2.alert_id\n",
    "    where is_invalid = 0\n",
    "    and status='Fixed'\n",
    "    and a2.actionability=0\n",
    "    and memory =1\n",
    "    and a2.file_deleted is null\n",
    "    and a2.file_renamed is null\n",
    "    and a2.suppression is null\n",
    "    group by name\n",
    "    order by name;\n",
    "    '''\n",
    "unact=pd.DataFrame(sql.execute(q))\n",
    "df=reduce(lambda x,y:pd.merge(x,y,on='name'),[total,intentional,fp,alive,unact])\n",
    "df.i=round((df.i/df.total)*100,2)\n",
    "df.fp=round((df.fp/df.total)*100,2)\n",
    "df.alive=round((df.alive/df.total)*100,2)\n",
    "df.c=round((df.c/df.total)*100,2)\n",
    "# df.i=df.i.astype(str)+\"%\"\n",
    "# df.fp=df.fp.astype(str)+\"%\"\n",
    "# df.alive=df.alive.astype(str)+\"%\"\n",
    "# df.c=df.c.astype(str)+\"%\"\n",
    "df=df.rename(columns={'total':'total memory','i':'intentional memory','fp': 'false positive memory','c':'unknown elimination memory','alive':'alive memory'})\n",
    "# df=df.rename(columns={'total':'Total Memory Alerts','i':'Intentional','fp': 'False Positive','c':'Unknown Elimination','alive':'Alive'})\n",
    "memory=df\n",
    "print(tabulate(memory, tablefmt='pipe',headers='keys',showindex=False))"
   ]
  },
  {
   "cell_type": "code",
   "execution_count": 20,
   "metadata": {},
   "outputs": [
    {
     "output_type": "execute_result",
     "data": {
      "text/plain": "           name  total nonmemory  intentional nonmemory  \\\n0   Chromium EC              658                   8.66   \n1       Firefox             7497                  10.32   \n2          Kodi             1711                  15.08   \n3   LibreOffice             8321                   3.68   \n4         Linux            11611                   5.66   \n5        OpenCV             1733                   7.04   \n6         Samba             2807                   2.21   \n7   Thunderbird              528                   0.57   \n8           VTK             1356                   0.44   \n9  ovirt-engine             1717                   9.26   \n\n   false positive nonmemory  alive nonmemory  unknown elimination nonmemory  \n0                      9.57             9.88                          43.16  \n1                      5.80            12.47                          22.28  \n2                      1.17            16.42                          14.03  \n3                      2.20             0.05                          22.82  \n4                      3.81            24.92                          22.77  \n5                      2.71            13.79                          33.18  \n6                      2.24            21.80                          47.17  \n7                      0.19            46.59                          34.85  \n8                      1.77            77.88                           9.96  \n9                     38.61             4.19                          13.92  ",
      "text/html": "<div>\n<style scoped>\n    .dataframe tbody tr th:only-of-type {\n        vertical-align: middle;\n    }\n\n    .dataframe tbody tr th {\n        vertical-align: top;\n    }\n\n    .dataframe thead th {\n        text-align: right;\n    }\n</style>\n<table border=\"1\" class=\"dataframe\">\n  <thead>\n    <tr style=\"text-align: right;\">\n      <th></th>\n      <th>name</th>\n      <th>total nonmemory</th>\n      <th>intentional nonmemory</th>\n      <th>false positive nonmemory</th>\n      <th>alive nonmemory</th>\n      <th>unknown elimination nonmemory</th>\n    </tr>\n  </thead>\n  <tbody>\n    <tr>\n      <th>0</th>\n      <td>Chromium EC</td>\n      <td>658</td>\n      <td>8.66</td>\n      <td>9.57</td>\n      <td>9.88</td>\n      <td>43.16</td>\n    </tr>\n    <tr>\n      <th>1</th>\n      <td>Firefox</td>\n      <td>7497</td>\n      <td>10.32</td>\n      <td>5.80</td>\n      <td>12.47</td>\n      <td>22.28</td>\n    </tr>\n    <tr>\n      <th>2</th>\n      <td>Kodi</td>\n      <td>1711</td>\n      <td>15.08</td>\n      <td>1.17</td>\n      <td>16.42</td>\n      <td>14.03</td>\n    </tr>\n    <tr>\n      <th>3</th>\n      <td>LibreOffice</td>\n      <td>8321</td>\n      <td>3.68</td>\n      <td>2.20</td>\n      <td>0.05</td>\n      <td>22.82</td>\n    </tr>\n    <tr>\n      <th>4</th>\n      <td>Linux</td>\n      <td>11611</td>\n      <td>5.66</td>\n      <td>3.81</td>\n      <td>24.92</td>\n      <td>22.77</td>\n    </tr>\n    <tr>\n      <th>5</th>\n      <td>OpenCV</td>\n      <td>1733</td>\n      <td>7.04</td>\n      <td>2.71</td>\n      <td>13.79</td>\n      <td>33.18</td>\n    </tr>\n    <tr>\n      <th>6</th>\n      <td>Samba</td>\n      <td>2807</td>\n      <td>2.21</td>\n      <td>2.24</td>\n      <td>21.80</td>\n      <td>47.17</td>\n    </tr>\n    <tr>\n      <th>7</th>\n      <td>Thunderbird</td>\n      <td>528</td>\n      <td>0.57</td>\n      <td>0.19</td>\n      <td>46.59</td>\n      <td>34.85</td>\n    </tr>\n    <tr>\n      <th>8</th>\n      <td>VTK</td>\n      <td>1356</td>\n      <td>0.44</td>\n      <td>1.77</td>\n      <td>77.88</td>\n      <td>9.96</td>\n    </tr>\n    <tr>\n      <th>9</th>\n      <td>ovirt-engine</td>\n      <td>1717</td>\n      <td>9.26</td>\n      <td>38.61</td>\n      <td>4.19</td>\n      <td>13.92</td>\n    </tr>\n  </tbody>\n</table>\n</div>"
     },
     "metadata": {},
     "execution_count": 20
    }
   ],
   "source": [
    "q='''select * from alert a\n",
    "join project p on a.project_id = p.id\n",
    "join memory_error me on a.alert_type_id = me.alert_type_id\n",
    "where is_invalid=0\n",
    "and me.memory is null\n",
    "order by name;'''\n",
    "root=pd.DataFrame(sql.execute(q)) \n",
    "#root.head()\n",
    "total=root.groupby('name')[['cid']].count()\n",
    "total.rename(columns={'cid':'total'},inplace=True)\n",
    "intentional=root[root['classification']=='Intentional'].groupby('name')[['cid']].count()\n",
    "intentional.rename(columns={'cid':'i'},inplace=True)\n",
    "fp=root[root['classification']=='False Positive'].groupby('name')[['cid']].count()\n",
    "fp.rename(columns={'cid':'fp'},inplace=True)\n",
    "alive = root[root['status']=='New'].groupby('name')[['cid']].count()\n",
    "alive.rename(columns={'cid':'alive'},inplace=True)\n",
    "df=reduce(lambda x,y:pd.merge(x,y,on='name'),[total,intentional,fp,alive])\n",
    "q='''select name, count(*) as c from alert a\n",
    "    join project p on a.project_id = p.id\n",
    "    join memory_error me on a.alert_type_id = me.alert_type_id\n",
    "    join actionability a2 on a.id = a2.alert_id\n",
    "    where is_invalid = 0\n",
    "    and status='Fixed'\n",
    "    and a2.actionability=0\n",
    "    and memory is null\n",
    "    and a2.file_deleted is null\n",
    "    and a2.file_renamed is null\n",
    "    and a2.suppression is null\n",
    "    group by name\n",
    "    order by name;\n",
    "    '''\n",
    "unact=pd.DataFrame(sql.execute(q))\n",
    "df=reduce(lambda x,y:pd.merge(x,y,on='name'),[total,intentional,fp,alive,unact])\n",
    "df.i=round((df.i/df.total)*100,2)\n",
    "df.fp=round((df.fp/df.total)*100,2)\n",
    "df.alive=round((df.alive/df.total)*100,2)\n",
    "df.c=round((df.c/df.total)*100,2)\n",
    "# df.i=df.i.astype(str)+\"%\"\n",
    "# df.fp=df.fp.astype(str)+\"%\"\n",
    "# df.alive=df.alive.astype(str)+\"%\"\n",
    "# df.c=df.c.astype(str)+\"%\"\n",
    "df=df.rename(columns={'total':'total nonmemory','i':'intentional nonmemory','fp': 'false positive nonmemory','c':'unknown elimination nonmemory','alive':'alive nonmemory'})\n",
    "nonmemory=df\n",
    "nonmemory"
   ]
  },
  {
   "cell_type": "code",
   "execution_count": 21,
   "metadata": {},
   "outputs": [
    {
     "output_type": "execute_result",
     "data": {
      "text/plain": "   index          name  total memory  intentional memory  \\\n0      0   Chromium EC           306                0.33   \n1      1       Firefox          5448                3.82   \n2      2          Kodi           682               10.56   \n3      3   LibreOffice          4194                0.81   \n4      4         Linux          7903                1.64   \n5      5        OpenCV           710                0.56   \n6      6         Samba          1700                0.82   \n7      7   Thunderbird           357                0.28   \n8      8           VTK          1166                0.09   \n9      9  ovirt-engine          1272                5.58   \n\n   false positive memory  alive memory  unknown elimination memory  \\\n0                   2.61          3.59                       63.73   \n1                   9.69          8.87                       25.11   \n2                   9.38         11.44                        9.09   \n3                  18.36          0.07                        6.75   \n4                   4.02         21.08                       28.22   \n5                   1.97          8.31                       41.55   \n6                   2.88         18.12                       35.53   \n7                   0.28         31.37                       38.94   \n8                   0.17         86.96                        4.80   \n9                  49.21          9.04                        8.57   \n\n   total nonmemory  intentional nonmemory  false positive nonmemory  \\\n0              658                   8.66                      9.57   \n1             7497                  10.32                      5.80   \n2             1711                  15.08                      1.17   \n3             8321                   3.68                      2.20   \n4            11611                   5.66                      3.81   \n5             1733                   7.04                      2.71   \n6             2807                   2.21                      2.24   \n7              528                   0.57                      0.19   \n8             1356                   0.44                      1.77   \n9             1717                   9.26                     38.61   \n\n   alive nonmemory  unknown elimination nonmemory  \n0             9.88                          43.16  \n1            12.47                          22.28  \n2            16.42                          14.03  \n3             0.05                          22.82  \n4            24.92                          22.77  \n5            13.79                          33.18  \n6            21.80                          47.17  \n7            46.59                          34.85  \n8            77.88                           9.96  \n9             4.19                          13.92  ",
      "text/html": "<div>\n<style scoped>\n    .dataframe tbody tr th:only-of-type {\n        vertical-align: middle;\n    }\n\n    .dataframe tbody tr th {\n        vertical-align: top;\n    }\n\n    .dataframe thead th {\n        text-align: right;\n    }\n</style>\n<table border=\"1\" class=\"dataframe\">\n  <thead>\n    <tr style=\"text-align: right;\">\n      <th></th>\n      <th>index</th>\n      <th>name</th>\n      <th>total memory</th>\n      <th>intentional memory</th>\n      <th>false positive memory</th>\n      <th>alive memory</th>\n      <th>unknown elimination memory</th>\n      <th>total nonmemory</th>\n      <th>intentional nonmemory</th>\n      <th>false positive nonmemory</th>\n      <th>alive nonmemory</th>\n      <th>unknown elimination nonmemory</th>\n    </tr>\n  </thead>\n  <tbody>\n    <tr>\n      <th>0</th>\n      <td>0</td>\n      <td>Chromium EC</td>\n      <td>306</td>\n      <td>0.33</td>\n      <td>2.61</td>\n      <td>3.59</td>\n      <td>63.73</td>\n      <td>658</td>\n      <td>8.66</td>\n      <td>9.57</td>\n      <td>9.88</td>\n      <td>43.16</td>\n    </tr>\n    <tr>\n      <th>1</th>\n      <td>1</td>\n      <td>Firefox</td>\n      <td>5448</td>\n      <td>3.82</td>\n      <td>9.69</td>\n      <td>8.87</td>\n      <td>25.11</td>\n      <td>7497</td>\n      <td>10.32</td>\n      <td>5.80</td>\n      <td>12.47</td>\n      <td>22.28</td>\n    </tr>\n    <tr>\n      <th>2</th>\n      <td>2</td>\n      <td>Kodi</td>\n      <td>682</td>\n      <td>10.56</td>\n      <td>9.38</td>\n      <td>11.44</td>\n      <td>9.09</td>\n      <td>1711</td>\n      <td>15.08</td>\n      <td>1.17</td>\n      <td>16.42</td>\n      <td>14.03</td>\n    </tr>\n    <tr>\n      <th>3</th>\n      <td>3</td>\n      <td>LibreOffice</td>\n      <td>4194</td>\n      <td>0.81</td>\n      <td>18.36</td>\n      <td>0.07</td>\n      <td>6.75</td>\n      <td>8321</td>\n      <td>3.68</td>\n      <td>2.20</td>\n      <td>0.05</td>\n      <td>22.82</td>\n    </tr>\n    <tr>\n      <th>4</th>\n      <td>4</td>\n      <td>Linux</td>\n      <td>7903</td>\n      <td>1.64</td>\n      <td>4.02</td>\n      <td>21.08</td>\n      <td>28.22</td>\n      <td>11611</td>\n      <td>5.66</td>\n      <td>3.81</td>\n      <td>24.92</td>\n      <td>22.77</td>\n    </tr>\n    <tr>\n      <th>5</th>\n      <td>5</td>\n      <td>OpenCV</td>\n      <td>710</td>\n      <td>0.56</td>\n      <td>1.97</td>\n      <td>8.31</td>\n      <td>41.55</td>\n      <td>1733</td>\n      <td>7.04</td>\n      <td>2.71</td>\n      <td>13.79</td>\n      <td>33.18</td>\n    </tr>\n    <tr>\n      <th>6</th>\n      <td>6</td>\n      <td>Samba</td>\n      <td>1700</td>\n      <td>0.82</td>\n      <td>2.88</td>\n      <td>18.12</td>\n      <td>35.53</td>\n      <td>2807</td>\n      <td>2.21</td>\n      <td>2.24</td>\n      <td>21.80</td>\n      <td>47.17</td>\n    </tr>\n    <tr>\n      <th>7</th>\n      <td>7</td>\n      <td>Thunderbird</td>\n      <td>357</td>\n      <td>0.28</td>\n      <td>0.28</td>\n      <td>31.37</td>\n      <td>38.94</td>\n      <td>528</td>\n      <td>0.57</td>\n      <td>0.19</td>\n      <td>46.59</td>\n      <td>34.85</td>\n    </tr>\n    <tr>\n      <th>8</th>\n      <td>8</td>\n      <td>VTK</td>\n      <td>1166</td>\n      <td>0.09</td>\n      <td>0.17</td>\n      <td>86.96</td>\n      <td>4.80</td>\n      <td>1356</td>\n      <td>0.44</td>\n      <td>1.77</td>\n      <td>77.88</td>\n      <td>9.96</td>\n    </tr>\n    <tr>\n      <th>9</th>\n      <td>9</td>\n      <td>ovirt-engine</td>\n      <td>1272</td>\n      <td>5.58</td>\n      <td>49.21</td>\n      <td>9.04</td>\n      <td>8.57</td>\n      <td>1717</td>\n      <td>9.26</td>\n      <td>38.61</td>\n      <td>4.19</td>\n      <td>13.92</td>\n    </tr>\n  </tbody>\n</table>\n</div>"
     },
     "metadata": {},
     "execution_count": 21
    }
   ],
   "source": [
    "df=reduce(lambda x,y:pd.merge(x,y,on='name'),[memory,nonmemory])\n",
    "df=df.reset_index()\n",
    "df"
   ]
  },
  {
   "cell_type": "code",
   "execution_count": 24,
   "metadata": {},
   "outputs": [
    {
     "output_type": "execute_result",
     "data": {
      "text/plain": "(24.0, 0.026951278584693587, 0.815, 6.35)"
     },
     "metadata": {},
     "execution_count": 24
    }
   ],
   "source": [
    "from scipy.stats import mannwhitneyu\n",
    "stat, p = mannwhitneyu(df['intentional memory'], df['intentional nonmemory'])\n",
    "stat, p, df['intentional memory'].median(), df['intentional nonmemory'].median()"
   ]
  },
  {
   "cell_type": "code",
   "execution_count": 25,
   "metadata": {},
   "outputs": [
    {
     "output_type": "execute_result",
     "data": {
      "text/plain": "(42.0, 0.28537519402908695, 3.4499999999999997, 2.475)"
     },
     "metadata": {},
     "execution_count": 25
    }
   ],
   "source": [
    "from scipy.stats import mannwhitneyu\n",
    "stat, p = mannwhitneyu(df['false positive memory'], df['false positive nonmemory'])\n",
    "stat, p, df['false positive memory'].median(), df['false positive nonmemory'].median()"
   ]
  },
  {
   "cell_type": "code",
   "execution_count": 26,
   "metadata": {},
   "outputs": [
    {
     "output_type": "execute_result",
     "data": {
      "text/plain": "(41.0, 0.26026144163788634, 10.239999999999998, 15.105)"
     },
     "metadata": {},
     "execution_count": 26
    }
   ],
   "source": [
    "from scipy.stats import mannwhitneyu\n",
    "stat, p = mannwhitneyu(df['alive memory'], df['alive nonmemory'])\n",
    "stat, p, df['alive memory'].median(), df['alive nonmemory'].median()"
   ]
  },
  {
   "cell_type": "code",
   "execution_count": 13,
   "metadata": {},
   "outputs": [
    {
     "output_type": "execute_result",
     "data": {
      "text/plain": "           name  memory\n0   Chromium EC       1\n1       Firefox     208\n2          Kodi      72\n3   LibreOffice      34\n4         Linux     130\n5        OpenCV       4\n6  ovirt-engine      71\n7         Samba      14\n8   Thunderbird       1\n9           VTK       1",
      "text/html": "<div>\n<style scoped>\n    .dataframe tbody tr th:only-of-type {\n        vertical-align: middle;\n    }\n\n    .dataframe tbody tr th {\n        vertical-align: top;\n    }\n\n    .dataframe thead th {\n        text-align: right;\n    }\n</style>\n<table border=\"1\" class=\"dataframe\">\n  <thead>\n    <tr style=\"text-align: right;\">\n      <th></th>\n      <th>name</th>\n      <th>memory</th>\n    </tr>\n  </thead>\n  <tbody>\n    <tr>\n      <th>0</th>\n      <td>Chromium EC</td>\n      <td>1</td>\n    </tr>\n    <tr>\n      <th>1</th>\n      <td>Firefox</td>\n      <td>208</td>\n    </tr>\n    <tr>\n      <th>2</th>\n      <td>Kodi</td>\n      <td>72</td>\n    </tr>\n    <tr>\n      <th>3</th>\n      <td>LibreOffice</td>\n      <td>34</td>\n    </tr>\n    <tr>\n      <th>4</th>\n      <td>Linux</td>\n      <td>130</td>\n    </tr>\n    <tr>\n      <th>5</th>\n      <td>OpenCV</td>\n      <td>4</td>\n    </tr>\n    <tr>\n      <th>6</th>\n      <td>ovirt-engine</td>\n      <td>71</td>\n    </tr>\n    <tr>\n      <th>7</th>\n      <td>Samba</td>\n      <td>14</td>\n    </tr>\n    <tr>\n      <th>8</th>\n      <td>Thunderbird</td>\n      <td>1</td>\n    </tr>\n    <tr>\n      <th>9</th>\n      <td>VTK</td>\n      <td>1</td>\n    </tr>\n  </tbody>\n</table>\n</div>"
     },
     "metadata": {},
     "execution_count": 13
    }
   ],
   "source": [
    "q='''select name, count(*) as memory from alert a\n",
    "    join project p on a.project_id = p.id\n",
    "    join memory_error me on a.alert_type_id = me.alert_type_id\n",
    "    where is_invalid = 0\n",
    "    and classification ='Intentional'\n",
    "    and memory = 1\n",
    "    group by name\n",
    "    order by name; '''\n",
    "tma=pd.DataFrame(sql.execute(q))\n",
    "tma"
   ]
  },
  {
   "cell_type": "code",
   "execution_count": 14,
   "metadata": {},
   "outputs": [
    {
     "output_type": "execute_result",
     "data": {
      "text/plain": "           name  non_memory\n0   Chromium EC          57\n1       Firefox         774\n2          Kodi         258\n3   LibreOffice         306\n4         Linux         657\n5        OpenCV         122\n6  ovirt-engine         159\n7         Samba          62\n8   Thunderbird           3\n9           VTK           6",
      "text/html": "<div>\n<style scoped>\n    .dataframe tbody tr th:only-of-type {\n        vertical-align: middle;\n    }\n\n    .dataframe tbody tr th {\n        vertical-align: top;\n    }\n\n    .dataframe thead th {\n        text-align: right;\n    }\n</style>\n<table border=\"1\" class=\"dataframe\">\n  <thead>\n    <tr style=\"text-align: right;\">\n      <th></th>\n      <th>name</th>\n      <th>non_memory</th>\n    </tr>\n  </thead>\n  <tbody>\n    <tr>\n      <th>0</th>\n      <td>Chromium EC</td>\n      <td>57</td>\n    </tr>\n    <tr>\n      <th>1</th>\n      <td>Firefox</td>\n      <td>774</td>\n    </tr>\n    <tr>\n      <th>2</th>\n      <td>Kodi</td>\n      <td>258</td>\n    </tr>\n    <tr>\n      <th>3</th>\n      <td>LibreOffice</td>\n      <td>306</td>\n    </tr>\n    <tr>\n      <th>4</th>\n      <td>Linux</td>\n      <td>657</td>\n    </tr>\n    <tr>\n      <th>5</th>\n      <td>OpenCV</td>\n      <td>122</td>\n    </tr>\n    <tr>\n      <th>6</th>\n      <td>ovirt-engine</td>\n      <td>159</td>\n    </tr>\n    <tr>\n      <th>7</th>\n      <td>Samba</td>\n      <td>62</td>\n    </tr>\n    <tr>\n      <th>8</th>\n      <td>Thunderbird</td>\n      <td>3</td>\n    </tr>\n    <tr>\n      <th>9</th>\n      <td>VTK</td>\n      <td>6</td>\n    </tr>\n  </tbody>\n</table>\n</div>"
     },
     "metadata": {},
     "execution_count": 14
    }
   ],
   "source": [
    "q='''select name, count(*) as non_memory from alert a\n",
    "    join project p on a.project_id = p.id\n",
    "    join memory_error me on a.alert_type_id = me.alert_type_id\n",
    "    where is_invalid = 0\n",
    "    and classification ='Intentional'\n",
    "    and memory is null\n",
    "    group by name\n",
    "    order by name; '''\n",
    "tnma=pd.DataFrame(sql.execute(q))\n",
    "tnma"
   ]
  },
  {
   "cell_type": "code",
   "execution_count": 15,
   "metadata": {},
   "outputs": [
    {
     "output_type": "error",
     "ename": "NameError",
     "evalue": "name 'ta' is not defined",
     "traceback": [
      "\u001b[0;31m---------------------------------------------------------------------------\u001b[0m",
      "\u001b[0;31mNameError\u001b[0m                                 Traceback (most recent call last)",
      "\u001b[0;32m<ipython-input-15-2baeff1525c7>\u001b[0m in \u001b[0;36m<module>\u001b[0;34m\u001b[0m\n\u001b[0;32m----> 1\u001b[0;31m \u001b[0mdf\u001b[0m \u001b[0;34m=\u001b[0m \u001b[0mreduce\u001b[0m\u001b[0;34m(\u001b[0m\u001b[0;32mlambda\u001b[0m \u001b[0mx\u001b[0m\u001b[0;34m,\u001b[0m\u001b[0my\u001b[0m\u001b[0;34m:\u001b[0m \u001b[0mpd\u001b[0m\u001b[0;34m.\u001b[0m\u001b[0mmerge\u001b[0m\u001b[0;34m(\u001b[0m\u001b[0mx\u001b[0m\u001b[0;34m,\u001b[0m\u001b[0my\u001b[0m\u001b[0;34m,\u001b[0m \u001b[0mon\u001b[0m\u001b[0;34m=\u001b[0m\u001b[0;34m'name'\u001b[0m\u001b[0;34m,\u001b[0m \u001b[0mhow\u001b[0m\u001b[0;34m=\u001b[0m\u001b[0;34m'outer'\u001b[0m\u001b[0;34m)\u001b[0m\u001b[0;34m,\u001b[0m\u001b[0;34m[\u001b[0m\u001b[0mta\u001b[0m\u001b[0;34m,\u001b[0m\u001b[0mtma\u001b[0m\u001b[0;34m,\u001b[0m\u001b[0mtnma\u001b[0m\u001b[0;34m]\u001b[0m\u001b[0;34m)\u001b[0m\u001b[0;34m\u001b[0m\u001b[0;34m\u001b[0m\u001b[0m\n\u001b[0m\u001b[1;32m      2\u001b[0m \u001b[0mdf\u001b[0m\u001b[0;34m.\u001b[0m\u001b[0mmemory\u001b[0m\u001b[0;34m=\u001b[0m \u001b[0mround\u001b[0m\u001b[0;34m(\u001b[0m\u001b[0;34m(\u001b[0m\u001b[0mdf\u001b[0m\u001b[0;34m.\u001b[0m\u001b[0mmemory\u001b[0m\u001b[0;34m/\u001b[0m\u001b[0mdf\u001b[0m\u001b[0;34m.\u001b[0m\u001b[0mtotal\u001b[0m\u001b[0;34m)\u001b[0m \u001b[0;34m*\u001b[0m \u001b[0;36m100\u001b[0m\u001b[0;34m,\u001b[0m\u001b[0;36m2\u001b[0m\u001b[0;34m)\u001b[0m\u001b[0;34m\u001b[0m\u001b[0;34m\u001b[0m\u001b[0m\n\u001b[1;32m      3\u001b[0m \u001b[0mdf\u001b[0m\u001b[0;34m.\u001b[0m\u001b[0mnon_memory\u001b[0m\u001b[0;34m=\u001b[0m \u001b[0mround\u001b[0m\u001b[0;34m(\u001b[0m\u001b[0;34m(\u001b[0m\u001b[0mdf\u001b[0m\u001b[0;34m.\u001b[0m\u001b[0mnon_memory\u001b[0m\u001b[0;34m/\u001b[0m\u001b[0mdf\u001b[0m\u001b[0;34m.\u001b[0m\u001b[0mtotal\u001b[0m\u001b[0;34m)\u001b[0m \u001b[0;34m*\u001b[0m \u001b[0;36m100\u001b[0m\u001b[0;34m,\u001b[0m\u001b[0;36m2\u001b[0m\u001b[0;34m)\u001b[0m\u001b[0;34m\u001b[0m\u001b[0;34m\u001b[0m\u001b[0m\n\u001b[1;32m      4\u001b[0m \u001b[0mdf\u001b[0m\u001b[0;34m[\u001b[0m\u001b[0;34m'memory'\u001b[0m\u001b[0;34m]\u001b[0m\u001b[0;34m=\u001b[0m\u001b[0mdf\u001b[0m\u001b[0;34m[\u001b[0m\u001b[0;34m'memory'\u001b[0m\u001b[0;34m]\u001b[0m\u001b[0;34m.\u001b[0m\u001b[0mastype\u001b[0m\u001b[0;34m(\u001b[0m\u001b[0mstr\u001b[0m\u001b[0;34m)\u001b[0m\u001b[0;34m+\u001b[0m\u001b[0;34m\"%\"\u001b[0m\u001b[0;34m\u001b[0m\u001b[0;34m\u001b[0m\u001b[0m\n\u001b[1;32m      5\u001b[0m \u001b[0mdf\u001b[0m\u001b[0;34m[\u001b[0m\u001b[0;34m'non_memory'\u001b[0m\u001b[0;34m]\u001b[0m\u001b[0;34m=\u001b[0m\u001b[0mdf\u001b[0m\u001b[0;34m[\u001b[0m\u001b[0;34m'non_memory'\u001b[0m\u001b[0;34m]\u001b[0m\u001b[0;34m.\u001b[0m\u001b[0mastype\u001b[0m\u001b[0;34m(\u001b[0m\u001b[0mstr\u001b[0m\u001b[0;34m)\u001b[0m\u001b[0;34m+\u001b[0m\u001b[0;34m\"%\"\u001b[0m\u001b[0;34m\u001b[0m\u001b[0;34m\u001b[0m\u001b[0m\n",
      "\u001b[0;31mNameError\u001b[0m: name 'ta' is not defined"
     ]
    }
   ],
   "source": [
    "df = reduce(lambda x,y: pd.merge(x,y, on='name', how='outer'),[ta,tma,tnma])\n",
    "df.memory= round((df.memory/df.total) * 100,2)\n",
    "df.non_memory= round((df.non_memory/df.total) * 100,2)\n",
    "df['memory']=df['memory'].astype(str)+\"%\"\n",
    "df['non_memory']=df['non_memory'].astype(str)+\"%\"\n",
    "df=df.rename(columns={'total':'intentional'})\n",
    "df"
   ]
  },
  {
   "cell_type": "code",
   "execution_count": 16,
   "metadata": {},
   "outputs": [
    {
     "output_type": "execute_result",
     "data": {
      "text/plain": "                     name  false positive  memory non_memory\n0   !CHAOS Control System               4   75.0%      25.0%\n1             Chromium EC              71  11.27%     88.73%\n2                 Firefox             963  54.83%     45.17%\n3                    Kodi              84  76.19%     23.81%\n4             LibreOffice             953   80.8%      19.2%\n5                   Linux             760  41.84%     58.16%\n6                  OpenCV              61  22.95%     77.05%\n7            ovirt-engine            1289  48.56%     51.44%\n8                   Samba             112  43.75%     56.25%\n9             Thunderbird               2   50.0%      50.0%\n10                    VTK              26   7.69%     92.31%",
      "text/html": "<div>\n<style scoped>\n    .dataframe tbody tr th:only-of-type {\n        vertical-align: middle;\n    }\n\n    .dataframe tbody tr th {\n        vertical-align: top;\n    }\n\n    .dataframe thead th {\n        text-align: right;\n    }\n</style>\n<table border=\"1\" class=\"dataframe\">\n  <thead>\n    <tr style=\"text-align: right;\">\n      <th></th>\n      <th>name</th>\n      <th>false positive</th>\n      <th>memory</th>\n      <th>non_memory</th>\n    </tr>\n  </thead>\n  <tbody>\n    <tr>\n      <th>0</th>\n      <td>!CHAOS Control System</td>\n      <td>4</td>\n      <td>75.0%</td>\n      <td>25.0%</td>\n    </tr>\n    <tr>\n      <th>1</th>\n      <td>Chromium EC</td>\n      <td>71</td>\n      <td>11.27%</td>\n      <td>88.73%</td>\n    </tr>\n    <tr>\n      <th>2</th>\n      <td>Firefox</td>\n      <td>963</td>\n      <td>54.83%</td>\n      <td>45.17%</td>\n    </tr>\n    <tr>\n      <th>3</th>\n      <td>Kodi</td>\n      <td>84</td>\n      <td>76.19%</td>\n      <td>23.81%</td>\n    </tr>\n    <tr>\n      <th>4</th>\n      <td>LibreOffice</td>\n      <td>953</td>\n      <td>80.8%</td>\n      <td>19.2%</td>\n    </tr>\n    <tr>\n      <th>5</th>\n      <td>Linux</td>\n      <td>760</td>\n      <td>41.84%</td>\n      <td>58.16%</td>\n    </tr>\n    <tr>\n      <th>6</th>\n      <td>OpenCV</td>\n      <td>61</td>\n      <td>22.95%</td>\n      <td>77.05%</td>\n    </tr>\n    <tr>\n      <th>7</th>\n      <td>ovirt-engine</td>\n      <td>1289</td>\n      <td>48.56%</td>\n      <td>51.44%</td>\n    </tr>\n    <tr>\n      <th>8</th>\n      <td>Samba</td>\n      <td>112</td>\n      <td>43.75%</td>\n      <td>56.25%</td>\n    </tr>\n    <tr>\n      <th>9</th>\n      <td>Thunderbird</td>\n      <td>2</td>\n      <td>50.0%</td>\n      <td>50.0%</td>\n    </tr>\n    <tr>\n      <th>10</th>\n      <td>VTK</td>\n      <td>26</td>\n      <td>7.69%</td>\n      <td>92.31%</td>\n    </tr>\n  </tbody>\n</table>\n</div>"
     },
     "metadata": {},
     "execution_count": 16
    }
   ],
   "source": [
    "q='''select name, count(*) as total from alert a\n",
    "    join project p on a.project_id = p.id\n",
    "    join memory_error me on a.alert_type_id = me.alert_type_id\n",
    "    where is_invalid = 0\n",
    "    and classification ='False Positive'\n",
    "    group by name\n",
    "    order by name; '''\n",
    "ta=pd.DataFrame(sql.execute(q))\n",
    "q='''select name, count(*) as memory from alert a\n",
    "    join project p on a.project_id = p.id\n",
    "    join memory_error me on a.alert_type_id = me.alert_type_id\n",
    "    where is_invalid = 0\n",
    "    and classification ='False Positive'\n",
    "    and memory = 1\n",
    "    group by name\n",
    "    order by name; '''\n",
    "tma=pd.DataFrame(sql.execute(q))\n",
    "q='''select name, count(*) as non_memory from alert a\n",
    "    join project p on a.project_id = p.id\n",
    "    join memory_error me on a.alert_type_id = me.alert_type_id\n",
    "    where is_invalid = 0\n",
    "    and classification ='False Positive'\n",
    "    and memory is null\n",
    "    group by name\n",
    "    order by name; '''\n",
    "tnma=pd.DataFrame(sql.execute(q))\n",
    "df = reduce(lambda x,y: pd.merge(x,y, on='name', how='outer'),[ta,tma,tnma])\n",
    "df.memory= round((df.memory/df.total) * 100,2)\n",
    "df.non_memory= round((df.non_memory/df.total) * 100,2)\n",
    "df['memory']=df['memory'].astype(str)+\"%\"\n",
    "df['non_memory']=df['non_memory'].astype(str)+\"%\"\n",
    "df=df.rename(columns={'total':'false positive'})\n",
    "df"
   ]
  },
  {
   "cell_type": "code",
   "execution_count": 17,
   "metadata": {},
   "outputs": [
    {
     "output_type": "execute_result",
     "data": {
      "text/plain": "                     name  elimination unknown  memory non_memory\n0   !CHAOS Control System                 1355   8.12%     91.88%\n1             Chromium EC                  479  40.71%     59.29%\n2                 Firefox                 3038  45.03%     54.97%\n3                    Kodi                  302  20.53%     79.47%\n4             LibreOffice                 2182  12.97%     87.03%\n5                   Linux                 4874  45.75%     54.25%\n6                  OpenCV                  870  33.91%     66.09%\n7            ovirt-engine                  348  31.32%     68.68%\n8                   Samba                 1928  31.33%     68.67%\n9             Thunderbird                  323  43.03%     56.97%\n10                    VTK                  191  29.32%     70.68%",
      "text/html": "<div>\n<style scoped>\n    .dataframe tbody tr th:only-of-type {\n        vertical-align: middle;\n    }\n\n    .dataframe tbody tr th {\n        vertical-align: top;\n    }\n\n    .dataframe thead th {\n        text-align: right;\n    }\n</style>\n<table border=\"1\" class=\"dataframe\">\n  <thead>\n    <tr style=\"text-align: right;\">\n      <th></th>\n      <th>name</th>\n      <th>elimination unknown</th>\n      <th>memory</th>\n      <th>non_memory</th>\n    </tr>\n  </thead>\n  <tbody>\n    <tr>\n      <th>0</th>\n      <td>!CHAOS Control System</td>\n      <td>1355</td>\n      <td>8.12%</td>\n      <td>91.88%</td>\n    </tr>\n    <tr>\n      <th>1</th>\n      <td>Chromium EC</td>\n      <td>479</td>\n      <td>40.71%</td>\n      <td>59.29%</td>\n    </tr>\n    <tr>\n      <th>2</th>\n      <td>Firefox</td>\n      <td>3038</td>\n      <td>45.03%</td>\n      <td>54.97%</td>\n    </tr>\n    <tr>\n      <th>3</th>\n      <td>Kodi</td>\n      <td>302</td>\n      <td>20.53%</td>\n      <td>79.47%</td>\n    </tr>\n    <tr>\n      <th>4</th>\n      <td>LibreOffice</td>\n      <td>2182</td>\n      <td>12.97%</td>\n      <td>87.03%</td>\n    </tr>\n    <tr>\n      <th>5</th>\n      <td>Linux</td>\n      <td>4874</td>\n      <td>45.75%</td>\n      <td>54.25%</td>\n    </tr>\n    <tr>\n      <th>6</th>\n      <td>OpenCV</td>\n      <td>870</td>\n      <td>33.91%</td>\n      <td>66.09%</td>\n    </tr>\n    <tr>\n      <th>7</th>\n      <td>ovirt-engine</td>\n      <td>348</td>\n      <td>31.32%</td>\n      <td>68.68%</td>\n    </tr>\n    <tr>\n      <th>8</th>\n      <td>Samba</td>\n      <td>1928</td>\n      <td>31.33%</td>\n      <td>68.67%</td>\n    </tr>\n    <tr>\n      <th>9</th>\n      <td>Thunderbird</td>\n      <td>323</td>\n      <td>43.03%</td>\n      <td>56.97%</td>\n    </tr>\n    <tr>\n      <th>10</th>\n      <td>VTK</td>\n      <td>191</td>\n      <td>29.32%</td>\n      <td>70.68%</td>\n    </tr>\n  </tbody>\n</table>\n</div>"
     },
     "metadata": {},
     "execution_count": 17
    }
   ],
   "source": [
    "q='''select name, count(*) as total from alert a\n",
    "    join project p on a.project_id = p.id\n",
    "    join memory_error me on a.alert_type_id = me.alert_type_id\n",
    "    join actionability a2 on a.id = a2.alert_id\n",
    "    where is_invalid = 0\n",
    "    and status='Fixed'\n",
    "    and a2.actionability=0\n",
    "    and a2.file_deleted is null\n",
    "    and a2.file_renamed is null\n",
    "    and a2.suppression is null\n",
    "    group by name\n",
    "    order by name;\n",
    "    '''\n",
    "ta=pd.DataFrame(sql.execute(q))\n",
    "q='''select name, count(*) as memory from alert a\n",
    "    join project p on a.project_id = p.id\n",
    "    join memory_error me on a.alert_type_id = me.alert_type_id\n",
    "    join actionability a2 on a.id = a2.alert_id\n",
    "    where is_invalid = 0\n",
    "    and status='Fixed'\n",
    "    and a2.actionability=0\n",
    "    and a2.file_deleted is null\n",
    "    and a2.file_renamed is null\n",
    "    and a2.suppression is null\n",
    "    and me.memory=1\n",
    "    group by name\n",
    "    order by name;\n",
    "    '''\n",
    "tma=pd.DataFrame(sql.execute(q))\n",
    "q='''select name, count(*) as non_memory from alert a\n",
    "    join project p on a.project_id = p.id\n",
    "    join memory_error me on a.alert_type_id = me.alert_type_id\n",
    "    join actionability a2 on a.id = a2.alert_id\n",
    "    where is_invalid = 0\n",
    "    and status='Fixed'\n",
    "    and a2.actionability=0\n",
    "    and a2.file_deleted is null\n",
    "    and a2.file_renamed is null\n",
    "    and a2.suppression is null\n",
    "    and me.memory is null\n",
    "    group by name\n",
    "    order by name;\n",
    "    '''\n",
    "tnma=pd.DataFrame(sql.execute(q))\n",
    "df = reduce(lambda x,y: pd.merge(x,y, on='name', how='outer'),[ta,tma,tnma])\n",
    "df.memory= round((df.memory/df.total) * 100,2)\n",
    "df.non_memory= round((df.non_memory/df.total) * 100,2)\n",
    "df['memory']=df['memory'].astype(str)+\"%\"\n",
    "df['non_memory']=df['non_memory'].astype(str)+\"%\"\n",
    "df=df.rename(columns={'total':'elimination unknown'})\n",
    "df"
   ]
  },
  {
   "cell_type": "code",
   "execution_count": null,
   "metadata": {},
   "outputs": [],
   "source": []
  }
 ],
 "metadata": {
  "language_info": {
   "codemirror_mode": {
    "name": "ipython",
    "version": 3
   },
   "file_extension": ".py",
   "mimetype": "text/x-python",
   "name": "python",
   "nbconvert_exporter": "python",
   "pygments_lexer": "ipython3",
   "version": "3.7.3-final"
  },
  "orig_nbformat": 2,
  "kernelspec": {
   "name": "python3",
   "display_name": "Python 3"
  }
 },
 "nbformat": 4,
 "nbformat_minor": 2
}