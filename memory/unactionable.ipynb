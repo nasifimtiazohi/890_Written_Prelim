{
 "cells": [
  {
   "cell_type": "code",
   "execution_count": 27,
   "metadata": {},
   "outputs": [],
   "source": [
    "import sys\n",
    "sys.path.append('../main')\n",
    "import sql\n",
    "import pandas as pd\n",
    "from functools import reduce\n",
    "from tabulate import tabulate"
   ]
  },
  {
   "cell_type": "code",
   "execution_count": 28,
   "metadata": {
    "tags": []
   },
   "outputs": [
    {
     "output_type": "stream",
     "name": "stdout",
     "text": "| name        |   total memory |   intentional memory |   false positive memory |   alive memory |   unknown elimination memory |\n|:------------|---------------:|---------------------:|------------------------:|---------------:|-----------------------------:|\n| Chromium EC |            306 |                 0.33 |                    2.61 |           3.59 |                        63.73 |\n| Firefox     |           5448 |                 3.82 |                    9.69 |           8.87 |                        25.11 |\n| Kodi        |            682 |                10.56 |                    9.38 |          11.44 |                         9.09 |\n| LibreOffice |           3975 |                 0.78 |                   18.39 |           0.08 |                         7.02 |\n| Linux       |           7903 |                 1.64 |                    4.02 |          21.08 |                        28.22 |\n| OpenCV      |            710 |                 0.56 |                    1.97 |           8.31 |                        41.55 |\n| Samba       |           1700 |                 0.82 |                    2.88 |          18.12 |                        35.53 |\n| Thunderbird |            357 |                 0.28 |                    0.28 |          31.37 |                        38.94 |\n| VTK         |           1166 |                 0.09 |                    0.17 |          86.96 |                         4.8  |\n"
    }
   ],
   "source": [
    "q='''select * from alert a\n",
    "join project p on a.project_id = p.id\n",
    "join memory_error me on a.alert_type_id = me.alert_type_id\n",
    "where is_invalid=0\n",
    "and language in ('C','C++')\n",
    "and me.memory =1\n",
    "order by name;'''\n",
    "root=pd.DataFrame(sql.execute(q)) \n",
    "total=root.groupby('name')[['cid']].count()\n",
    "total.rename(columns={'cid':'total'},inplace=True)\n",
    "intentional=root[root['classification']=='Intentional'].groupby('name')[['cid']].count()\n",
    "intentional.rename(columns={'cid':'i'},inplace=True)\n",
    "fp=root[root['classification']=='False Positive'].groupby('name')[['cid']].count()\n",
    "fp.rename(columns={'cid':'fp'},inplace=True)\n",
    "alive = root[root['status']=='New'].groupby('name')[['cid']].count()\n",
    "alive.rename(columns={'cid':'alive'},inplace=True)\n",
    "df=reduce(lambda x,y:pd.merge(x,y,on='name'),[total,intentional,fp,alive])\n",
    "q='''select name, count(*) as c from alert a\n",
    "    join project p on a.project_id = p.id\n",
    "    join memory_error me on a.alert_type_id = me.alert_type_id\n",
    "    join actionability a2 on a.id = a2.alert_id\n",
    "    where is_invalid = 0\n",
    "    and language in ('C','C++')\n",
    "    and status='Fixed'\n",
    "    and a2.actionability=0\n",
    "    and memory =1\n",
    "    and a2.file_deleted is null\n",
    "    and a2.file_renamed is null\n",
    "    and a2.suppression is null\n",
    "    group by name\n",
    "    order by name;\n",
    "    '''\n",
    "unact=pd.DataFrame(sql.execute(q))\n",
    "df=reduce(lambda x,y:pd.merge(x,y,on='name'),[total,intentional,fp,alive,unact])\n",
    "df.i=round((df.i/df.total)*100,2)\n",
    "df.fp=round((df.fp/df.total)*100,2)\n",
    "df.alive=round((df.alive/df.total)*100,2)\n",
    "df.c=round((df.c/df.total)*100,2)\n",
    "# df=df.sort_values('total', ascending=False)\n",
    "# df.total=df.total.apply(lambda x: '{:,}'.format(x))\n",
    "# df.i=df.i.astype(str)+\"%\"\n",
    "# df.fp=df.fp.astype(str)+\"%\"\n",
    "# df.alive=df.alive.astype(str)+\"%\"\n",
    "# df.c=df.c.astype(str)+\"%\"\n",
    "df=df.rename(columns={'total':'total memory','i':'intentional memory','fp': 'false positive memory','c':'unknown elimination memory','alive':'alive memory'})\n",
    "# df=df.rename(columns={'total':'Total Memory Alerts','i':'Intentional','fp': 'False Positive','c':'Unknown Elimination','alive':'Alive'})\n",
    "memory=df\n",
    "print(tabulate(memory, tablefmt='pipe',headers='keys',showindex=False))"
   ]
  },
  {
   "cell_type": "code",
   "execution_count": 29,
   "metadata": {},
   "outputs": [
    {
     "output_type": "execute_result",
     "data": {
      "text/plain": "          name  total nonmemory  intentional nonmemory  \\\n0  Chromium EC              658                   8.66   \n1      Firefox             7496                  10.33   \n2         Kodi             1711                  15.08   \n3  LibreOffice             8007                   3.80   \n4        Linux            11611                   5.66   \n5       OpenCV             1733                   7.04   \n6        Samba             2807                   2.21   \n7  Thunderbird              528                   0.57   \n8          VTK             1356                   0.44   \n\n   false positive nonmemory  alive nonmemory  unknown elimination nonmemory  \n0                      9.57             9.88                          43.16  \n1                      5.80            12.47                          22.27  \n2                      1.17            16.42                          14.03  \n3                      2.10             0.05                          23.63  \n4                      3.81            24.92                          22.77  \n5                      2.71            13.79                          33.18  \n6                      2.24            21.80                          47.17  \n7                      0.19            46.59                          34.85  \n8                      1.77            77.88                           9.96  ",
      "text/html": "<div>\n<style scoped>\n    .dataframe tbody tr th:only-of-type {\n        vertical-align: middle;\n    }\n\n    .dataframe tbody tr th {\n        vertical-align: top;\n    }\n\n    .dataframe thead th {\n        text-align: right;\n    }\n</style>\n<table border=\"1\" class=\"dataframe\">\n  <thead>\n    <tr style=\"text-align: right;\">\n      <th></th>\n      <th>name</th>\n      <th>total nonmemory</th>\n      <th>intentional nonmemory</th>\n      <th>false positive nonmemory</th>\n      <th>alive nonmemory</th>\n      <th>unknown elimination nonmemory</th>\n    </tr>\n  </thead>\n  <tbody>\n    <tr>\n      <th>0</th>\n      <td>Chromium EC</td>\n      <td>658</td>\n      <td>8.66</td>\n      <td>9.57</td>\n      <td>9.88</td>\n      <td>43.16</td>\n    </tr>\n    <tr>\n      <th>1</th>\n      <td>Firefox</td>\n      <td>7496</td>\n      <td>10.33</td>\n      <td>5.80</td>\n      <td>12.47</td>\n      <td>22.27</td>\n    </tr>\n    <tr>\n      <th>2</th>\n      <td>Kodi</td>\n      <td>1711</td>\n      <td>15.08</td>\n      <td>1.17</td>\n      <td>16.42</td>\n      <td>14.03</td>\n    </tr>\n    <tr>\n      <th>3</th>\n      <td>LibreOffice</td>\n      <td>8007</td>\n      <td>3.80</td>\n      <td>2.10</td>\n      <td>0.05</td>\n      <td>23.63</td>\n    </tr>\n    <tr>\n      <th>4</th>\n      <td>Linux</td>\n      <td>11611</td>\n      <td>5.66</td>\n      <td>3.81</td>\n      <td>24.92</td>\n      <td>22.77</td>\n    </tr>\n    <tr>\n      <th>5</th>\n      <td>OpenCV</td>\n      <td>1733</td>\n      <td>7.04</td>\n      <td>2.71</td>\n      <td>13.79</td>\n      <td>33.18</td>\n    </tr>\n    <tr>\n      <th>6</th>\n      <td>Samba</td>\n      <td>2807</td>\n      <td>2.21</td>\n      <td>2.24</td>\n      <td>21.80</td>\n      <td>47.17</td>\n    </tr>\n    <tr>\n      <th>7</th>\n      <td>Thunderbird</td>\n      <td>528</td>\n      <td>0.57</td>\n      <td>0.19</td>\n      <td>46.59</td>\n      <td>34.85</td>\n    </tr>\n    <tr>\n      <th>8</th>\n      <td>VTK</td>\n      <td>1356</td>\n      <td>0.44</td>\n      <td>1.77</td>\n      <td>77.88</td>\n      <td>9.96</td>\n    </tr>\n  </tbody>\n</table>\n</div>"
     },
     "metadata": {},
     "execution_count": 29
    }
   ],
   "source": [
    "q='''select * from alert a\n",
    "join project p on a.project_id = p.id\n",
    "join memory_error me on a.alert_type_id = me.alert_type_id\n",
    "where is_invalid=0\n",
    "and language in ('C','C++')\n",
    "and me.memory is null\n",
    "order by name;'''\n",
    "root=pd.DataFrame(sql.execute(q)) \n",
    "#root.head()\n",
    "total=root.groupby('name')[['cid']].count()\n",
    "total.rename(columns={'cid':'total'},inplace=True)\n",
    "intentional=root[root['classification']=='Intentional'].groupby('name')[['cid']].count()\n",
    "intentional.rename(columns={'cid':'i'},inplace=True)\n",
    "fp=root[root['classification']=='False Positive'].groupby('name')[['cid']].count()\n",
    "fp.rename(columns={'cid':'fp'},inplace=True)\n",
    "alive = root[root['status']=='New'].groupby('name')[['cid']].count()\n",
    "alive.rename(columns={'cid':'alive'},inplace=True)\n",
    "df=reduce(lambda x,y:pd.merge(x,y,on='name'),[total,intentional,fp,alive])\n",
    "q='''select name, count(*) as c from alert a\n",
    "    join project p on a.project_id = p.id\n",
    "    join memory_error me on a.alert_type_id = me.alert_type_id\n",
    "    join actionability a2 on a.id = a2.alert_id\n",
    "    where is_invalid = 0\n",
    "    and status='Fixed'\n",
    "    and a2.actionability=0\n",
    "    and memory is null\n",
    "    and language in ('C','C++')\n",
    "    and a2.file_deleted is null\n",
    "    and a2.file_renamed is null\n",
    "    and a2.suppression is null\n",
    "    group by name\n",
    "    order by name;\n",
    "    '''\n",
    "unact=pd.DataFrame(sql.execute(q))\n",
    "df=reduce(lambda x,y:pd.merge(x,y,on='name'),[total,intentional,fp,alive,unact])\n",
    "df.i=round((df.i/df.total)*100,2)\n",
    "df.fp=round((df.fp/df.total)*100,2)\n",
    "df.alive=round((df.alive/df.total)*100,2)\n",
    "df.c=round((df.c/df.total)*100,2)\n",
    "# df.i=df.i.astype(str)+\"%\"\n",
    "# df.fp=df.fp.astype(str)+\"%\"\n",
    "# df.alive=df.alive.astype(str)+\"%\"\n",
    "# df.c=df.c.astype(str)+\"%\"\n",
    "df=df.rename(columns={'total':'total nonmemory','i':'intentional nonmemory','fp': 'false positive nonmemory','c':'unknown elimination nonmemory','alive':'alive nonmemory'})\n",
    "nonmemory=df\n",
    "nonmemory"
   ]
  },
  {
   "cell_type": "code",
   "execution_count": 30,
   "metadata": {},
   "outputs": [
    {
     "output_type": "execute_result",
     "data": {
      "text/plain": "   index         name  total memory  intentional memory  \\\n0      0  Chromium EC           306                0.33   \n1      1      Firefox          5448                3.82   \n2      2         Kodi           682               10.56   \n3      3  LibreOffice          3975                0.78   \n4      4        Linux          7903                1.64   \n5      5       OpenCV           710                0.56   \n6      6        Samba          1700                0.82   \n7      7  Thunderbird           357                0.28   \n8      8          VTK          1166                0.09   \n\n   false positive memory  alive memory  unknown elimination memory  \\\n0                   2.61          3.59                       63.73   \n1                   9.69          8.87                       25.11   \n2                   9.38         11.44                        9.09   \n3                  18.39          0.08                        7.02   \n4                   4.02         21.08                       28.22   \n5                   1.97          8.31                       41.55   \n6                   2.88         18.12                       35.53   \n7                   0.28         31.37                       38.94   \n8                   0.17         86.96                        4.80   \n\n   total nonmemory  intentional nonmemory  false positive nonmemory  \\\n0              658                   8.66                      9.57   \n1             7496                  10.33                      5.80   \n2             1711                  15.08                      1.17   \n3             8007                   3.80                      2.10   \n4            11611                   5.66                      3.81   \n5             1733                   7.04                      2.71   \n6             2807                   2.21                      2.24   \n7              528                   0.57                      0.19   \n8             1356                   0.44                      1.77   \n\n   alive nonmemory  unknown elimination nonmemory  \n0             9.88                          43.16  \n1            12.47                          22.27  \n2            16.42                          14.03  \n3             0.05                          23.63  \n4            24.92                          22.77  \n5            13.79                          33.18  \n6            21.80                          47.17  \n7            46.59                          34.85  \n8            77.88                           9.96  ",
      "text/html": "<div>\n<style scoped>\n    .dataframe tbody tr th:only-of-type {\n        vertical-align: middle;\n    }\n\n    .dataframe tbody tr th {\n        vertical-align: top;\n    }\n\n    .dataframe thead th {\n        text-align: right;\n    }\n</style>\n<table border=\"1\" class=\"dataframe\">\n  <thead>\n    <tr style=\"text-align: right;\">\n      <th></th>\n      <th>index</th>\n      <th>name</th>\n      <th>total memory</th>\n      <th>intentional memory</th>\n      <th>false positive memory</th>\n      <th>alive memory</th>\n      <th>unknown elimination memory</th>\n      <th>total nonmemory</th>\n      <th>intentional nonmemory</th>\n      <th>false positive nonmemory</th>\n      <th>alive nonmemory</th>\n      <th>unknown elimination nonmemory</th>\n    </tr>\n  </thead>\n  <tbody>\n    <tr>\n      <th>0</th>\n      <td>0</td>\n      <td>Chromium EC</td>\n      <td>306</td>\n      <td>0.33</td>\n      <td>2.61</td>\n      <td>3.59</td>\n      <td>63.73</td>\n      <td>658</td>\n      <td>8.66</td>\n      <td>9.57</td>\n      <td>9.88</td>\n      <td>43.16</td>\n    </tr>\n    <tr>\n      <th>1</th>\n      <td>1</td>\n      <td>Firefox</td>\n      <td>5448</td>\n      <td>3.82</td>\n      <td>9.69</td>\n      <td>8.87</td>\n      <td>25.11</td>\n      <td>7496</td>\n      <td>10.33</td>\n      <td>5.80</td>\n      <td>12.47</td>\n      <td>22.27</td>\n    </tr>\n    <tr>\n      <th>2</th>\n      <td>2</td>\n      <td>Kodi</td>\n      <td>682</td>\n      <td>10.56</td>\n      <td>9.38</td>\n      <td>11.44</td>\n      <td>9.09</td>\n      <td>1711</td>\n      <td>15.08</td>\n      <td>1.17</td>\n      <td>16.42</td>\n      <td>14.03</td>\n    </tr>\n    <tr>\n      <th>3</th>\n      <td>3</td>\n      <td>LibreOffice</td>\n      <td>3975</td>\n      <td>0.78</td>\n      <td>18.39</td>\n      <td>0.08</td>\n      <td>7.02</td>\n      <td>8007</td>\n      <td>3.80</td>\n      <td>2.10</td>\n      <td>0.05</td>\n      <td>23.63</td>\n    </tr>\n    <tr>\n      <th>4</th>\n      <td>4</td>\n      <td>Linux</td>\n      <td>7903</td>\n      <td>1.64</td>\n      <td>4.02</td>\n      <td>21.08</td>\n      <td>28.22</td>\n      <td>11611</td>\n      <td>5.66</td>\n      <td>3.81</td>\n      <td>24.92</td>\n      <td>22.77</td>\n    </tr>\n    <tr>\n      <th>5</th>\n      <td>5</td>\n      <td>OpenCV</td>\n      <td>710</td>\n      <td>0.56</td>\n      <td>1.97</td>\n      <td>8.31</td>\n      <td>41.55</td>\n      <td>1733</td>\n      <td>7.04</td>\n      <td>2.71</td>\n      <td>13.79</td>\n      <td>33.18</td>\n    </tr>\n    <tr>\n      <th>6</th>\n      <td>6</td>\n      <td>Samba</td>\n      <td>1700</td>\n      <td>0.82</td>\n      <td>2.88</td>\n      <td>18.12</td>\n      <td>35.53</td>\n      <td>2807</td>\n      <td>2.21</td>\n      <td>2.24</td>\n      <td>21.80</td>\n      <td>47.17</td>\n    </tr>\n    <tr>\n      <th>7</th>\n      <td>7</td>\n      <td>Thunderbird</td>\n      <td>357</td>\n      <td>0.28</td>\n      <td>0.28</td>\n      <td>31.37</td>\n      <td>38.94</td>\n      <td>528</td>\n      <td>0.57</td>\n      <td>0.19</td>\n      <td>46.59</td>\n      <td>34.85</td>\n    </tr>\n    <tr>\n      <th>8</th>\n      <td>8</td>\n      <td>VTK</td>\n      <td>1166</td>\n      <td>0.09</td>\n      <td>0.17</td>\n      <td>86.96</td>\n      <td>4.80</td>\n      <td>1356</td>\n      <td>0.44</td>\n      <td>1.77</td>\n      <td>77.88</td>\n      <td>9.96</td>\n    </tr>\n  </tbody>\n</table>\n</div>"
     },
     "metadata": {},
     "execution_count": 30
    }
   ],
   "source": [
    "df=reduce(lambda x,y:pd.merge(x,y,on='name'),[memory,nonmemory])\n",
    "df=df.reset_index()\n",
    "df"
   ]
  },
  {
   "cell_type": "code",
   "execution_count": 31,
   "metadata": {},
   "outputs": [
    {
     "output_type": "execute_result",
     "data": {
      "text/plain": "(19.0, 0.03184488756831434, 0.78, 5.66)"
     },
     "metadata": {},
     "execution_count": 31
    }
   ],
   "source": [
    "from scipy.stats import mannwhitneyu\n",
    "stat, p = mannwhitneyu(df['intentional memory'], df['intentional nonmemory'])\n",
    "stat, p, df['intentional memory'].median(), df['intentional nonmemory'].median()"
   ]
  },
  {
   "cell_type": "code",
   "execution_count": 32,
   "metadata": {},
   "outputs": [
    {
     "output_type": "execute_result",
     "data": {
      "text/plain": "(33.0, 0.2682497346597282, 2.88, 2.24)"
     },
     "metadata": {},
     "execution_count": 32
    }
   ],
   "source": [
    "from scipy.stats import mannwhitneyu\n",
    "stat, p = mannwhitneyu(df['false positive memory'], df['false positive nonmemory'])\n",
    "stat, p, df['false positive memory'].median(), df['false positive nonmemory'].median()"
   ]
  },
  {
   "cell_type": "code",
   "execution_count": 33,
   "metadata": {},
   "outputs": [
    {
     "output_type": "execute_result",
     "data": {
      "text/plain": "(32.0, 0.23996434607297862, 11.44, 16.42)"
     },
     "metadata": {},
     "execution_count": 33
    }
   ],
   "source": [
    "from scipy.stats import mannwhitneyu\n",
    "stat, p = mannwhitneyu(df['alive memory'], df['alive nonmemory'])\n",
    "stat, p, df['alive memory'].median(), df['alive nonmemory'].median()"
   ]
  }
 ],
 "metadata": {
  "language_info": {
   "codemirror_mode": {
    "name": "ipython",
    "version": 3
   },
   "file_extension": ".py",
   "mimetype": "text/x-python",
   "name": "python",
   "nbconvert_exporter": "python",
   "pygments_lexer": "ipython3",
   "version": "3.7.3-final"
  },
  "orig_nbformat": 2,
  "kernelspec": {
   "name": "python3",
   "display_name": "Python 3"
  }
 },
 "nbformat": 4,
 "nbformat_minor": 2
}