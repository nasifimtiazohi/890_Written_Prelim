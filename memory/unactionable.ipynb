{
 "cells": [
  {
   "cell_type": "code",
   "execution_count": 2,
   "metadata": {},
   "outputs": [],
   "source": [
    "import sql\n",
    "import pandas as pd\n",
    "from functools import reduce"
   ]
  },
  {
   "cell_type": "code",
   "execution_count": 16,
   "metadata": {},
   "outputs": [
    {
     "output_type": "execute_result",
     "data": {
      "text/plain": "           name  total memory intentional memory false positive memory  \\\n0       Firefox          5407              3.85%                 9.78%   \n1          Kodi           640              9.22%                 10.0%   \n2         Linux          7600              1.67%                 4.17%   \n3         Samba          1734              0.81%                 2.83%   \n4  ovirt-engine          1273              5.58%                49.41%   \n\n  alive memory unknown elimination memory  \n0        8.73%                     25.02%  \n1       11.56%                      9.69%  \n2       20.63%                     29.09%  \n3       17.65%                     37.08%  \n4        8.96%                      8.56%  ",
      "text/html": "<div>\n<style scoped>\n    .dataframe tbody tr th:only-of-type {\n        vertical-align: middle;\n    }\n\n    .dataframe tbody tr th {\n        vertical-align: top;\n    }\n\n    .dataframe thead th {\n        text-align: right;\n    }\n</style>\n<table border=\"1\" class=\"dataframe\">\n  <thead>\n    <tr style=\"text-align: right;\">\n      <th></th>\n      <th>name</th>\n      <th>total memory</th>\n      <th>intentional memory</th>\n      <th>false positive memory</th>\n      <th>alive memory</th>\n      <th>unknown elimination memory</th>\n    </tr>\n  </thead>\n  <tbody>\n    <tr>\n      <th>0</th>\n      <td>Firefox</td>\n      <td>5407</td>\n      <td>3.85%</td>\n      <td>9.78%</td>\n      <td>8.73%</td>\n      <td>25.02%</td>\n    </tr>\n    <tr>\n      <th>1</th>\n      <td>Kodi</td>\n      <td>640</td>\n      <td>9.22%</td>\n      <td>10.0%</td>\n      <td>11.56%</td>\n      <td>9.69%</td>\n    </tr>\n    <tr>\n      <th>2</th>\n      <td>Linux</td>\n      <td>7600</td>\n      <td>1.67%</td>\n      <td>4.17%</td>\n      <td>20.63%</td>\n      <td>29.09%</td>\n    </tr>\n    <tr>\n      <th>3</th>\n      <td>Samba</td>\n      <td>1734</td>\n      <td>0.81%</td>\n      <td>2.83%</td>\n      <td>17.65%</td>\n      <td>37.08%</td>\n    </tr>\n    <tr>\n      <th>4</th>\n      <td>ovirt-engine</td>\n      <td>1273</td>\n      <td>5.58%</td>\n      <td>49.41%</td>\n      <td>8.96%</td>\n      <td>8.56%</td>\n    </tr>\n  </tbody>\n</table>\n</div>"
     },
     "metadata": {},
     "execution_count": 16
    }
   ],
   "source": [
    "q='''select * from alert a\n",
    "join project p on a.project_id = p.id\n",
    "join memory_error me on a.alert_type_id = me.alert_type_id\n",
    "where is_invalid=0\n",
    "and me.memory =1\n",
    "order by name;'''\n",
    "root=pd.DataFrame(sql.execute(q)) \n",
    "#root.head()\n",
    "total=root.groupby('name')[['cid']].count()\n",
    "total.rename(columns={'cid':'total'},inplace=True)\n",
    "intentional=root[root['classification']=='Intentional'].groupby('name')[['cid']].count()\n",
    "intentional.rename(columns={'cid':'i'},inplace=True)\n",
    "fp=root[root['classification']=='False Positive'].groupby('name')[['cid']].count()\n",
    "fp.rename(columns={'cid':'fp'},inplace=True)\n",
    "alive = root[root['status']=='New'].groupby('name')[['cid']].count()\n",
    "alive.rename(columns={'cid':'alive'},inplace=True)\n",
    "df=reduce(lambda x,y:pd.merge(x,y,on='name'),[total,intentional,fp,alive])\n",
    "q='''select name, count(*) as c from alert a\n",
    "    join project p on a.project_id = p.id\n",
    "    join memory_error me on a.alert_type_id = me.alert_type_id\n",
    "    join actionability a2 on a.id = a2.alert_id\n",
    "    where is_invalid = 0\n",
    "    and status='Fixed'\n",
    "    and a2.actionability=0\n",
    "    and memory =1\n",
    "    and a2.file_deleted is null\n",
    "    and a2.file_renamed is null\n",
    "    and a2.suppression is null\n",
    "    group by name\n",
    "    order by name;\n",
    "    '''\n",
    "unact=pd.DataFrame(sql.execute(q))\n",
    "df=reduce(lambda x,y:pd.merge(x,y,on='name'),[total,intentional,fp,alive,unact])\n",
    "df.i=round((df.i/df.total)*100,2)\n",
    "df.fp=round((df.fp/df.total)*100,2)\n",
    "df.alive=round((df.alive/df.total)*100,2)\n",
    "df.c=round((df.c/df.total)*100,2)\n",
    "df.i=df.i.astype(str)+\"%\"\n",
    "df.fp=df.fp.astype(str)+\"%\"\n",
    "df.alive=df.alive.astype(str)+\"%\"\n",
    "df.c=df.c.astype(str)+\"%\"\n",
    "df=df.rename(columns={'total':'total memory','i':'intentional memory','fp': 'false positive memory','c':'unknown elimination memory','alive':'alive memory'})\n",
    "memory=df\n",
    "memory"
   ]
  },
  {
   "cell_type": "code",
   "execution_count": 18,
   "metadata": {},
   "outputs": [
    {
     "output_type": "execute_result",
     "data": {
      "text/plain": "           name  total nonmemory intentional nonmemory  \\\n0       Firefox             7538                10.27%   \n1          Kodi             1753                15.46%   \n2         Linux            11919                 5.54%   \n3         Samba             2773                 2.24%   \n4  ovirt-engine             1716                 9.27%   \n\n  false positive nonmemory alive nonmemory unknown elimination nonmemory  \n0                    5.76%          12.55%                        22.35%  \n1                    1.14%          16.26%                        13.69%  \n2                    3.72%          25.14%                        22.34%  \n3                    2.27%          22.14%                        46.34%  \n4                   38.46%           4.25%                        13.93%  ",
      "text/html": "<div>\n<style scoped>\n    .dataframe tbody tr th:only-of-type {\n        vertical-align: middle;\n    }\n\n    .dataframe tbody tr th {\n        vertical-align: top;\n    }\n\n    .dataframe thead th {\n        text-align: right;\n    }\n</style>\n<table border=\"1\" class=\"dataframe\">\n  <thead>\n    <tr style=\"text-align: right;\">\n      <th></th>\n      <th>name</th>\n      <th>total nonmemory</th>\n      <th>intentional nonmemory</th>\n      <th>false positive nonmemory</th>\n      <th>alive nonmemory</th>\n      <th>unknown elimination nonmemory</th>\n    </tr>\n  </thead>\n  <tbody>\n    <tr>\n      <th>0</th>\n      <td>Firefox</td>\n      <td>7538</td>\n      <td>10.27%</td>\n      <td>5.76%</td>\n      <td>12.55%</td>\n      <td>22.35%</td>\n    </tr>\n    <tr>\n      <th>1</th>\n      <td>Kodi</td>\n      <td>1753</td>\n      <td>15.46%</td>\n      <td>1.14%</td>\n      <td>16.26%</td>\n      <td>13.69%</td>\n    </tr>\n    <tr>\n      <th>2</th>\n      <td>Linux</td>\n      <td>11919</td>\n      <td>5.54%</td>\n      <td>3.72%</td>\n      <td>25.14%</td>\n      <td>22.34%</td>\n    </tr>\n    <tr>\n      <th>3</th>\n      <td>Samba</td>\n      <td>2773</td>\n      <td>2.24%</td>\n      <td>2.27%</td>\n      <td>22.14%</td>\n      <td>46.34%</td>\n    </tr>\n    <tr>\n      <th>4</th>\n      <td>ovirt-engine</td>\n      <td>1716</td>\n      <td>9.27%</td>\n      <td>38.46%</td>\n      <td>4.25%</td>\n      <td>13.93%</td>\n    </tr>\n  </tbody>\n</table>\n</div>"
     },
     "metadata": {},
     "execution_count": 18
    }
   ],
   "source": [
    "q='''select * from alert a\n",
    "join project p on a.project_id = p.id\n",
    "join memory_error me on a.alert_type_id = me.alert_type_id\n",
    "where is_invalid=0\n",
    "and me.memory is null\n",
    "order by name;'''\n",
    "root=pd.DataFrame(sql.execute(q)) \n",
    "#root.head()\n",
    "total=root.groupby('name')[['cid']].count()\n",
    "total.rename(columns={'cid':'total'},inplace=True)\n",
    "intentional=root[root['classification']=='Intentional'].groupby('name')[['cid']].count()\n",
    "intentional.rename(columns={'cid':'i'},inplace=True)\n",
    "fp=root[root['classification']=='False Positive'].groupby('name')[['cid']].count()\n",
    "fp.rename(columns={'cid':'fp'},inplace=True)\n",
    "alive = root[root['status']=='New'].groupby('name')[['cid']].count()\n",
    "alive.rename(columns={'cid':'alive'},inplace=True)\n",
    "df=reduce(lambda x,y:pd.merge(x,y,on='name'),[total,intentional,fp,alive])\n",
    "q='''select name, count(*) as c from alert a\n",
    "    join project p on a.project_id = p.id\n",
    "    join memory_error me on a.alert_type_id = me.alert_type_id\n",
    "    join actionability a2 on a.id = a2.alert_id\n",
    "    where is_invalid = 0\n",
    "    and status='Fixed'\n",
    "    and a2.actionability=0\n",
    "    and memory is null\n",
    "    and a2.file_deleted is null\n",
    "    and a2.file_renamed is null\n",
    "    and a2.suppression is null\n",
    "    group by name\n",
    "    order by name;\n",
    "    '''\n",
    "unact=pd.DataFrame(sql.execute(q))\n",
    "df=reduce(lambda x,y:pd.merge(x,y,on='name'),[total,intentional,fp,alive,unact])\n",
    "df.i=round((df.i/df.total)*100,2)\n",
    "df.fp=round((df.fp/df.total)*100,2)\n",
    "df.alive=round((df.alive/df.total)*100,2)\n",
    "df.c=round((df.c/df.total)*100,2)\n",
    "df.i=df.i.astype(str)+\"%\"\n",
    "df.fp=df.fp.astype(str)+\"%\"\n",
    "df.alive=df.alive.astype(str)+\"%\"\n",
    "df.c=df.c.astype(str)+\"%\"\n",
    "df=df.rename(columns={'total':'total nonmemory','i':'intentional nonmemory','fp': 'false positive nonmemory','c':'unknown elimination nonmemory','alive':'alive nonmemory'})\n",
    "nonmemory=df\n",
    "nonmemory"
   ]
  },
  {
   "cell_type": "code",
   "execution_count": 9,
   "metadata": {},
   "outputs": [
    {
     "output_type": "execute_result",
     "data": {
      "text/plain": "           name  memory\n0       Firefox     153\n1          Kodi      42\n2         Linux      64\n3  ovirt-engine      67\n4         Samba      14",
      "text/html": "<div>\n<style scoped>\n    .dataframe tbody tr th:only-of-type {\n        vertical-align: middle;\n    }\n\n    .dataframe tbody tr th {\n        vertical-align: top;\n    }\n\n    .dataframe thead th {\n        text-align: right;\n    }\n</style>\n<table border=\"1\" class=\"dataframe\">\n  <thead>\n    <tr style=\"text-align: right;\">\n      <th></th>\n      <th>name</th>\n      <th>memory</th>\n    </tr>\n  </thead>\n  <tbody>\n    <tr>\n      <th>0</th>\n      <td>Firefox</td>\n      <td>153</td>\n    </tr>\n    <tr>\n      <th>1</th>\n      <td>Kodi</td>\n      <td>42</td>\n    </tr>\n    <tr>\n      <th>2</th>\n      <td>Linux</td>\n      <td>64</td>\n    </tr>\n    <tr>\n      <th>3</th>\n      <td>ovirt-engine</td>\n      <td>67</td>\n    </tr>\n    <tr>\n      <th>4</th>\n      <td>Samba</td>\n      <td>14</td>\n    </tr>\n  </tbody>\n</table>\n</div>"
     },
     "metadata": {},
     "execution_count": 9
    }
   ],
   "source": [
    "q='''select name, count(*) as memory from alert a\n",
    "    join project p on a.project_id = p.id\n",
    "    join memory_error me on a.alert_type_id = me.alert_type_id\n",
    "    where is_invalid = 0\n",
    "    and classification ='Intentional'\n",
    "    and memory = 1\n",
    "    group by name\n",
    "    order by name; '''\n",
    "tma=pd.DataFrame(sql.execute(q))\n",
    "tma"
   ]
  },
  {
   "cell_type": "code",
   "execution_count": 4,
   "metadata": {},
   "outputs": [
    {
     "output_type": "execute_result",
     "data": {
      "text/plain": "           name  non_memory\n0       Firefox         829\n1          Kodi         288\n2         Linux         723\n3  ovirt-engine         163\n4         Samba          62",
      "text/html": "<div>\n<style scoped>\n    .dataframe tbody tr th:only-of-type {\n        vertical-align: middle;\n    }\n\n    .dataframe tbody tr th {\n        vertical-align: top;\n    }\n\n    .dataframe thead th {\n        text-align: right;\n    }\n</style>\n<table border=\"1\" class=\"dataframe\">\n  <thead>\n    <tr style=\"text-align: right;\">\n      <th></th>\n      <th>name</th>\n      <th>non_memory</th>\n    </tr>\n  </thead>\n  <tbody>\n    <tr>\n      <th>0</th>\n      <td>Firefox</td>\n      <td>829</td>\n    </tr>\n    <tr>\n      <th>1</th>\n      <td>Kodi</td>\n      <td>288</td>\n    </tr>\n    <tr>\n      <th>2</th>\n      <td>Linux</td>\n      <td>723</td>\n    </tr>\n    <tr>\n      <th>3</th>\n      <td>ovirt-engine</td>\n      <td>163</td>\n    </tr>\n    <tr>\n      <th>4</th>\n      <td>Samba</td>\n      <td>62</td>\n    </tr>\n  </tbody>\n</table>\n</div>"
     },
     "metadata": {},
     "execution_count": 4
    }
   ],
   "source": [
    "q='''select name, count(*) as non_memory from alert a\n",
    "    join project p on a.project_id = p.id\n",
    "    join memory_error me on a.alert_type_id = me.alert_type_id\n",
    "    where is_invalid = 0\n",
    "    and classification ='Intentional'\n",
    "    and memory is null\n",
    "    group by name\n",
    "    order by name; '''\n",
    "tnma=pd.DataFrame(sql.execute(q))\n",
    "tnma"
   ]
  },
  {
   "cell_type": "code",
   "execution_count": 12,
   "metadata": {},
   "outputs": [
    {
     "output_type": "execute_result",
     "data": {
      "text/plain": "           name  intentional  memory non_memory\n0       Firefox          982  15.58%     84.42%\n1          Kodi          330  12.73%     87.27%\n2         Linux          787   8.13%     91.87%\n3  ovirt-engine          230  29.13%     70.87%\n4         Samba           76  18.42%     81.58%",
      "text/html": "<div>\n<style scoped>\n    .dataframe tbody tr th:only-of-type {\n        vertical-align: middle;\n    }\n\n    .dataframe tbody tr th {\n        vertical-align: top;\n    }\n\n    .dataframe thead th {\n        text-align: right;\n    }\n</style>\n<table border=\"1\" class=\"dataframe\">\n  <thead>\n    <tr style=\"text-align: right;\">\n      <th></th>\n      <th>name</th>\n      <th>intentional</th>\n      <th>memory</th>\n      <th>non_memory</th>\n    </tr>\n  </thead>\n  <tbody>\n    <tr>\n      <th>0</th>\n      <td>Firefox</td>\n      <td>982</td>\n      <td>15.58%</td>\n      <td>84.42%</td>\n    </tr>\n    <tr>\n      <th>1</th>\n      <td>Kodi</td>\n      <td>330</td>\n      <td>12.73%</td>\n      <td>87.27%</td>\n    </tr>\n    <tr>\n      <th>2</th>\n      <td>Linux</td>\n      <td>787</td>\n      <td>8.13%</td>\n      <td>91.87%</td>\n    </tr>\n    <tr>\n      <th>3</th>\n      <td>ovirt-engine</td>\n      <td>230</td>\n      <td>29.13%</td>\n      <td>70.87%</td>\n    </tr>\n    <tr>\n      <th>4</th>\n      <td>Samba</td>\n      <td>76</td>\n      <td>18.42%</td>\n      <td>81.58%</td>\n    </tr>\n  </tbody>\n</table>\n</div>"
     },
     "metadata": {},
     "execution_count": 12
    }
   ],
   "source": [
    "df = reduce(lambda x,y: pd.merge(x,y, on='name', how='outer'),[ta,tma,tnma])\n",
    "df.memory= round((df.memory/df.total) * 100,2)\n",
    "df.non_memory= round((df.non_memory/df.total) * 100,2)\n",
    "df['memory']=df['memory'].astype(str)+\"%\"\n",
    "df['non_memory']=df['non_memory'].astype(str)+\"%\"\n",
    "df=df.rename(columns={'total':'intentional'})\n",
    "df"
   ]
  },
  {
   "cell_type": "code",
   "execution_count": 19,
   "metadata": {},
   "outputs": [
    {
     "output_type": "execute_result",
     "data": {
      "text/plain": "           name  false positive  memory non_memory\n0       Firefox             963   51.3%      48.7%\n1          Kodi              84   75.0%      25.0%\n2         Linux             760  33.55%     66.45%\n3  ovirt-engine            1289  48.56%     51.44%\n4         Samba             112  43.75%     56.25%",
      "text/html": "<div>\n<style scoped>\n    .dataframe tbody tr th:only-of-type {\n        vertical-align: middle;\n    }\n\n    .dataframe tbody tr th {\n        vertical-align: top;\n    }\n\n    .dataframe thead th {\n        text-align: right;\n    }\n</style>\n<table border=\"1\" class=\"dataframe\">\n  <thead>\n    <tr style=\"text-align: right;\">\n      <th></th>\n      <th>name</th>\n      <th>false positive</th>\n      <th>memory</th>\n      <th>non_memory</th>\n    </tr>\n  </thead>\n  <tbody>\n    <tr>\n      <th>0</th>\n      <td>Firefox</td>\n      <td>963</td>\n      <td>51.3%</td>\n      <td>48.7%</td>\n    </tr>\n    <tr>\n      <th>1</th>\n      <td>Kodi</td>\n      <td>84</td>\n      <td>75.0%</td>\n      <td>25.0%</td>\n    </tr>\n    <tr>\n      <th>2</th>\n      <td>Linux</td>\n      <td>760</td>\n      <td>33.55%</td>\n      <td>66.45%</td>\n    </tr>\n    <tr>\n      <th>3</th>\n      <td>ovirt-engine</td>\n      <td>1289</td>\n      <td>48.56%</td>\n      <td>51.44%</td>\n    </tr>\n    <tr>\n      <th>4</th>\n      <td>Samba</td>\n      <td>112</td>\n      <td>43.75%</td>\n      <td>56.25%</td>\n    </tr>\n  </tbody>\n</table>\n</div>"
     },
     "metadata": {},
     "execution_count": 19
    }
   ],
   "source": [
    "q='''select name, count(*) as total from alert a\n",
    "    join project p on a.project_id = p.id\n",
    "    join memory_error me on a.alert_type_id = me.alert_type_id\n",
    "    where is_invalid = 0\n",
    "    and classification ='False Positive'\n",
    "    group by name\n",
    "    order by name; '''\n",
    "ta=pd.DataFrame(sql.execute(q))\n",
    "q='''select name, count(*) as memory from alert a\n",
    "    join project p on a.project_id = p.id\n",
    "    join memory_error me on a.alert_type_id = me.alert_type_id\n",
    "    where is_invalid = 0\n",
    "    and classification ='False Positive'\n",
    "    and memory = 1\n",
    "    group by name\n",
    "    order by name; '''\n",
    "tma=pd.DataFrame(sql.execute(q))\n",
    "q='''select name, count(*) as non_memory from alert a\n",
    "    join project p on a.project_id = p.id\n",
    "    join memory_error me on a.alert_type_id = me.alert_type_id\n",
    "    where is_invalid = 0\n",
    "    and classification ='False Positive'\n",
    "    and memory is null\n",
    "    group by name\n",
    "    order by name; '''\n",
    "tnma=pd.DataFrame(sql.execute(q))\n",
    "df = reduce(lambda x,y: pd.merge(x,y, on='name', how='outer'),[ta,tma,tnma])\n",
    "df.memory= round((df.memory/df.total) * 100,2)\n",
    "df.non_memory= round((df.non_memory/df.total) * 100,2)\n",
    "df['memory']=df['memory'].astype(str)+\"%\"\n",
    "df['non_memory']=df['non_memory'].astype(str)+\"%\"\n",
    "df=df.rename(columns={'total':'false positive'})\n",
    "df"
   ]
  },
  {
   "cell_type": "code",
   "execution_count": 18,
   "metadata": {},
   "outputs": [
    {
     "output_type": "execute_result",
     "data": {
      "text/plain": "           name  elimination unknown  memory non_memory\n0       Firefox                 3038  37.39%     62.61%\n1          Kodi                  302  14.24%     85.76%\n2         Linux                 4874   42.0%      58.0%\n3  ovirt-engine                  348  31.32%     68.68%\n4         Samba                 1928  29.67%     70.33%",
      "text/html": "<div>\n<style scoped>\n    .dataframe tbody tr th:only-of-type {\n        vertical-align: middle;\n    }\n\n    .dataframe tbody tr th {\n        vertical-align: top;\n    }\n\n    .dataframe thead th {\n        text-align: right;\n    }\n</style>\n<table border=\"1\" class=\"dataframe\">\n  <thead>\n    <tr style=\"text-align: right;\">\n      <th></th>\n      <th>name</th>\n      <th>elimination unknown</th>\n      <th>memory</th>\n      <th>non_memory</th>\n    </tr>\n  </thead>\n  <tbody>\n    <tr>\n      <th>0</th>\n      <td>Firefox</td>\n      <td>3038</td>\n      <td>37.39%</td>\n      <td>62.61%</td>\n    </tr>\n    <tr>\n      <th>1</th>\n      <td>Kodi</td>\n      <td>302</td>\n      <td>14.24%</td>\n      <td>85.76%</td>\n    </tr>\n    <tr>\n      <th>2</th>\n      <td>Linux</td>\n      <td>4874</td>\n      <td>42.0%</td>\n      <td>58.0%</td>\n    </tr>\n    <tr>\n      <th>3</th>\n      <td>ovirt-engine</td>\n      <td>348</td>\n      <td>31.32%</td>\n      <td>68.68%</td>\n    </tr>\n    <tr>\n      <th>4</th>\n      <td>Samba</td>\n      <td>1928</td>\n      <td>29.67%</td>\n      <td>70.33%</td>\n    </tr>\n  </tbody>\n</table>\n</div>"
     },
     "metadata": {},
     "execution_count": 18
    }
   ],
   "source": [
    "q='''select name, count(*) as total from alert a\n",
    "    join project p on a.project_id = p.id\n",
    "    join memory_error me on a.alert_type_id = me.alert_type_id\n",
    "    join actionability a2 on a.id = a2.alert_id\n",
    "    where is_invalid = 0\n",
    "    and status='Fixed'\n",
    "    and a2.actionability=0\n",
    "    and a2.file_deleted is null\n",
    "    and a2.file_renamed is null\n",
    "    and a2.suppression is null\n",
    "    group by name\n",
    "    order by name;\n",
    "    '''\n",
    "ta=pd.DataFrame(sql.execute(q))\n",
    "q='''select name, count(*) as memory from alert a\n",
    "    join project p on a.project_id = p.id\n",
    "    join memory_error me on a.alert_type_id = me.alert_type_id\n",
    "    join actionability a2 on a.id = a2.alert_id\n",
    "    where is_invalid = 0\n",
    "    and status='Fixed'\n",
    "    and a2.actionability=0\n",
    "    and a2.file_deleted is null\n",
    "    and a2.file_renamed is null\n",
    "    and a2.suppression is null\n",
    "    and me.memory=1\n",
    "    group by name\n",
    "    order by name;\n",
    "    '''\n",
    "tma=pd.DataFrame(sql.execute(q))\n",
    "q='''select name, count(*) as non_memory from alert a\n",
    "    join project p on a.project_id = p.id\n",
    "    join memory_error me on a.alert_type_id = me.alert_type_id\n",
    "    join actionability a2 on a.id = a2.alert_id\n",
    "    where is_invalid = 0\n",
    "    and status='Fixed'\n",
    "    and a2.actionability=0\n",
    "    and a2.file_deleted is null\n",
    "    and a2.file_renamed is null\n",
    "    and a2.suppression is null\n",
    "    and me.memory is null\n",
    "    group by name\n",
    "    order by name;\n",
    "    '''\n",
    "tnma=pd.DataFrame(sql.execute(q))\n",
    "df = reduce(lambda x,y: pd.merge(x,y, on='name', how='outer'),[ta,tma,tnma])\n",
    "df.memory= round((df.memory/df.total) * 100,2)\n",
    "df.non_memory= round((df.non_memory/df.total) * 100,2)\n",
    "df['memory']=df['memory'].astype(str)+\"%\"\n",
    "df['non_memory']=df['non_memory'].astype(str)+\"%\"\n",
    "df=df.rename(columns={'total':'elimination unknown'})\n",
    "df"
   ]
  },
  {
   "cell_type": "code",
   "execution_count": null,
   "metadata": {},
   "outputs": [],
   "source": []
  }
 ],
 "metadata": {
  "language_info": {
   "codemirror_mode": {
    "name": "ipython",
    "version": 3
   },
   "file_extension": ".py",
   "mimetype": "text/x-python",
   "name": "python",
   "nbconvert_exporter": "python",
   "pygments_lexer": "ipython3",
   "version": "3.7.3-final"
  },
  "orig_nbformat": 2,
  "kernelspec": {
   "name": "python3",
   "display_name": "Python 3"
  }
 },
 "nbformat": 4,
 "nbformat_minor": 2
}