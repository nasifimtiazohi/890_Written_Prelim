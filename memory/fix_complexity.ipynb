{
 "cells": [
  {
   "cell_type": "code",
   "execution_count": 27,
   "metadata": {},
   "outputs": [],
   "source": [
    "import sys\n",
    "sys.path.append('../main')\n",
    "import sql\n",
    "import pandas as pd\n",
    "from functools import reduce\n",
    "from tabulate import tabulate"
   ]
  },
  {
   "cell_type": "code",
   "execution_count": 28,
   "metadata": {
    "tags": []
   },
   "outputs": [],
   "source": [
    "q='''select p.name,fc.*, me.memory from fix_complexity fc\n",
    "join alert a on fc.alert_id = a.id\n",
    "join project p on a.project_id = p.id\n",
    "join memory_error me on a.alert_type_id = me.alert_type_id\n",
    "where language in ('C','C++') '''\n",
    "df=pd.DataFrame(sql.execute(q))\n",
    "df.net_loc_change=df.net_loc_change/df.total_fixed_alerts\n",
    "df.net_logical_change=df.net_logical_change/df.total_fixed_alerts\n",
    "df.infile_loc_change=df.infile_loc_change/df.infile_fixed_alerts\n",
    "df.infile_logical_change=df.infile_logical_change/df.infile_fixed_alerts"
   ]
  },
  {
   "cell_type": "code",
   "execution_count": 29,
   "metadata": {},
   "outputs": [],
   "source": [
    "tracked_fix_commit=df.groupby('name')[['alert_id']].count()\n",
    "file=df.groupby('name')[['file_count']].median()\n",
    "net_loc=df.groupby('name')[['net_loc_change']].median()\n",
    "infile_loc=df.groupby('name')[['infile_loc_change']].median()\n",
    "net_logical=df.groupby('name')[['net_logical_change']].median()\n",
    "infile_logical=df.groupby('name')[['infile_logical_change']].median()\n",
    "df=reduce(lambda x,y:pd.merge(x,y,on='name'),[tracked_fix_commit,file,net_loc,infile_loc,net_logical,infile_logical])\n"
   ]
  },
  {
   "cell_type": "code",
   "execution_count": 30,
   "metadata": {},
   "outputs": [
    {
     "output_type": "execute_result",
     "data": {
      "text/plain": "                       tracked_fix_commit (all)  file_count  net_loc_change  \\\nname                                                                          \n!CHAOS Control System                       223        13.0       29.250000   \nChromium EC                                 163         1.0        3.000000   \nFirefox                                    1835        18.0       40.720000   \nKodi                                        496         2.0        6.200000   \nLibreOffice                                6477         1.0        3.000000   \nLinux                                      3077         1.0        4.000000   \nOpenCV                                      564        27.0       25.800000   \nSamba                                       798         1.0        3.000000   \nThunderbird                                 187        19.0        7.179104   \nVTK                                         141         4.0        7.400000   \n\n                       infile_loc_change  net_logical_change  \\\nname                                                           \n!CHAOS Control System               4.00            6.000000   \nChromium EC                         2.00            1.333333   \nFirefox                             5.00           11.000000   \nKodi                                4.00            2.000000   \nLibreOffice                         2.00            1.000000   \nLinux                               3.00            1.500000   \nOpenCV                              4.00            9.100000   \nSamba                               2.00            1.000000   \nThunderbird                         1.75            2.268657   \nVTK                                 3.00            2.000000   \n\n                       infile_logical_change  \nname                                          \n!CHAOS Control System               1.000000  \nChromium EC                         1.000000  \nFirefox                             1.666667  \nKodi                                1.000000  \nLibreOffice                         1.000000  \nLinux                               1.000000  \nOpenCV                              1.500000  \nSamba                               1.000000  \nThunderbird                         0.500000  \nVTK                                 1.000000  ",
      "text/html": "<div>\n<style scoped>\n    .dataframe tbody tr th:only-of-type {\n        vertical-align: middle;\n    }\n\n    .dataframe tbody tr th {\n        vertical-align: top;\n    }\n\n    .dataframe thead th {\n        text-align: right;\n    }\n</style>\n<table border=\"1\" class=\"dataframe\">\n  <thead>\n    <tr style=\"text-align: right;\">\n      <th></th>\n      <th>tracked_fix_commit (all)</th>\n      <th>file_count</th>\n      <th>net_loc_change</th>\n      <th>infile_loc_change</th>\n      <th>net_logical_change</th>\n      <th>infile_logical_change</th>\n    </tr>\n    <tr>\n      <th>name</th>\n      <th></th>\n      <th></th>\n      <th></th>\n      <th></th>\n      <th></th>\n      <th></th>\n    </tr>\n  </thead>\n  <tbody>\n    <tr>\n      <th>!CHAOS Control System</th>\n      <td>223</td>\n      <td>13.0</td>\n      <td>29.250000</td>\n      <td>4.00</td>\n      <td>6.000000</td>\n      <td>1.000000</td>\n    </tr>\n    <tr>\n      <th>Chromium EC</th>\n      <td>163</td>\n      <td>1.0</td>\n      <td>3.000000</td>\n      <td>2.00</td>\n      <td>1.333333</td>\n      <td>1.000000</td>\n    </tr>\n    <tr>\n      <th>Firefox</th>\n      <td>1835</td>\n      <td>18.0</td>\n      <td>40.720000</td>\n      <td>5.00</td>\n      <td>11.000000</td>\n      <td>1.666667</td>\n    </tr>\n    <tr>\n      <th>Kodi</th>\n      <td>496</td>\n      <td>2.0</td>\n      <td>6.200000</td>\n      <td>4.00</td>\n      <td>2.000000</td>\n      <td>1.000000</td>\n    </tr>\n    <tr>\n      <th>LibreOffice</th>\n      <td>6477</td>\n      <td>1.0</td>\n      <td>3.000000</td>\n      <td>2.00</td>\n      <td>1.000000</td>\n      <td>1.000000</td>\n    </tr>\n    <tr>\n      <th>Linux</th>\n      <td>3077</td>\n      <td>1.0</td>\n      <td>4.000000</td>\n      <td>3.00</td>\n      <td>1.500000</td>\n      <td>1.000000</td>\n    </tr>\n    <tr>\n      <th>OpenCV</th>\n      <td>564</td>\n      <td>27.0</td>\n      <td>25.800000</td>\n      <td>4.00</td>\n      <td>9.100000</td>\n      <td>1.500000</td>\n    </tr>\n    <tr>\n      <th>Samba</th>\n      <td>798</td>\n      <td>1.0</td>\n      <td>3.000000</td>\n      <td>2.00</td>\n      <td>1.000000</td>\n      <td>1.000000</td>\n    </tr>\n    <tr>\n      <th>Thunderbird</th>\n      <td>187</td>\n      <td>19.0</td>\n      <td>7.179104</td>\n      <td>1.75</td>\n      <td>2.268657</td>\n      <td>0.500000</td>\n    </tr>\n    <tr>\n      <th>VTK</th>\n      <td>141</td>\n      <td>4.0</td>\n      <td>7.400000</td>\n      <td>3.00</td>\n      <td>2.000000</td>\n      <td>1.000000</td>\n    </tr>\n  </tbody>\n</table>\n</div>"
     },
     "metadata": {},
     "execution_count": 30
    }
   ],
   "source": [
    "df=df.rename(columns={'alert_id':'tracked_fix_commit (all)'})\n",
    "df"
   ]
  },
  {
   "cell_type": "code",
   "execution_count": 34,
   "metadata": {},
   "outputs": [
    {
     "output_type": "execute_result",
     "data": {
      "text/plain": "                       tracked_fix_commit (memory)  file_count  \\\nname                                                             \n!CHAOS Control System                           69        13.0   \nChromium EC                                     65         1.0   \nFirefox                                        800        16.0   \nKodi                                           143         1.0   \nLibreOffice                                   2358         1.0   \nLinux                                         1347         1.0   \nOpenCV                                         164        28.0   \nSamba                                          406         1.0   \nThunderbird                                     30        21.5   \nVTK                                             66         4.5   \n\n                       net_loc_change  infile_loc_change  net_logical_change  \\\nname                                                                           \n!CHAOS Control System       15.470588           4.000000            4.150000   \nChromium EC                  2.666667           2.000000            1.333333   \nFirefox                     40.000000           5.000000            9.000000   \nKodi                         6.200000           5.333333            2.000000   \nLibreOffice                  2.684343           2.246154            1.000000   \nLinux                        4.000000           3.000000            2.000000   \nOpenCV                      33.366972           4.000000           12.165138   \nSamba                        3.000000           2.000000            1.000000   \nThunderbird                249.500000          13.500000           48.500000   \nVTK                          7.062500           3.000000            1.666667   \n\n                       infile_logical_change  \nname                                          \n!CHAOS Control System               1.000000  \nChromium EC                         1.000000  \nFirefox                             1.678571  \nKodi                                1.250000  \nLibreOffice                         1.000000  \nLinux                               1.000000  \nOpenCV                              1.000000  \nSamba                               1.000000  \nThunderbird                         2.000000  \nVTK                                 1.200000  ",
      "text/html": "<div>\n<style scoped>\n    .dataframe tbody tr th:only-of-type {\n        vertical-align: middle;\n    }\n\n    .dataframe tbody tr th {\n        vertical-align: top;\n    }\n\n    .dataframe thead th {\n        text-align: right;\n    }\n</style>\n<table border=\"1\" class=\"dataframe\">\n  <thead>\n    <tr style=\"text-align: right;\">\n      <th></th>\n      <th>tracked_fix_commit (memory)</th>\n      <th>file_count</th>\n      <th>net_loc_change</th>\n      <th>infile_loc_change</th>\n      <th>net_logical_change</th>\n      <th>infile_logical_change</th>\n    </tr>\n    <tr>\n      <th>name</th>\n      <th></th>\n      <th></th>\n      <th></th>\n      <th></th>\n      <th></th>\n      <th></th>\n    </tr>\n  </thead>\n  <tbody>\n    <tr>\n      <th>!CHAOS Control System</th>\n      <td>69</td>\n      <td>13.0</td>\n      <td>15.470588</td>\n      <td>4.000000</td>\n      <td>4.150000</td>\n      <td>1.000000</td>\n    </tr>\n    <tr>\n      <th>Chromium EC</th>\n      <td>65</td>\n      <td>1.0</td>\n      <td>2.666667</td>\n      <td>2.000000</td>\n      <td>1.333333</td>\n      <td>1.000000</td>\n    </tr>\n    <tr>\n      <th>Firefox</th>\n      <td>800</td>\n      <td>16.0</td>\n      <td>40.000000</td>\n      <td>5.000000</td>\n      <td>9.000000</td>\n      <td>1.678571</td>\n    </tr>\n    <tr>\n      <th>Kodi</th>\n      <td>143</td>\n      <td>1.0</td>\n      <td>6.200000</td>\n      <td>5.333333</td>\n      <td>2.000000</td>\n      <td>1.250000</td>\n    </tr>\n    <tr>\n      <th>LibreOffice</th>\n      <td>2358</td>\n      <td>1.0</td>\n      <td>2.684343</td>\n      <td>2.246154</td>\n      <td>1.000000</td>\n      <td>1.000000</td>\n    </tr>\n    <tr>\n      <th>Linux</th>\n      <td>1347</td>\n      <td>1.0</td>\n      <td>4.000000</td>\n      <td>3.000000</td>\n      <td>2.000000</td>\n      <td>1.000000</td>\n    </tr>\n    <tr>\n      <th>OpenCV</th>\n      <td>164</td>\n      <td>28.0</td>\n      <td>33.366972</td>\n      <td>4.000000</td>\n      <td>12.165138</td>\n      <td>1.000000</td>\n    </tr>\n    <tr>\n      <th>Samba</th>\n      <td>406</td>\n      <td>1.0</td>\n      <td>3.000000</td>\n      <td>2.000000</td>\n      <td>1.000000</td>\n      <td>1.000000</td>\n    </tr>\n    <tr>\n      <th>Thunderbird</th>\n      <td>30</td>\n      <td>21.5</td>\n      <td>249.500000</td>\n      <td>13.500000</td>\n      <td>48.500000</td>\n      <td>2.000000</td>\n    </tr>\n    <tr>\n      <th>VTK</th>\n      <td>66</td>\n      <td>4.5</td>\n      <td>7.062500</td>\n      <td>3.000000</td>\n      <td>1.666667</td>\n      <td>1.200000</td>\n    </tr>\n  </tbody>\n</table>\n</div>"
     },
     "metadata": {},
     "execution_count": 34
    }
   ],
   "source": [
    "q='''select p.name,fc.*, me.memory from fix_complexity fc\n",
    "join alert a on fc.alert_id = a.id\n",
    "join project p on a.project_id = p.id\n",
    "join memory_error me on a.alert_type_id = me.alert_type_id\n",
    "where me.memory = 1 \n",
    "and language in ('C','C++')'''\n",
    "df=pd.DataFrame(sql.execute(q))\n",
    "df.net_loc_change=df.net_loc_change/df.total_fixed_alerts\n",
    "df.net_logical_change=df.net_logical_change/df.total_fixed_alerts\n",
    "df.infile_loc_change=df.infile_loc_change/df.infile_fixed_alerts\n",
    "df.infile_logical_change=df.infile_logical_change/df.infile_fixed_alerts\n",
    "\n",
    "tracked_fix_commit=df.groupby('name')[['alert_id']].count()\n",
    "file=df.groupby('name')[['file_count']].median()\n",
    "net_loc=df.groupby('name')[['net_loc_change']].median()\n",
    "infile_loc=df.groupby('name')[['infile_loc_change']].median()\n",
    "net_logical=df.groupby('name')[['net_logical_change']].median()\n",
    "infile_logical=df.groupby('name')[['infile_logical_change']].median()\n",
    "df=reduce(lambda x,y:pd.merge(x,y,on='name'),[tracked_fix_commit,file,net_loc,infile_loc,net_logical,infile_logical])\n",
    "\n",
    "df=df.rename(columns={'alert_id':'tracked_fix_commit (memory)'})\n",
    "df"
   ]
  },
  {
   "cell_type": "code",
   "execution_count": 39,
   "metadata": {},
   "outputs": [
    {
     "output_type": "execute_result",
     "data": {
      "text/plain": "1.0"
     },
     "metadata": {},
     "execution_count": 39
    }
   ],
   "source": [
    "df['file_count'].median(), df['infile_loc_change'].median()\n",
    "df['infile_logical_change'].median()\n"
   ]
  },
  {
   "cell_type": "code",
   "execution_count": 33,
   "metadata": {},
   "outputs": [
    {
     "output_type": "execute_result",
     "data": {
      "text/plain": "                       tracked_fix_commit (non_memory)  file_count  \\\nname                                                                 \n!CHAOS Control System                              154        13.0   \nChromium EC                                         98         1.0   \nFirefox                                           1035        22.0   \nKodi                                               353         2.0   \nLibreOffice                                       4374         1.0   \nLinux                                             1730         1.0   \nOpenCV                                             400        25.5   \nSamba                                              392         1.0   \nThunderbird                                        157        19.0   \nVTK                                                 75         4.0   \novirt-engine                                       428         7.0   \n\n                       net_loc_change  infile_loc_change  net_logical_change  \\\nname                                                                           \n!CHAOS Control System       30.625000           3.333333            6.000000   \nChromium EC                  3.000000           2.333333            2.000000   \nFirefox                     41.000000           5.000000           12.000000   \nKodi                         6.000000           3.250000            2.000000   \nLibreOffice                  4.000000           2.000000            1.000000   \nLinux                        4.000000           2.000000            1.062500   \nOpenCV                      23.771242           4.000000            8.833333   \nSamba                        3.000000           2.000000            1.000000   \nThunderbird                  7.179104           1.333333            2.268657   \nVTK                          7.400000           2.000000            2.050000   \novirt-engine                35.590278           6.500000            8.928571   \n\n                       infile_logical_change  \nname                                          \n!CHAOS Control System               1.000000  \nChromium EC                         1.000000  \nFirefox                             1.666667  \nKodi                                1.000000  \nLibreOffice                         1.000000  \nLinux                               1.000000  \nOpenCV                              1.500000  \nSamba                               1.000000  \nThunderbird                         0.500000  \nVTK                                 1.000000  \novirt-engine                        2.000000  ",
      "text/html": "<div>\n<style scoped>\n    .dataframe tbody tr th:only-of-type {\n        vertical-align: middle;\n    }\n\n    .dataframe tbody tr th {\n        vertical-align: top;\n    }\n\n    .dataframe thead th {\n        text-align: right;\n    }\n</style>\n<table border=\"1\" class=\"dataframe\">\n  <thead>\n    <tr style=\"text-align: right;\">\n      <th></th>\n      <th>tracked_fix_commit (non_memory)</th>\n      <th>file_count</th>\n      <th>net_loc_change</th>\n      <th>infile_loc_change</th>\n      <th>net_logical_change</th>\n      <th>infile_logical_change</th>\n    </tr>\n    <tr>\n      <th>name</th>\n      <th></th>\n      <th></th>\n      <th></th>\n      <th></th>\n      <th></th>\n      <th></th>\n    </tr>\n  </thead>\n  <tbody>\n    <tr>\n      <th>!CHAOS Control System</th>\n      <td>154</td>\n      <td>13.0</td>\n      <td>30.625000</td>\n      <td>3.333333</td>\n      <td>6.000000</td>\n      <td>1.000000</td>\n    </tr>\n    <tr>\n      <th>Chromium EC</th>\n      <td>98</td>\n      <td>1.0</td>\n      <td>3.000000</td>\n      <td>2.333333</td>\n      <td>2.000000</td>\n      <td>1.000000</td>\n    </tr>\n    <tr>\n      <th>Firefox</th>\n      <td>1035</td>\n      <td>22.0</td>\n      <td>41.000000</td>\n      <td>5.000000</td>\n      <td>12.000000</td>\n      <td>1.666667</td>\n    </tr>\n    <tr>\n      <th>Kodi</th>\n      <td>353</td>\n      <td>2.0</td>\n      <td>6.000000</td>\n      <td>3.250000</td>\n      <td>2.000000</td>\n      <td>1.000000</td>\n    </tr>\n    <tr>\n      <th>LibreOffice</th>\n      <td>4374</td>\n      <td>1.0</td>\n      <td>4.000000</td>\n      <td>2.000000</td>\n      <td>1.000000</td>\n      <td>1.000000</td>\n    </tr>\n    <tr>\n      <th>Linux</th>\n      <td>1730</td>\n      <td>1.0</td>\n      <td>4.000000</td>\n      <td>2.000000</td>\n      <td>1.062500</td>\n      <td>1.000000</td>\n    </tr>\n    <tr>\n      <th>OpenCV</th>\n      <td>400</td>\n      <td>25.5</td>\n      <td>23.771242</td>\n      <td>4.000000</td>\n      <td>8.833333</td>\n      <td>1.500000</td>\n    </tr>\n    <tr>\n      <th>Samba</th>\n      <td>392</td>\n      <td>1.0</td>\n      <td>3.000000</td>\n      <td>2.000000</td>\n      <td>1.000000</td>\n      <td>1.000000</td>\n    </tr>\n    <tr>\n      <th>Thunderbird</th>\n      <td>157</td>\n      <td>19.0</td>\n      <td>7.179104</td>\n      <td>1.333333</td>\n      <td>2.268657</td>\n      <td>0.500000</td>\n    </tr>\n    <tr>\n      <th>VTK</th>\n      <td>75</td>\n      <td>4.0</td>\n      <td>7.400000</td>\n      <td>2.000000</td>\n      <td>2.050000</td>\n      <td>1.000000</td>\n    </tr>\n    <tr>\n      <th>ovirt-engine</th>\n      <td>428</td>\n      <td>7.0</td>\n      <td>35.590278</td>\n      <td>6.500000</td>\n      <td>8.928571</td>\n      <td>2.000000</td>\n    </tr>\n  </tbody>\n</table>\n</div>"
     },
     "metadata": {},
     "execution_count": 33
    }
   ],
   "source": [
    "q='''select p.name,fc.*, me.memory from fix_complexity fc\n",
    "join alert a on fc.alert_id = a.id\n",
    "join project p on a.project_id = p.id\n",
    "join memory_error me on a.alert_type_id = me.alert_type_id\n",
    "where me.memory is null '''\n",
    "df=pd.DataFrame(sql.execute(q))\n",
    "df.net_loc_change=df.net_loc_change/df.total_fixed_alerts\n",
    "df.net_logical_change=df.net_logical_change/df.total_fixed_alerts\n",
    "df.infile_loc_change=df.infile_loc_change/df.infile_fixed_alerts\n",
    "df.infile_logical_change=df.infile_logical_change/df.infile_fixed_alerts\n",
    "\n",
    "tracked_fix_commit=df.groupby('name')[['alert_id']].count()\n",
    "file=df.groupby('name')[['file_count']].median()\n",
    "net_loc=df.groupby('name')[['net_loc_change']].median()\n",
    "infile_loc=df.groupby('name')[['infile_loc_change']].median()\n",
    "net_logical=df.groupby('name')[['net_logical_change']].median()\n",
    "infile_logical=df.groupby('name')[['infile_logical_change']].median()\n",
    "df=reduce(lambda x,y:pd.merge(x,y,on='name'),[tracked_fix_commit,file,net_loc,infile_loc,net_logical,infile_logical])\n",
    "\n",
    "df=df.rename(columns={'alert_id':'tracked_fix_commit (non_memory)'})\n",
    "df"
   ]
  },
  {
   "cell_type": "code",
   "execution_count": null,
   "metadata": {},
   "outputs": [],
   "source": []
  }
 ],
 "metadata": {
  "language_info": {
   "codemirror_mode": {
    "name": "ipython",
    "version": 3
   },
   "file_extension": ".py",
   "mimetype": "text/x-python",
   "name": "python",
   "nbconvert_exporter": "python",
   "pygments_lexer": "ipython3",
   "version": "3.7.3-final"
  },
  "orig_nbformat": 2,
  "kernelspec": {
   "name": "python3",
   "display_name": "Python 3"
  }
 },
 "nbformat": 4,
 "nbformat_minor": 2
}