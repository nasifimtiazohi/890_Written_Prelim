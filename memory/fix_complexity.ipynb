{
 "cells": [
  {
   "cell_type": "code",
   "execution_count": 2,
   "metadata": {},
   "outputs": [],
   "source": [
    "import sql\n",
    "import pandas as pd\n",
    "from functools import reduce"
   ]
  },
  {
   "cell_type": "code",
   "execution_count": 23,
   "metadata": {
    "tags": []
   },
   "outputs": [
    {
     "output_type": "execute_result",
     "data": {
      "text/plain": "   name  alert_id  commit_id  file_count  net_loc_change  infile_loc_change  \\\n0  Kodi        16       1013         2.0            2.00               2.00   \n1  Kodi        17       1013         2.0            2.00               2.00   \n2  Kodi        19       1013         2.0            2.00               2.00   \n3  Kodi        20       1604         1.0            2.00               2.00   \n4  Kodi        22       1868         1.0            2.75               2.75   \n\n   net_logical_change  infile_logical_change  total_fixed_alerts  \\\n0                 1.0                    1.0                   3   \n1                 1.0                    1.0                   3   \n2                 1.0                    1.0                   3   \n3                 1.0                    1.0                   1   \n4                 0.5                    0.5                   4   \n\n   infile_fixed_alerts  memory  \n0                    2     NaN  \n1                    2     NaN  \n2                    1     NaN  \n3                    1     NaN  \n4                    4     1.0  ",
      "text/html": "<div>\n<style scoped>\n    .dataframe tbody tr th:only-of-type {\n        vertical-align: middle;\n    }\n\n    .dataframe tbody tr th {\n        vertical-align: top;\n    }\n\n    .dataframe thead th {\n        text-align: right;\n    }\n</style>\n<table border=\"1\" class=\"dataframe\">\n  <thead>\n    <tr style=\"text-align: right;\">\n      <th></th>\n      <th>name</th>\n      <th>alert_id</th>\n      <th>commit_id</th>\n      <th>file_count</th>\n      <th>net_loc_change</th>\n      <th>infile_loc_change</th>\n      <th>net_logical_change</th>\n      <th>infile_logical_change</th>\n      <th>total_fixed_alerts</th>\n      <th>infile_fixed_alerts</th>\n      <th>memory</th>\n    </tr>\n  </thead>\n  <tbody>\n    <tr>\n      <th>0</th>\n      <td>Kodi</td>\n      <td>16</td>\n      <td>1013</td>\n      <td>2.0</td>\n      <td>2.00</td>\n      <td>2.00</td>\n      <td>1.0</td>\n      <td>1.0</td>\n      <td>3</td>\n      <td>2</td>\n      <td>NaN</td>\n    </tr>\n    <tr>\n      <th>1</th>\n      <td>Kodi</td>\n      <td>17</td>\n      <td>1013</td>\n      <td>2.0</td>\n      <td>2.00</td>\n      <td>2.00</td>\n      <td>1.0</td>\n      <td>1.0</td>\n      <td>3</td>\n      <td>2</td>\n      <td>NaN</td>\n    </tr>\n    <tr>\n      <th>2</th>\n      <td>Kodi</td>\n      <td>19</td>\n      <td>1013</td>\n      <td>2.0</td>\n      <td>2.00</td>\n      <td>2.00</td>\n      <td>1.0</td>\n      <td>1.0</td>\n      <td>3</td>\n      <td>1</td>\n      <td>NaN</td>\n    </tr>\n    <tr>\n      <th>3</th>\n      <td>Kodi</td>\n      <td>20</td>\n      <td>1604</td>\n      <td>1.0</td>\n      <td>2.00</td>\n      <td>2.00</td>\n      <td>1.0</td>\n      <td>1.0</td>\n      <td>1</td>\n      <td>1</td>\n      <td>NaN</td>\n    </tr>\n    <tr>\n      <th>4</th>\n      <td>Kodi</td>\n      <td>22</td>\n      <td>1868</td>\n      <td>1.0</td>\n      <td>2.75</td>\n      <td>2.75</td>\n      <td>0.5</td>\n      <td>0.5</td>\n      <td>4</td>\n      <td>4</td>\n      <td>1.0</td>\n    </tr>\n  </tbody>\n</table>\n</div>"
     },
     "metadata": {},
     "execution_count": 23
    }
   ],
   "source": [
    "q='''select p.name,fc.*, me.memory from fix_complexity fc\n",
    "join alert a on fc.alert_id = a.id\n",
    "join project p on a.project_id = p.id\n",
    "join memory_error me on a.alert_type_id = me.alert_type_id '''\n",
    "df=pd.DataFrame(sql.execute(q))\n",
    "df.net_loc_change=df.net_loc_change/df.total_fixed_alerts\n",
    "df.net_logical_change=df.net_logical_change/df.total_fixed_alerts\n",
    "df.infile_loc_change=df.infile_loc_change/df.infile_fixed_alerts\n",
    "df.infile_logical_change=df.infile_logical_change/df.infile_fixed_alerts\n",
    "df.head()"
   ]
  },
  {
   "cell_type": "code",
   "execution_count": 24,
   "metadata": {},
   "outputs": [],
   "source": [
    "tracked_fix_commit=df.groupby('name')[['alert_id']].count()\n",
    "file=df.groupby('name')[['file_count']].median()\n",
    "net_loc=df.groupby('name')[['net_loc_change']].median()\n",
    "infile_loc=df.groupby('name')[['infile_loc_change']].median()\n",
    "net_logical=df.groupby('name')[['net_logical_change']].median()\n",
    "infile_logical=df.groupby('name')[['infile_logical_change']].median()\n",
    "df=reduce(lambda x,y:pd.merge(x,y,on='name'),[tracked_fix_commit,file,net_loc,infile_loc,net_logical,infile_logical])\n"
   ]
  },
  {
   "cell_type": "code",
   "execution_count": 25,
   "metadata": {},
   "outputs": [
    {
     "output_type": "execute_result",
     "data": {
      "text/plain": "              tracked_fix_commit (all)  file_count  net_loc_change  \\\nname                                                                 \nFirefox                           1835        18.0          40.720   \nKodi                               496         2.0           6.200   \nLinux                             3077         1.0           4.000   \nSamba                              798         1.0           3.000   \novirt-engine                       666         6.0          24.925   \n\n              infile_loc_change  net_logical_change  infile_logical_change  \nname                                                                        \nFirefox                     5.0                11.0               1.666667  \nKodi                        4.0                 2.0               1.000000  \nLinux                       3.0                 1.5               1.000000  \nSamba                       2.0                 1.0               1.000000  \novirt-engine                7.0                 5.5               2.000000  ",
      "text/html": "<div>\n<style scoped>\n    .dataframe tbody tr th:only-of-type {\n        vertical-align: middle;\n    }\n\n    .dataframe tbody tr th {\n        vertical-align: top;\n    }\n\n    .dataframe thead th {\n        text-align: right;\n    }\n</style>\n<table border=\"1\" class=\"dataframe\">\n  <thead>\n    <tr style=\"text-align: right;\">\n      <th></th>\n      <th>tracked_fix_commit (all)</th>\n      <th>file_count</th>\n      <th>net_loc_change</th>\n      <th>infile_loc_change</th>\n      <th>net_logical_change</th>\n      <th>infile_logical_change</th>\n    </tr>\n    <tr>\n      <th>name</th>\n      <th></th>\n      <th></th>\n      <th></th>\n      <th></th>\n      <th></th>\n      <th></th>\n    </tr>\n  </thead>\n  <tbody>\n    <tr>\n      <th>Firefox</th>\n      <td>1835</td>\n      <td>18.0</td>\n      <td>40.720</td>\n      <td>5.0</td>\n      <td>11.0</td>\n      <td>1.666667</td>\n    </tr>\n    <tr>\n      <th>Kodi</th>\n      <td>496</td>\n      <td>2.0</td>\n      <td>6.200</td>\n      <td>4.0</td>\n      <td>2.0</td>\n      <td>1.000000</td>\n    </tr>\n    <tr>\n      <th>Linux</th>\n      <td>3077</td>\n      <td>1.0</td>\n      <td>4.000</td>\n      <td>3.0</td>\n      <td>1.5</td>\n      <td>1.000000</td>\n    </tr>\n    <tr>\n      <th>Samba</th>\n      <td>798</td>\n      <td>1.0</td>\n      <td>3.000</td>\n      <td>2.0</td>\n      <td>1.0</td>\n      <td>1.000000</td>\n    </tr>\n    <tr>\n      <th>ovirt-engine</th>\n      <td>666</td>\n      <td>6.0</td>\n      <td>24.925</td>\n      <td>7.0</td>\n      <td>5.5</td>\n      <td>2.000000</td>\n    </tr>\n  </tbody>\n</table>\n</div>"
     },
     "metadata": {},
     "execution_count": 25
    }
   ],
   "source": [
    "df=df.rename(columns={'alert_id':'tracked_fix_commit (all)'})\n",
    "df"
   ]
  },
  {
   "cell_type": "code",
   "execution_count": 26,
   "metadata": {},
   "outputs": [
    {
     "output_type": "execute_result",
     "data": {
      "text/plain": "              tracked_fix_commit (memory)  file_count  net_loc_change  \\\nname                                                                    \nFirefox                               636        16.0       47.500000   \nKodi                                   96         1.0        6.200000   \nLinux                                1191         1.0        4.000000   \nSamba                                 378         1.0        3.000000   \novirt-engine                          232         4.0       18.857143   \n\n              infile_loc_change  net_logical_change  infile_logical_change  \nname                                                                        \nFirefox                   5.000                11.0                   2.00  \nKodi                      4.625                 2.0                   1.25  \nLinux                     3.500                 2.0                   1.00  \nSamba                     2.000                 1.0                   1.00  \novirt-engine             10.800                 4.0                   2.00  ",
      "text/html": "<div>\n<style scoped>\n    .dataframe tbody tr th:only-of-type {\n        vertical-align: middle;\n    }\n\n    .dataframe tbody tr th {\n        vertical-align: top;\n    }\n\n    .dataframe thead th {\n        text-align: right;\n    }\n</style>\n<table border=\"1\" class=\"dataframe\">\n  <thead>\n    <tr style=\"text-align: right;\">\n      <th></th>\n      <th>tracked_fix_commit (memory)</th>\n      <th>file_count</th>\n      <th>net_loc_change</th>\n      <th>infile_loc_change</th>\n      <th>net_logical_change</th>\n      <th>infile_logical_change</th>\n    </tr>\n    <tr>\n      <th>name</th>\n      <th></th>\n      <th></th>\n      <th></th>\n      <th></th>\n      <th></th>\n      <th></th>\n    </tr>\n  </thead>\n  <tbody>\n    <tr>\n      <th>Firefox</th>\n      <td>636</td>\n      <td>16.0</td>\n      <td>47.500000</td>\n      <td>5.000</td>\n      <td>11.0</td>\n      <td>2.00</td>\n    </tr>\n    <tr>\n      <th>Kodi</th>\n      <td>96</td>\n      <td>1.0</td>\n      <td>6.200000</td>\n      <td>4.625</td>\n      <td>2.0</td>\n      <td>1.25</td>\n    </tr>\n    <tr>\n      <th>Linux</th>\n      <td>1191</td>\n      <td>1.0</td>\n      <td>4.000000</td>\n      <td>3.500</td>\n      <td>2.0</td>\n      <td>1.00</td>\n    </tr>\n    <tr>\n      <th>Samba</th>\n      <td>378</td>\n      <td>1.0</td>\n      <td>3.000000</td>\n      <td>2.000</td>\n      <td>1.0</td>\n      <td>1.00</td>\n    </tr>\n    <tr>\n      <th>ovirt-engine</th>\n      <td>232</td>\n      <td>4.0</td>\n      <td>18.857143</td>\n      <td>10.800</td>\n      <td>4.0</td>\n      <td>2.00</td>\n    </tr>\n  </tbody>\n</table>\n</div>"
     },
     "metadata": {},
     "execution_count": 26
    }
   ],
   "source": [
    "q='''select p.name,fc.*, me.memory from fix_complexity fc\n",
    "join alert a on fc.alert_id = a.id\n",
    "join project p on a.project_id = p.id\n",
    "join memory_error me on a.alert_type_id = me.alert_type_id\n",
    "where me.memory = 1 '''\n",
    "df=pd.DataFrame(sql.execute(q))\n",
    "df.net_loc_change=df.net_loc_change/df.total_fixed_alerts\n",
    "df.net_logical_change=df.net_logical_change/df.total_fixed_alerts\n",
    "df.infile_loc_change=df.infile_loc_change/df.infile_fixed_alerts\n",
    "df.infile_logical_change=df.infile_logical_change/df.infile_fixed_alerts\n",
    "\n",
    "tracked_fix_commit=df.groupby('name')[['alert_id']].count()\n",
    "file=df.groupby('name')[['file_count']].median()\n",
    "net_loc=df.groupby('name')[['net_loc_change']].median()\n",
    "infile_loc=df.groupby('name')[['infile_loc_change']].median()\n",
    "net_logical=df.groupby('name')[['net_logical_change']].median()\n",
    "infile_logical=df.groupby('name')[['infile_logical_change']].median()\n",
    "df=reduce(lambda x,y:pd.merge(x,y,on='name'),[tracked_fix_commit,file,net_loc,infile_loc,net_logical,infile_logical])\n",
    "\n",
    "df=df.rename(columns={'alert_id':'tracked_fix_commit (memory)'})\n",
    "df"
   ]
  },
  {
   "cell_type": "code",
   "execution_count": 28,
   "metadata": {},
   "outputs": [
    {
     "output_type": "execute_result",
     "data": {
      "text/plain": "              tracked_fix_commit (non_memory)  file_count  net_loc_change  \\\nname                                                                        \nFirefox                                  1199        20.0           40.72   \nKodi                                      400         2.0            6.50   \nLinux                                    1886         1.0            3.90   \nSamba                                     420         1.0            3.00   \novirt-engine                              434         7.0           27.50   \n\n              infile_loc_change  net_logical_change  infile_logical_change  \nname                                                                        \nFirefox                5.000000           11.000000                    1.5  \nKodi                   4.000000            2.000000                    1.0  \nLinux                  2.000000            1.000000                    1.0  \nSamba                  2.000000            1.000000                    1.0  \novirt-engine           6.416667            8.857143                    2.0  ",
      "text/html": "<div>\n<style scoped>\n    .dataframe tbody tr th:only-of-type {\n        vertical-align: middle;\n    }\n\n    .dataframe tbody tr th {\n        vertical-align: top;\n    }\n\n    .dataframe thead th {\n        text-align: right;\n    }\n</style>\n<table border=\"1\" class=\"dataframe\">\n  <thead>\n    <tr style=\"text-align: right;\">\n      <th></th>\n      <th>tracked_fix_commit (non_memory)</th>\n      <th>file_count</th>\n      <th>net_loc_change</th>\n      <th>infile_loc_change</th>\n      <th>net_logical_change</th>\n      <th>infile_logical_change</th>\n    </tr>\n    <tr>\n      <th>name</th>\n      <th></th>\n      <th></th>\n      <th></th>\n      <th></th>\n      <th></th>\n      <th></th>\n    </tr>\n  </thead>\n  <tbody>\n    <tr>\n      <th>Firefox</th>\n      <td>1199</td>\n      <td>20.0</td>\n      <td>40.72</td>\n      <td>5.000000</td>\n      <td>11.000000</td>\n      <td>1.5</td>\n    </tr>\n    <tr>\n      <th>Kodi</th>\n      <td>400</td>\n      <td>2.0</td>\n      <td>6.50</td>\n      <td>4.000000</td>\n      <td>2.000000</td>\n      <td>1.0</td>\n    </tr>\n    <tr>\n      <th>Linux</th>\n      <td>1886</td>\n      <td>1.0</td>\n      <td>3.90</td>\n      <td>2.000000</td>\n      <td>1.000000</td>\n      <td>1.0</td>\n    </tr>\n    <tr>\n      <th>Samba</th>\n      <td>420</td>\n      <td>1.0</td>\n      <td>3.00</td>\n      <td>2.000000</td>\n      <td>1.000000</td>\n      <td>1.0</td>\n    </tr>\n    <tr>\n      <th>ovirt-engine</th>\n      <td>434</td>\n      <td>7.0</td>\n      <td>27.50</td>\n      <td>6.416667</td>\n      <td>8.857143</td>\n      <td>2.0</td>\n    </tr>\n  </tbody>\n</table>\n</div>"
     },
     "metadata": {},
     "execution_count": 28
    }
   ],
   "source": [
    "q='''select p.name,fc.*, me.memory from fix_complexity fc\n",
    "join alert a on fc.alert_id = a.id\n",
    "join project p on a.project_id = p.id\n",
    "join memory_error me on a.alert_type_id = me.alert_type_id\n",
    "where me.memory is null '''\n",
    "df=pd.DataFrame(sql.execute(q))\n",
    "df.net_loc_change=df.net_loc_change/df.total_fixed_alerts\n",
    "df.net_logical_change=df.net_logical_change/df.total_fixed_alerts\n",
    "df.infile_loc_change=df.infile_loc_change/df.infile_fixed_alerts\n",
    "df.infile_logical_change=df.infile_logical_change/df.infile_fixed_alerts\n",
    "\n",
    "tracked_fix_commit=df.groupby('name')[['alert_id']].count()\n",
    "file=df.groupby('name')[['file_count']].median()\n",
    "net_loc=df.groupby('name')[['net_loc_change']].median()\n",
    "infile_loc=df.groupby('name')[['infile_loc_change']].median()\n",
    "net_logical=df.groupby('name')[['net_logical_change']].median()\n",
    "infile_logical=df.groupby('name')[['infile_logical_change']].median()\n",
    "df=reduce(lambda x,y:pd.merge(x,y,on='name'),[tracked_fix_commit,file,net_loc,infile_loc,net_logical,infile_logical])\n",
    "\n",
    "df=df.rename(columns={'alert_id':'tracked_fix_commit (non_memory)'})\n",
    "df"
   ]
  },
  {
   "cell_type": "code",
   "execution_count": null,
   "metadata": {},
   "outputs": [],
   "source": []
  }
 ],
 "metadata": {
  "language_info": {
   "codemirror_mode": {
    "name": "ipython",
    "version": 3
   },
   "file_extension": ".py",
   "mimetype": "text/x-python",
   "name": "python",
   "nbconvert_exporter": "python",
   "pygments_lexer": "ipython3",
   "version": "3.7.3-final"
  },
  "orig_nbformat": 2,
  "kernelspec": {
   "name": "python3",
   "display_name": "Python 3"
  }
 },
 "nbformat": 4,
 "nbformat_minor": 2
}