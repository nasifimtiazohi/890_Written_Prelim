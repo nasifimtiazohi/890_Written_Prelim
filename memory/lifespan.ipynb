{
 "cells": [
  {
   "cell_type": "code",
   "execution_count": 3,
   "metadata": {},
   "outputs": [],
   "source": [
    "import sql\n",
    "import pandas as pd\n",
    "from functools import reduce"
   ]
  },
  {
   "cell_type": "code",
   "execution_count": 5,
   "metadata": {},
   "outputs": [
    {
     "output_type": "execute_result",
     "data": {
      "text/plain": "              all actionable  memory  non_memory\nname                                            \nFirefox                  124      44         154\nKodi                      62      20          70\nLinux                    258     253         259\nSamba                     70     145          34\novirt-engine              94      67         108",
      "text/html": "<div>\n<style scoped>\n    .dataframe tbody tr th:only-of-type {\n        vertical-align: middle;\n    }\n\n    .dataframe tbody tr th {\n        vertical-align: top;\n    }\n\n    .dataframe thead th {\n        text-align: right;\n    }\n</style>\n<table border=\"1\" class=\"dataframe\">\n  <thead>\n    <tr style=\"text-align: right;\">\n      <th></th>\n      <th>all actionable</th>\n      <th>memory</th>\n      <th>non_memory</th>\n    </tr>\n    <tr>\n      <th>name</th>\n      <th></th>\n      <th></th>\n      <th></th>\n    </tr>\n  </thead>\n  <tbody>\n    <tr>\n      <th>Firefox</th>\n      <td>124</td>\n      <td>44</td>\n      <td>154</td>\n    </tr>\n    <tr>\n      <th>Kodi</th>\n      <td>62</td>\n      <td>20</td>\n      <td>70</td>\n    </tr>\n    <tr>\n      <th>Linux</th>\n      <td>258</td>\n      <td>253</td>\n      <td>259</td>\n    </tr>\n    <tr>\n      <th>Samba</th>\n      <td>70</td>\n      <td>145</td>\n      <td>34</td>\n    </tr>\n    <tr>\n      <th>ovirt-engine</th>\n      <td>94</td>\n      <td>67</td>\n      <td>108</td>\n    </tr>\n  </tbody>\n</table>\n</div>"
     },
     "metadata": {},
     "execution_count": 5
    }
   ],
   "source": [
    "q='''select a.id, datediff(s.date,first_detected) as lifespan, me.memory, p.name from alert a\n",
    "        join project p on a.project_id = p.id\n",
    "        join snapshot s on a.last_snapshot_id=s.id\n",
    "        join memory_error me on a.alert_type_id = me.alert_type_id\n",
    "        join actionability ac on ac.alert_id=a.id\n",
    "        where is_invalid=0\n",
    "        and status='Fixed' \n",
    "        and actionability=1'''\n",
    "df=pd.DataFrame(sql.execute(q))\n",
    "ta=df.groupby('name')[['lifespan']].median()\n",
    "ta = ta.rename(columns={'lifespan':'all actionable'})\n",
    "q='''select a.id, datediff(s.date,first_detected) as lifespan, me.memory, p.name from alert a\n",
    "        join project p on a.project_id = p.id\n",
    "        join snapshot s on a.last_snapshot_id=s.id\n",
    "        join memory_error me on a.alert_type_id = me.alert_type_id\n",
    "        join actionability ac on ac.alert_id=a.id\n",
    "        where is_invalid=0\n",
    "        and status='Fixed' \n",
    "        and actionability=1\n",
    "        and me.memory =1 '''\n",
    "df=pd.DataFrame(sql.execute(q))\n",
    "tma=df.groupby('name')[['lifespan']].median()\n",
    "tma = tma.rename(columns={'lifespan':'memory'})\n",
    "q='''select a.id, datediff(s.date,first_detected) as lifespan, me.memory, p.name from alert a\n",
    "        join project p on a.project_id = p.id\n",
    "        join snapshot s on a.last_snapshot_id=s.id\n",
    "        join memory_error me on a.alert_type_id = me.alert_type_id\n",
    "        join actionability ac on ac.alert_id=a.id\n",
    "        where is_invalid=0\n",
    "        and status='Fixed' \n",
    "        and actionability=1\n",
    "        and me.memory is null '''\n",
    "df=pd.DataFrame(sql.execute(q))\n",
    "tnma=df.groupby('name')[['lifespan']].median()\n",
    "tnma = tnma.rename(columns={'lifespan':'non_memory'})\n",
    "df=reduce(lambda x,y : pd.merge(x,y,on='name'),[ta,tma, tnma])\n",
    "df"
   ]
  },
  {
   "cell_type": "code",
   "execution_count": 27,
   "metadata": {},
   "outputs": [
    {
     "output_type": "error",
     "ename": "SyntaxError",
     "evalue": "invalid syntax (<ipython-input-27-2958505cdb31>, line 1)",
     "traceback": [
      "\u001b[0;36m  File \u001b[0;32m\"<ipython-input-27-2958505cdb31>\"\u001b[0;36m, line \u001b[0;32m1\u001b[0m\n\u001b[0;31m    df=reduce(lamdba x,y : pd.merge(x,y,on='name'),[ta,tma, tnma])\u001b[0m\n\u001b[0m                     ^\u001b[0m\n\u001b[0;31mSyntaxError\u001b[0m\u001b[0;31m:\u001b[0m invalid syntax\n"
     ]
    }
   ],
   "source": []
  },
  {
   "cell_type": "code",
   "execution_count": null,
   "metadata": {},
   "outputs": [],
   "source": []
  }
 ],
 "metadata": {
  "language_info": {
   "codemirror_mode": {
    "name": "ipython",
    "version": 3
   },
   "file_extension": ".py",
   "mimetype": "text/x-python",
   "name": "python",
   "nbconvert_exporter": "python",
   "pygments_lexer": "ipython3",
   "version": "3.7.3-final"
  },
  "orig_nbformat": 2,
  "kernelspec": {
   "name": "python3",
   "display_name": "Python 3"
  }
 },
 "nbformat": 4,
 "nbformat_minor": 2
}