{
 "cells": [
  {
   "cell_type": "code",
   "execution_count": 1,
   "metadata": {},
   "outputs": [],
   "source": [
    "import sys\n",
    "sys.path.append('../main')\n",
    "import sql\n",
    "import pandas as pd\n",
    "from functools import reduce\n",
    "from tabulate import tabulate"
   ]
  },
  {
   "cell_type": "code",
   "execution_count": 2,
   "metadata": {},
   "outputs": [
    {
     "output_type": "execute_result",
     "data": {
      "text/plain": [
       "                       actionable\n",
       "name                             \n",
       "!CHAOS Control System       136.5\n",
       "Chromium EC                  93.0\n",
       "Firefox                     124.0\n",
       "Kodi                         62.0\n",
       "LibreOffice                  18.0\n",
       "Linux                       258.0\n",
       "OpenCV                      345.5\n",
       "Samba                        70.0\n",
       "Thunderbird                 915.5\n",
       "VTK                          31.0\n",
       "ovirt-engine                102.0"
      ],
      "text/html": "<div>\n<style scoped>\n    .dataframe tbody tr th:only-of-type {\n        vertical-align: middle;\n    }\n\n    .dataframe tbody tr th {\n        vertical-align: top;\n    }\n\n    .dataframe thead th {\n        text-align: right;\n    }\n</style>\n<table border=\"1\" class=\"dataframe\">\n  <thead>\n    <tr style=\"text-align: right;\">\n      <th></th>\n      <th>actionable</th>\n    </tr>\n    <tr>\n      <th>name</th>\n      <th></th>\n    </tr>\n  </thead>\n  <tbody>\n    <tr>\n      <th>!CHAOS Control System</th>\n      <td>136.5</td>\n    </tr>\n    <tr>\n      <th>Chromium EC</th>\n      <td>93.0</td>\n    </tr>\n    <tr>\n      <th>Firefox</th>\n      <td>124.0</td>\n    </tr>\n    <tr>\n      <th>Kodi</th>\n      <td>62.0</td>\n    </tr>\n    <tr>\n      <th>LibreOffice</th>\n      <td>18.0</td>\n    </tr>\n    <tr>\n      <th>Linux</th>\n      <td>258.0</td>\n    </tr>\n    <tr>\n      <th>OpenCV</th>\n      <td>345.5</td>\n    </tr>\n    <tr>\n      <th>Samba</th>\n      <td>70.0</td>\n    </tr>\n    <tr>\n      <th>Thunderbird</th>\n      <td>915.5</td>\n    </tr>\n    <tr>\n      <th>VTK</th>\n      <td>31.0</td>\n    </tr>\n    <tr>\n      <th>ovirt-engine</th>\n      <td>102.0</td>\n    </tr>\n  </tbody>\n</table>\n</div>"
     },
     "metadata": {},
     "execution_count": 2
    }
   ],
   "source": [
    "q='''select a.id, datediff(s.date,first_detected) as lifespan, me.memory, p.name from alert a\n",
    "        join project p on a.project_id = p.id\n",
    "        join snapshot s on a.last_snapshot_id=s.id\n",
    "        join memory_error me on a.alert_type_id = me.alert_type_id\n",
    "        join actionability ac on ac.alert_id=a.id\n",
    "        where is_invalid=0\n",
    "        and status='Fixed' \n",
    "        and actionability=1'''\n",
    "df=pd.DataFrame(sql.execute(q))\n",
    "ta=df.groupby('name')[['lifespan']].median()\n",
    "ta=ta.rename(columns={'lifespan':'actionable'})\n",
    "ta"
   ]
  },
  {
   "cell_type": "code",
   "execution_count": 3,
   "metadata": {},
   "outputs": [
    {
     "output_type": "execute_result",
     "data": {
      "text/plain": [
       "                       memory\n",
       "name                         \n",
       "!CHAOS Control System      48\n",
       "Chromium EC               247\n",
       "Firefox                    44\n",
       "Kodi                        6\n",
       "LibreOffice                16\n",
       "Linux                     257\n",
       "OpenCV                    342\n",
       "Samba                     143\n",
       "Thunderbird              1591\n",
       "VTK                        24\n",
       "ovirt-engine               77"
      ],
      "text/html": "<div>\n<style scoped>\n    .dataframe tbody tr th:only-of-type {\n        vertical-align: middle;\n    }\n\n    .dataframe tbody tr th {\n        vertical-align: top;\n    }\n\n    .dataframe thead th {\n        text-align: right;\n    }\n</style>\n<table border=\"1\" class=\"dataframe\">\n  <thead>\n    <tr style=\"text-align: right;\">\n      <th></th>\n      <th>memory</th>\n    </tr>\n    <tr>\n      <th>name</th>\n      <th></th>\n    </tr>\n  </thead>\n  <tbody>\n    <tr>\n      <th>!CHAOS Control System</th>\n      <td>48</td>\n    </tr>\n    <tr>\n      <th>Chromium EC</th>\n      <td>247</td>\n    </tr>\n    <tr>\n      <th>Firefox</th>\n      <td>44</td>\n    </tr>\n    <tr>\n      <th>Kodi</th>\n      <td>6</td>\n    </tr>\n    <tr>\n      <th>LibreOffice</th>\n      <td>16</td>\n    </tr>\n    <tr>\n      <th>Linux</th>\n      <td>257</td>\n    </tr>\n    <tr>\n      <th>OpenCV</th>\n      <td>342</td>\n    </tr>\n    <tr>\n      <th>Samba</th>\n      <td>143</td>\n    </tr>\n    <tr>\n      <th>Thunderbird</th>\n      <td>1591</td>\n    </tr>\n    <tr>\n      <th>VTK</th>\n      <td>24</td>\n    </tr>\n    <tr>\n      <th>ovirt-engine</th>\n      <td>77</td>\n    </tr>\n  </tbody>\n</table>\n</div>"
     },
     "metadata": {},
     "execution_count": 3
    }
   ],
   "source": [
    "q='''select a.id, datediff(s.date,first_detected) as lifespan, me.memory, p.name from alert a\n",
    "        join project p on a.project_id = p.id\n",
    "        join snapshot s on a.last_snapshot_id=s.id\n",
    "        join memory_error me on a.alert_type_id = me.alert_type_id\n",
    "        join actionability ac on ac.alert_id=a.id\n",
    "        where is_invalid=0\n",
    "        and status='Fixed' \n",
    "        and actionability=1\n",
    "        and me.memory =1 '''\n",
    "df=pd.DataFrame(sql.execute(q))\n",
    "tma=df.groupby('name')[['lifespan']].median()\n",
    "tma=tma.rename(columns={'lifespan':'memory'})\n",
    "tma"
   ]
  },
  {
   "cell_type": "code",
   "execution_count": 4,
   "metadata": {},
   "outputs": [
    {
     "output_type": "execute_result",
     "data": {
      "text/plain": [
       "                       non_memory\n",
       "name                             \n",
       "!CHAOS Control System         203\n",
       "Chromium EC                    70\n",
       "Firefox                       154\n",
       "Kodi                           82\n",
       "LibreOffice                    18\n",
       "Linux                         258\n",
       "OpenCV                        380\n",
       "Samba                          37\n",
       "Thunderbird                   490\n",
       "VTK                            42\n",
       "ovirt-engine                  119"
      ],
      "text/html": "<div>\n<style scoped>\n    .dataframe tbody tr th:only-of-type {\n        vertical-align: middle;\n    }\n\n    .dataframe tbody tr th {\n        vertical-align: top;\n    }\n\n    .dataframe thead th {\n        text-align: right;\n    }\n</style>\n<table border=\"1\" class=\"dataframe\">\n  <thead>\n    <tr style=\"text-align: right;\">\n      <th></th>\n      <th>non_memory</th>\n    </tr>\n    <tr>\n      <th>name</th>\n      <th></th>\n    </tr>\n  </thead>\n  <tbody>\n    <tr>\n      <th>!CHAOS Control System</th>\n      <td>203</td>\n    </tr>\n    <tr>\n      <th>Chromium EC</th>\n      <td>70</td>\n    </tr>\n    <tr>\n      <th>Firefox</th>\n      <td>154</td>\n    </tr>\n    <tr>\n      <th>Kodi</th>\n      <td>82</td>\n    </tr>\n    <tr>\n      <th>LibreOffice</th>\n      <td>18</td>\n    </tr>\n    <tr>\n      <th>Linux</th>\n      <td>258</td>\n    </tr>\n    <tr>\n      <th>OpenCV</th>\n      <td>380</td>\n    </tr>\n    <tr>\n      <th>Samba</th>\n      <td>37</td>\n    </tr>\n    <tr>\n      <th>Thunderbird</th>\n      <td>490</td>\n    </tr>\n    <tr>\n      <th>VTK</th>\n      <td>42</td>\n    </tr>\n    <tr>\n      <th>ovirt-engine</th>\n      <td>119</td>\n    </tr>\n  </tbody>\n</table>\n</div>"
     },
     "metadata": {},
     "execution_count": 4
    }
   ],
   "source": [
    "q='''select a.id, datediff(s.date,first_detected) as lifespan, me.memory, p.name from alert a\n",
    "        join project p on a.project_id = p.id\n",
    "        join snapshot s on a.last_snapshot_id=s.id\n",
    "        join memory_error me on a.alert_type_id = me.alert_type_id\n",
    "        join actionability ac on ac.alert_id=a.id\n",
    "        where is_invalid=0\n",
    "        and status='Fixed' \n",
    "        and actionability=1\n",
    "        and me.memory is null '''\n",
    "df=pd.DataFrame(sql.execute(q))\n",
    "tnma=df.groupby('name')[['lifespan']].median()\n",
    "tnma=tnma.rename(columns={'lifespan':'non_memory'})\n",
    "tnma"
   ]
  },
  {
   "cell_type": "code",
   "execution_count": 5,
   "metadata": {},
   "outputs": [
    {
     "output_type": "execute_result",
     "data": {
      "text/plain": [
       "                       actionable  memory  non_memory\n",
       "name                                                 \n",
       "!CHAOS Control System       136.5      48         203\n",
       "Chromium EC                  93.0     247          70\n",
       "Firefox                     124.0      44         154\n",
       "Kodi                         62.0       6          82\n",
       "LibreOffice                  18.0      16          18\n",
       "Linux                       258.0     257         258\n",
       "OpenCV                      345.5     342         380\n",
       "Samba                        70.0     143          37\n",
       "Thunderbird                 915.5    1591         490\n",
       "VTK                          31.0      24          42\n",
       "ovirt-engine                102.0      77         119"
      ],
      "text/html": "<div>\n<style scoped>\n    .dataframe tbody tr th:only-of-type {\n        vertical-align: middle;\n    }\n\n    .dataframe tbody tr th {\n        vertical-align: top;\n    }\n\n    .dataframe thead th {\n        text-align: right;\n    }\n</style>\n<table border=\"1\" class=\"dataframe\">\n  <thead>\n    <tr style=\"text-align: right;\">\n      <th></th>\n      <th>actionable</th>\n      <th>memory</th>\n      <th>non_memory</th>\n    </tr>\n    <tr>\n      <th>name</th>\n      <th></th>\n      <th></th>\n      <th></th>\n    </tr>\n  </thead>\n  <tbody>\n    <tr>\n      <th>!CHAOS Control System</th>\n      <td>136.5</td>\n      <td>48</td>\n      <td>203</td>\n    </tr>\n    <tr>\n      <th>Chromium EC</th>\n      <td>93.0</td>\n      <td>247</td>\n      <td>70</td>\n    </tr>\n    <tr>\n      <th>Firefox</th>\n      <td>124.0</td>\n      <td>44</td>\n      <td>154</td>\n    </tr>\n    <tr>\n      <th>Kodi</th>\n      <td>62.0</td>\n      <td>6</td>\n      <td>82</td>\n    </tr>\n    <tr>\n      <th>LibreOffice</th>\n      <td>18.0</td>\n      <td>16</td>\n      <td>18</td>\n    </tr>\n    <tr>\n      <th>Linux</th>\n      <td>258.0</td>\n      <td>257</td>\n      <td>258</td>\n    </tr>\n    <tr>\n      <th>OpenCV</th>\n      <td>345.5</td>\n      <td>342</td>\n      <td>380</td>\n    </tr>\n    <tr>\n      <th>Samba</th>\n      <td>70.0</td>\n      <td>143</td>\n      <td>37</td>\n    </tr>\n    <tr>\n      <th>Thunderbird</th>\n      <td>915.5</td>\n      <td>1591</td>\n      <td>490</td>\n    </tr>\n    <tr>\n      <th>VTK</th>\n      <td>31.0</td>\n      <td>24</td>\n      <td>42</td>\n    </tr>\n    <tr>\n      <th>ovirt-engine</th>\n      <td>102.0</td>\n      <td>77</td>\n      <td>119</td>\n    </tr>\n  </tbody>\n</table>\n</div>"
     },
     "metadata": {},
     "execution_count": 5
    }
   ],
   "source": [
    "df=reduce(lambda x,y : pd.merge(x,y,on='name'),[ta,tma, tnma])\n",
    "df"
   ]
  },
  {
   "cell_type": "code",
   "execution_count": 6,
   "metadata": {
    "tags": []
   },
   "outputs": [
    {
     "output_type": "stream",
     "name": "stdout",
     "text": [
      "\\begin{tabular}{lrrr}\n\\hline\n Project               &   Lifespan of all actionable alerts (days) &   Lifespan of Memory alerts (days) &   Lifespan of Non-memory alerts (days) \\\\\n\\hline\n Thunderbird           &                                      915.5 &                               1591 &                                    490 \\\\\n OpenCV                &                                      345.5 &                                342 &                                    380 \\\\\n Linux                 &                                      258   &                                257 &                                    258 \\\\\n !CHAOS Control System &                                      136.5 &                                 48 &                                    203 \\\\\n Firefox               &                                      124   &                                 44 &                                    154 \\\\\n ovirt-engine          &                                      102   &                                 77 &                                    119 \\\\\n Chromium EC           &                                       93   &                                247 &                                     70 \\\\\n Samba                 &                                       70   &                                143 &                                     37 \\\\\n Kodi                  &                                       62   &                                  6 &                                     82 \\\\\n VTK                   &                                       31   &                                 24 &                                     42 \\\\\n LibreOffice           &                                       18   &                                 16 &                                     18 \\\\\n\\hline\n\\end{tabular}\n"
     ]
    }
   ],
   "source": [
    "df=df.reset_index()\n",
    "df=df.sort_values('actionable',ascending=False)\n",
    "df=df.rename(columns={'name':'Project', 'actionable':'Lifespan of all actionable alerts (days)',\n",
    "'memory': 'Lifespan of Memory alerts (days)','non_memory': 'Lifespan of Non-memory alerts (days)'})\n",
    "print(tabulate(df, tablefmt='latex',showindex=False, headers='keys'))"
   ]
  },
  {
   "cell_type": "code",
   "execution_count": 7,
   "metadata": {},
   "outputs": [
    {
     "output_type": "error",
     "ename": "KeyError",
     "evalue": "'memory'",
     "traceback": [
      "\u001b[0;31m---------------------------------------------------------------------------\u001b[0m",
      "\u001b[0;31mKeyError\u001b[0m                                  Traceback (most recent call last)",
      "\u001b[0;32m~/.local/share/virtualenvs/advisory-lifecycle-RDwwAgfI/lib/python3.9/site-packages/pandas/core/indexes/base.py\u001b[0m in \u001b[0;36mget_loc\u001b[0;34m(self, key, method, tolerance)\u001b[0m\n\u001b[1;32m   3079\u001b[0m             \u001b[0;32mtry\u001b[0m\u001b[0;34m:\u001b[0m\u001b[0;34m\u001b[0m\u001b[0;34m\u001b[0m\u001b[0m\n\u001b[0;32m-> 3080\u001b[0;31m                 \u001b[0;32mreturn\u001b[0m \u001b[0mself\u001b[0m\u001b[0;34m.\u001b[0m\u001b[0m_engine\u001b[0m\u001b[0;34m.\u001b[0m\u001b[0mget_loc\u001b[0m\u001b[0;34m(\u001b[0m\u001b[0mcasted_key\u001b[0m\u001b[0;34m)\u001b[0m\u001b[0;34m\u001b[0m\u001b[0;34m\u001b[0m\u001b[0m\n\u001b[0m\u001b[1;32m   3081\u001b[0m             \u001b[0;32mexcept\u001b[0m \u001b[0mKeyError\u001b[0m \u001b[0;32mas\u001b[0m \u001b[0merr\u001b[0m\u001b[0;34m:\u001b[0m\u001b[0;34m\u001b[0m\u001b[0;34m\u001b[0m\u001b[0m\n",
      "\u001b[0;32mpandas/_libs/index.pyx\u001b[0m in \u001b[0;36mpandas._libs.index.IndexEngine.get_loc\u001b[0;34m()\u001b[0m\n",
      "\u001b[0;32mpandas/_libs/index.pyx\u001b[0m in \u001b[0;36mpandas._libs.index.IndexEngine.get_loc\u001b[0;34m()\u001b[0m\n",
      "\u001b[0;32mpandas/_libs/hashtable_class_helper.pxi\u001b[0m in \u001b[0;36mpandas._libs.hashtable.PyObjectHashTable.get_item\u001b[0;34m()\u001b[0m\n",
      "\u001b[0;32mpandas/_libs/hashtable_class_helper.pxi\u001b[0m in \u001b[0;36mpandas._libs.hashtable.PyObjectHashTable.get_item\u001b[0;34m()\u001b[0m\n",
      "\u001b[0;31mKeyError\u001b[0m: 'memory'",
      "\nThe above exception was the direct cause of the following exception:\n",
      "\u001b[0;31mKeyError\u001b[0m                                  Traceback (most recent call last)",
      "\u001b[0;32m<ipython-input-7-0dc508453888>\u001b[0m in \u001b[0;36m<module>\u001b[0;34m\u001b[0m\n\u001b[1;32m      1\u001b[0m \u001b[0;32mfrom\u001b[0m \u001b[0mscipy\u001b[0m\u001b[0;34m.\u001b[0m\u001b[0mstats\u001b[0m \u001b[0;32mimport\u001b[0m \u001b[0mmannwhitneyu\u001b[0m\u001b[0;34m\u001b[0m\u001b[0;34m\u001b[0m\u001b[0m\n\u001b[0;32m----> 2\u001b[0;31m \u001b[0mstat\u001b[0m\u001b[0;34m,\u001b[0m \u001b[0mp\u001b[0m\u001b[0;34m=\u001b[0m \u001b[0mmannwhitneyu\u001b[0m\u001b[0;34m(\u001b[0m\u001b[0mdf\u001b[0m\u001b[0;34m[\u001b[0m\u001b[0;34m'memory'\u001b[0m\u001b[0;34m]\u001b[0m\u001b[0;34m,\u001b[0m \u001b[0mdf\u001b[0m\u001b[0;34m[\u001b[0m\u001b[0;34m'non_memory'\u001b[0m\u001b[0;34m]\u001b[0m\u001b[0;34m)\u001b[0m\u001b[0;34m\u001b[0m\u001b[0;34m\u001b[0m\u001b[0m\n\u001b[0m\u001b[1;32m      3\u001b[0m \u001b[0mstat\u001b[0m\u001b[0;34m,\u001b[0m \u001b[0mp\u001b[0m\u001b[0;34m,\u001b[0m \u001b[0mdf\u001b[0m\u001b[0;34m[\u001b[0m\u001b[0;34m'memory'\u001b[0m\u001b[0;34m]\u001b[0m\u001b[0;34m.\u001b[0m\u001b[0mmedian\u001b[0m\u001b[0;34m(\u001b[0m\u001b[0;34m)\u001b[0m\u001b[0;34m,\u001b[0m \u001b[0mdf\u001b[0m\u001b[0;34m[\u001b[0m\u001b[0;34m'non_memory'\u001b[0m\u001b[0;34m]\u001b[0m\u001b[0;34m.\u001b[0m\u001b[0mmedian\u001b[0m\u001b[0;34m(\u001b[0m\u001b[0;34m)\u001b[0m\u001b[0;34m\u001b[0m\u001b[0;34m\u001b[0m\u001b[0m\n",
      "\u001b[0;32m~/.local/share/virtualenvs/advisory-lifecycle-RDwwAgfI/lib/python3.9/site-packages/pandas/core/frame.py\u001b[0m in \u001b[0;36m__getitem__\u001b[0;34m(self, key)\u001b[0m\n\u001b[1;32m   3022\u001b[0m             \u001b[0;32mif\u001b[0m \u001b[0mself\u001b[0m\u001b[0;34m.\u001b[0m\u001b[0mcolumns\u001b[0m\u001b[0;34m.\u001b[0m\u001b[0mnlevels\u001b[0m \u001b[0;34m>\u001b[0m \u001b[0;36m1\u001b[0m\u001b[0;34m:\u001b[0m\u001b[0;34m\u001b[0m\u001b[0;34m\u001b[0m\u001b[0m\n\u001b[1;32m   3023\u001b[0m                 \u001b[0;32mreturn\u001b[0m \u001b[0mself\u001b[0m\u001b[0;34m.\u001b[0m\u001b[0m_getitem_multilevel\u001b[0m\u001b[0;34m(\u001b[0m\u001b[0mkey\u001b[0m\u001b[0;34m)\u001b[0m\u001b[0;34m\u001b[0m\u001b[0;34m\u001b[0m\u001b[0m\n\u001b[0;32m-> 3024\u001b[0;31m             \u001b[0mindexer\u001b[0m \u001b[0;34m=\u001b[0m \u001b[0mself\u001b[0m\u001b[0;34m.\u001b[0m\u001b[0mcolumns\u001b[0m\u001b[0;34m.\u001b[0m\u001b[0mget_loc\u001b[0m\u001b[0;34m(\u001b[0m\u001b[0mkey\u001b[0m\u001b[0;34m)\u001b[0m\u001b[0;34m\u001b[0m\u001b[0;34m\u001b[0m\u001b[0m\n\u001b[0m\u001b[1;32m   3025\u001b[0m             \u001b[0;32mif\u001b[0m \u001b[0mis_integer\u001b[0m\u001b[0;34m(\u001b[0m\u001b[0mindexer\u001b[0m\u001b[0;34m)\u001b[0m\u001b[0;34m:\u001b[0m\u001b[0;34m\u001b[0m\u001b[0;34m\u001b[0m\u001b[0m\n\u001b[1;32m   3026\u001b[0m                 \u001b[0mindexer\u001b[0m \u001b[0;34m=\u001b[0m \u001b[0;34m[\u001b[0m\u001b[0mindexer\u001b[0m\u001b[0;34m]\u001b[0m\u001b[0;34m\u001b[0m\u001b[0;34m\u001b[0m\u001b[0m\n",
      "\u001b[0;32m~/.local/share/virtualenvs/advisory-lifecycle-RDwwAgfI/lib/python3.9/site-packages/pandas/core/indexes/base.py\u001b[0m in \u001b[0;36mget_loc\u001b[0;34m(self, key, method, tolerance)\u001b[0m\n\u001b[1;32m   3080\u001b[0m                 \u001b[0;32mreturn\u001b[0m \u001b[0mself\u001b[0m\u001b[0;34m.\u001b[0m\u001b[0m_engine\u001b[0m\u001b[0;34m.\u001b[0m\u001b[0mget_loc\u001b[0m\u001b[0;34m(\u001b[0m\u001b[0mcasted_key\u001b[0m\u001b[0;34m)\u001b[0m\u001b[0;34m\u001b[0m\u001b[0;34m\u001b[0m\u001b[0m\n\u001b[1;32m   3081\u001b[0m             \u001b[0;32mexcept\u001b[0m \u001b[0mKeyError\u001b[0m \u001b[0;32mas\u001b[0m \u001b[0merr\u001b[0m\u001b[0;34m:\u001b[0m\u001b[0;34m\u001b[0m\u001b[0;34m\u001b[0m\u001b[0m\n\u001b[0;32m-> 3082\u001b[0;31m                 \u001b[0;32mraise\u001b[0m \u001b[0mKeyError\u001b[0m\u001b[0;34m(\u001b[0m\u001b[0mkey\u001b[0m\u001b[0;34m)\u001b[0m \u001b[0;32mfrom\u001b[0m \u001b[0merr\u001b[0m\u001b[0;34m\u001b[0m\u001b[0;34m\u001b[0m\u001b[0m\n\u001b[0m\u001b[1;32m   3083\u001b[0m \u001b[0;34m\u001b[0m\u001b[0m\n\u001b[1;32m   3084\u001b[0m         \u001b[0;32mif\u001b[0m \u001b[0mtolerance\u001b[0m \u001b[0;32mis\u001b[0m \u001b[0;32mnot\u001b[0m \u001b[0;32mNone\u001b[0m\u001b[0;34m:\u001b[0m\u001b[0;34m\u001b[0m\u001b[0;34m\u001b[0m\u001b[0m\n",
      "\u001b[0;31mKeyError\u001b[0m: 'memory'"
     ]
    }
   ],
   "source": [
    "from scipy.stats import mannwhitneyu\n",
    "stat, p= mannwhitneyu(df['memory'], df['non_memory'])\n",
    "stat, p, df['memory'].median(), df['non_memory'].median()"
   ]
  },
  {
   "cell_type": "code",
   "execution_count": 40,
   "metadata": {},
   "outputs": [
    {
     "output_type": "execute_result",
     "data": {
      "text/plain": [
       "              marked_bug  memory  non_memory\n",
       "name                                        \n",
       "Chromium EC          377   429.0       367.0\n",
       "Firefox               64    63.0        71.5\n",
       "Kodi                   2     2.0         2.0\n",
       "LibreOffice           15    21.0         6.0\n",
       "Linux                190   134.0       252.0\n",
       "OpenCV                 5   850.5         5.0\n",
       "Samba                665   665.0       911.0\n",
       "Thunderbird         1385  1779.0       970.0\n",
       "VTK                   24    24.0        30.0\n",
       "ovirt-engine          46    39.5        49.5"
      ],
      "text/html": "<div>\n<style scoped>\n    .dataframe tbody tr th:only-of-type {\n        vertical-align: middle;\n    }\n\n    .dataframe tbody tr th {\n        vertical-align: top;\n    }\n\n    .dataframe thead th {\n        text-align: right;\n    }\n</style>\n<table border=\"1\" class=\"dataframe\">\n  <thead>\n    <tr style=\"text-align: right;\">\n      <th></th>\n      <th>marked_bug</th>\n      <th>memory</th>\n      <th>non_memory</th>\n    </tr>\n    <tr>\n      <th>name</th>\n      <th></th>\n      <th></th>\n      <th></th>\n    </tr>\n  </thead>\n  <tbody>\n    <tr>\n      <th>Chromium EC</th>\n      <td>377</td>\n      <td>429.0</td>\n      <td>367.0</td>\n    </tr>\n    <tr>\n      <th>Firefox</th>\n      <td>64</td>\n      <td>63.0</td>\n      <td>71.5</td>\n    </tr>\n    <tr>\n      <th>Kodi</th>\n      <td>2</td>\n      <td>2.0</td>\n      <td>2.0</td>\n    </tr>\n    <tr>\n      <th>LibreOffice</th>\n      <td>15</td>\n      <td>21.0</td>\n      <td>6.0</td>\n    </tr>\n    <tr>\n      <th>Linux</th>\n      <td>190</td>\n      <td>134.0</td>\n      <td>252.0</td>\n    </tr>\n    <tr>\n      <th>OpenCV</th>\n      <td>5</td>\n      <td>850.5</td>\n      <td>5.0</td>\n    </tr>\n    <tr>\n      <th>Samba</th>\n      <td>665</td>\n      <td>665.0</td>\n      <td>911.0</td>\n    </tr>\n    <tr>\n      <th>Thunderbird</th>\n      <td>1385</td>\n      <td>1779.0</td>\n      <td>970.0</td>\n    </tr>\n    <tr>\n      <th>VTK</th>\n      <td>24</td>\n      <td>24.0</td>\n      <td>30.0</td>\n    </tr>\n    <tr>\n      <th>ovirt-engine</th>\n      <td>46</td>\n      <td>39.5</td>\n      <td>49.5</td>\n    </tr>\n  </tbody>\n</table>\n</div>"
     },
     "metadata": {},
     "execution_count": 40
    }
   ],
   "source": [
    "q='''select a.id, datediff(s.date,first_detected) as lifespan, me.memory, p.name from alert a\n",
    "        join project p on a.project_id = p.id\n",
    "        join snapshot s on a.last_snapshot_id=s.id\n",
    "        join memory_error me on a.alert_type_id = me.alert_type_id\n",
    "        join actionability ac on ac.alert_id=a.id\n",
    "        where is_invalid=0\n",
    "        and status='Fixed' \n",
    "        and classification='Bug' '''\n",
    "df=pd.DataFrame(sql.execute(q))\n",
    "ta=df.groupby('name')[['lifespan']].median()\n",
    "ta=ta.rename(columns={'lifespan':'marked_bug'})\n",
    "q='''select a.id, datediff(s.date,first_detected) as lifespan, me.memory, p.name from alert a\n",
    "        join project p on a.project_id = p.id\n",
    "        join snapshot s on a.last_snapshot_id=s.id\n",
    "        join memory_error me on a.alert_type_id = me.alert_type_id\n",
    "        join actionability ac on ac.alert_id=a.id\n",
    "        where is_invalid=0\n",
    "        and status='Fixed' \n",
    "        and classification='Bug' \n",
    "        and me.memory =1 '''\n",
    "df=pd.DataFrame(sql.execute(q))\n",
    "tma=df.groupby('name')[['lifespan']].median()\n",
    "tma=tma.rename(columns={'lifespan':'memory'})\n",
    "q='''select a.id, datediff(s.date,first_detected) as lifespan, me.memory, p.name from alert a\n",
    "        join project p on a.project_id = p.id\n",
    "        join snapshot s on a.last_snapshot_id=s.id\n",
    "        join memory_error me on a.alert_type_id = me.alert_type_id\n",
    "        join actionability ac on ac.alert_id=a.id\n",
    "        where is_invalid=0\n",
    "        and status='Fixed' \n",
    "        and classification='Bug' \n",
    "        and me.memory is null '''\n",
    "df=pd.DataFrame(sql.execute(q))\n",
    "tnma=df.groupby('name')[['lifespan']].median()\n",
    "tnma=tnma.rename(columns={'lifespan':'non_memory'})\n",
    "df=reduce(lambda x,y : pd.merge(x,y,on='name'),[ta,tma, tnma])\n",
    "df"
   ]
  },
  {
   "cell_type": "code",
   "execution_count": 41,
   "metadata": {},
   "outputs": [
    {
     "output_type": "execute_result",
     "data": {
      "text/plain": [
       "(44.5, 0.35267568603175237, 98.5, 60.5)"
      ]
     },
     "metadata": {},
     "execution_count": 41
    }
   ],
   "source": [
    "from scipy.stats import mannwhitneyu\n",
    "stat, p= mannwhitneyu(df['memory'], df['non_memory'])\n",
    "stat, p, df['memory'].median(), df['non_memory'].median()"
   ]
  },
  {
   "cell_type": "code",
   "execution_count": 42,
   "metadata": {
    "tags": []
   },
   "outputs": [
    {
     "output_type": "stream",
     "name": "stdout",
     "text": [
      "\\begin{tabular}{lrrr}\n\\hline\n Project      &   Lifespan of alerts marked as bug (days) &   Lifespan of Memory alerts (days) &   Lifespan of Non-memory alerts (days) \\\\\n\\hline\n Thunderbird  &                                      1385 &                             1779   &                                  970   \\\\\n Samba        &                                       665 &                              665   &                                  911   \\\\\n Chromium EC  &                                       377 &                              429   &                                  367   \\\\\n Linux        &                                       190 &                              134   &                                  252   \\\\\n Firefox      &                                        64 &                               63   &                                   71.5 \\\\\n ovirt-engine &                                        46 &                               39.5 &                                   49.5 \\\\\n VTK          &                                        24 &                               24   &                                   30   \\\\\n LibreOffice  &                                        15 &                               21   &                                    6   \\\\\n OpenCV       &                                         5 &                              850.5 &                                    5   \\\\\n Kodi         &                                         2 &                                2   &                                    2   \\\\\n\\hline\n\\end{tabular}\n"
     ]
    }
   ],
   "source": [
    "df=df.reset_index()\n",
    "df=df.sort_values('marked_bug',ascending=False)\n",
    "df=df.rename(columns={'name':'Project', 'marked_bug':'Lifespan of alerts marked as bug (days)',\n",
    "'memory': 'Lifespan of Memory alerts (days)','non_memory': 'Lifespan of Non-memory alerts (days)'})\n",
    "print(tabulate(df, tablefmt='latex',showindex=False, headers='keys'))"
   ]
  },
  {
   "cell_type": "code",
   "execution_count": null,
   "metadata": {},
   "outputs": [],
   "source": []
  }
 ],
 "metadata": {
  "language_info": {
   "codemirror_mode": {
    "name": "ipython",
    "version": 3
   },
   "file_extension": ".py",
   "mimetype": "text/x-python",
   "name": "python",
   "nbconvert_exporter": "python",
   "pygments_lexer": "ipython3",
   "version": "3.9.2-final"
  },
  "orig_nbformat": 2,
  "kernelspec": {
   "name": "python392jvsc74a57bd045e6bb90db539892217150e51eb80500a9bf028439c0d739bd24c7b8d42327c6",
   "display_name": "Python 3.9.2 64-bit ('advisory-lifecycle': pipenv)",
   "language": "python"
  }
 },
 "nbformat": 4,
 "nbformat_minor": 2
}