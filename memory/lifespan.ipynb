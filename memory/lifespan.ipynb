{
 "cells": [
  {
   "cell_type": "code",
   "execution_count": 64,
   "metadata": {},
   "outputs": [],
   "source": [
    "import sys\n",
    "sys.path.append('../main')\n",
    "import sql\n",
    "import pandas as pd\n",
    "from functools import reduce\n",
    "from tabulate import tabulate"
   ]
  },
  {
   "cell_type": "code",
   "execution_count": 65,
   "metadata": {},
   "outputs": [
    {
     "output_type": "execute_result",
     "data": {
      "text/plain": "                       actionable\nname                             \n!CHAOS Control System       136.5\nChromium EC                  93.0\nFirefox                     124.0\nKodi                         62.0\nLibreOffice                  18.0\nLinux                       258.0\nOpenCV                      345.5\nSamba                        70.0\nThunderbird                 915.5\nVTK                          31.0\novirt-engine                102.0",
      "text/html": "<div>\n<style scoped>\n    .dataframe tbody tr th:only-of-type {\n        vertical-align: middle;\n    }\n\n    .dataframe tbody tr th {\n        vertical-align: top;\n    }\n\n    .dataframe thead th {\n        text-align: right;\n    }\n</style>\n<table border=\"1\" class=\"dataframe\">\n  <thead>\n    <tr style=\"text-align: right;\">\n      <th></th>\n      <th>actionable</th>\n    </tr>\n    <tr>\n      <th>name</th>\n      <th></th>\n    </tr>\n  </thead>\n  <tbody>\n    <tr>\n      <th>!CHAOS Control System</th>\n      <td>136.5</td>\n    </tr>\n    <tr>\n      <th>Chromium EC</th>\n      <td>93.0</td>\n    </tr>\n    <tr>\n      <th>Firefox</th>\n      <td>124.0</td>\n    </tr>\n    <tr>\n      <th>Kodi</th>\n      <td>62.0</td>\n    </tr>\n    <tr>\n      <th>LibreOffice</th>\n      <td>18.0</td>\n    </tr>\n    <tr>\n      <th>Linux</th>\n      <td>258.0</td>\n    </tr>\n    <tr>\n      <th>OpenCV</th>\n      <td>345.5</td>\n    </tr>\n    <tr>\n      <th>Samba</th>\n      <td>70.0</td>\n    </tr>\n    <tr>\n      <th>Thunderbird</th>\n      <td>915.5</td>\n    </tr>\n    <tr>\n      <th>VTK</th>\n      <td>31.0</td>\n    </tr>\n    <tr>\n      <th>ovirt-engine</th>\n      <td>102.0</td>\n    </tr>\n  </tbody>\n</table>\n</div>"
     },
     "metadata": {},
     "execution_count": 65
    }
   ],
   "source": [
    "q='''select a.id, datediff(s.date,first_detected) as lifespan, me.memory, p.name from alert a\n",
    "        join project p on a.project_id = p.id\n",
    "        join snapshot s on a.last_snapshot_id=s.id\n",
    "        join memory_error me on a.alert_type_id = me.alert_type_id\n",
    "        join actionability ac on ac.alert_id=a.id\n",
    "        where is_invalid=0\n",
    "        and status='Fixed' \n",
    "        and actionability=1'''\n",
    "df=pd.DataFrame(sql.execute(q))\n",
    "ta=df.groupby('name')[['lifespan']].median()\n",
    "ta=ta.rename(columns={'lifespan':'actionable'})\n",
    "ta"
   ]
  },
  {
   "cell_type": "code",
   "execution_count": 66,
   "metadata": {},
   "outputs": [
    {
     "output_type": "execute_result",
     "data": {
      "text/plain": "                       memory\nname                         \n!CHAOS Control System      48\nChromium EC               247\nFirefox                    44\nKodi                        6\nLibreOffice                16\nLinux                     257\nOpenCV                    342\nSamba                     143\nThunderbird              1591\nVTK                        24\novirt-engine               77",
      "text/html": "<div>\n<style scoped>\n    .dataframe tbody tr th:only-of-type {\n        vertical-align: middle;\n    }\n\n    .dataframe tbody tr th {\n        vertical-align: top;\n    }\n\n    .dataframe thead th {\n        text-align: right;\n    }\n</style>\n<table border=\"1\" class=\"dataframe\">\n  <thead>\n    <tr style=\"text-align: right;\">\n      <th></th>\n      <th>memory</th>\n    </tr>\n    <tr>\n      <th>name</th>\n      <th></th>\n    </tr>\n  </thead>\n  <tbody>\n    <tr>\n      <th>!CHAOS Control System</th>\n      <td>48</td>\n    </tr>\n    <tr>\n      <th>Chromium EC</th>\n      <td>247</td>\n    </tr>\n    <tr>\n      <th>Firefox</th>\n      <td>44</td>\n    </tr>\n    <tr>\n      <th>Kodi</th>\n      <td>6</td>\n    </tr>\n    <tr>\n      <th>LibreOffice</th>\n      <td>16</td>\n    </tr>\n    <tr>\n      <th>Linux</th>\n      <td>257</td>\n    </tr>\n    <tr>\n      <th>OpenCV</th>\n      <td>342</td>\n    </tr>\n    <tr>\n      <th>Samba</th>\n      <td>143</td>\n    </tr>\n    <tr>\n      <th>Thunderbird</th>\n      <td>1591</td>\n    </tr>\n    <tr>\n      <th>VTK</th>\n      <td>24</td>\n    </tr>\n    <tr>\n      <th>ovirt-engine</th>\n      <td>77</td>\n    </tr>\n  </tbody>\n</table>\n</div>"
     },
     "metadata": {},
     "execution_count": 66
    }
   ],
   "source": [
    "q='''select a.id, datediff(s.date,first_detected) as lifespan, me.memory, p.name from alert a\n",
    "        join project p on a.project_id = p.id\n",
    "        join snapshot s on a.last_snapshot_id=s.id\n",
    "        join memory_error me on a.alert_type_id = me.alert_type_id\n",
    "        join actionability ac on ac.alert_id=a.id\n",
    "        where is_invalid=0\n",
    "        and status='Fixed' \n",
    "        and actionability=1\n",
    "        and me.memory =1 '''\n",
    "df=pd.DataFrame(sql.execute(q))\n",
    "tma=df.groupby('name')[['lifespan']].median()\n",
    "tma=tma.rename(columns={'lifespan':'memory'})\n",
    "tma"
   ]
  },
  {
   "cell_type": "code",
   "execution_count": 67,
   "metadata": {},
   "outputs": [
    {
     "output_type": "execute_result",
     "data": {
      "text/plain": "                       non_memory\nname                             \n!CHAOS Control System         203\nChromium EC                    70\nFirefox                       154\nKodi                           82\nLibreOffice                    18\nLinux                         258\nOpenCV                        380\nSamba                          37\nThunderbird                   490\nVTK                            42\novirt-engine                  119",
      "text/html": "<div>\n<style scoped>\n    .dataframe tbody tr th:only-of-type {\n        vertical-align: middle;\n    }\n\n    .dataframe tbody tr th {\n        vertical-align: top;\n    }\n\n    .dataframe thead th {\n        text-align: right;\n    }\n</style>\n<table border=\"1\" class=\"dataframe\">\n  <thead>\n    <tr style=\"text-align: right;\">\n      <th></th>\n      <th>non_memory</th>\n    </tr>\n    <tr>\n      <th>name</th>\n      <th></th>\n    </tr>\n  </thead>\n  <tbody>\n    <tr>\n      <th>!CHAOS Control System</th>\n      <td>203</td>\n    </tr>\n    <tr>\n      <th>Chromium EC</th>\n      <td>70</td>\n    </tr>\n    <tr>\n      <th>Firefox</th>\n      <td>154</td>\n    </tr>\n    <tr>\n      <th>Kodi</th>\n      <td>82</td>\n    </tr>\n    <tr>\n      <th>LibreOffice</th>\n      <td>18</td>\n    </tr>\n    <tr>\n      <th>Linux</th>\n      <td>258</td>\n    </tr>\n    <tr>\n      <th>OpenCV</th>\n      <td>380</td>\n    </tr>\n    <tr>\n      <th>Samba</th>\n      <td>37</td>\n    </tr>\n    <tr>\n      <th>Thunderbird</th>\n      <td>490</td>\n    </tr>\n    <tr>\n      <th>VTK</th>\n      <td>42</td>\n    </tr>\n    <tr>\n      <th>ovirt-engine</th>\n      <td>119</td>\n    </tr>\n  </tbody>\n</table>\n</div>"
     },
     "metadata": {},
     "execution_count": 67
    }
   ],
   "source": [
    "q='''select a.id, datediff(s.date,first_detected) as lifespan, me.memory, p.name from alert a\n",
    "        join project p on a.project_id = p.id\n",
    "        join snapshot s on a.last_snapshot_id=s.id\n",
    "        join memory_error me on a.alert_type_id = me.alert_type_id\n",
    "        join actionability ac on ac.alert_id=a.id\n",
    "        where is_invalid=0\n",
    "        and status='Fixed' \n",
    "        and actionability=1\n",
    "        and me.memory is null '''\n",
    "df=pd.DataFrame(sql.execute(q))\n",
    "tnma=df.groupby('name')[['lifespan']].median()\n",
    "tnma=tnma.rename(columns={'lifespan':'non_memory'})\n",
    "tnma"
   ]
  },
  {
   "cell_type": "code",
   "execution_count": 68,
   "metadata": {},
   "outputs": [],
   "source": [
    "df=reduce(lambda x,y : pd.merge(x,y,on='name'),[ta,tma, tnma])"
   ]
  },
  {
   "cell_type": "code",
   "execution_count": 69,
   "metadata": {
    "tags": []
   },
   "outputs": [],
   "source": [
    "# df=df.reset_index()\n",
    "# df=df.sort_values('actionable',ascending=False)\n",
    "# df=df.rename(columns={'name':'Project', 'actionable':'Lifespan of all actionable alerts (days)',\n",
    "# 'memory': 'Lifespan of Memory alerts (days)','non_memory': 'Lifespan of Non-memory alerts (days)'})\n",
    "# print(tabulate(df, tablefmt='pipe',showindex=False, headers='keys'))"
   ]
  },
  {
   "cell_type": "code",
   "execution_count": 70,
   "metadata": {},
   "outputs": [
    {
     "output_type": "execute_result",
     "data": {
      "text/plain": "(53.0, 0.32288191015248613, 77.0, 119.0)"
     },
     "metadata": {},
     "execution_count": 70
    }
   ],
   "source": [
    "from scipy.stats import mannwhitneyu\n",
    "stat, p= mannwhitneyu(df['memory'], df['non_memory'])\n",
    "stat, p, df['memory'].median(), df['non_memory'].median()"
   ]
  },
  {
   "cell_type": "code",
   "execution_count": 71,
   "metadata": {},
   "outputs": [
    {
     "output_type": "execute_result",
     "data": {
      "text/plain": "              marked_bug  memory  non_memory\nname                                        \nChromium EC          377   429.0       367.0\nFirefox               64    63.0        71.5\nKodi                   2     2.0         2.0\nLibreOffice           15    21.0         6.0\nLinux                190   134.0       252.0\nOpenCV                 5   850.5         5.0\nSamba                665   665.0       911.0\nThunderbird         1385  1779.0       970.0\nVTK                   24    24.0        30.0\novirt-engine          46    39.5        49.5",
      "text/html": "<div>\n<style scoped>\n    .dataframe tbody tr th:only-of-type {\n        vertical-align: middle;\n    }\n\n    .dataframe tbody tr th {\n        vertical-align: top;\n    }\n\n    .dataframe thead th {\n        text-align: right;\n    }\n</style>\n<table border=\"1\" class=\"dataframe\">\n  <thead>\n    <tr style=\"text-align: right;\">\n      <th></th>\n      <th>marked_bug</th>\n      <th>memory</th>\n      <th>non_memory</th>\n    </tr>\n    <tr>\n      <th>name</th>\n      <th></th>\n      <th></th>\n      <th></th>\n    </tr>\n  </thead>\n  <tbody>\n    <tr>\n      <th>Chromium EC</th>\n      <td>377</td>\n      <td>429.0</td>\n      <td>367.0</td>\n    </tr>\n    <tr>\n      <th>Firefox</th>\n      <td>64</td>\n      <td>63.0</td>\n      <td>71.5</td>\n    </tr>\n    <tr>\n      <th>Kodi</th>\n      <td>2</td>\n      <td>2.0</td>\n      <td>2.0</td>\n    </tr>\n    <tr>\n      <th>LibreOffice</th>\n      <td>15</td>\n      <td>21.0</td>\n      <td>6.0</td>\n    </tr>\n    <tr>\n      <th>Linux</th>\n      <td>190</td>\n      <td>134.0</td>\n      <td>252.0</td>\n    </tr>\n    <tr>\n      <th>OpenCV</th>\n      <td>5</td>\n      <td>850.5</td>\n      <td>5.0</td>\n    </tr>\n    <tr>\n      <th>Samba</th>\n      <td>665</td>\n      <td>665.0</td>\n      <td>911.0</td>\n    </tr>\n    <tr>\n      <th>Thunderbird</th>\n      <td>1385</td>\n      <td>1779.0</td>\n      <td>970.0</td>\n    </tr>\n    <tr>\n      <th>VTK</th>\n      <td>24</td>\n      <td>24.0</td>\n      <td>30.0</td>\n    </tr>\n    <tr>\n      <th>ovirt-engine</th>\n      <td>46</td>\n      <td>39.5</td>\n      <td>49.5</td>\n    </tr>\n  </tbody>\n</table>\n</div>"
     },
     "metadata": {},
     "execution_count": 71
    }
   ],
   "source": [
    "q='''select a.id, datediff(s.date,first_detected) as lifespan, me.memory, p.name from alert a\n",
    "        join project p on a.project_id = p.id\n",
    "        join snapshot s on a.last_snapshot_id=s.id\n",
    "        join memory_error me on a.alert_type_id = me.alert_type_id\n",
    "        join actionability ac on ac.alert_id=a.id\n",
    "        where is_invalid=0\n",
    "        and status='Fixed' \n",
    "        and classification='Bug' '''\n",
    "df=pd.DataFrame(sql.execute(q))\n",
    "ta=df.groupby('name')[['lifespan']].median()\n",
    "ta=ta.rename(columns={'lifespan':'marked_bug'})\n",
    "q='''select a.id, datediff(s.date,first_detected) as lifespan, me.memory, p.name from alert a\n",
    "        join project p on a.project_id = p.id\n",
    "        join snapshot s on a.last_snapshot_id=s.id\n",
    "        join memory_error me on a.alert_type_id = me.alert_type_id\n",
    "        join actionability ac on ac.alert_id=a.id\n",
    "        where is_invalid=0\n",
    "        and status='Fixed' \n",
    "        and classification='Bug' \n",
    "        and me.memory =1 '''\n",
    "df=pd.DataFrame(sql.execute(q))\n",
    "tma=df.groupby('name')[['lifespan']].median()\n",
    "tma=tma.rename(columns={'lifespan':'memory'})\n",
    "q='''select a.id, datediff(s.date,first_detected) as lifespan, me.memory, p.name from alert a\n",
    "        join project p on a.project_id = p.id\n",
    "        join snapshot s on a.last_snapshot_id=s.id\n",
    "        join memory_error me on a.alert_type_id = me.alert_type_id\n",
    "        join actionability ac on ac.alert_id=a.id\n",
    "        where is_invalid=0\n",
    "        and status='Fixed' \n",
    "        and classification='Bug' \n",
    "        and me.memory is null '''\n",
    "df=pd.DataFrame(sql.execute(q))\n",
    "tnma=df.groupby('name')[['lifespan']].median()\n",
    "tnma=tnma.rename(columns={'lifespan':'non_memory'})\n",
    "df=reduce(lambda x,y : pd.merge(x,y,on='name'),[ta,tma, tnma])\n",
    "df"
   ]
  },
  {
   "cell_type": "code",
   "execution_count": 73,
   "metadata": {
    "tags": []
   },
   "outputs": [
    {
     "output_type": "stream",
     "name": "stdout",
     "text": "| Project      |   Lifespan of alerts marked as bug (days) |   Lifespan of Memory alerts (days) |   Lifespan of Non-memory alerts (days) |\n|:-------------|------------------------------------------:|-----------------------------------:|---------------------------------------:|\n| Thunderbird  |                                      1385 |                             1779   |                                  970   |\n| Samba        |                                       665 |                              665   |                                  911   |\n| Chromium EC  |                                       377 |                              429   |                                  367   |\n| Linux        |                                       190 |                              134   |                                  252   |\n| Firefox      |                                        64 |                               63   |                                   71.5 |\n| ovirt-engine |                                        46 |                               39.5 |                                   49.5 |\n| VTK          |                                        24 |                               24   |                                   30   |\n| LibreOffice  |                                        15 |                               21   |                                    6   |\n| OpenCV       |                                         5 |                              850.5 |                                    5   |\n| Kodi         |                                         2 |                                2   |                                    2   |\n"
    }
   ],
   "source": [
    "df=df.reset_index()\n",
    "df=df.sort_values('marked_bug',ascending=False)\n",
    "df=df.rename(columns={'name':'Project', 'marked_bug':'Lifespan of alerts marked as bug (days)',\n",
    "'memory': 'Lifespan of Memory alerts (days)','non_memory': 'Lifespan of Non-memory alerts (days)'})\n",
    "print(tabulate(df, tablefmt='pipe',showindex=False, headers='keys'))"
   ]
  },
  {
   "cell_type": "code",
   "execution_count": 72,
   "metadata": {},
   "outputs": [
    {
     "output_type": "execute_result",
     "data": {
      "text/plain": "(44.5, 0.35267568603175237, 98.5, 60.5)"
     },
     "metadata": {},
     "execution_count": 72
    }
   ],
   "source": [
    "from scipy.stats import mannwhitneyu\n",
    "stat, p= mannwhitneyu(df['memory'], df['non_memory'])\n",
    "stat, p, df['memory'].median(), df['non_memory'].median()"
   ]
  },
  {
   "cell_type": "code",
   "execution_count": null,
   "metadata": {},
   "outputs": [],
   "source": []
  }
 ],
 "metadata": {
  "language_info": {
   "codemirror_mode": {
    "name": "ipython",
    "version": 3
   },
   "file_extension": ".py",
   "mimetype": "text/x-python",
   "name": "python",
   "nbconvert_exporter": "python",
   "pygments_lexer": "ipython3",
   "version": "3.7.3-final"
  },
  "orig_nbformat": 2,
  "kernelspec": {
   "name": "python3",
   "display_name": "Python 3"
  }
 },
 "nbformat": 4,
 "nbformat_minor": 2
}