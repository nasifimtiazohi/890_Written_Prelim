{
 "cells": [
  {
   "cell_type": "code",
   "execution_count": 1,
   "metadata": {},
   "outputs": [],
   "source": [
    "import sql\n",
    "import pandas as pd\n",
    "from functools import reduce"
   ]
  },
  {
   "cell_type": "code",
   "execution_count": 32,
   "metadata": {},
   "outputs": [
    {
     "output_type": "execute_result",
     "data": {
      "text/plain": "              actionable\nname                    \nFirefox              124\nKodi                  62\nLinux                258\nSamba                 70\novirt-engine          94",
      "text/html": "<div>\n<style scoped>\n    .dataframe tbody tr th:only-of-type {\n        vertical-align: middle;\n    }\n\n    .dataframe tbody tr th {\n        vertical-align: top;\n    }\n\n    .dataframe thead th {\n        text-align: right;\n    }\n</style>\n<table border=\"1\" class=\"dataframe\">\n  <thead>\n    <tr style=\"text-align: right;\">\n      <th></th>\n      <th>actionable</th>\n    </tr>\n    <tr>\n      <th>name</th>\n      <th></th>\n    </tr>\n  </thead>\n  <tbody>\n    <tr>\n      <th>Firefox</th>\n      <td>124</td>\n    </tr>\n    <tr>\n      <th>Kodi</th>\n      <td>62</td>\n    </tr>\n    <tr>\n      <th>Linux</th>\n      <td>258</td>\n    </tr>\n    <tr>\n      <th>Samba</th>\n      <td>70</td>\n    </tr>\n    <tr>\n      <th>ovirt-engine</th>\n      <td>94</td>\n    </tr>\n  </tbody>\n</table>\n</div>"
     },
     "metadata": {},
     "execution_count": 32
    }
   ],
   "source": [
    "q='''select a.id, datediff(s.date,first_detected) as lifespan, me.memory, p.name from alert a\n",
    "        join project p on a.project_id = p.id\n",
    "        join snapshot s on a.last_snapshot_id=s.id\n",
    "        join memory_error me on a.alert_type_id = me.alert_type_id\n",
    "        join actionability ac on ac.alert_id=a.id\n",
    "        where is_invalid=0\n",
    "        and status='Fixed' \n",
    "        and actionability=1'''\n",
    "df=pd.DataFrame(sql.execute(q))\n",
    "ta=df.groupby('name')[['lifespan']].median()\n",
    "ta=ta.rename(columns={'lifespan':'actionable'})\n",
    "ta"
   ]
  },
  {
   "cell_type": "code",
   "execution_count": 31,
   "metadata": {},
   "outputs": [
    {
     "output_type": "execute_result",
     "data": {
      "text/plain": "              memory\nname                \nFirefox         41.0\nKodi             3.0\nLinux          249.0\nSamba          145.5\novirt-engine    74.5",
      "text/html": "<div>\n<style scoped>\n    .dataframe tbody tr th:only-of-type {\n        vertical-align: middle;\n    }\n\n    .dataframe tbody tr th {\n        vertical-align: top;\n    }\n\n    .dataframe thead th {\n        text-align: right;\n    }\n</style>\n<table border=\"1\" class=\"dataframe\">\n  <thead>\n    <tr style=\"text-align: right;\">\n      <th></th>\n      <th>memory</th>\n    </tr>\n    <tr>\n      <th>name</th>\n      <th></th>\n    </tr>\n  </thead>\n  <tbody>\n    <tr>\n      <th>Firefox</th>\n      <td>41.0</td>\n    </tr>\n    <tr>\n      <th>Kodi</th>\n      <td>3.0</td>\n    </tr>\n    <tr>\n      <th>Linux</th>\n      <td>249.0</td>\n    </tr>\n    <tr>\n      <th>Samba</th>\n      <td>145.5</td>\n    </tr>\n    <tr>\n      <th>ovirt-engine</th>\n      <td>74.5</td>\n    </tr>\n  </tbody>\n</table>\n</div>"
     },
     "metadata": {},
     "execution_count": 31
    }
   ],
   "source": [
    "q='''select a.id, datediff(s.date,first_detected) as lifespan, me.memory, p.name from alert a\n",
    "        join project p on a.project_id = p.id\n",
    "        join snapshot s on a.last_snapshot_id=s.id\n",
    "        join memory_error me on a.alert_type_id = me.alert_type_id\n",
    "        join actionability ac on ac.alert_id=a.id\n",
    "        where is_invalid=0\n",
    "        and status='Fixed' \n",
    "        and actionability=1\n",
    "        and me.memory =1 '''\n",
    "df=pd.DataFrame(sql.execute(q))\n",
    "tma=df.groupby('name')[['lifespan']].median()\n",
    "tma=tma.rename(columns={'lifespan':'memory'})\n",
    "tma"
   ]
  },
  {
   "cell_type": "code",
   "execution_count": 30,
   "metadata": {},
   "outputs": [
    {
     "output_type": "execute_result",
     "data": {
      "text/plain": "              non_memory\nname                    \nFirefox            154.0\nKodi                93.0\nLinux              264.0\nSamba               34.0\novirt-engine       106.5",
      "text/html": "<div>\n<style scoped>\n    .dataframe tbody tr th:only-of-type {\n        vertical-align: middle;\n    }\n\n    .dataframe tbody tr th {\n        vertical-align: top;\n    }\n\n    .dataframe thead th {\n        text-align: right;\n    }\n</style>\n<table border=\"1\" class=\"dataframe\">\n  <thead>\n    <tr style=\"text-align: right;\">\n      <th></th>\n      <th>non_memory</th>\n    </tr>\n    <tr>\n      <th>name</th>\n      <th></th>\n    </tr>\n  </thead>\n  <tbody>\n    <tr>\n      <th>Firefox</th>\n      <td>154.0</td>\n    </tr>\n    <tr>\n      <th>Kodi</th>\n      <td>93.0</td>\n    </tr>\n    <tr>\n      <th>Linux</th>\n      <td>264.0</td>\n    </tr>\n    <tr>\n      <th>Samba</th>\n      <td>34.0</td>\n    </tr>\n    <tr>\n      <th>ovirt-engine</th>\n      <td>106.5</td>\n    </tr>\n  </tbody>\n</table>\n</div>"
     },
     "metadata": {},
     "execution_count": 30
    }
   ],
   "source": [
    "q='''select a.id, datediff(s.date,first_detected) as lifespan, me.memory, p.name from alert a\n",
    "        join project p on a.project_id = p.id\n",
    "        join snapshot s on a.last_snapshot_id=s.id\n",
    "        join memory_error me on a.alert_type_id = me.alert_type_id\n",
    "        join actionability ac on ac.alert_id=a.id\n",
    "        where is_invalid=0\n",
    "        and status='Fixed' \n",
    "        and actionability=1\n",
    "        and me.memory is null '''\n",
    "df=pd.DataFrame(sql.execute(q))\n",
    "tnma=df.groupby('name')[['lifespan']].median()\n",
    "tnma=tnma.rename(columns={'lifespan':'non_memory'})\n",
    "tnma"
   ]
  },
  {
   "cell_type": "code",
   "execution_count": 33,
   "metadata": {},
   "outputs": [
    {
     "output_type": "execute_result",
     "data": {
      "text/plain": "              actionable  memory  non_memory\nname                                        \nFirefox              124    41.0       154.0\nKodi                  62     3.0        93.0\nLinux                258   249.0       264.0\nSamba                 70   145.5        34.0\novirt-engine          94    74.5       106.5",
      "text/html": "<div>\n<style scoped>\n    .dataframe tbody tr th:only-of-type {\n        vertical-align: middle;\n    }\n\n    .dataframe tbody tr th {\n        vertical-align: top;\n    }\n\n    .dataframe thead th {\n        text-align: right;\n    }\n</style>\n<table border=\"1\" class=\"dataframe\">\n  <thead>\n    <tr style=\"text-align: right;\">\n      <th></th>\n      <th>actionable</th>\n      <th>memory</th>\n      <th>non_memory</th>\n    </tr>\n    <tr>\n      <th>name</th>\n      <th></th>\n      <th></th>\n      <th></th>\n    </tr>\n  </thead>\n  <tbody>\n    <tr>\n      <th>Firefox</th>\n      <td>124</td>\n      <td>41.0</td>\n      <td>154.0</td>\n    </tr>\n    <tr>\n      <th>Kodi</th>\n      <td>62</td>\n      <td>3.0</td>\n      <td>93.0</td>\n    </tr>\n    <tr>\n      <th>Linux</th>\n      <td>258</td>\n      <td>249.0</td>\n      <td>264.0</td>\n    </tr>\n    <tr>\n      <th>Samba</th>\n      <td>70</td>\n      <td>145.5</td>\n      <td>34.0</td>\n    </tr>\n    <tr>\n      <th>ovirt-engine</th>\n      <td>94</td>\n      <td>74.5</td>\n      <td>106.5</td>\n    </tr>\n  </tbody>\n</table>\n</div>"
     },
     "metadata": {},
     "execution_count": 33
    }
   ],
   "source": [
    "df=reduce(lambda x,y : pd.merge(x,y,on='name'),[ta,tma, tnma])\n",
    "df"
   ]
  },
  {
   "cell_type": "code",
   "execution_count": 36,
   "metadata": {},
   "outputs": [
    {
     "output_type": "execute_result",
     "data": {
      "text/plain": "              marked_bug  memory  non_memory\nname                                        \nFirefox               64    64.5          63\nKodi                   2     2.0           3\nLinux                190   119.0         280\nSamba                665   665.0         911\novirt-engine          43    39.5          43",
      "text/html": "<div>\n<style scoped>\n    .dataframe tbody tr th:only-of-type {\n        vertical-align: middle;\n    }\n\n    .dataframe tbody tr th {\n        vertical-align: top;\n    }\n\n    .dataframe thead th {\n        text-align: right;\n    }\n</style>\n<table border=\"1\" class=\"dataframe\">\n  <thead>\n    <tr style=\"text-align: right;\">\n      <th></th>\n      <th>marked_bug</th>\n      <th>memory</th>\n      <th>non_memory</th>\n    </tr>\n    <tr>\n      <th>name</th>\n      <th></th>\n      <th></th>\n      <th></th>\n    </tr>\n  </thead>\n  <tbody>\n    <tr>\n      <th>Firefox</th>\n      <td>64</td>\n      <td>64.5</td>\n      <td>63</td>\n    </tr>\n    <tr>\n      <th>Kodi</th>\n      <td>2</td>\n      <td>2.0</td>\n      <td>3</td>\n    </tr>\n    <tr>\n      <th>Linux</th>\n      <td>190</td>\n      <td>119.0</td>\n      <td>280</td>\n    </tr>\n    <tr>\n      <th>Samba</th>\n      <td>665</td>\n      <td>665.0</td>\n      <td>911</td>\n    </tr>\n    <tr>\n      <th>ovirt-engine</th>\n      <td>43</td>\n      <td>39.5</td>\n      <td>43</td>\n    </tr>\n  </tbody>\n</table>\n</div>"
     },
     "metadata": {},
     "execution_count": 36
    }
   ],
   "source": [
    "q='''select a.id, datediff(s.date,first_detected) as lifespan, me.memory, p.name from alert a\n",
    "        join project p on a.project_id = p.id\n",
    "        join snapshot s on a.last_snapshot_id=s.id\n",
    "        join memory_error me on a.alert_type_id = me.alert_type_id\n",
    "        join actionability ac on ac.alert_id=a.id\n",
    "        where is_invalid=0\n",
    "        and status='Fixed' \n",
    "        and classification='Bug' '''\n",
    "df=pd.DataFrame(sql.execute(q))\n",
    "ta=df.groupby('name')[['lifespan']].median()\n",
    "ta=ta.rename(columns={'lifespan':'marked_bug'})\n",
    "q='''select a.id, datediff(s.date,first_detected) as lifespan, me.memory, p.name from alert a\n",
    "        join project p on a.project_id = p.id\n",
    "        join snapshot s on a.last_snapshot_id=s.id\n",
    "        join memory_error me on a.alert_type_id = me.alert_type_id\n",
    "        join actionability ac on ac.alert_id=a.id\n",
    "        where is_invalid=0\n",
    "        and status='Fixed' \n",
    "        and classification='Bug' \n",
    "        and me.memory =1 '''\n",
    "df=pd.DataFrame(sql.execute(q))\n",
    "tma=df.groupby('name')[['lifespan']].median()\n",
    "tma=tma.rename(columns={'lifespan':'memory'})\n",
    "q='''select a.id, datediff(s.date,first_detected) as lifespan, me.memory, p.name from alert a\n",
    "        join project p on a.project_id = p.id\n",
    "        join snapshot s on a.last_snapshot_id=s.id\n",
    "        join memory_error me on a.alert_type_id = me.alert_type_id\n",
    "        join actionability ac on ac.alert_id=a.id\n",
    "        where is_invalid=0\n",
    "        and status='Fixed' \n",
    "        and classification='Bug' \n",
    "        and me.memory is null '''\n",
    "df=pd.DataFrame(sql.execute(q))\n",
    "tnma=df.groupby('name')[['lifespan']].median()\n",
    "tnma=tnma.rename(columns={'lifespan':'non_memory'})\n",
    "df=reduce(lambda x,y : pd.merge(x,y,on='name'),[ta,tma, tnma])\n",
    "df"
   ]
  },
  {
   "cell_type": "code",
   "execution_count": null,
   "metadata": {},
   "outputs": [],
   "source": []
  }
 ],
 "metadata": {
  "language_info": {
   "codemirror_mode": {
    "name": "ipython",
    "version": 3
   },
   "file_extension": ".py",
   "mimetype": "text/x-python",
   "name": "python",
   "nbconvert_exporter": "python",
   "pygments_lexer": "ipython3",
   "version": "3.7.7-final"
  },
  "orig_nbformat": 2,
  "kernelspec": {
   "name": "python3",
   "display_name": "Python 3"
  }
 },
 "nbformat": 4,
 "nbformat_minor": 2
}