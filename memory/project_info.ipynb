{
 "cells": [
  {
   "cell_type": "code",
   "execution_count": 76,
   "metadata": {},
   "outputs": [],
   "source": [
    "import sys\n",
    "sys.path.append('../main')\n",
    "import sql\n",
    "import pandas as pd\n",
    "from functools import reduce\n",
    "from tabulate import tabulate"
   ]
  },
  {
   "cell_type": "code",
   "execution_count": 77,
   "metadata": {},
   "outputs": [],
   "source": [
    "def get(q):\n",
    "    return pd.DataFrame(sql.execute(q))"
   ]
  },
  {
   "cell_type": "code",
   "execution_count": 78,
   "metadata": {},
   "outputs": [],
   "source": [
    "q='''select distinct name, count(*) as total_alerts from project\n",
    "    join alert a on project.id = a.project_id\n",
    "    where language in ('C','C++')\n",
    "    and is_invalid=0\n",
    "    group by name; '''\n",
    "ta=get(q)"
   ]
  },
  {
   "cell_type": "code",
   "execution_count": 79,
   "metadata": {},
   "outputs": [],
   "source": [
    "q='''select name, count(*) as total_scans from project\n",
    "join snapshot s on project.id = s.project_id\n",
    "group by name;'''\n",
    "ts=get(q)"
   ]
  },
  {
   "cell_type": "code",
   "execution_count": 80,
   "metadata": {},
   "outputs": [],
   "source": [
    "q='''select name, timestampdiff(year, start_date,end_date) as \"time period (years)\"\n",
    "from project;'''\n",
    "span=get(q)"
   ]
  },
  {
   "cell_type": "code",
   "execution_count": 81,
   "metadata": {},
   "outputs": [],
   "source": [
    "q='''select name, datediff(s1.date,s2.date) as intvl\n",
    "        from snapshot s1\n",
    "            join snapshot s2 on s1.last_snapshot=s2.id and s2.project_id=s1.project_id\n",
    "        join project p on s1.project_id = p.id;'''\n",
    "intvl=get(q)\n",
    "intvl=intvl.groupby(intvl.name)[['intvl']].median()"
   ]
  },
  {
   "cell_type": "code",
   "execution_count": 82,
   "metadata": {},
   "outputs": [],
   "source": [
    "q='select name, start_date, end_date from project'\n",
    "dates= get(q)\n",
    "dates.start_date=dates.start_date.dt.date\n",
    "dates.end_date= dates.end_date.dt.date"
   ]
  },
  {
   "cell_type": "code",
   "execution_count": 83,
   "metadata": {},
   "outputs": [],
   "source": [
    "q='''select name, count(*) as triaged from alert a\n",
    "join project p on a.project_id = p.id\n",
    "where is_invalid=0 and language in ('C','C++')\n",
    "and last_triaged is not null\n",
    "group by project_id;'''\n",
    "tr=get(q)"
   ]
  },
  {
   "cell_type": "code",
   "execution_count": 84,
   "metadata": {},
   "outputs": [],
   "source": [
    "q='''select p.name, lines_of_code\n",
    "from snapshot s\n",
    "join\n",
    "    (select project_id, max(id) as last_snapshot\n",
    "    from snapshot group by project_id) t\n",
    "on s.id=t.last_snapshot\n",
    "join project p on s.project_id = p.id;'''\n",
    "loc=get(q)"
   ]
  },
  {
   "cell_type": "code",
   "execution_count": 101,
   "metadata": {},
   "outputs": [],
   "source": [
    "df=reduce(lambda x,y: pd.merge(x,y,on='name'),[ts,dates,intvl,ta,tr,loc])\n",
    "df = df.sort_values('total_alerts', ascending=False)\n",
    "df.triaged = round(df.triaged/df.total_alerts *100,2)"
   ]
  },
  {
   "cell_type": "code",
   "execution_count": 103,
   "metadata": {
    "tags": []
   },
   "outputs": [],
   "source": [
    "df.total_scans=df.total_scans.apply(lambda x: \"{:,}\".format(x))\n",
    "df.total_alerts=df.total_alerts.apply(lambda x: \"{:,}\".format(x))\n",
    "df.lines_of_code=df.lines_of_code.apply(lambda x: \"{:,}\".format(x))\n",
    "df=df.rename(columns={'name':'Project', 'total_scans':'Scan Reports',\n",
    "            'start_date':'Start Date','end_date':'End Date', \n",
    "            'intvl':'Scan Interval (days)', 'total_alerts':'Total                      Alerts', 'triaged':'Triaged Alerts (%)', 'lines_of_code':\n",
    "            'Lines of Code' })"
   ]
  },
  {
   "cell_type": "code",
   "execution_count": 104,
   "metadata": {
    "tags": []
   },
   "outputs": [
    {
     "output_type": "stream",
     "name": "stdout",
     "text": "| Project               | Scan Reports   | Start Date   | End Date   |   Scan Interval (days) | Total                      Alerts   |   Triaged Alerts (%) | Lines of Code   |\n|:----------------------|:---------------|:-------------|:-----------|-----------------------:|:------------------------------------|---------------------:|:----------------|\n| Linux                 | 648            | 2012-05-17   | 2020-06-15 |                      3 | 19,514                              |                13.66 | 13,959,859      |\n| Firefox               | 662            | 2006-02-22   | 2018-10-27 |                      2 | 12,944                              |                36.33 | 8,223,984       |\n| LibreOffice           | 414            | 2012-10-13   | 2020-06-26 |                      4 | 11,982                              |                55.42 | 6,130,847       |\n| Samba                 | 770            | 2006-02-23   | 2020-06-17 |                      3 | 4,507                               |                52.58 | 2,941,352       |\n| VTK                   | 74             | 2015-12-21   | 2017-08-12 |                      7 | 2,522                               |                 2.50 | 2,354,516       |\n| OpenCV                | 553            | 2012-12-12   | 2020-06-30 |                      2 | 2,443                               |                 9.41 | 1,264,056       |\n| Kodi                  | 489            | 2012-08-28   | 2020-05-16 |                      3 | 2,393                               |                42.42 | 743,623         |\n| !CHAOS Control System | 170            | 2015-01-14   | 2019-03-19 |                      1 | 1,980                               |                12.37 | 880,411         |\n| Chromium EC           | 1,713          | 2016-01-15   | 2020-07-06 |                      0 | 964                                 |                28.11 | 61,040          |\n| Thunderbird           | 438            | 2006-04-12   | 2020-02-29 |                      1 | 885                                 |                27.23 | 640,424         |\n"
    }
   ],
   "source": [
    "print(tabulate(df, tablefmt=\"pipe\", headers=\"keys\", showindex=False,        floatfmt=\",.2f\", numalign=\"right\"))"
   ]
  }
 ],
 "metadata": {
  "language_info": {
   "codemirror_mode": {
    "name": "ipython",
    "version": 3
   },
   "file_extension": ".py",
   "mimetype": "text/x-python",
   "name": "python",
   "nbconvert_exporter": "python",
   "pygments_lexer": "ipython3",
   "version": "3.7.3-final"
  },
  "orig_nbformat": 2,
  "kernelspec": {
   "name": "python3",
   "display_name": "Python 3"
  }
 },
 "nbformat": 4,
 "nbformat_minor": 2
}