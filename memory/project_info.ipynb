{
 "cells": [
  {
   "cell_type": "code",
   "execution_count": 4,
   "metadata": {},
   "outputs": [],
   "source": [
    "import sys\n",
    "sys.path.append('../main')\n",
    "import sql\n",
    "import pandas as pd\n",
    "from functools import reduce"
   ]
  },
  {
   "cell_type": "code",
   "execution_count": 5,
   "metadata": {},
   "outputs": [],
   "source": [
    "def get(q):\n",
    "    return pd.DataFrame(sql.execute(q))"
   ]
  },
  {
   "cell_type": "code",
   "execution_count": 6,
   "metadata": {},
   "outputs": [
    {
     "output_type": "execute_result",
     "data": {
      "text/plain": "                    name  total_alerts\n0                   Kodi          2393\n1                Firefox         12944\n2                  Linux         19514\n3                  Samba          4507\n4  !CHAOS Control System          1980\n5            Chromium EC           964\n6                 OpenCV          2443\n7            LibreOffice         11982\n8            Thunderbird           885\n9                    VTK          2522",
      "text/html": "<div>\n<style scoped>\n    .dataframe tbody tr th:only-of-type {\n        vertical-align: middle;\n    }\n\n    .dataframe tbody tr th {\n        vertical-align: top;\n    }\n\n    .dataframe thead th {\n        text-align: right;\n    }\n</style>\n<table border=\"1\" class=\"dataframe\">\n  <thead>\n    <tr style=\"text-align: right;\">\n      <th></th>\n      <th>name</th>\n      <th>total_alerts</th>\n    </tr>\n  </thead>\n  <tbody>\n    <tr>\n      <th>0</th>\n      <td>Kodi</td>\n      <td>2393</td>\n    </tr>\n    <tr>\n      <th>1</th>\n      <td>Firefox</td>\n      <td>12944</td>\n    </tr>\n    <tr>\n      <th>2</th>\n      <td>Linux</td>\n      <td>19514</td>\n    </tr>\n    <tr>\n      <th>3</th>\n      <td>Samba</td>\n      <td>4507</td>\n    </tr>\n    <tr>\n      <th>4</th>\n      <td>!CHAOS Control System</td>\n      <td>1980</td>\n    </tr>\n    <tr>\n      <th>5</th>\n      <td>Chromium EC</td>\n      <td>964</td>\n    </tr>\n    <tr>\n      <th>6</th>\n      <td>OpenCV</td>\n      <td>2443</td>\n    </tr>\n    <tr>\n      <th>7</th>\n      <td>LibreOffice</td>\n      <td>11982</td>\n    </tr>\n    <tr>\n      <th>8</th>\n      <td>Thunderbird</td>\n      <td>885</td>\n    </tr>\n    <tr>\n      <th>9</th>\n      <td>VTK</td>\n      <td>2522</td>\n    </tr>\n  </tbody>\n</table>\n</div>"
     },
     "metadata": {},
     "execution_count": 6
    }
   ],
   "source": [
    "q='''select distinct name, count(*) as total_alerts from project\n",
    "    join alert a on project.id = a.project_id\n",
    "    where language in ('C','C++')\n",
    "    and is_invalid=0\n",
    "    group by name; '''\n",
    "ta=get(q)\n",
    "ta"
   ]
  },
  {
   "cell_type": "code",
   "execution_count": 7,
   "metadata": {},
   "outputs": [
    {
     "output_type": "execute_result",
     "data": {
      "text/plain": "                     name  total_scans\n0   !CHAOS Control System          170\n1             Chromium EC         1713\n2                 Firefox          662\n3                    Kodi          489\n4             LibreOffice          414\n5                   Linux          648\n6                  OpenCV          553\n7            ovirt-engine          835\n8                   Samba          770\n9             Thunderbird          438\n10                    VTK           74",
      "text/html": "<div>\n<style scoped>\n    .dataframe tbody tr th:only-of-type {\n        vertical-align: middle;\n    }\n\n    .dataframe tbody tr th {\n        vertical-align: top;\n    }\n\n    .dataframe thead th {\n        text-align: right;\n    }\n</style>\n<table border=\"1\" class=\"dataframe\">\n  <thead>\n    <tr style=\"text-align: right;\">\n      <th></th>\n      <th>name</th>\n      <th>total_scans</th>\n    </tr>\n  </thead>\n  <tbody>\n    <tr>\n      <th>0</th>\n      <td>!CHAOS Control System</td>\n      <td>170</td>\n    </tr>\n    <tr>\n      <th>1</th>\n      <td>Chromium EC</td>\n      <td>1713</td>\n    </tr>\n    <tr>\n      <th>2</th>\n      <td>Firefox</td>\n      <td>662</td>\n    </tr>\n    <tr>\n      <th>3</th>\n      <td>Kodi</td>\n      <td>489</td>\n    </tr>\n    <tr>\n      <th>4</th>\n      <td>LibreOffice</td>\n      <td>414</td>\n    </tr>\n    <tr>\n      <th>5</th>\n      <td>Linux</td>\n      <td>648</td>\n    </tr>\n    <tr>\n      <th>6</th>\n      <td>OpenCV</td>\n      <td>553</td>\n    </tr>\n    <tr>\n      <th>7</th>\n      <td>ovirt-engine</td>\n      <td>835</td>\n    </tr>\n    <tr>\n      <th>8</th>\n      <td>Samba</td>\n      <td>770</td>\n    </tr>\n    <tr>\n      <th>9</th>\n      <td>Thunderbird</td>\n      <td>438</td>\n    </tr>\n    <tr>\n      <th>10</th>\n      <td>VTK</td>\n      <td>74</td>\n    </tr>\n  </tbody>\n</table>\n</div>"
     },
     "metadata": {},
     "execution_count": 7
    }
   ],
   "source": [
    "q='''select name, count(*) as total_scans from project\n",
    "join snapshot s on project.id = s.project_id\n",
    "group by name;'''\n",
    "ts=get(q)\n",
    "ts"
   ]
  },
  {
   "cell_type": "code",
   "execution_count": 8,
   "metadata": {},
   "outputs": [
    {
     "output_type": "execute_result",
     "data": {
      "text/plain": "                     name  time period (years)\n0                    Kodi                    7\n1            ovirt-engine                    6\n2                 Firefox                   12\n3                   Linux                    8\n4                   Samba                   14\n5   !CHAOS Control System                    4\n6             Chromium EC                    4\n7                  OpenCV                    7\n8             LibreOffice                    7\n9             Thunderbird                   13\n10                    VTK                    1",
      "text/html": "<div>\n<style scoped>\n    .dataframe tbody tr th:only-of-type {\n        vertical-align: middle;\n    }\n\n    .dataframe tbody tr th {\n        vertical-align: top;\n    }\n\n    .dataframe thead th {\n        text-align: right;\n    }\n</style>\n<table border=\"1\" class=\"dataframe\">\n  <thead>\n    <tr style=\"text-align: right;\">\n      <th></th>\n      <th>name</th>\n      <th>time period (years)</th>\n    </tr>\n  </thead>\n  <tbody>\n    <tr>\n      <th>0</th>\n      <td>Kodi</td>\n      <td>7</td>\n    </tr>\n    <tr>\n      <th>1</th>\n      <td>ovirt-engine</td>\n      <td>6</td>\n    </tr>\n    <tr>\n      <th>2</th>\n      <td>Firefox</td>\n      <td>12</td>\n    </tr>\n    <tr>\n      <th>3</th>\n      <td>Linux</td>\n      <td>8</td>\n    </tr>\n    <tr>\n      <th>4</th>\n      <td>Samba</td>\n      <td>14</td>\n    </tr>\n    <tr>\n      <th>5</th>\n      <td>!CHAOS Control System</td>\n      <td>4</td>\n    </tr>\n    <tr>\n      <th>6</th>\n      <td>Chromium EC</td>\n      <td>4</td>\n    </tr>\n    <tr>\n      <th>7</th>\n      <td>OpenCV</td>\n      <td>7</td>\n    </tr>\n    <tr>\n      <th>8</th>\n      <td>LibreOffice</td>\n      <td>7</td>\n    </tr>\n    <tr>\n      <th>9</th>\n      <td>Thunderbird</td>\n      <td>13</td>\n    </tr>\n    <tr>\n      <th>10</th>\n      <td>VTK</td>\n      <td>1</td>\n    </tr>\n  </tbody>\n</table>\n</div>"
     },
     "metadata": {},
     "execution_count": 8
    }
   ],
   "source": [
    "q='''select name, timestampdiff(year, start_date,end_date) as \"time period (years)\"\n",
    "from project;'''\n",
    "span=get(q)\n",
    "span"
   ]
  },
  {
   "cell_type": "code",
   "execution_count": 9,
   "metadata": {},
   "outputs": [
    {
     "output_type": "execute_result",
     "data": {
      "text/plain": "                       scan interval (days)\nname                                       \n!CHAOS Control System                     1\nChromium EC                               0\nFirefox                                   2\nKodi                                      3\nLibreOffice                               4\nLinux                                     3\nOpenCV                                    2\nSamba                                     3\nThunderbird                               1\nVTK                                       7\novirt-engine                              1",
      "text/html": "<div>\n<style scoped>\n    .dataframe tbody tr th:only-of-type {\n        vertical-align: middle;\n    }\n\n    .dataframe tbody tr th {\n        vertical-align: top;\n    }\n\n    .dataframe thead th {\n        text-align: right;\n    }\n</style>\n<table border=\"1\" class=\"dataframe\">\n  <thead>\n    <tr style=\"text-align: right;\">\n      <th></th>\n      <th>scan interval (days)</th>\n    </tr>\n    <tr>\n      <th>name</th>\n      <th></th>\n    </tr>\n  </thead>\n  <tbody>\n    <tr>\n      <th>!CHAOS Control System</th>\n      <td>1</td>\n    </tr>\n    <tr>\n      <th>Chromium EC</th>\n      <td>0</td>\n    </tr>\n    <tr>\n      <th>Firefox</th>\n      <td>2</td>\n    </tr>\n    <tr>\n      <th>Kodi</th>\n      <td>3</td>\n    </tr>\n    <tr>\n      <th>LibreOffice</th>\n      <td>4</td>\n    </tr>\n    <tr>\n      <th>Linux</th>\n      <td>3</td>\n    </tr>\n    <tr>\n      <th>OpenCV</th>\n      <td>2</td>\n    </tr>\n    <tr>\n      <th>Samba</th>\n      <td>3</td>\n    </tr>\n    <tr>\n      <th>Thunderbird</th>\n      <td>1</td>\n    </tr>\n    <tr>\n      <th>VTK</th>\n      <td>7</td>\n    </tr>\n    <tr>\n      <th>ovirt-engine</th>\n      <td>1</td>\n    </tr>\n  </tbody>\n</table>\n</div>"
     },
     "metadata": {},
     "execution_count": 9
    }
   ],
   "source": [
    "q='''select name, datediff(s1.date,s2.date) as \"scan interval (days)\"\n",
    "        from snapshot s1\n",
    "            join snapshot s2 on s1.last_snapshot=s2.id and s2.project_id=s1.project_id\n",
    "        join project p on s1.project_id = p.id;'''\n",
    "intvl=get(q)\n",
    "intvl=intvl.groupby(intvl.name)[['scan interval (days)']].median()\n",
    "intvl"
   ]
  },
  {
   "cell_type": "code",
   "execution_count": 10,
   "metadata": {},
   "outputs": [
    {
     "output_type": "execute_result",
     "data": {
      "text/plain": "                    name  total_alerts  total_scans  time period (years)  \\\n2                  Linux         19514          648                    8   \n1                Firefox         12944          662                   12   \n7            LibreOffice         11982          414                    7   \n3                  Samba          4507          770                   14   \n9                    VTK          2522           74                    1   \n6                 OpenCV          2443          553                    7   \n0                   Kodi          2393          489                    7   \n4  !CHAOS Control System          1980          170                    4   \n5            Chromium EC           964         1713                    4   \n8            Thunderbird           885          438                   13   \n\n   scan interval (days)  \n2                     3  \n1                     2  \n7                     4  \n3                     3  \n9                     7  \n6                     2  \n0                     3  \n4                     1  \n5                     0  \n8                     1  ",
      "text/html": "<div>\n<style scoped>\n    .dataframe tbody tr th:only-of-type {\n        vertical-align: middle;\n    }\n\n    .dataframe tbody tr th {\n        vertical-align: top;\n    }\n\n    .dataframe thead th {\n        text-align: right;\n    }\n</style>\n<table border=\"1\" class=\"dataframe\">\n  <thead>\n    <tr style=\"text-align: right;\">\n      <th></th>\n      <th>name</th>\n      <th>total_alerts</th>\n      <th>total_scans</th>\n      <th>time period (years)</th>\n      <th>scan interval (days)</th>\n    </tr>\n  </thead>\n  <tbody>\n    <tr>\n      <th>2</th>\n      <td>Linux</td>\n      <td>19514</td>\n      <td>648</td>\n      <td>8</td>\n      <td>3</td>\n    </tr>\n    <tr>\n      <th>1</th>\n      <td>Firefox</td>\n      <td>12944</td>\n      <td>662</td>\n      <td>12</td>\n      <td>2</td>\n    </tr>\n    <tr>\n      <th>7</th>\n      <td>LibreOffice</td>\n      <td>11982</td>\n      <td>414</td>\n      <td>7</td>\n      <td>4</td>\n    </tr>\n    <tr>\n      <th>3</th>\n      <td>Samba</td>\n      <td>4507</td>\n      <td>770</td>\n      <td>14</td>\n      <td>3</td>\n    </tr>\n    <tr>\n      <th>9</th>\n      <td>VTK</td>\n      <td>2522</td>\n      <td>74</td>\n      <td>1</td>\n      <td>7</td>\n    </tr>\n    <tr>\n      <th>6</th>\n      <td>OpenCV</td>\n      <td>2443</td>\n      <td>553</td>\n      <td>7</td>\n      <td>2</td>\n    </tr>\n    <tr>\n      <th>0</th>\n      <td>Kodi</td>\n      <td>2393</td>\n      <td>489</td>\n      <td>7</td>\n      <td>3</td>\n    </tr>\n    <tr>\n      <th>4</th>\n      <td>!CHAOS Control System</td>\n      <td>1980</td>\n      <td>170</td>\n      <td>4</td>\n      <td>1</td>\n    </tr>\n    <tr>\n      <th>5</th>\n      <td>Chromium EC</td>\n      <td>964</td>\n      <td>1713</td>\n      <td>4</td>\n      <td>0</td>\n    </tr>\n    <tr>\n      <th>8</th>\n      <td>Thunderbird</td>\n      <td>885</td>\n      <td>438</td>\n      <td>13</td>\n      <td>1</td>\n    </tr>\n  </tbody>\n</table>\n</div>"
     },
     "metadata": {},
     "execution_count": 10
    }
   ],
   "source": [
    "df=reduce(lambda x,y: pd.merge(x,y,on='name'),[ta,ts,span,intvl])\n",
    "df = df.sort_values('total_alerts', ascending=False)\n",
    "df"
   ]
  },
  {
   "cell_type": "code",
   "execution_count": 11,
   "metadata": {},
   "outputs": [],
   "source": [
    "q='select name, start_date, end_date from project'\n",
    "temp= get(q)\n",
    "df=reduce(lambda x,y: pd.merge(x,y,on='name'),[df,temp])\n"
   ]
  },
  {
   "cell_type": "code",
   "execution_count": 12,
   "metadata": {},
   "outputs": [],
   "source": [
    "df.to_csv ('project_info_C_C++.csv', index = False, header=True)"
   ]
  },
  {
   "cell_type": "code",
   "execution_count": 13,
   "metadata": {},
   "outputs": [
    {
     "output_type": "execute_result",
     "data": {
      "text/plain": "                    name  total_alerts  total_scans  time period (years)  \\\n0                  Linux         19514          648                    8   \n1                Firefox         12944          662                   12   \n2            LibreOffice         11982          414                    7   \n3                  Samba          4507          770                   14   \n4                    VTK          2522           74                    1   \n5                 OpenCV          2443          553                    7   \n6                   Kodi          2393          489                    7   \n7  !CHAOS Control System          1980          170                    4   \n8            Chromium EC           964         1713                    4   \n9            Thunderbird           885          438                   13   \n\n   scan interval (days)          start_date            end_date  triaged  \n0                     3 2012-05-17 00:00:00 2020-06-15 23:27:15    13.66  \n1                     2 2006-02-22 00:00:00 2018-10-27 07:23:51    36.33  \n2                     4 2012-10-13 16:29:06 2020-06-26 22:28:07    55.42  \n3                     3 2006-02-23 00:00:00 2020-06-17 09:05:31    52.58  \n4                     7 2015-12-21 12:23:30 2017-08-12 00:21:28     2.50  \n5                     2 2012-12-12 03:05:09 2020-06-30 21:54:52     9.41  \n6                     3 2012-08-28 00:00:00 2020-05-16 07:42:09    42.42  \n7                     1 2015-01-14 03:22:14 2019-03-19 02:39:22    12.37  \n8                     0 2016-01-15 17:37:41 2020-07-06 07:37:56    28.11  \n9                     1 2006-04-12 17:23:58 2020-02-29 20:18:19    27.23  ",
      "text/html": "<div>\n<style scoped>\n    .dataframe tbody tr th:only-of-type {\n        vertical-align: middle;\n    }\n\n    .dataframe tbody tr th {\n        vertical-align: top;\n    }\n\n    .dataframe thead th {\n        text-align: right;\n    }\n</style>\n<table border=\"1\" class=\"dataframe\">\n  <thead>\n    <tr style=\"text-align: right;\">\n      <th></th>\n      <th>name</th>\n      <th>total_alerts</th>\n      <th>total_scans</th>\n      <th>time period (years)</th>\n      <th>scan interval (days)</th>\n      <th>start_date</th>\n      <th>end_date</th>\n      <th>triaged</th>\n    </tr>\n  </thead>\n  <tbody>\n    <tr>\n      <th>0</th>\n      <td>Linux</td>\n      <td>19514</td>\n      <td>648</td>\n      <td>8</td>\n      <td>3</td>\n      <td>2012-05-17 00:00:00</td>\n      <td>2020-06-15 23:27:15</td>\n      <td>13.66</td>\n    </tr>\n    <tr>\n      <th>1</th>\n      <td>Firefox</td>\n      <td>12944</td>\n      <td>662</td>\n      <td>12</td>\n      <td>2</td>\n      <td>2006-02-22 00:00:00</td>\n      <td>2018-10-27 07:23:51</td>\n      <td>36.33</td>\n    </tr>\n    <tr>\n      <th>2</th>\n      <td>LibreOffice</td>\n      <td>11982</td>\n      <td>414</td>\n      <td>7</td>\n      <td>4</td>\n      <td>2012-10-13 16:29:06</td>\n      <td>2020-06-26 22:28:07</td>\n      <td>55.42</td>\n    </tr>\n    <tr>\n      <th>3</th>\n      <td>Samba</td>\n      <td>4507</td>\n      <td>770</td>\n      <td>14</td>\n      <td>3</td>\n      <td>2006-02-23 00:00:00</td>\n      <td>2020-06-17 09:05:31</td>\n      <td>52.58</td>\n    </tr>\n    <tr>\n      <th>4</th>\n      <td>VTK</td>\n      <td>2522</td>\n      <td>74</td>\n      <td>1</td>\n      <td>7</td>\n      <td>2015-12-21 12:23:30</td>\n      <td>2017-08-12 00:21:28</td>\n      <td>2.50</td>\n    </tr>\n    <tr>\n      <th>5</th>\n      <td>OpenCV</td>\n      <td>2443</td>\n      <td>553</td>\n      <td>7</td>\n      <td>2</td>\n      <td>2012-12-12 03:05:09</td>\n      <td>2020-06-30 21:54:52</td>\n      <td>9.41</td>\n    </tr>\n    <tr>\n      <th>6</th>\n      <td>Kodi</td>\n      <td>2393</td>\n      <td>489</td>\n      <td>7</td>\n      <td>3</td>\n      <td>2012-08-28 00:00:00</td>\n      <td>2020-05-16 07:42:09</td>\n      <td>42.42</td>\n    </tr>\n    <tr>\n      <th>7</th>\n      <td>!CHAOS Control System</td>\n      <td>1980</td>\n      <td>170</td>\n      <td>4</td>\n      <td>1</td>\n      <td>2015-01-14 03:22:14</td>\n      <td>2019-03-19 02:39:22</td>\n      <td>12.37</td>\n    </tr>\n    <tr>\n      <th>8</th>\n      <td>Chromium EC</td>\n      <td>964</td>\n      <td>1713</td>\n      <td>4</td>\n      <td>0</td>\n      <td>2016-01-15 17:37:41</td>\n      <td>2020-07-06 07:37:56</td>\n      <td>28.11</td>\n    </tr>\n    <tr>\n      <th>9</th>\n      <td>Thunderbird</td>\n      <td>885</td>\n      <td>438</td>\n      <td>13</td>\n      <td>1</td>\n      <td>2006-04-12 17:23:58</td>\n      <td>2020-02-29 20:18:19</td>\n      <td>27.23</td>\n    </tr>\n  </tbody>\n</table>\n</div>"
     },
     "metadata": {},
     "execution_count": 13
    }
   ],
   "source": [
    "q='''select name, count(*) as triaged from alert a\n",
    "join project p on a.project_id = p.id\n",
    "where is_invalid=0 and language in ('C','C++')\n",
    "and last_triaged is not null\n",
    "group by project_id;'''\n",
    "temp=get(q)\n",
    "df=reduce(lambda x,y: pd.merge(x,y,on='name'),[df,temp])\n",
    "df.triaged = round(df.triaged/df.total_alerts *100,2)\n",
    "df"
   ]
  },
  {
   "cell_type": "code",
   "execution_count": null,
   "metadata": {},
   "outputs": [],
   "source": []
  }
 ],
 "metadata": {
  "language_info": {
   "codemirror_mode": {
    "name": "ipython",
    "version": 3
   },
   "file_extension": ".py",
   "mimetype": "text/x-python",
   "name": "python",
   "nbconvert_exporter": "python",
   "pygments_lexer": "ipython3",
   "version": "3.7.3-final"
  },
  "orig_nbformat": 2,
  "kernelspec": {
   "name": "python3",
   "display_name": "Python 3"
  }
 },
 "nbformat": 4,
 "nbformat_minor": 2
}