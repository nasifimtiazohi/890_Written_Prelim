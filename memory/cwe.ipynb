{
 "cells": [
  {
   "cell_type": "code",
   "execution_count": 131,
   "metadata": {},
   "outputs": [],
   "source": [
    "import sys\n",
    "sys.path.append('../main')\n",
    "import sql\n",
    "import pandas as pd\n",
    "from functools import reduce\n",
    "def get(q):\n",
    "    return pd.DataFrame(sql.execute(q))"
   ]
  },
  {
   "cell_type": "code",
   "execution_count": 132,
   "metadata": {},
   "outputs": [
    {
     "output_type": "execute_result",
     "data": {
      "text/plain": "60134"
     },
     "metadata": {},
     "execution_count": 132
    }
   ],
   "source": [
    "q='''select count(*) as c from alert\n",
    "where language in ('C','C++')\n",
    "and is_invalid=0;'''\n",
    "total = sql.execute(q)[0]['c']\n",
    "total\n"
   ]
  },
  {
   "cell_type": "code",
   "execution_count": 133,
   "metadata": {},
   "outputs": [],
   "source": [
    "q='''select c.id, c.name, count(*) as prevalence from alert a\n",
    "        join memory_error me on a.alert_type_id = me.alert_type_id\n",
    "        join cwe c on a.CWE=c.id\n",
    "        where language in ('C','C++')\n",
    "        and is_invalid=0\n",
    "        and memory=1\n",
    "        and a.CWE is not null\n",
    "        group by c.id, c.name\n",
    "        order by prevalence desc;'''\n",
    "df=get(q)\n",
    "df['rate (%)']=round((df.prevalence/total)*100,2)\n",
    "df = df.sort_values('rate (%)',ascending=False)\n",
    "df=df.rename(columns={'id':'CWE'})"
   ]
  },
  {
   "cell_type": "code",
   "execution_count": 134,
   "metadata": {},
   "outputs": [
    {
     "output_type": "execute_result",
     "data": {
      "text/plain": "    CWE                                               name  prevalence  \\\n0   476                           NULL Pointer Dereference        8689   \n1   404              Improper Resource Shutdown or Release        4250   \n2   119  Improper Restriction of Operations within the ...        2125   \n3   457                      Use of Uninitialized Variable        1862   \n4   190                     Integer Overflow or Wraparound        1003   \n5   125                                 Out-of-bounds Read         939   \n6   416                                     Use After Free         877   \n7   120  Buffer Copy without Checking Size of Input ('C...         751   \n8   170                          Improper Null Termination         378   \n9   590                     Free of Memory not on the Heap         363   \n10  129                 Improper Validation of Array Index         209   \n11  687  Function Call With Incorrectly Specified Argum...         183   \n12  415                                        Double Free         127   \n13  401  Missing Release of Memory after Effective Life...         108   \n14  188                     Reliance on Data/Memory Layout          74   \n15  562                   Return of Stack Variable Address          67   \n16  467                  Use of sizeof() on a Pointer Type          58   \n17  252                             Unchecked Return Value          55   \n18  762              Mismatched Memory Management Routines          39   \n19  131               Incorrect Calculation of Buffer Size          23   \n20  459                                 Incomplete Cleanup          22   \n21  772  Missing Release of Resource after Effective Li...          19   \n22  456               Missing Initialization of a Variable          18   \n23  197                           Numeric Truncation Error           5   \n24  665                            Improper Initialization           3   \n\n    rate (%)  fixed  \n0      14.45  81.86  \n1       7.07  66.92  \n2       3.53  67.06  \n3       3.10  74.01  \n4       1.67  54.24  \n5       1.56  67.41  \n6       1.46  73.43  \n7       1.25  78.70  \n8       0.63  68.78  \n9       0.60  50.96  \n10      0.35  53.11  \n11      0.30  67.76  \n12      0.21  76.38  \n13      0.18  69.44  \n14      0.12  62.16  \n15      0.11  56.72  \n16      0.10  93.10  \n17      0.09  58.18  \n18      0.06  74.36  \n19      0.04  91.30  \n20      0.04  86.36  \n21      0.03  73.68  \n22      0.03  61.11  \n23      0.01  60.00  \n24      0.00  33.33  ",
      "text/html": "<div>\n<style scoped>\n    .dataframe tbody tr th:only-of-type {\n        vertical-align: middle;\n    }\n\n    .dataframe tbody tr th {\n        vertical-align: top;\n    }\n\n    .dataframe thead th {\n        text-align: right;\n    }\n</style>\n<table border=\"1\" class=\"dataframe\">\n  <thead>\n    <tr style=\"text-align: right;\">\n      <th></th>\n      <th>CWE</th>\n      <th>name</th>\n      <th>prevalence</th>\n      <th>rate (%)</th>\n      <th>fixed</th>\n    </tr>\n  </thead>\n  <tbody>\n    <tr>\n      <th>0</th>\n      <td>476</td>\n      <td>NULL Pointer Dereference</td>\n      <td>8689</td>\n      <td>14.45</td>\n      <td>81.86</td>\n    </tr>\n    <tr>\n      <th>1</th>\n      <td>404</td>\n      <td>Improper Resource Shutdown or Release</td>\n      <td>4250</td>\n      <td>7.07</td>\n      <td>66.92</td>\n    </tr>\n    <tr>\n      <th>2</th>\n      <td>119</td>\n      <td>Improper Restriction of Operations within the ...</td>\n      <td>2125</td>\n      <td>3.53</td>\n      <td>67.06</td>\n    </tr>\n    <tr>\n      <th>3</th>\n      <td>457</td>\n      <td>Use of Uninitialized Variable</td>\n      <td>1862</td>\n      <td>3.10</td>\n      <td>74.01</td>\n    </tr>\n    <tr>\n      <th>4</th>\n      <td>190</td>\n      <td>Integer Overflow or Wraparound</td>\n      <td>1003</td>\n      <td>1.67</td>\n      <td>54.24</td>\n    </tr>\n    <tr>\n      <th>5</th>\n      <td>125</td>\n      <td>Out-of-bounds Read</td>\n      <td>939</td>\n      <td>1.56</td>\n      <td>67.41</td>\n    </tr>\n    <tr>\n      <th>6</th>\n      <td>416</td>\n      <td>Use After Free</td>\n      <td>877</td>\n      <td>1.46</td>\n      <td>73.43</td>\n    </tr>\n    <tr>\n      <th>7</th>\n      <td>120</td>\n      <td>Buffer Copy without Checking Size of Input ('C...</td>\n      <td>751</td>\n      <td>1.25</td>\n      <td>78.70</td>\n    </tr>\n    <tr>\n      <th>8</th>\n      <td>170</td>\n      <td>Improper Null Termination</td>\n      <td>378</td>\n      <td>0.63</td>\n      <td>68.78</td>\n    </tr>\n    <tr>\n      <th>9</th>\n      <td>590</td>\n      <td>Free of Memory not on the Heap</td>\n      <td>363</td>\n      <td>0.60</td>\n      <td>50.96</td>\n    </tr>\n    <tr>\n      <th>10</th>\n      <td>129</td>\n      <td>Improper Validation of Array Index</td>\n      <td>209</td>\n      <td>0.35</td>\n      <td>53.11</td>\n    </tr>\n    <tr>\n      <th>11</th>\n      <td>687</td>\n      <td>Function Call With Incorrectly Specified Argum...</td>\n      <td>183</td>\n      <td>0.30</td>\n      <td>67.76</td>\n    </tr>\n    <tr>\n      <th>12</th>\n      <td>415</td>\n      <td>Double Free</td>\n      <td>127</td>\n      <td>0.21</td>\n      <td>76.38</td>\n    </tr>\n    <tr>\n      <th>13</th>\n      <td>401</td>\n      <td>Missing Release of Memory after Effective Life...</td>\n      <td>108</td>\n      <td>0.18</td>\n      <td>69.44</td>\n    </tr>\n    <tr>\n      <th>14</th>\n      <td>188</td>\n      <td>Reliance on Data/Memory Layout</td>\n      <td>74</td>\n      <td>0.12</td>\n      <td>62.16</td>\n    </tr>\n    <tr>\n      <th>15</th>\n      <td>562</td>\n      <td>Return of Stack Variable Address</td>\n      <td>67</td>\n      <td>0.11</td>\n      <td>56.72</td>\n    </tr>\n    <tr>\n      <th>16</th>\n      <td>467</td>\n      <td>Use of sizeof() on a Pointer Type</td>\n      <td>58</td>\n      <td>0.10</td>\n      <td>93.10</td>\n    </tr>\n    <tr>\n      <th>17</th>\n      <td>252</td>\n      <td>Unchecked Return Value</td>\n      <td>55</td>\n      <td>0.09</td>\n      <td>58.18</td>\n    </tr>\n    <tr>\n      <th>18</th>\n      <td>762</td>\n      <td>Mismatched Memory Management Routines</td>\n      <td>39</td>\n      <td>0.06</td>\n      <td>74.36</td>\n    </tr>\n    <tr>\n      <th>19</th>\n      <td>131</td>\n      <td>Incorrect Calculation of Buffer Size</td>\n      <td>23</td>\n      <td>0.04</td>\n      <td>91.30</td>\n    </tr>\n    <tr>\n      <th>20</th>\n      <td>459</td>\n      <td>Incomplete Cleanup</td>\n      <td>22</td>\n      <td>0.04</td>\n      <td>86.36</td>\n    </tr>\n    <tr>\n      <th>21</th>\n      <td>772</td>\n      <td>Missing Release of Resource after Effective Li...</td>\n      <td>19</td>\n      <td>0.03</td>\n      <td>73.68</td>\n    </tr>\n    <tr>\n      <th>22</th>\n      <td>456</td>\n      <td>Missing Initialization of a Variable</td>\n      <td>18</td>\n      <td>0.03</td>\n      <td>61.11</td>\n    </tr>\n    <tr>\n      <th>23</th>\n      <td>197</td>\n      <td>Numeric Truncation Error</td>\n      <td>5</td>\n      <td>0.01</td>\n      <td>60.00</td>\n    </tr>\n    <tr>\n      <th>24</th>\n      <td>665</td>\n      <td>Improper Initialization</td>\n      <td>3</td>\n      <td>0.00</td>\n      <td>33.33</td>\n    </tr>\n  </tbody>\n</table>\n</div>"
     },
     "metadata": {},
     "execution_count": 134
    }
   ],
   "source": [
    "q='''select CWE, count(*) as fixed from alert a\n",
    "join memory_error me on a.alert_type_id = me.alert_type_id\n",
    "where language in ('C','C++')\n",
    "and is_invalid=0\n",
    "and memory=1\n",
    "  and status='Fixed'\n",
    "and CWE is not null\n",
    "group by CWE;\n",
    "'''\n",
    "temp= get(q)\n",
    "df=reduce(lambda x,y:pd.merge(x,y,on='CWE',how='left'),[df,temp])\n",
    "df.fillna(0, inplace=True)\n",
    "df.fixed=round(df.fixed/df.prevalence*100,2)\n",
    "df"
   ]
  },
  {
   "cell_type": "code",
   "execution_count": 135,
   "metadata": {},
   "outputs": [
    {
     "output_type": "execute_result",
     "data": {
      "text/plain": "    CWE                                               name  prevalence  \\\n0   476                           NULL Pointer Dereference        8689   \n1   404              Improper Resource Shutdown or Release        4250   \n2   119  Improper Restriction of Operations within the ...        2125   \n3   457                      Use of Uninitialized Variable        1862   \n4   190                     Integer Overflow or Wraparound        1003   \n5   125                                 Out-of-bounds Read         939   \n6   416                                     Use After Free         877   \n7   120  Buffer Copy without Checking Size of Input ('C...         751   \n8   170                          Improper Null Termination         378   \n9   590                     Free of Memory not on the Heap         363   \n10  129                 Improper Validation of Array Index         209   \n11  687  Function Call With Incorrectly Specified Argum...         183   \n12  415                                        Double Free         127   \n13  401  Missing Release of Memory after Effective Life...         108   \n14  188                     Reliance on Data/Memory Layout          74   \n15  562                   Return of Stack Variable Address          67   \n16  467                  Use of sizeof() on a Pointer Type          58   \n17  252                             Unchecked Return Value          55   \n18  762              Mismatched Memory Management Routines          39   \n19  131               Incorrect Calculation of Buffer Size          23   \n20  459                                 Incomplete Cleanup          22   \n21  772  Missing Release of Resource after Effective Li...          19   \n22  456               Missing Initialization of a Variable          18   \n23  197                           Numeric Truncation Error           5   \n24  665                            Improper Initialization           3   \n\n    rate (%)  fixed  triaged_bug  \n0      14.45  81.86        21.99  \n1       7.07  66.92        14.33  \n2       3.53  67.06         4.42  \n3       3.10  74.01        15.52  \n4       1.67  54.24         7.88  \n5       1.56  67.41         8.20  \n6       1.46  73.43         7.41  \n7       1.25  78.70         2.13  \n8       0.63  68.78         7.94  \n9       0.60  50.96         0.00  \n10      0.35  53.11        14.35  \n11      0.30  67.76        13.11  \n12      0.21  76.38         8.66  \n13      0.18  69.44        30.56  \n14      0.12  62.16         1.35  \n15      0.11  56.72        19.40  \n16      0.10  93.10         3.45  \n17      0.09  58.18         5.45  \n18      0.06  74.36         7.69  \n19      0.04  91.30         4.35  \n20      0.04  86.36         4.55  \n21      0.03  73.68        26.32  \n22      0.03  61.11         0.00  \n23      0.01  60.00         0.00  \n24      0.00  33.33         0.00  ",
      "text/html": "<div>\n<style scoped>\n    .dataframe tbody tr th:only-of-type {\n        vertical-align: middle;\n    }\n\n    .dataframe tbody tr th {\n        vertical-align: top;\n    }\n\n    .dataframe thead th {\n        text-align: right;\n    }\n</style>\n<table border=\"1\" class=\"dataframe\">\n  <thead>\n    <tr style=\"text-align: right;\">\n      <th></th>\n      <th>CWE</th>\n      <th>name</th>\n      <th>prevalence</th>\n      <th>rate (%)</th>\n      <th>fixed</th>\n      <th>triaged_bug</th>\n    </tr>\n  </thead>\n  <tbody>\n    <tr>\n      <th>0</th>\n      <td>476</td>\n      <td>NULL Pointer Dereference</td>\n      <td>8689</td>\n      <td>14.45</td>\n      <td>81.86</td>\n      <td>21.99</td>\n    </tr>\n    <tr>\n      <th>1</th>\n      <td>404</td>\n      <td>Improper Resource Shutdown or Release</td>\n      <td>4250</td>\n      <td>7.07</td>\n      <td>66.92</td>\n      <td>14.33</td>\n    </tr>\n    <tr>\n      <th>2</th>\n      <td>119</td>\n      <td>Improper Restriction of Operations within the ...</td>\n      <td>2125</td>\n      <td>3.53</td>\n      <td>67.06</td>\n      <td>4.42</td>\n    </tr>\n    <tr>\n      <th>3</th>\n      <td>457</td>\n      <td>Use of Uninitialized Variable</td>\n      <td>1862</td>\n      <td>3.10</td>\n      <td>74.01</td>\n      <td>15.52</td>\n    </tr>\n    <tr>\n      <th>4</th>\n      <td>190</td>\n      <td>Integer Overflow or Wraparound</td>\n      <td>1003</td>\n      <td>1.67</td>\n      <td>54.24</td>\n      <td>7.88</td>\n    </tr>\n    <tr>\n      <th>5</th>\n      <td>125</td>\n      <td>Out-of-bounds Read</td>\n      <td>939</td>\n      <td>1.56</td>\n      <td>67.41</td>\n      <td>8.20</td>\n    </tr>\n    <tr>\n      <th>6</th>\n      <td>416</td>\n      <td>Use After Free</td>\n      <td>877</td>\n      <td>1.46</td>\n      <td>73.43</td>\n      <td>7.41</td>\n    </tr>\n    <tr>\n      <th>7</th>\n      <td>120</td>\n      <td>Buffer Copy without Checking Size of Input ('C...</td>\n      <td>751</td>\n      <td>1.25</td>\n      <td>78.70</td>\n      <td>2.13</td>\n    </tr>\n    <tr>\n      <th>8</th>\n      <td>170</td>\n      <td>Improper Null Termination</td>\n      <td>378</td>\n      <td>0.63</td>\n      <td>68.78</td>\n      <td>7.94</td>\n    </tr>\n    <tr>\n      <th>9</th>\n      <td>590</td>\n      <td>Free of Memory not on the Heap</td>\n      <td>363</td>\n      <td>0.60</td>\n      <td>50.96</td>\n      <td>0.00</td>\n    </tr>\n    <tr>\n      <th>10</th>\n      <td>129</td>\n      <td>Improper Validation of Array Index</td>\n      <td>209</td>\n      <td>0.35</td>\n      <td>53.11</td>\n      <td>14.35</td>\n    </tr>\n    <tr>\n      <th>11</th>\n      <td>687</td>\n      <td>Function Call With Incorrectly Specified Argum...</td>\n      <td>183</td>\n      <td>0.30</td>\n      <td>67.76</td>\n      <td>13.11</td>\n    </tr>\n    <tr>\n      <th>12</th>\n      <td>415</td>\n      <td>Double Free</td>\n      <td>127</td>\n      <td>0.21</td>\n      <td>76.38</td>\n      <td>8.66</td>\n    </tr>\n    <tr>\n      <th>13</th>\n      <td>401</td>\n      <td>Missing Release of Memory after Effective Life...</td>\n      <td>108</td>\n      <td>0.18</td>\n      <td>69.44</td>\n      <td>30.56</td>\n    </tr>\n    <tr>\n      <th>14</th>\n      <td>188</td>\n      <td>Reliance on Data/Memory Layout</td>\n      <td>74</td>\n      <td>0.12</td>\n      <td>62.16</td>\n      <td>1.35</td>\n    </tr>\n    <tr>\n      <th>15</th>\n      <td>562</td>\n      <td>Return of Stack Variable Address</td>\n      <td>67</td>\n      <td>0.11</td>\n      <td>56.72</td>\n      <td>19.40</td>\n    </tr>\n    <tr>\n      <th>16</th>\n      <td>467</td>\n      <td>Use of sizeof() on a Pointer Type</td>\n      <td>58</td>\n      <td>0.10</td>\n      <td>93.10</td>\n      <td>3.45</td>\n    </tr>\n    <tr>\n      <th>17</th>\n      <td>252</td>\n      <td>Unchecked Return Value</td>\n      <td>55</td>\n      <td>0.09</td>\n      <td>58.18</td>\n      <td>5.45</td>\n    </tr>\n    <tr>\n      <th>18</th>\n      <td>762</td>\n      <td>Mismatched Memory Management Routines</td>\n      <td>39</td>\n      <td>0.06</td>\n      <td>74.36</td>\n      <td>7.69</td>\n    </tr>\n    <tr>\n      <th>19</th>\n      <td>131</td>\n      <td>Incorrect Calculation of Buffer Size</td>\n      <td>23</td>\n      <td>0.04</td>\n      <td>91.30</td>\n      <td>4.35</td>\n    </tr>\n    <tr>\n      <th>20</th>\n      <td>459</td>\n      <td>Incomplete Cleanup</td>\n      <td>22</td>\n      <td>0.04</td>\n      <td>86.36</td>\n      <td>4.55</td>\n    </tr>\n    <tr>\n      <th>21</th>\n      <td>772</td>\n      <td>Missing Release of Resource after Effective Li...</td>\n      <td>19</td>\n      <td>0.03</td>\n      <td>73.68</td>\n      <td>26.32</td>\n    </tr>\n    <tr>\n      <th>22</th>\n      <td>456</td>\n      <td>Missing Initialization of a Variable</td>\n      <td>18</td>\n      <td>0.03</td>\n      <td>61.11</td>\n      <td>0.00</td>\n    </tr>\n    <tr>\n      <th>23</th>\n      <td>197</td>\n      <td>Numeric Truncation Error</td>\n      <td>5</td>\n      <td>0.01</td>\n      <td>60.00</td>\n      <td>0.00</td>\n    </tr>\n    <tr>\n      <th>24</th>\n      <td>665</td>\n      <td>Improper Initialization</td>\n      <td>3</td>\n      <td>0.00</td>\n      <td>33.33</td>\n      <td>0.00</td>\n    </tr>\n  </tbody>\n</table>\n</div>"
     },
     "metadata": {},
     "execution_count": 135
    }
   ],
   "source": [
    "q='''select CWE, count(*) as triaged_bug from alert a\n",
    "join memory_error me on a.alert_type_id = me.alert_type_id\n",
    "where language in ('C','C++')\n",
    "and is_invalid=0\n",
    "and memory=1\n",
    "  and classification = 'Bug'\n",
    "and CWE is not null\n",
    "group by CWE;'''\n",
    "temp= get(q)\n",
    "df=reduce(lambda x,y:pd.merge(x,y,on='CWE',how='left'),[df,temp])\n",
    "df.fillna(0, inplace=True)\n",
    "df['triaged_bug']=round(df['triaged_bug']/df.prevalence*100,2)\n",
    "df"
   ]
  },
  {
   "cell_type": "code",
   "execution_count": 136,
   "metadata": {},
   "outputs": [
    {
     "output_type": "execute_result",
     "data": {
      "text/plain": "    CWE                                               name  prevalence  \\\n0   476                           NULL Pointer Dereference        8689   \n1   404              Improper Resource Shutdown or Release        4250   \n2   119  Improper Restriction of Operations within the ...        2125   \n3   457                      Use of Uninitialized Variable        1862   \n4   190                     Integer Overflow or Wraparound        1003   \n5   125                                 Out-of-bounds Read         939   \n6   416                                     Use After Free         877   \n7   120  Buffer Copy without Checking Size of Input ('C...         751   \n8   170                          Improper Null Termination         378   \n9   590                     Free of Memory not on the Heap         363   \n10  129                 Improper Validation of Array Index         209   \n11  687  Function Call With Incorrectly Specified Argum...         183   \n12  415                                        Double Free         127   \n13  401  Missing Release of Memory after Effective Life...         108   \n14  188                     Reliance on Data/Memory Layout          74   \n15  562                   Return of Stack Variable Address          67   \n16  467                  Use of sizeof() on a Pointer Type          58   \n17  252                             Unchecked Return Value          55   \n18  762              Mismatched Memory Management Routines          39   \n19  131               Incorrect Calculation of Buffer Size          23   \n20  459                                 Incomplete Cleanup          22   \n21  772  Missing Release of Resource after Effective Li...          19   \n22  456               Missing Initialization of a Variable          18   \n23  197                           Numeric Truncation Error           5   \n24  665                            Improper Initialization           3   \n\n    rate (%)  fixed  triaged_bug  triaged_fp  \n0      14.45  81.86        21.99        4.12  \n1       7.07  66.92        14.33       18.99  \n2       3.53  67.06         4.42       12.89  \n3       3.10  74.01        15.52        6.12  \n4       1.67  54.24         7.88        7.48  \n5       1.56  67.41         8.20       11.82  \n6       1.46  73.43         7.41       19.27  \n7       1.25  78.70         2.13        3.60  \n8       0.63  68.78         7.94        9.26  \n9       0.60  50.96         0.00        6.89  \n10      0.35  53.11        14.35       24.40  \n11      0.30  67.76        13.11        7.10  \n12      0.21  76.38         8.66       15.75  \n13      0.18  69.44        30.56       28.70  \n14      0.12  62.16         1.35        9.46  \n15      0.11  56.72        19.40       28.36  \n16      0.10  93.10         3.45        1.72  \n17      0.09  58.18         5.45        5.45  \n18      0.06  74.36         7.69       23.08  \n19      0.04  91.30         4.35        8.70  \n20      0.04  86.36         4.55        9.09  \n21      0.03  73.68        26.32       15.79  \n22      0.03  61.11         0.00       27.78  \n23      0.01  60.00         0.00       20.00  \n24      0.00  33.33         0.00       33.33  ",
      "text/html": "<div>\n<style scoped>\n    .dataframe tbody tr th:only-of-type {\n        vertical-align: middle;\n    }\n\n    .dataframe tbody tr th {\n        vertical-align: top;\n    }\n\n    .dataframe thead th {\n        text-align: right;\n    }\n</style>\n<table border=\"1\" class=\"dataframe\">\n  <thead>\n    <tr style=\"text-align: right;\">\n      <th></th>\n      <th>CWE</th>\n      <th>name</th>\n      <th>prevalence</th>\n      <th>rate (%)</th>\n      <th>fixed</th>\n      <th>triaged_bug</th>\n      <th>triaged_fp</th>\n    </tr>\n  </thead>\n  <tbody>\n    <tr>\n      <th>0</th>\n      <td>476</td>\n      <td>NULL Pointer Dereference</td>\n      <td>8689</td>\n      <td>14.45</td>\n      <td>81.86</td>\n      <td>21.99</td>\n      <td>4.12</td>\n    </tr>\n    <tr>\n      <th>1</th>\n      <td>404</td>\n      <td>Improper Resource Shutdown or Release</td>\n      <td>4250</td>\n      <td>7.07</td>\n      <td>66.92</td>\n      <td>14.33</td>\n      <td>18.99</td>\n    </tr>\n    <tr>\n      <th>2</th>\n      <td>119</td>\n      <td>Improper Restriction of Operations within the ...</td>\n      <td>2125</td>\n      <td>3.53</td>\n      <td>67.06</td>\n      <td>4.42</td>\n      <td>12.89</td>\n    </tr>\n    <tr>\n      <th>3</th>\n      <td>457</td>\n      <td>Use of Uninitialized Variable</td>\n      <td>1862</td>\n      <td>3.10</td>\n      <td>74.01</td>\n      <td>15.52</td>\n      <td>6.12</td>\n    </tr>\n    <tr>\n      <th>4</th>\n      <td>190</td>\n      <td>Integer Overflow or Wraparound</td>\n      <td>1003</td>\n      <td>1.67</td>\n      <td>54.24</td>\n      <td>7.88</td>\n      <td>7.48</td>\n    </tr>\n    <tr>\n      <th>5</th>\n      <td>125</td>\n      <td>Out-of-bounds Read</td>\n      <td>939</td>\n      <td>1.56</td>\n      <td>67.41</td>\n      <td>8.20</td>\n      <td>11.82</td>\n    </tr>\n    <tr>\n      <th>6</th>\n      <td>416</td>\n      <td>Use After Free</td>\n      <td>877</td>\n      <td>1.46</td>\n      <td>73.43</td>\n      <td>7.41</td>\n      <td>19.27</td>\n    </tr>\n    <tr>\n      <th>7</th>\n      <td>120</td>\n      <td>Buffer Copy without Checking Size of Input ('C...</td>\n      <td>751</td>\n      <td>1.25</td>\n      <td>78.70</td>\n      <td>2.13</td>\n      <td>3.60</td>\n    </tr>\n    <tr>\n      <th>8</th>\n      <td>170</td>\n      <td>Improper Null Termination</td>\n      <td>378</td>\n      <td>0.63</td>\n      <td>68.78</td>\n      <td>7.94</td>\n      <td>9.26</td>\n    </tr>\n    <tr>\n      <th>9</th>\n      <td>590</td>\n      <td>Free of Memory not on the Heap</td>\n      <td>363</td>\n      <td>0.60</td>\n      <td>50.96</td>\n      <td>0.00</td>\n      <td>6.89</td>\n    </tr>\n    <tr>\n      <th>10</th>\n      <td>129</td>\n      <td>Improper Validation of Array Index</td>\n      <td>209</td>\n      <td>0.35</td>\n      <td>53.11</td>\n      <td>14.35</td>\n      <td>24.40</td>\n    </tr>\n    <tr>\n      <th>11</th>\n      <td>687</td>\n      <td>Function Call With Incorrectly Specified Argum...</td>\n      <td>183</td>\n      <td>0.30</td>\n      <td>67.76</td>\n      <td>13.11</td>\n      <td>7.10</td>\n    </tr>\n    <tr>\n      <th>12</th>\n      <td>415</td>\n      <td>Double Free</td>\n      <td>127</td>\n      <td>0.21</td>\n      <td>76.38</td>\n      <td>8.66</td>\n      <td>15.75</td>\n    </tr>\n    <tr>\n      <th>13</th>\n      <td>401</td>\n      <td>Missing Release of Memory after Effective Life...</td>\n      <td>108</td>\n      <td>0.18</td>\n      <td>69.44</td>\n      <td>30.56</td>\n      <td>28.70</td>\n    </tr>\n    <tr>\n      <th>14</th>\n      <td>188</td>\n      <td>Reliance on Data/Memory Layout</td>\n      <td>74</td>\n      <td>0.12</td>\n      <td>62.16</td>\n      <td>1.35</td>\n      <td>9.46</td>\n    </tr>\n    <tr>\n      <th>15</th>\n      <td>562</td>\n      <td>Return of Stack Variable Address</td>\n      <td>67</td>\n      <td>0.11</td>\n      <td>56.72</td>\n      <td>19.40</td>\n      <td>28.36</td>\n    </tr>\n    <tr>\n      <th>16</th>\n      <td>467</td>\n      <td>Use of sizeof() on a Pointer Type</td>\n      <td>58</td>\n      <td>0.10</td>\n      <td>93.10</td>\n      <td>3.45</td>\n      <td>1.72</td>\n    </tr>\n    <tr>\n      <th>17</th>\n      <td>252</td>\n      <td>Unchecked Return Value</td>\n      <td>55</td>\n      <td>0.09</td>\n      <td>58.18</td>\n      <td>5.45</td>\n      <td>5.45</td>\n    </tr>\n    <tr>\n      <th>18</th>\n      <td>762</td>\n      <td>Mismatched Memory Management Routines</td>\n      <td>39</td>\n      <td>0.06</td>\n      <td>74.36</td>\n      <td>7.69</td>\n      <td>23.08</td>\n    </tr>\n    <tr>\n      <th>19</th>\n      <td>131</td>\n      <td>Incorrect Calculation of Buffer Size</td>\n      <td>23</td>\n      <td>0.04</td>\n      <td>91.30</td>\n      <td>4.35</td>\n      <td>8.70</td>\n    </tr>\n    <tr>\n      <th>20</th>\n      <td>459</td>\n      <td>Incomplete Cleanup</td>\n      <td>22</td>\n      <td>0.04</td>\n      <td>86.36</td>\n      <td>4.55</td>\n      <td>9.09</td>\n    </tr>\n    <tr>\n      <th>21</th>\n      <td>772</td>\n      <td>Missing Release of Resource after Effective Li...</td>\n      <td>19</td>\n      <td>0.03</td>\n      <td>73.68</td>\n      <td>26.32</td>\n      <td>15.79</td>\n    </tr>\n    <tr>\n      <th>22</th>\n      <td>456</td>\n      <td>Missing Initialization of a Variable</td>\n      <td>18</td>\n      <td>0.03</td>\n      <td>61.11</td>\n      <td>0.00</td>\n      <td>27.78</td>\n    </tr>\n    <tr>\n      <th>23</th>\n      <td>197</td>\n      <td>Numeric Truncation Error</td>\n      <td>5</td>\n      <td>0.01</td>\n      <td>60.00</td>\n      <td>0.00</td>\n      <td>20.00</td>\n    </tr>\n    <tr>\n      <th>24</th>\n      <td>665</td>\n      <td>Improper Initialization</td>\n      <td>3</td>\n      <td>0.00</td>\n      <td>33.33</td>\n      <td>0.00</td>\n      <td>33.33</td>\n    </tr>\n  </tbody>\n</table>\n</div>"
     },
     "metadata": {},
     "execution_count": 136
    }
   ],
   "source": [
    "q='''select CWE, count(*) as triaged_fp from alert a\n",
    "join memory_error me on a.alert_type_id = me.alert_type_id\n",
    "where language in ('C','C++')\n",
    "and is_invalid=0\n",
    "and memory=1\n",
    "  and (classification = 'False Positive' or classification='Intentional')\n",
    "and CWE is not null\n",
    "group by CWE;'''\n",
    "temp= get(q)\n",
    "df=reduce(lambda x,y:pd.merge(x,y,on='CWE',how='left'),[df,temp])\n",
    "df.fillna(0, inplace=True)\n",
    "df['triaged_fp']=round(df['triaged_fp']/df.prevalence*100,2)\n",
    "df"
   ]
  },
  {
   "cell_type": "code",
   "execution_count": 137,
   "metadata": {},
   "outputs": [
    {
     "output_type": "execute_result",
     "data": {
      "text/plain": "    CWE                                               name  prevalence  \\\n0   476                           NULL Pointer Dereference        8689   \n1   404              Improper Resource Shutdown or Release        4250   \n2   119  Improper Restriction of Operations within the ...        2125   \n3   457                      Use of Uninitialized Variable        1862   \n4   190                     Integer Overflow or Wraparound        1003   \n5   125                                 Out-of-bounds Read         939   \n6   416                                     Use After Free         877   \n7   120  Buffer Copy without Checking Size of Input ('C...         751   \n8   170                          Improper Null Termination         378   \n9   590                     Free of Memory not on the Heap         363   \n10  129                 Improper Validation of Array Index         209   \n11  687  Function Call With Incorrectly Specified Argum...         183   \n12  415                                        Double Free         127   \n13  401  Missing Release of Memory after Effective Life...         108   \n14  188                     Reliance on Data/Memory Layout          74   \n15  562                   Return of Stack Variable Address          67   \n16  467                  Use of sizeof() on a Pointer Type          58   \n17  252                             Unchecked Return Value          55   \n18  762              Mismatched Memory Management Routines          39   \n19  131               Incorrect Calculation of Buffer Size          23   \n20  459                                 Incomplete Cleanup          22   \n21  772  Missing Release of Resource after Effective Li...          19   \n22  456               Missing Initialization of a Variable          18   \n23  197                           Numeric Truncation Error           5   \n24  665                            Improper Initialization           3   \n\n    rate (%)  fixed  triaged_bug  triaged_fp  actionable  \n0      14.45  81.86        21.99        4.12       58.42  \n1       7.07  66.92        14.33       18.99       43.41  \n2       3.53  67.06         4.42       12.89       33.22  \n3       3.10  74.01        15.52        6.12       53.49  \n4       1.67  54.24         7.88        7.48       35.39  \n5       1.56  67.41         8.20       11.82       42.81  \n6       1.46  73.43         7.41       19.27       36.26  \n7       1.25  78.70         2.13        3.60       15.98  \n8       0.63  68.78         7.94        9.26       56.88  \n9       0.60  50.96         0.00        6.89       30.03  \n10      0.35  53.11        14.35       24.40       32.06  \n11      0.30  67.76        13.11        7.10       45.36  \n12      0.21  76.38         8.66       15.75       42.52  \n13      0.18  69.44        30.56       28.70       47.22  \n14      0.12  62.16         1.35        9.46       47.30  \n15      0.11  56.72        19.40       28.36       40.30  \n16      0.10  93.10         3.45        1.72       44.83  \n17      0.09  58.18         5.45        5.45       36.36  \n18      0.06  74.36         7.69       23.08       35.90  \n19      0.04  91.30         4.35        8.70       21.74  \n20      0.04  86.36         4.55        9.09       63.64  \n21      0.03  73.68        26.32       15.79       52.63  \n22      0.03  61.11         0.00       27.78       44.44  \n23      0.01  60.00         0.00       20.00       20.00  \n24      0.00  33.33         0.00       33.33       33.33  ",
      "text/html": "<div>\n<style scoped>\n    .dataframe tbody tr th:only-of-type {\n        vertical-align: middle;\n    }\n\n    .dataframe tbody tr th {\n        vertical-align: top;\n    }\n\n    .dataframe thead th {\n        text-align: right;\n    }\n</style>\n<table border=\"1\" class=\"dataframe\">\n  <thead>\n    <tr style=\"text-align: right;\">\n      <th></th>\n      <th>CWE</th>\n      <th>name</th>\n      <th>prevalence</th>\n      <th>rate (%)</th>\n      <th>fixed</th>\n      <th>triaged_bug</th>\n      <th>triaged_fp</th>\n      <th>actionable</th>\n    </tr>\n  </thead>\n  <tbody>\n    <tr>\n      <th>0</th>\n      <td>476</td>\n      <td>NULL Pointer Dereference</td>\n      <td>8689</td>\n      <td>14.45</td>\n      <td>81.86</td>\n      <td>21.99</td>\n      <td>4.12</td>\n      <td>58.42</td>\n    </tr>\n    <tr>\n      <th>1</th>\n      <td>404</td>\n      <td>Improper Resource Shutdown or Release</td>\n      <td>4250</td>\n      <td>7.07</td>\n      <td>66.92</td>\n      <td>14.33</td>\n      <td>18.99</td>\n      <td>43.41</td>\n    </tr>\n    <tr>\n      <th>2</th>\n      <td>119</td>\n      <td>Improper Restriction of Operations within the ...</td>\n      <td>2125</td>\n      <td>3.53</td>\n      <td>67.06</td>\n      <td>4.42</td>\n      <td>12.89</td>\n      <td>33.22</td>\n    </tr>\n    <tr>\n      <th>3</th>\n      <td>457</td>\n      <td>Use of Uninitialized Variable</td>\n      <td>1862</td>\n      <td>3.10</td>\n      <td>74.01</td>\n      <td>15.52</td>\n      <td>6.12</td>\n      <td>53.49</td>\n    </tr>\n    <tr>\n      <th>4</th>\n      <td>190</td>\n      <td>Integer Overflow or Wraparound</td>\n      <td>1003</td>\n      <td>1.67</td>\n      <td>54.24</td>\n      <td>7.88</td>\n      <td>7.48</td>\n      <td>35.39</td>\n    </tr>\n    <tr>\n      <th>5</th>\n      <td>125</td>\n      <td>Out-of-bounds Read</td>\n      <td>939</td>\n      <td>1.56</td>\n      <td>67.41</td>\n      <td>8.20</td>\n      <td>11.82</td>\n      <td>42.81</td>\n    </tr>\n    <tr>\n      <th>6</th>\n      <td>416</td>\n      <td>Use After Free</td>\n      <td>877</td>\n      <td>1.46</td>\n      <td>73.43</td>\n      <td>7.41</td>\n      <td>19.27</td>\n      <td>36.26</td>\n    </tr>\n    <tr>\n      <th>7</th>\n      <td>120</td>\n      <td>Buffer Copy without Checking Size of Input ('C...</td>\n      <td>751</td>\n      <td>1.25</td>\n      <td>78.70</td>\n      <td>2.13</td>\n      <td>3.60</td>\n      <td>15.98</td>\n    </tr>\n    <tr>\n      <th>8</th>\n      <td>170</td>\n      <td>Improper Null Termination</td>\n      <td>378</td>\n      <td>0.63</td>\n      <td>68.78</td>\n      <td>7.94</td>\n      <td>9.26</td>\n      <td>56.88</td>\n    </tr>\n    <tr>\n      <th>9</th>\n      <td>590</td>\n      <td>Free of Memory not on the Heap</td>\n      <td>363</td>\n      <td>0.60</td>\n      <td>50.96</td>\n      <td>0.00</td>\n      <td>6.89</td>\n      <td>30.03</td>\n    </tr>\n    <tr>\n      <th>10</th>\n      <td>129</td>\n      <td>Improper Validation of Array Index</td>\n      <td>209</td>\n      <td>0.35</td>\n      <td>53.11</td>\n      <td>14.35</td>\n      <td>24.40</td>\n      <td>32.06</td>\n    </tr>\n    <tr>\n      <th>11</th>\n      <td>687</td>\n      <td>Function Call With Incorrectly Specified Argum...</td>\n      <td>183</td>\n      <td>0.30</td>\n      <td>67.76</td>\n      <td>13.11</td>\n      <td>7.10</td>\n      <td>45.36</td>\n    </tr>\n    <tr>\n      <th>12</th>\n      <td>415</td>\n      <td>Double Free</td>\n      <td>127</td>\n      <td>0.21</td>\n      <td>76.38</td>\n      <td>8.66</td>\n      <td>15.75</td>\n      <td>42.52</td>\n    </tr>\n    <tr>\n      <th>13</th>\n      <td>401</td>\n      <td>Missing Release of Memory after Effective Life...</td>\n      <td>108</td>\n      <td>0.18</td>\n      <td>69.44</td>\n      <td>30.56</td>\n      <td>28.70</td>\n      <td>47.22</td>\n    </tr>\n    <tr>\n      <th>14</th>\n      <td>188</td>\n      <td>Reliance on Data/Memory Layout</td>\n      <td>74</td>\n      <td>0.12</td>\n      <td>62.16</td>\n      <td>1.35</td>\n      <td>9.46</td>\n      <td>47.30</td>\n    </tr>\n    <tr>\n      <th>15</th>\n      <td>562</td>\n      <td>Return of Stack Variable Address</td>\n      <td>67</td>\n      <td>0.11</td>\n      <td>56.72</td>\n      <td>19.40</td>\n      <td>28.36</td>\n      <td>40.30</td>\n    </tr>\n    <tr>\n      <th>16</th>\n      <td>467</td>\n      <td>Use of sizeof() on a Pointer Type</td>\n      <td>58</td>\n      <td>0.10</td>\n      <td>93.10</td>\n      <td>3.45</td>\n      <td>1.72</td>\n      <td>44.83</td>\n    </tr>\n    <tr>\n      <th>17</th>\n      <td>252</td>\n      <td>Unchecked Return Value</td>\n      <td>55</td>\n      <td>0.09</td>\n      <td>58.18</td>\n      <td>5.45</td>\n      <td>5.45</td>\n      <td>36.36</td>\n    </tr>\n    <tr>\n      <th>18</th>\n      <td>762</td>\n      <td>Mismatched Memory Management Routines</td>\n      <td>39</td>\n      <td>0.06</td>\n      <td>74.36</td>\n      <td>7.69</td>\n      <td>23.08</td>\n      <td>35.90</td>\n    </tr>\n    <tr>\n      <th>19</th>\n      <td>131</td>\n      <td>Incorrect Calculation of Buffer Size</td>\n      <td>23</td>\n      <td>0.04</td>\n      <td>91.30</td>\n      <td>4.35</td>\n      <td>8.70</td>\n      <td>21.74</td>\n    </tr>\n    <tr>\n      <th>20</th>\n      <td>459</td>\n      <td>Incomplete Cleanup</td>\n      <td>22</td>\n      <td>0.04</td>\n      <td>86.36</td>\n      <td>4.55</td>\n      <td>9.09</td>\n      <td>63.64</td>\n    </tr>\n    <tr>\n      <th>21</th>\n      <td>772</td>\n      <td>Missing Release of Resource after Effective Li...</td>\n      <td>19</td>\n      <td>0.03</td>\n      <td>73.68</td>\n      <td>26.32</td>\n      <td>15.79</td>\n      <td>52.63</td>\n    </tr>\n    <tr>\n      <th>22</th>\n      <td>456</td>\n      <td>Missing Initialization of a Variable</td>\n      <td>18</td>\n      <td>0.03</td>\n      <td>61.11</td>\n      <td>0.00</td>\n      <td>27.78</td>\n      <td>44.44</td>\n    </tr>\n    <tr>\n      <th>23</th>\n      <td>197</td>\n      <td>Numeric Truncation Error</td>\n      <td>5</td>\n      <td>0.01</td>\n      <td>60.00</td>\n      <td>0.00</td>\n      <td>20.00</td>\n      <td>20.00</td>\n    </tr>\n    <tr>\n      <th>24</th>\n      <td>665</td>\n      <td>Improper Initialization</td>\n      <td>3</td>\n      <td>0.00</td>\n      <td>33.33</td>\n      <td>0.00</td>\n      <td>33.33</td>\n      <td>33.33</td>\n    </tr>\n  </tbody>\n</table>\n</div>"
     },
     "metadata": {},
     "execution_count": 137
    }
   ],
   "source": [
    "q='''select CWE, count(*) as actionable from alert a\n",
    "join memory_error me on a.alert_type_id = me.alert_type_id\n",
    "join actionability a2 on a.id = a2.alert_id\n",
    "where language in ('C','C++')\n",
    "and is_invalid=0\n",
    "and memory=1\n",
    "and CWE is not null\n",
    "and actionability=1\n",
    "group by CWE;'''\n",
    "temp= get(q)\n",
    "df=reduce(lambda x,y:pd.merge(x,y,on='CWE',how='left'),[df,temp])\n",
    "df.fillna(0, inplace=True)\n",
    "df.actionable=round(df.actionable/df.prevalence*100,2)\n",
    "df"
   ]
  },
  {
   "cell_type": "code",
   "execution_count": 138,
   "metadata": {},
   "outputs": [
    {
     "output_type": "execute_result",
     "data": {
      "text/plain": "     lifespan\nCWE          \n119     278.0\n120     515.0\n125     244.0\n129     244.0\n131      35.0\n170     379.5\n188     454.0\n190     315.0\n197    1260.0\n252     385.0\n401       0.0\n404     122.0\n415      62.0\n416      71.0\n456     218.5\n457     135.0\n459       0.0\n465     255.0\n467      18.0\n476      44.0\n562       2.0\n569     146.0\n590     322.0\n665      60.0\n687       8.0\n762     176.5\n772       0.5",
      "text/html": "<div>\n<style scoped>\n    .dataframe tbody tr th:only-of-type {\n        vertical-align: middle;\n    }\n\n    .dataframe tbody tr th {\n        vertical-align: top;\n    }\n\n    .dataframe thead th {\n        text-align: right;\n    }\n</style>\n<table border=\"1\" class=\"dataframe\">\n  <thead>\n    <tr style=\"text-align: right;\">\n      <th></th>\n      <th>lifespan</th>\n    </tr>\n    <tr>\n      <th>CWE</th>\n      <th></th>\n    </tr>\n  </thead>\n  <tbody>\n    <tr>\n      <th>119</th>\n      <td>278.0</td>\n    </tr>\n    <tr>\n      <th>120</th>\n      <td>515.0</td>\n    </tr>\n    <tr>\n      <th>125</th>\n      <td>244.0</td>\n    </tr>\n    <tr>\n      <th>129</th>\n      <td>244.0</td>\n    </tr>\n    <tr>\n      <th>131</th>\n      <td>35.0</td>\n    </tr>\n    <tr>\n      <th>170</th>\n      <td>379.5</td>\n    </tr>\n    <tr>\n      <th>188</th>\n      <td>454.0</td>\n    </tr>\n    <tr>\n      <th>190</th>\n      <td>315.0</td>\n    </tr>\n    <tr>\n      <th>197</th>\n      <td>1260.0</td>\n    </tr>\n    <tr>\n      <th>252</th>\n      <td>385.0</td>\n    </tr>\n    <tr>\n      <th>401</th>\n      <td>0.0</td>\n    </tr>\n    <tr>\n      <th>404</th>\n      <td>122.0</td>\n    </tr>\n    <tr>\n      <th>415</th>\n      <td>62.0</td>\n    </tr>\n    <tr>\n      <th>416</th>\n      <td>71.0</td>\n    </tr>\n    <tr>\n      <th>456</th>\n      <td>218.5</td>\n    </tr>\n    <tr>\n      <th>457</th>\n      <td>135.0</td>\n    </tr>\n    <tr>\n      <th>459</th>\n      <td>0.0</td>\n    </tr>\n    <tr>\n      <th>465</th>\n      <td>255.0</td>\n    </tr>\n    <tr>\n      <th>467</th>\n      <td>18.0</td>\n    </tr>\n    <tr>\n      <th>476</th>\n      <td>44.0</td>\n    </tr>\n    <tr>\n      <th>562</th>\n      <td>2.0</td>\n    </tr>\n    <tr>\n      <th>569</th>\n      <td>146.0</td>\n    </tr>\n    <tr>\n      <th>590</th>\n      <td>322.0</td>\n    </tr>\n    <tr>\n      <th>665</th>\n      <td>60.0</td>\n    </tr>\n    <tr>\n      <th>687</th>\n      <td>8.0</td>\n    </tr>\n    <tr>\n      <th>762</th>\n      <td>176.5</td>\n    </tr>\n    <tr>\n      <th>772</th>\n      <td>0.5</td>\n    </tr>\n  </tbody>\n</table>\n</div>"
     },
     "metadata": {},
     "execution_count": 138
    }
   ],
   "source": [
    "q='''select CWE, lifespan from alert a\n",
    "join memory_error me on a.alert_type_id = me.alert_type_id\n",
    "join actionability a2 on a.id = a2.alert_id\n",
    "join\n",
    "(select a.id, datediff(s.date,first_detected) as lifespan from alert a\n",
    "join snapshot s\n",
    "on a.last_snapshot_id=s.id) t1\n",
    "on a.id=t1.id\n",
    "where language in ('C','C++')\n",
    "and is_invalid=0\n",
    "and memory=1\n",
    "and CWE is not null\n",
    "and actionability=1;'''\n",
    "l=get(q)\n",
    "l=l.groupby('CWE')[['lifespan']].median()\n",
    "l"
   ]
  },
  {
   "cell_type": "code",
   "execution_count": 139,
   "metadata": {},
   "outputs": [],
   "source": [
    "df=reduce(lambda x,y:pd.merge(x,y,on='CWE',how='left'),[df,l])\n",
    "df.fillna(0, inplace=True)\n",
    "df.prevalence=df.prevalence.apply(lambda x:'{:,}'.format(x))\n",
    "df.prevalence=df.prevalence+' ('+df['rate (%)'].astype(str)+'%)'\n",
    "df=df.drop(columns='rate (%)')\n",
    "df.fixed= df.fixed.astype(str) + '%'\n",
    "df.triaged_big=df.triaged_bug.astype(str) + '%'\n",
    "df.triaged_fp=df.triaged_fp.astype(str) + '%'\n",
    "df.actionable=df.actionable.astype(str) + '%'\n",
    "df = df.rename(columns={'CWE':'CEW-Id','name':'CWE-name','prevalence':'No. of alerts','fixed':'Eliminated', 'triaged_bug':'Triaged Bug by Devs.',\n",
    "'triaged_fp':'Triaged False Positive',\n",
    "'actionable':'Actionable', 'lifespan':'lifespan (days)'})\n",
    "df=df[['CEW-Id','CWE-name','No. of alerts','Eliminated','Actionable',\n",
    "'lifespan (days)','Triaged Bug by Devs.','Triaged False Positive']]"
   ]
  },
  {
   "cell_type": "code",
   "execution_count": 143,
   "metadata": {
    "tags": []
   },
   "outputs": [
    {
     "output_type": "stream",
     "name": "stdout",
     "text": "|   CEW-Id | CWE-name                                                                | No. of alerts   | Eliminated   | Actionable   |   lifespan (days) |   Triaged Bug by Devs. | Triaged False Positive   |\n|---------:|:------------------------------------------------------------------------|:----------------|:-------------|:-------------|------------------:|-----------------------:|:-------------------------|\n|      476 | NULL Pointer Dereference                                                | 8,689 (14.45%)  | 81.86%       | 58.42%       |              44   |                  21.99 | 4.12%                    |\n|      404 | Improper Resource Shutdown or Release                                   | 4,250 (7.07%)   | 66.92%       | 43.41%       |             122   |                  14.33 | 18.99%                   |\n|      119 | Improper Restriction of Operations within the Bounds of a Memory Buffer | 2,125 (3.53%)   | 67.06%       | 33.22%       |             278   |                   4.42 | 12.89%                   |\n|      457 | Use of Uninitialized Variable                                           | 1,862 (3.1%)    | 74.01%       | 53.49%       |             135   |                  15.52 | 6.12%                    |\n|      190 | Integer Overflow or Wraparound                                          | 1,003 (1.67%)   | 54.24%       | 35.39%       |             315   |                   7.88 | 7.48%                    |\n|      125 | Out-of-bounds Read                                                      | 939 (1.56%)     | 67.41%       | 42.81%       |             244   |                   8.2  | 11.82%                   |\n|      416 | Use After Free                                                          | 877 (1.46%)     | 73.43%       | 36.26%       |              71   |                   7.41 | 19.27%                   |\n|      120 | Buffer Copy without Checking Size of Input ('Classic Buffer Overflow')  | 751 (1.25%)     | 78.7%        | 15.98%       |             515   |                   2.13 | 3.6%                     |\n|      170 | Improper Null Termination                                               | 378 (0.63%)     | 68.78%       | 56.88%       |             379.5 |                   7.94 | 9.26%                    |\n|      590 | Free of Memory not on the Heap                                          | 363 (0.6%)      | 50.96%       | 30.03%       |             322   |                   0    | 6.89%                    |\n"
    }
   ],
   "source": [
    "from tabulate import tabulate\n",
    "df=df.head(10)\n",
    "print(tabulate(df,tablefmt='pipe',showindex=False, headers='keys'))"
   ]
  },
  {
   "cell_type": "code",
   "execution_count": 141,
   "metadata": {},
   "outputs": [],
   "source": [
    "df.to_csv ('cwe_insights_on_coverity_data.csv', index = False, header=True)"
   ]
  }
 ],
 "metadata": {
  "language_info": {
   "codemirror_mode": {
    "name": "ipython",
    "version": 3
   },
   "file_extension": ".py",
   "mimetype": "text/x-python",
   "name": "python",
   "nbconvert_exporter": "python",
   "pygments_lexer": "ipython3",
   "version": "3.7.3-final"
  },
  "orig_nbformat": 2,
  "kernelspec": {
   "name": "python3",
   "display_name": "Python 3"
  }
 },
 "nbformat": 4,
 "nbformat_minor": 2
}