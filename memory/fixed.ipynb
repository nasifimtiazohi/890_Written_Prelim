{
 "cells": [
  {
   "cell_type": "code",
   "execution_count": 1,
   "metadata": {},
   "outputs": [],
   "source": [
    "import sys\n",
    "sys.path.append('../main')\n",
    "import sql\n",
    "import pandas as pd\n",
    "from functools import reduce\n",
    "from tabulate import tabulate\n",
    "pd.options.display.float_format = '{:,.1f}'.format"
   ]
  },
  {
   "cell_type": "code",
   "execution_count": 2,
   "metadata": {
    "tags": []
   },
   "outputs": [],
   "source": [
    "q='''select name, count(*) as total from alert a\n",
    "        join project p on a.project_id = p.id\n",
    "        join memory_error me on a.alert_type_id = me.alert_type_id\n",
    "        where is_invalid=0\n",
    "        and language in ('C','C++')\n",
    "        group by name\n",
    "        order by name'''\n",
    "ta = pd.DataFrame(sql.execute(q)) \n",
    "q='''select name, count(*) as memory from alert a\n",
    "        join project p on a.project_id = p.id\n",
    "        join memory_error me on a.alert_type_id = me.alert_type_id\n",
    "        where is_invalid=0\n",
    "        and me.memory =1 \n",
    "        and language in ('C','C++')\n",
    "        group by name\n",
    "        order by name'''\n",
    "tma = pd.DataFrame(sql.execute(q)) \n",
    "tma['memory (%)']= round((tma.memory / ta.total) * 100,2)\n",
    "q='''select name, count(*) as non_memory from alert a\n",
    "        join project p on a.project_id = p.id\n",
    "        join memory_error me on a.alert_type_id = me.alert_type_id\n",
    "        where is_invalid=0\n",
    "        and me.memory is null\n",
    "        and language in ('C','C++')\n",
    "        group by name\n",
    "        order by name'''\n",
    "tnma = pd.DataFrame(sql.execute(q)) \n",
    "tnma['non_memory (%)']= round((tnma.non_memory / ta.total) * 100,2)\n",
    "df= reduce(lambda x,y: pd.merge(x,y, on='name', how='outer'),[ta,tma,tnma])   \n",
    "df = df.sort_values('total',ascending=False)"
   ]
  },
  {
   "cell_type": "code",
   "execution_count": 3,
   "metadata": {},
   "outputs": [
    {
     "output_type": "execute_result",
     "data": {
      "text/plain": [
       "35.445"
      ]
     },
     "metadata": {},
     "execution_count": 3
    }
   ],
   "source": [
    "df['memory (%)'].median()"
   ]
  },
  {
   "cell_type": "code",
   "execution_count": 4,
   "metadata": {
    "tags": []
   },
   "outputs": [
    {
     "output_type": "stream",
     "name": "stdout",
     "text": [
      "\\begin{tabular}{lll}\n\\hline\n Project               & Total Alerts   & Memory Alerts   \\\\\n\\hline\n Linux                 & 19,514         & 7,903 (40.5\\%)   \\\\\n Firefox               & 12,944         & 5,448 (42.09\\%)  \\\\\n LibreOffice           & 11,982         & 3,975 (33.17\\%)  \\\\\n Samba                 & 4,507          & 1,700 (37.72\\%)  \\\\\n VTK                   & 2,522          & 1,166 (46.23\\%)  \\\\\n OpenCV                & 2,443          & 710 (29.06\\%)    \\\\\n Kodi                  & 2,393          & 682 (28.5\\%)     \\\\\n !CHAOS Control System & 1,980          & 282 (14.24\\%)    \\\\\n Chromium EC           & 964            & 306 (31.74\\%)    \\\\\n Thunderbird           & 885            & 357 (40.34\\%)    \\\\\n\\hline\n\\end{tabular}\n"
     ]
    }
   ],
   "source": [
    "df['memory']= df['memory'].apply(lambda x: '{:,}'.format(x))\n",
    "df['memory']= df['memory'].astype(str)+' ('+df['memory (%)'].astype(str)+'%)'\n",
    "df=df.drop(columns=['non_memory', 'non_memory (%)', 'memory (%)'])\n",
    "df=df.rename(columns={'name':'Project','total':'Total Alerts', 'memory':'Memory Alerts'})\n",
    "df['Total Alerts']=df['Total Alerts'].apply(lambda x: '{:,}'.format(x))\n",
    "print(tabulate(df, tablefmt='latex',showindex=False, headers='keys'))"
   ]
  },
  {
   "cell_type": "code",
   "execution_count": 5,
   "metadata": {},
   "outputs": [],
   "source": [
    "q='''select * from alert a\n",
    "join project p on a.project_id = p.id\n",
    "join memory_error me on a.alert_type_id = me.alert_type_id\n",
    "where is_invalid=0\n",
    "and language in ('C','C++')\n",
    "and me.memory =1\n",
    "order by name;'''\n",
    "root=pd.DataFrame(sql.execute(q)) \n",
    "#root.head()\n",
    "total=root.groupby('name')[['cid']].count()\n",
    "total.rename(columns={'cid':'total'},inplace=True)\n",
    "eliminated=root[root['status']=='Fixed'].groupby('name')[['cid']].count()\n",
    "eliminated.rename(columns={'cid':'e'},inplace=True)\n",
    "bug=root[root['classification']=='Bug'].groupby('name')[['cid']].count()\n",
    "q='''select * from alert a\n",
    "join project p on a.project_id = p.id\n",
    "join memory_error me on a.alert_type_id = me.alert_type_id\n",
    "join actionability ac on ac.alert_id=a.id\n",
    "where is_invalid=0\n",
    "and language in ('C','C++')\n",
    "and actionability = 1\n",
    "and me.memory =1\n",
    "order by name;'''\n",
    "df=pd.DataFrame(sql.execute(q))\n",
    "actionable=df.groupby('name')[['cid']].count()\n",
    "actionable.rename(columns={'cid':'a'},inplace=True)\n",
    "bug.rename(columns={'cid':'b'},inplace=True)\n",
    "df=reduce(lambda x,y:pd.merge(x,y,on='name'),[total,eliminated, actionable, bug])\n",
    "df.e = round((df.e/df.total)*100,2)    \n",
    "df.a = round((df.a/df.total)*100,2)\n",
    "df.b = round((df.b/df.total)*100,2)  \n",
    "df=df.reset_index() "
   ]
  },
  {
   "cell_type": "code",
   "execution_count": 6,
   "metadata": {
    "tags": []
   },
   "outputs": [
    {
     "output_type": "execute_result",
     "data": {
      "text/plain": [
       "                 Project  Total Memory Alerts Eliminated Memory  \\\n",
       "0  !CHAOS Control System                  282            80.14%   \n",
       "1            Chromium EC                  306            93.46%   \n",
       "2                Firefox                 5448            77.22%   \n",
       "3                   Kodi                  682            68.62%   \n",
       "4            LibreOffice                 3975            80.63%   \n",
       "5                  Linux                 7903            73.06%   \n",
       "6                 OpenCV                  710            89.15%   \n",
       "7                  Samba                 1700            77.88%   \n",
       "8            Thunderbird                  357            63.31%   \n",
       "9                    VTK                 1166            12.78%   \n",
       "\n",
       "  Actionable Memory Triaged Bug by Devs. Memory  \n",
       "0            39.01%                       1.42%  \n",
       "1            29.74%                      17.65%  \n",
       "2            49.72%                      12.43%  \n",
       "3            54.11%                      25.07%  \n",
       "4            73.46%                      51.35%  \n",
       "5            43.54%                       3.11%  \n",
       "6            32.54%                       0.28%  \n",
       "7            39.88%                       3.82%  \n",
       "8            24.37%                      12.61%  \n",
       "9              7.2%                       0.43%  "
      ],
      "text/html": "<div>\n<style scoped>\n    .dataframe tbody tr th:only-of-type {\n        vertical-align: middle;\n    }\n\n    .dataframe tbody tr th {\n        vertical-align: top;\n    }\n\n    .dataframe thead th {\n        text-align: right;\n    }\n</style>\n<table border=\"1\" class=\"dataframe\">\n  <thead>\n    <tr style=\"text-align: right;\">\n      <th></th>\n      <th>Project</th>\n      <th>Total Memory Alerts</th>\n      <th>Eliminated Memory</th>\n      <th>Actionable Memory</th>\n      <th>Triaged Bug by Devs. Memory</th>\n    </tr>\n  </thead>\n  <tbody>\n    <tr>\n      <th>0</th>\n      <td>!CHAOS Control System</td>\n      <td>282</td>\n      <td>80.14%</td>\n      <td>39.01%</td>\n      <td>1.42%</td>\n    </tr>\n    <tr>\n      <th>1</th>\n      <td>Chromium EC</td>\n      <td>306</td>\n      <td>93.46%</td>\n      <td>29.74%</td>\n      <td>17.65%</td>\n    </tr>\n    <tr>\n      <th>2</th>\n      <td>Firefox</td>\n      <td>5448</td>\n      <td>77.22%</td>\n      <td>49.72%</td>\n      <td>12.43%</td>\n    </tr>\n    <tr>\n      <th>3</th>\n      <td>Kodi</td>\n      <td>682</td>\n      <td>68.62%</td>\n      <td>54.11%</td>\n      <td>25.07%</td>\n    </tr>\n    <tr>\n      <th>4</th>\n      <td>LibreOffice</td>\n      <td>3975</td>\n      <td>80.63%</td>\n      <td>73.46%</td>\n      <td>51.35%</td>\n    </tr>\n    <tr>\n      <th>5</th>\n      <td>Linux</td>\n      <td>7903</td>\n      <td>73.06%</td>\n      <td>43.54%</td>\n      <td>3.11%</td>\n    </tr>\n    <tr>\n      <th>6</th>\n      <td>OpenCV</td>\n      <td>710</td>\n      <td>89.15%</td>\n      <td>32.54%</td>\n      <td>0.28%</td>\n    </tr>\n    <tr>\n      <th>7</th>\n      <td>Samba</td>\n      <td>1700</td>\n      <td>77.88%</td>\n      <td>39.88%</td>\n      <td>3.82%</td>\n    </tr>\n    <tr>\n      <th>8</th>\n      <td>Thunderbird</td>\n      <td>357</td>\n      <td>63.31%</td>\n      <td>24.37%</td>\n      <td>12.61%</td>\n    </tr>\n    <tr>\n      <th>9</th>\n      <td>VTK</td>\n      <td>1166</td>\n      <td>12.78%</td>\n      <td>7.2%</td>\n      <td>0.43%</td>\n    </tr>\n  </tbody>\n</table>\n</div>"
     },
     "metadata": {},
     "execution_count": 6
    }
   ],
   "source": [
    "df.e=df.e.astype(str)+'%'\n",
    "df.a=df.a.astype(str)+'%'\n",
    "df.b=df.b.astype(str)+'%'\n",
    "df.rename(columns={'name':'Project','total':'Total Memory Alerts', 'e':'Eliminated Memory', 'a':'Actionable Memory','b':'Triaged Bug by Devs. Memory'}, inplace=True)\n",
    "memory = df \n",
    "memory"
   ]
  },
  {
   "cell_type": "code",
   "execution_count": 7,
   "metadata": {
    "tags": []
   },
   "outputs": [
    {
     "output_type": "stream",
     "name": "stdout",
     "text": [
      "\\begin{tabular}{lrlll}\n\\hline\n Project               &   Total Memory Alerts & Eliminated Memory   & Actionable Memory   & Triaged Bug by Devs. Memory   \\\\\n\\hline\n Linux                 &                  7903 & 73.06\\%              & 43.54\\%              & 3.11\\%                         \\\\\n Firefox               &                  5448 & 77.22\\%              & 49.72\\%              & 12.43\\%                        \\\\\n LibreOffice           &                  3975 & 80.63\\%              & 73.46\\%              & 51.35\\%                        \\\\\n Samba                 &                  1700 & 77.88\\%              & 39.88\\%              & 3.82\\%                         \\\\\n VTK                   &                  1166 & 12.78\\%              & 7.2\\%                & 0.43\\%                         \\\\\n OpenCV                &                   710 & 89.15\\%              & 32.54\\%              & 0.28\\%                         \\\\\n Kodi                  &                   682 & 68.62\\%              & 54.11\\%              & 25.07\\%                        \\\\\n Thunderbird           &                   357 & 63.31\\%              & 24.37\\%              & 12.61\\%                        \\\\\n Chromium EC           &                   306 & 93.46\\%              & 29.74\\%              & 17.65\\%                        \\\\\n !CHAOS Control System &                   282 & 80.14\\%              & 39.01\\%              & 1.42\\%                         \\\\\n\\hline\n\\end{tabular}\n"
     ]
    }
   ],
   "source": [
    "memory = memory.sort_values('Total Memory Alerts', ascending=False)\n",
    "print(tabulate(memory, tablefmt='latex',headers='keys',showindex=False))"
   ]
  },
  {
   "cell_type": "code",
   "execution_count": 8,
   "metadata": {},
   "outputs": [
    {
     "output_type": "execute_result",
     "data": {
      "text/plain": [
       "       Project  Total Non-Memory Alerts  Eliminated Non-memory  \\\n",
       "0  Chromium EC                      658                   71.6   \n",
       "1      Firefox                     7496                   70.9   \n",
       "2         Kodi                     1711                   67.3   \n",
       "3  LibreOffice                     8007                   94.1   \n",
       "4        Linux                    11611                   65.2   \n",
       "5       OpenCV                     1733                   76.5   \n",
       "6        Samba                     2807                   73.3   \n",
       "7  Thunderbird                      528                   49.8   \n",
       "8          VTK                     1356                   19.1   \n",
       "\n",
       "   Actionable Non-memory  Triaged Bugs by Devs. Non-memory  \n",
       "0                   28.0                               8.5  \n",
       "1                   46.5                               5.1  \n",
       "2                   50.3                              11.6  \n",
       "3                   70.2                              39.8  \n",
       "4                   39.1                               3.4  \n",
       "5                   36.0                               0.4  \n",
       "6                   24.7                               1.5  \n",
       "7                   15.0                               5.1  \n",
       "8                    7.6                               1.8  "
      ],
      "text/html": "<div>\n<style scoped>\n    .dataframe tbody tr th:only-of-type {\n        vertical-align: middle;\n    }\n\n    .dataframe tbody tr th {\n        vertical-align: top;\n    }\n\n    .dataframe thead th {\n        text-align: right;\n    }\n</style>\n<table border=\"1\" class=\"dataframe\">\n  <thead>\n    <tr style=\"text-align: right;\">\n      <th></th>\n      <th>Project</th>\n      <th>Total Non-Memory Alerts</th>\n      <th>Eliminated Non-memory</th>\n      <th>Actionable Non-memory</th>\n      <th>Triaged Bugs by Devs. Non-memory</th>\n    </tr>\n  </thead>\n  <tbody>\n    <tr>\n      <th>0</th>\n      <td>Chromium EC</td>\n      <td>658</td>\n      <td>71.6</td>\n      <td>28.0</td>\n      <td>8.5</td>\n    </tr>\n    <tr>\n      <th>1</th>\n      <td>Firefox</td>\n      <td>7496</td>\n      <td>70.9</td>\n      <td>46.5</td>\n      <td>5.1</td>\n    </tr>\n    <tr>\n      <th>2</th>\n      <td>Kodi</td>\n      <td>1711</td>\n      <td>67.3</td>\n      <td>50.3</td>\n      <td>11.6</td>\n    </tr>\n    <tr>\n      <th>3</th>\n      <td>LibreOffice</td>\n      <td>8007</td>\n      <td>94.1</td>\n      <td>70.2</td>\n      <td>39.8</td>\n    </tr>\n    <tr>\n      <th>4</th>\n      <td>Linux</td>\n      <td>11611</td>\n      <td>65.2</td>\n      <td>39.1</td>\n      <td>3.4</td>\n    </tr>\n    <tr>\n      <th>5</th>\n      <td>OpenCV</td>\n      <td>1733</td>\n      <td>76.5</td>\n      <td>36.0</td>\n      <td>0.4</td>\n    </tr>\n    <tr>\n      <th>6</th>\n      <td>Samba</td>\n      <td>2807</td>\n      <td>73.3</td>\n      <td>24.7</td>\n      <td>1.5</td>\n    </tr>\n    <tr>\n      <th>7</th>\n      <td>Thunderbird</td>\n      <td>528</td>\n      <td>49.8</td>\n      <td>15.0</td>\n      <td>5.1</td>\n    </tr>\n    <tr>\n      <th>8</th>\n      <td>VTK</td>\n      <td>1356</td>\n      <td>19.1</td>\n      <td>7.6</td>\n      <td>1.8</td>\n    </tr>\n  </tbody>\n</table>\n</div>"
     },
     "metadata": {},
     "execution_count": 8
    }
   ],
   "source": [
    "q='''select * from alert a\n",
    "join project p on a.project_id = p.id\n",
    "join memory_error me on a.alert_type_id = me.alert_type_id\n",
    "where is_invalid=0\n",
    "and language in ('C','C++')\n",
    "and me.memory is null\n",
    "order by name;'''\n",
    "root=pd.DataFrame(sql.execute(q)) \n",
    "total=root.groupby('name')[['cid']].count()\n",
    "total.rename(columns={'cid':'total'},inplace=True)\n",
    "eliminated=root[root['status']=='Fixed'].groupby('name')[['cid']].count()\n",
    "eliminated.rename(columns={'cid':'e'},inplace=True)\n",
    "bug=root[root['classification']=='Bug'].groupby('name')[['cid']].count()\n",
    "q='''select * from alert a\n",
    "join project p on a.project_id = p.id\n",
    "join memory_error me on a.alert_type_id = me.alert_type_id\n",
    "join actionability ac on ac.alert_id=a.id\n",
    "where is_invalid=0\n",
    "and language in ('C','C++')\n",
    "and actionability = 1\n",
    "and me.memory is null\n",
    "order by name;'''\n",
    "df=pd.DataFrame(sql.execute(q))\n",
    "actionable=df.groupby('name')[['cid']].count()\n",
    "actionable.rename(columns={'cid':'a'},inplace=True)\n",
    "bug.rename(columns={'cid':'b'},inplace=True)\n",
    "df=reduce(lambda x,y:pd.merge(x,y,on='name'),[total,eliminated, actionable, bug])\n",
    "df=df.reset_index()\n",
    "df.e = round((df.e/df.total)*100,2)    \n",
    "df.a = round((df.a/df.total)*100,2)\n",
    "df.b = round((df.b/df.total)*100,2)   \n",
    "# df.e=df.e.astype(str)+'%'\n",
    "# df.a=df.a.astype(str)+'%'\n",
    "# df.b=df.b.astype(str)+'%'\n",
    "df.rename(columns={'name':'Project','total':'Total Non-Memory Alerts', 'e':'Eliminated Non-memory', 'a':'Actionable Non-memory','b':'Triaged Bugs by Devs. Non-memory'}, inplace=True)\n",
    "non_memory = df        \n",
    "#non_memory = non_memory.sort_values('total non_memory', ascending=False)\n",
    "non_memory"
   ]
  },
  {
   "cell_type": "code",
   "execution_count": 9,
   "metadata": {},
   "outputs": [
    {
     "output_type": "stream",
     "name": "stdout",
     "text": [
      "\\begin{tabular}{lrrrr}\n\\hline\n Project     &   Total Non-Memory Alerts &   Eliminated Non-memory &   Actionable Non-memory &   Triaged Bugs by Devs. Non-memory \\\\\n\\hline\n Linux       &                     11611 &                   65.19 &                   39.08 &                               3.42 \\\\\n LibreOffice &                      8007 &                   94.06 &                   70.18 &                              39.8  \\\\\n Firefox     &                      7496 &                   70.89 &                   46.48 &                               5.14 \\\\\n Samba       &                      2807 &                   73.35 &                   24.72 &                               1.53 \\\\\n OpenCV      &                      1733 &                   76.46 &                   35.95 &                               0.4  \\\\\n Kodi        &                      1711 &                   67.27 &                   50.32 &                              11.57 \\\\\n VTK         &                      1356 &                   19.1  &                    7.6  &                               1.84 \\\\\n Chromium EC &                       658 &                   71.58 &                   27.96 &                               8.51 \\\\\n Thunderbird &                       528 &                   49.81 &                   14.96 &                               5.11 \\\\\n\\hline\n\\end{tabular}\n"
     ]
    }
   ],
   "source": [
    "non_memory = non_memory.sort_values('Total Non-Memory Alerts', ascending=False)\n",
    "print(tabulate(non_memory, tablefmt='latex',headers='keys',showindex=False))"
   ]
  },
  {
   "cell_type": "code",
   "execution_count": 10,
   "metadata": {},
   "outputs": [
    {
     "output_type": "execute_result",
     "data": {
      "text/plain": [
       "       Project  Total Memory Alerts Eliminated Memory Actionable Memory  \\\n",
       "0        Linux                 7903            73.06%            43.54%   \n",
       "1      Firefox                 5448            77.22%            49.72%   \n",
       "2  LibreOffice                 3975            80.63%            73.46%   \n",
       "3        Samba                 1700            77.88%            39.88%   \n",
       "4          VTK                 1166            12.78%              7.2%   \n",
       "5       OpenCV                  710            89.15%            32.54%   \n",
       "6         Kodi                  682            68.62%            54.11%   \n",
       "7  Thunderbird                  357            63.31%            24.37%   \n",
       "8  Chromium EC                  306            93.46%            29.74%   \n",
       "\n",
       "  Triaged Bug by Devs. Memory  Total Non-Memory Alerts  Eliminated Non-memory  \\\n",
       "0                       3.11%                    11611                   65.2   \n",
       "1                      12.43%                     7496                   70.9   \n",
       "2                      51.35%                     8007                   94.1   \n",
       "3                       3.82%                     2807                   73.3   \n",
       "4                       0.43%                     1356                   19.1   \n",
       "5                       0.28%                     1733                   76.5   \n",
       "6                      25.07%                     1711                   67.3   \n",
       "7                      12.61%                      528                   49.8   \n",
       "8                      17.65%                      658                   71.6   \n",
       "\n",
       "   Actionable Non-memory  Triaged Bugs by Devs. Non-memory  \n",
       "0                   39.1                               3.4  \n",
       "1                   46.5                               5.1  \n",
       "2                   70.2                              39.8  \n",
       "3                   24.7                               1.5  \n",
       "4                    7.6                               1.8  \n",
       "5                   36.0                               0.4  \n",
       "6                   50.3                              11.6  \n",
       "7                   15.0                               5.1  \n",
       "8                   28.0                               8.5  "
      ],
      "text/html": "<div>\n<style scoped>\n    .dataframe tbody tr th:only-of-type {\n        vertical-align: middle;\n    }\n\n    .dataframe tbody tr th {\n        vertical-align: top;\n    }\n\n    .dataframe thead th {\n        text-align: right;\n    }\n</style>\n<table border=\"1\" class=\"dataframe\">\n  <thead>\n    <tr style=\"text-align: right;\">\n      <th></th>\n      <th>Project</th>\n      <th>Total Memory Alerts</th>\n      <th>Eliminated Memory</th>\n      <th>Actionable Memory</th>\n      <th>Triaged Bug by Devs. Memory</th>\n      <th>Total Non-Memory Alerts</th>\n      <th>Eliminated Non-memory</th>\n      <th>Actionable Non-memory</th>\n      <th>Triaged Bugs by Devs. Non-memory</th>\n    </tr>\n  </thead>\n  <tbody>\n    <tr>\n      <th>0</th>\n      <td>Linux</td>\n      <td>7903</td>\n      <td>73.06%</td>\n      <td>43.54%</td>\n      <td>3.11%</td>\n      <td>11611</td>\n      <td>65.2</td>\n      <td>39.1</td>\n      <td>3.4</td>\n    </tr>\n    <tr>\n      <th>1</th>\n      <td>Firefox</td>\n      <td>5448</td>\n      <td>77.22%</td>\n      <td>49.72%</td>\n      <td>12.43%</td>\n      <td>7496</td>\n      <td>70.9</td>\n      <td>46.5</td>\n      <td>5.1</td>\n    </tr>\n    <tr>\n      <th>2</th>\n      <td>LibreOffice</td>\n      <td>3975</td>\n      <td>80.63%</td>\n      <td>73.46%</td>\n      <td>51.35%</td>\n      <td>8007</td>\n      <td>94.1</td>\n      <td>70.2</td>\n      <td>39.8</td>\n    </tr>\n    <tr>\n      <th>3</th>\n      <td>Samba</td>\n      <td>1700</td>\n      <td>77.88%</td>\n      <td>39.88%</td>\n      <td>3.82%</td>\n      <td>2807</td>\n      <td>73.3</td>\n      <td>24.7</td>\n      <td>1.5</td>\n    </tr>\n    <tr>\n      <th>4</th>\n      <td>VTK</td>\n      <td>1166</td>\n      <td>12.78%</td>\n      <td>7.2%</td>\n      <td>0.43%</td>\n      <td>1356</td>\n      <td>19.1</td>\n      <td>7.6</td>\n      <td>1.8</td>\n    </tr>\n    <tr>\n      <th>5</th>\n      <td>OpenCV</td>\n      <td>710</td>\n      <td>89.15%</td>\n      <td>32.54%</td>\n      <td>0.28%</td>\n      <td>1733</td>\n      <td>76.5</td>\n      <td>36.0</td>\n      <td>0.4</td>\n    </tr>\n    <tr>\n      <th>6</th>\n      <td>Kodi</td>\n      <td>682</td>\n      <td>68.62%</td>\n      <td>54.11%</td>\n      <td>25.07%</td>\n      <td>1711</td>\n      <td>67.3</td>\n      <td>50.3</td>\n      <td>11.6</td>\n    </tr>\n    <tr>\n      <th>7</th>\n      <td>Thunderbird</td>\n      <td>357</td>\n      <td>63.31%</td>\n      <td>24.37%</td>\n      <td>12.61%</td>\n      <td>528</td>\n      <td>49.8</td>\n      <td>15.0</td>\n      <td>5.1</td>\n    </tr>\n    <tr>\n      <th>8</th>\n      <td>Chromium EC</td>\n      <td>306</td>\n      <td>93.46%</td>\n      <td>29.74%</td>\n      <td>17.65%</td>\n      <td>658</td>\n      <td>71.6</td>\n      <td>28.0</td>\n      <td>8.5</td>\n    </tr>\n  </tbody>\n</table>\n</div>"
     },
     "metadata": {},
     "execution_count": 10
    }
   ],
   "source": [
    "df=reduce(lambda x,y: pd.merge(x,y,on='Project'),[memory,non_memory])\n",
    "df = df.sort_values('Total Memory Alerts', ascending=False)\n",
    "df"
   ]
  },
  {
   "cell_type": "code",
   "execution_count": 11,
   "metadata": {
    "tags": []
   },
   "outputs": [
    {
     "output_type": "error",
     "ename": "ValueError",
     "evalue": "failed in converting 1st argument `x' of statlib.swilk to C/Fortran array",
     "traceback": [
      "\u001b[0;31m---------------------------------------------------------------------------\u001b[0m",
      "\u001b[0;31mValueError\u001b[0m                                Traceback (most recent call last)",
      "\u001b[0;31mValueError\u001b[0m: could not convert string to float: '12.78%'",
      "\nThe above exception was the direct cause of the following exception:\n",
      "\u001b[0;31mValueError\u001b[0m                                Traceback (most recent call last)",
      "\u001b[0;32m<ipython-input-11-f20edf90a7ac>\u001b[0m in \u001b[0;36m<module>\u001b[0;34m\u001b[0m\n\u001b[1;32m      1\u001b[0m \u001b[0;32mfrom\u001b[0m \u001b[0mscipy\u001b[0m\u001b[0;34m.\u001b[0m\u001b[0mstats\u001b[0m \u001b[0;32mimport\u001b[0m \u001b[0mshapiro\u001b[0m\u001b[0;34m\u001b[0m\u001b[0;34m\u001b[0m\u001b[0m\n\u001b[0;32m----> 2\u001b[0;31m \u001b[0mstat\u001b[0m\u001b[0;34m,\u001b[0m \u001b[0mp\u001b[0m \u001b[0;34m=\u001b[0m \u001b[0mshapiro\u001b[0m\u001b[0;34m(\u001b[0m\u001b[0mdf\u001b[0m\u001b[0;34m[\u001b[0m\u001b[0;34m'Eliminated Memory'\u001b[0m\u001b[0;34m]\u001b[0m\u001b[0;34m)\u001b[0m\u001b[0;34m\u001b[0m\u001b[0;34m\u001b[0m\u001b[0m\n\u001b[0m\u001b[1;32m      3\u001b[0m \u001b[0;32mfor\u001b[0m \u001b[0mcol\u001b[0m \u001b[0;32min\u001b[0m \u001b[0mdf\u001b[0m\u001b[0;34m.\u001b[0m\u001b[0mcolumns\u001b[0m\u001b[0;34m:\u001b[0m\u001b[0;34m\u001b[0m\u001b[0;34m\u001b[0m\u001b[0m\n\u001b[1;32m      4\u001b[0m     \u001b[0;32mif\u001b[0m \u001b[0mcol\u001b[0m\u001b[0;34m==\u001b[0m\u001b[0;34m'Project'\u001b[0m\u001b[0;34m:\u001b[0m\u001b[0;34m\u001b[0m\u001b[0;34m\u001b[0m\u001b[0m\n\u001b[1;32m      5\u001b[0m         \u001b[0;32mcontinue\u001b[0m\u001b[0;34m\u001b[0m\u001b[0;34m\u001b[0m\u001b[0m\n",
      "\u001b[0;32m~/.local/share/virtualenvs/advisory-lifecycle-RDwwAgfI/lib/python3.9/site-packages/scipy/stats/morestats.py\u001b[0m in \u001b[0;36mshapiro\u001b[0;34m(x)\u001b[0m\n\u001b[1;32m   1674\u001b[0m \u001b[0;34m\u001b[0m\u001b[0m\n\u001b[1;32m   1675\u001b[0m     \u001b[0my\u001b[0m \u001b[0;34m=\u001b[0m \u001b[0msort\u001b[0m\u001b[0;34m(\u001b[0m\u001b[0mx\u001b[0m\u001b[0;34m)\u001b[0m\u001b[0;34m\u001b[0m\u001b[0;34m\u001b[0m\u001b[0m\n\u001b[0;32m-> 1676\u001b[0;31m     \u001b[0ma\u001b[0m\u001b[0;34m,\u001b[0m \u001b[0mw\u001b[0m\u001b[0;34m,\u001b[0m \u001b[0mpw\u001b[0m\u001b[0;34m,\u001b[0m \u001b[0mifault\u001b[0m \u001b[0;34m=\u001b[0m \u001b[0mstatlib\u001b[0m\u001b[0;34m.\u001b[0m\u001b[0mswilk\u001b[0m\u001b[0;34m(\u001b[0m\u001b[0my\u001b[0m\u001b[0;34m,\u001b[0m \u001b[0ma\u001b[0m\u001b[0;34m[\u001b[0m\u001b[0;34m:\u001b[0m\u001b[0mN\u001b[0m\u001b[0;34m//\u001b[0m\u001b[0;36m2\u001b[0m\u001b[0;34m]\u001b[0m\u001b[0;34m,\u001b[0m \u001b[0minit\u001b[0m\u001b[0;34m)\u001b[0m\u001b[0;34m\u001b[0m\u001b[0;34m\u001b[0m\u001b[0m\n\u001b[0m\u001b[1;32m   1677\u001b[0m     \u001b[0;32mif\u001b[0m \u001b[0mifault\u001b[0m \u001b[0;32mnot\u001b[0m \u001b[0;32min\u001b[0m \u001b[0;34m[\u001b[0m\u001b[0;36m0\u001b[0m\u001b[0;34m,\u001b[0m \u001b[0;36m2\u001b[0m\u001b[0;34m]\u001b[0m\u001b[0;34m:\u001b[0m\u001b[0;34m\u001b[0m\u001b[0;34m\u001b[0m\u001b[0m\n\u001b[1;32m   1678\u001b[0m         warnings.warn(\"Input data for shapiro has range zero. The results \"\n",
      "\u001b[0;31mValueError\u001b[0m: failed in converting 1st argument `x' of statlib.swilk to C/Fortran array"
     ]
    }
   ],
   "source": [
    "from scipy.stats import shapiro\n",
    "stat, p = shapiro(df['Eliminated Memory'])\n",
    "for col in df.columns:\n",
    "    if col=='Project':\n",
    "        continue\n",
    "    stat, p = shapiro(df[col])\n",
    "    print(col, stat, p)"
   ]
  },
  {
   "cell_type": "code",
   "execution_count": 26,
   "metadata": {},
   "outputs": [
    {
     "output_type": "execute_result",
     "data": {
      "text/plain": "(29.0, 0.1656935481238075)"
     },
     "metadata": {},
     "execution_count": 26
    }
   ],
   "source": [
    "from scipy.stats import mannwhitneyu\n",
    "stat, p = mannwhitneyu(df['Eliminated Memory'],df['Eliminated Non-memory']\n",
    ")\n",
    "stat, p"
   ]
  },
  {
   "cell_type": "code",
   "execution_count": 27,
   "metadata": {},
   "outputs": [
    {
     "output_type": "execute_result",
     "data": {
      "text/plain": "(35.0, 0.3294216274746403)"
     },
     "metadata": {},
     "execution_count": 27
    }
   ],
   "source": [
    "from scipy.stats import mannwhitneyu\n",
    "stat, p = mannwhitneyu(df['Actionable Memory'],df['Actionable Non-memory']\n",
    ")\n",
    "stat, p"
   ]
  },
  {
   "cell_type": "code",
   "execution_count": 28,
   "metadata": {},
   "outputs": [
    {
     "output_type": "execute_result",
     "data": {
      "text/plain": "(32.0, 0.23996434607297862)"
     },
     "metadata": {},
     "execution_count": 28
    }
   ],
   "source": [
    "from scipy.stats import mannwhitneyu\n",
    "stat, p = mannwhitneyu(df['Triaged Bug by Devs. Memory'],df['Triaged Bugs by Devs. Non-memory']\n",
    ")\n",
    "stat, p"
   ]
  },
  {
   "cell_type": "code",
   "execution_count": 29,
   "metadata": {},
   "outputs": [
    {
     "output_type": "execute_result",
     "data": {
      "text/plain": "77.22"
     },
     "metadata": {},
     "execution_count": 29
    }
   ],
   "source": [
    "df['Eliminated Memory'].median()"
   ]
  },
  {
   "cell_type": "code",
   "execution_count": 30,
   "metadata": {},
   "outputs": [
    {
     "output_type": "execute_result",
     "data": {
      "text/plain": "39.88"
     },
     "metadata": {},
     "execution_count": 30
    }
   ],
   "source": [
    "df['Actionable Memory'].median()"
   ]
  },
  {
   "cell_type": "code",
   "execution_count": 31,
   "metadata": {},
   "outputs": [
    {
     "output_type": "execute_result",
     "data": {
      "text/plain": "12.43"
     },
     "metadata": {},
     "execution_count": 31
    }
   ],
   "source": [
    "df['Triaged Bug by Devs. Memory'].median()"
   ]
  },
  {
   "cell_type": "code",
   "execution_count": null,
   "metadata": {},
   "outputs": [],
   "source": []
  }
 ],
 "metadata": {
  "language_info": {
   "codemirror_mode": {
    "name": "ipython",
    "version": 3
   },
   "file_extension": ".py",
   "mimetype": "text/x-python",
   "name": "python",
   "nbconvert_exporter": "python",
   "pygments_lexer": "ipython3",
   "version": "3.9.2-final"
  },
  "orig_nbformat": 2,
  "kernelspec": {
   "name": "python392jvsc74a57bd045e6bb90db539892217150e51eb80500a9bf028439c0d739bd24c7b8d42327c6",
   "display_name": "Python 3.9.2 64-bit ('advisory-lifecycle': pipenv)",
   "language": "python"
  }
 },
 "nbformat": 4,
 "nbformat_minor": 2
}