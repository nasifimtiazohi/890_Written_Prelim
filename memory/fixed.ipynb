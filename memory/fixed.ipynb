{
 "cells": [
  {
   "cell_type": "code",
   "execution_count": 1,
   "metadata": {},
   "outputs": [],
   "source": [
    "import sql\n",
    "import pandas as pd\n",
    "from functools import reduce"
   ]
  },
  {
   "cell_type": "code",
   "execution_count": 2,
   "metadata": {},
   "outputs": [
    {
     "output_type": "execute_result",
     "data": {
      "text/plain": "           name  total  memory memory (%)  non_memory non_memory (%)\n0       Firefox  12945    5407     41.77%        7538         58.23%\n1          Kodi   2393     640     26.74%        1753         73.26%\n2         Linux  19519    7600     38.94%       11919         61.06%\n3  ovirt-engine   2989    1273     42.59%        1716         57.41%\n4         Samba   4507    1734     38.47%        2773         61.53%",
      "text/html": "<div>\n<style scoped>\n    .dataframe tbody tr th:only-of-type {\n        vertical-align: middle;\n    }\n\n    .dataframe tbody tr th {\n        vertical-align: top;\n    }\n\n    .dataframe thead th {\n        text-align: right;\n    }\n</style>\n<table border=\"1\" class=\"dataframe\">\n  <thead>\n    <tr style=\"text-align: right;\">\n      <th></th>\n      <th>name</th>\n      <th>total</th>\n      <th>memory</th>\n      <th>memory (%)</th>\n      <th>non_memory</th>\n      <th>non_memory (%)</th>\n    </tr>\n  </thead>\n  <tbody>\n    <tr>\n      <th>0</th>\n      <td>Firefox</td>\n      <td>12945</td>\n      <td>5407</td>\n      <td>41.77%</td>\n      <td>7538</td>\n      <td>58.23%</td>\n    </tr>\n    <tr>\n      <th>1</th>\n      <td>Kodi</td>\n      <td>2393</td>\n      <td>640</td>\n      <td>26.74%</td>\n      <td>1753</td>\n      <td>73.26%</td>\n    </tr>\n    <tr>\n      <th>2</th>\n      <td>Linux</td>\n      <td>19519</td>\n      <td>7600</td>\n      <td>38.94%</td>\n      <td>11919</td>\n      <td>61.06%</td>\n    </tr>\n    <tr>\n      <th>3</th>\n      <td>ovirt-engine</td>\n      <td>2989</td>\n      <td>1273</td>\n      <td>42.59%</td>\n      <td>1716</td>\n      <td>57.41%</td>\n    </tr>\n    <tr>\n      <th>4</th>\n      <td>Samba</td>\n      <td>4507</td>\n      <td>1734</td>\n      <td>38.47%</td>\n      <td>2773</td>\n      <td>61.53%</td>\n    </tr>\n  </tbody>\n</table>\n</div>"
     },
     "metadata": {},
     "execution_count": 2
    }
   ],
   "source": [
    "q='''select name, count(*) as total from alert a\n",
    "        join project p on a.project_id = p.id\n",
    "        join memory_error me on a.alert_type_id = me.alert_type_id\n",
    "        where is_invalid=0\n",
    "        group by name\n",
    "        order by name'''\n",
    "ta = pd.DataFrame(sql.execute(q)) \n",
    "q='''select name, count(*) as memory from alert a\n",
    "        join project p on a.project_id = p.id\n",
    "        join memory_error me on a.alert_type_id = me.alert_type_id\n",
    "        where is_invalid=0\n",
    "        and me.memory =1 \n",
    "        group by name\n",
    "        order by name'''\n",
    "tma = pd.DataFrame(sql.execute(q)) \n",
    "tma['memory (%)']= round((tma.memory / ta.total) * 100,2)\n",
    "q='''select name, count(*) as non_memory from alert a\n",
    "        join project p on a.project_id = p.id\n",
    "        join memory_error me on a.alert_type_id = me.alert_type_id\n",
    "        where is_invalid=0\n",
    "        and me.memory is null\n",
    "        group by name\n",
    "        order by name'''\n",
    "tnma = pd.DataFrame(sql.execute(q)) \n",
    "tnma['non_memory (%)']= round((tnma.non_memory / ta.total) * 100,2)\n",
    "df= reduce(lambda x,y: pd.merge(x,y, on='name', how='outer'),[ta,tma,tnma])\n",
    "df['memory (%)']=df['memory (%)'].astype(str)+\"%\"\n",
    "df['non_memory (%)']=df['non_memory (%)'].astype(str)+\"%\"\n",
    "df"
   ]
  },
  {
   "cell_type": "code",
   "execution_count": 21,
   "metadata": {},
   "outputs": [
    {
     "output_type": "execute_result",
     "data": {
      "text/plain": "              total memory eliminated memory actionable memory  \\\nname                                                             \nFirefox               5407            77.23%            49.81%   \nKodi                   640            69.22%            54.06%   \nLinux                 7600            73.38%            43.01%   \nSamba                 1734            78.43%             39.1%   \novirt-engine          1273            35.98%            27.02%   \n\n             triaged_bug memory  \nname                             \nFirefox                  12.39%  \nKodi                     24.53%  \nLinux                     2.89%  \nSamba                     3.75%  \novirt-engine              2.51%  ",
      "text/html": "<div>\n<style scoped>\n    .dataframe tbody tr th:only-of-type {\n        vertical-align: middle;\n    }\n\n    .dataframe tbody tr th {\n        vertical-align: top;\n    }\n\n    .dataframe thead th {\n        text-align: right;\n    }\n</style>\n<table border=\"1\" class=\"dataframe\">\n  <thead>\n    <tr style=\"text-align: right;\">\n      <th></th>\n      <th>total memory</th>\n      <th>eliminated memory</th>\n      <th>actionable memory</th>\n      <th>triaged_bug memory</th>\n    </tr>\n    <tr>\n      <th>name</th>\n      <th></th>\n      <th></th>\n      <th></th>\n      <th></th>\n    </tr>\n  </thead>\n  <tbody>\n    <tr>\n      <th>Firefox</th>\n      <td>5407</td>\n      <td>77.23%</td>\n      <td>49.81%</td>\n      <td>12.39%</td>\n    </tr>\n    <tr>\n      <th>Kodi</th>\n      <td>640</td>\n      <td>69.22%</td>\n      <td>54.06%</td>\n      <td>24.53%</td>\n    </tr>\n    <tr>\n      <th>Linux</th>\n      <td>7600</td>\n      <td>73.38%</td>\n      <td>43.01%</td>\n      <td>2.89%</td>\n    </tr>\n    <tr>\n      <th>Samba</th>\n      <td>1734</td>\n      <td>78.43%</td>\n      <td>39.1%</td>\n      <td>3.75%</td>\n    </tr>\n    <tr>\n      <th>ovirt-engine</th>\n      <td>1273</td>\n      <td>35.98%</td>\n      <td>27.02%</td>\n      <td>2.51%</td>\n    </tr>\n  </tbody>\n</table>\n</div>"
     },
     "metadata": {},
     "execution_count": 21
    }
   ],
   "source": [
    "q='''select * from alert a\n",
    "join project p on a.project_id = p.id\n",
    "join memory_error me on a.alert_type_id = me.alert_type_id\n",
    "where is_invalid=0\n",
    "and me.memory =1\n",
    "order by name;'''\n",
    "root=pd.DataFrame(sql.execute(q)) \n",
    "#root.head()\n",
    "total=root.groupby('name')[['cid']].count()\n",
    "total.rename(columns={'cid':'total'},inplace=True)\n",
    "eliminated=root[root['status']=='Fixed'].groupby('name')[['cid']].count()\n",
    "eliminated.rename(columns={'cid':'e'},inplace=True)\n",
    "bug=root[root['classification']=='Bug'].groupby('name')[['cid']].count()\n",
    "q='''select * from alert a\n",
    "join project p on a.project_id = p.id\n",
    "join memory_error me on a.alert_type_id = me.alert_type_id\n",
    "join actionability ac on ac.alert_id=a.id\n",
    "where is_invalid=0\n",
    "and actionability = 1\n",
    "and me.memory =1\n",
    "order by name;'''\n",
    "df=pd.DataFrame(sql.execute(q))\n",
    "actionable=df.groupby('name')[['cid']].count()\n",
    "actionable.rename(columns={'cid':'a'},inplace=True)\n",
    "bug.rename(columns={'cid':'b'},inplace=True)\n",
    "df=reduce(lambda x,y:pd.merge(x,y,on='name'),[total,eliminated, actionable, bug])\n",
    "df.e = round((df.e/df.total)*100,2)    \n",
    "df.a = round((df.a/df.total)*100,2)\n",
    "df.b = round((df.b/df.total)*100,2)   \n",
    "df.e=df.e.astype(str)+'%'\n",
    "df.a=df.a.astype(str)+'%'\n",
    "df.b=df.b.astype(str)+'%'\n",
    "df.rename(columns={'total':'total memory', 'e':'eliminated memory', 'a':'actionable memory','b':'triaged_bug memory'}, inplace=True)\n",
    "memory = df        \n",
    "memory                                                 "
   ]
  },
  {
   "cell_type": "code",
   "execution_count": 22,
   "metadata": {},
   "outputs": [
    {
     "output_type": "execute_result",
     "data": {
      "text/plain": "              total non_memory eliminated non_memory actionable non_memory  \\\nname                                                                         \nFirefox                   7538                70.92%                46.43%   \nKodi                      1753                67.08%                50.43%   \nLinux                    11919                65.16%                39.51%   \nSamba                     2773                72.95%                25.03%   \novirt-engine              1716                 47.9%                32.69%   \n\n             triaged_bug non_memory  \nname                                 \nFirefox                        5.2%  \nKodi                         12.09%  \nLinux                         3.55%  \nSamba                         1.55%  \novirt-engine                  2.62%  ",
      "text/html": "<div>\n<style scoped>\n    .dataframe tbody tr th:only-of-type {\n        vertical-align: middle;\n    }\n\n    .dataframe tbody tr th {\n        vertical-align: top;\n    }\n\n    .dataframe thead th {\n        text-align: right;\n    }\n</style>\n<table border=\"1\" class=\"dataframe\">\n  <thead>\n    <tr style=\"text-align: right;\">\n      <th></th>\n      <th>total non_memory</th>\n      <th>eliminated non_memory</th>\n      <th>actionable non_memory</th>\n      <th>triaged_bug non_memory</th>\n    </tr>\n    <tr>\n      <th>name</th>\n      <th></th>\n      <th></th>\n      <th></th>\n      <th></th>\n    </tr>\n  </thead>\n  <tbody>\n    <tr>\n      <th>Firefox</th>\n      <td>7538</td>\n      <td>70.92%</td>\n      <td>46.43%</td>\n      <td>5.2%</td>\n    </tr>\n    <tr>\n      <th>Kodi</th>\n      <td>1753</td>\n      <td>67.08%</td>\n      <td>50.43%</td>\n      <td>12.09%</td>\n    </tr>\n    <tr>\n      <th>Linux</th>\n      <td>11919</td>\n      <td>65.16%</td>\n      <td>39.51%</td>\n      <td>3.55%</td>\n    </tr>\n    <tr>\n      <th>Samba</th>\n      <td>2773</td>\n      <td>72.95%</td>\n      <td>25.03%</td>\n      <td>1.55%</td>\n    </tr>\n    <tr>\n      <th>ovirt-engine</th>\n      <td>1716</td>\n      <td>47.9%</td>\n      <td>32.69%</td>\n      <td>2.62%</td>\n    </tr>\n  </tbody>\n</table>\n</div>"
     },
     "metadata": {},
     "execution_count": 22
    }
   ],
   "source": [
    "q='''select * from alert a\n",
    "join project p on a.project_id = p.id\n",
    "join memory_error me on a.alert_type_id = me.alert_type_id\n",
    "where is_invalid=0\n",
    "and me.memory is null\n",
    "order by name;'''\n",
    "root=pd.DataFrame(sql.execute(q)) \n",
    "#root.head()\n",
    "total=root.groupby('name')[['cid']].count()\n",
    "total.rename(columns={'cid':'total'},inplace=True)\n",
    "eliminated=root[root['status']=='Fixed'].groupby('name')[['cid']].count()\n",
    "eliminated.rename(columns={'cid':'e'},inplace=True)\n",
    "bug=root[root['classification']=='Bug'].groupby('name')[['cid']].count()\n",
    "q='''select * from alert a\n",
    "join project p on a.project_id = p.id\n",
    "join memory_error me on a.alert_type_id = me.alert_type_id\n",
    "join actionability ac on ac.alert_id=a.id\n",
    "where is_invalid=0\n",
    "and actionability = 1\n",
    "and me.memory is null\n",
    "order by name;'''\n",
    "df=pd.DataFrame(sql.execute(q))\n",
    "actionable=df.groupby('name')[['cid']].count()\n",
    "actionable.rename(columns={'cid':'a'},inplace=True)\n",
    "bug.rename(columns={'cid':'b'},inplace=True)\n",
    "df=reduce(lambda x,y:pd.merge(x,y,on='name'),[total,eliminated, actionable, bug])\n",
    "df.e = round((df.e/df.total)*100,2)    \n",
    "df.a = round((df.a/df.total)*100,2)\n",
    "df.b = round((df.b/df.total)*100,2)   \n",
    "df.e=df.e.astype(str)+'%'\n",
    "df.a=df.a.astype(str)+'%'\n",
    "df.b=df.b.astype(str)+'%'\n",
    "df.rename(columns={'total':'total non_memory', 'e':'eliminated non_memory', 'a':'actionable non_memory','b':'triaged_bug non_memory'}, inplace=True)\n",
    "non_memory = df        \n",
    "non_memory     "
   ]
  },
  {
   "cell_type": "code",
   "execution_count": 23,
   "metadata": {},
   "outputs": [
    {
     "output_type": "execute_result",
     "data": {
      "text/plain": "              total memory  total non_memory eliminated memory  \\\nname                                                             \nFirefox               5407              7538            77.23%   \nKodi                   640              1753            69.22%   \nLinux                 7600             11919            73.38%   \nSamba                 1734              2773            78.43%   \novirt-engine          1273              1716            35.98%   \n\n             eliminated non_memory actionable memory actionable non_memory  \\\nname                                                                         \nFirefox                     70.92%            49.81%                46.43%   \nKodi                        67.08%            54.06%                50.43%   \nLinux                       65.16%            43.01%                39.51%   \nSamba                       72.95%             39.1%                25.03%   \novirt-engine                 47.9%            27.02%                32.69%   \n\n             triaged_bug memory triaged_bug non_memory  \nname                                                    \nFirefox                  12.39%                   5.2%  \nKodi                     24.53%                 12.09%  \nLinux                     2.89%                  3.55%  \nSamba                     3.75%                  1.55%  \novirt-engine              2.51%                  2.62%  ",
      "text/html": "<div>\n<style scoped>\n    .dataframe tbody tr th:only-of-type {\n        vertical-align: middle;\n    }\n\n    .dataframe tbody tr th {\n        vertical-align: top;\n    }\n\n    .dataframe thead th {\n        text-align: right;\n    }\n</style>\n<table border=\"1\" class=\"dataframe\">\n  <thead>\n    <tr style=\"text-align: right;\">\n      <th></th>\n      <th>total memory</th>\n      <th>total non_memory</th>\n      <th>eliminated memory</th>\n      <th>eliminated non_memory</th>\n      <th>actionable memory</th>\n      <th>actionable non_memory</th>\n      <th>triaged_bug memory</th>\n      <th>triaged_bug non_memory</th>\n    </tr>\n    <tr>\n      <th>name</th>\n      <th></th>\n      <th></th>\n      <th></th>\n      <th></th>\n      <th></th>\n      <th></th>\n      <th></th>\n      <th></th>\n    </tr>\n  </thead>\n  <tbody>\n    <tr>\n      <th>Firefox</th>\n      <td>5407</td>\n      <td>7538</td>\n      <td>77.23%</td>\n      <td>70.92%</td>\n      <td>49.81%</td>\n      <td>46.43%</td>\n      <td>12.39%</td>\n      <td>5.2%</td>\n    </tr>\n    <tr>\n      <th>Kodi</th>\n      <td>640</td>\n      <td>1753</td>\n      <td>69.22%</td>\n      <td>67.08%</td>\n      <td>54.06%</td>\n      <td>50.43%</td>\n      <td>24.53%</td>\n      <td>12.09%</td>\n    </tr>\n    <tr>\n      <th>Linux</th>\n      <td>7600</td>\n      <td>11919</td>\n      <td>73.38%</td>\n      <td>65.16%</td>\n      <td>43.01%</td>\n      <td>39.51%</td>\n      <td>2.89%</td>\n      <td>3.55%</td>\n    </tr>\n    <tr>\n      <th>Samba</th>\n      <td>1734</td>\n      <td>2773</td>\n      <td>78.43%</td>\n      <td>72.95%</td>\n      <td>39.1%</td>\n      <td>25.03%</td>\n      <td>3.75%</td>\n      <td>1.55%</td>\n    </tr>\n    <tr>\n      <th>ovirt-engine</th>\n      <td>1273</td>\n      <td>1716</td>\n      <td>35.98%</td>\n      <td>47.9%</td>\n      <td>27.02%</td>\n      <td>32.69%</td>\n      <td>2.51%</td>\n      <td>2.62%</td>\n    </tr>\n  </tbody>\n</table>\n</div>"
     },
     "metadata": {},
     "execution_count": 23
    }
   ],
   "source": [
    "df=reduce(lambda x,y: pd.merge(x,y,on='name'),[memory,non_memory])\n",
    "df=df[['total memory', 'total non_memory', 'eliminated memory', 'eliminated non_memory',\n",
    "    'actionable memory','actionable non_memory','triaged_bug memory','triaged_bug non_memory']]\n",
    "df"
   ]
  }
 ],
 "metadata": {
  "language_info": {
   "codemirror_mode": {
    "name": "ipython",
    "version": 3
   },
   "file_extension": ".py",
   "mimetype": "text/x-python",
   "name": "python",
   "nbconvert_exporter": "python",
   "pygments_lexer": "ipython3",
   "version": "3.7.3-final"
  },
  "orig_nbformat": 2,
  "kernelspec": {
   "name": "python3",
   "display_name": "Python 3"
  }
 },
 "nbformat": 4,
 "nbformat_minor": 2
}