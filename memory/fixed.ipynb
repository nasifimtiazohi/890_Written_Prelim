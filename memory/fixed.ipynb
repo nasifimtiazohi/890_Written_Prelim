{
 "cells": [
  {
   "cell_type": "code",
   "execution_count": 152,
   "metadata": {},
   "outputs": [],
   "source": [
    "import sys\n",
    "sys.path.append('../main')\n",
    "import sql\n",
    "import pandas as pd\n",
    "from functools import reduce\n",
    "from tabulate import tabulate\n",
    "pd.options.display.float_format = '{:,.1f}'.format"
   ]
  },
  {
   "cell_type": "code",
   "execution_count": 153,
   "metadata": {
    "tags": []
   },
   "outputs": [],
   "source": [
    "q='''select name, count(*) as total from alert a\n",
    "        join project p on a.project_id = p.id\n",
    "        join memory_error me on a.alert_type_id = me.alert_type_id\n",
    "        where is_invalid=0\n",
    "        group by name\n",
    "        order by name'''\n",
    "ta = pd.DataFrame(sql.execute(q)) \n",
    "q='''select name, count(*) as memory from alert a\n",
    "        join project p on a.project_id = p.id\n",
    "        join memory_error me on a.alert_type_id = me.alert_type_id\n",
    "        where is_invalid=0\n",
    "        and me.memory =1 \n",
    "        group by name\n",
    "        order by name'''\n",
    "tma = pd.DataFrame(sql.execute(q)) \n",
    "tma['memory (%)']= round((tma.memory / ta.total) * 100,2)\n",
    "q='''select name, count(*) as non_memory from alert a\n",
    "        join project p on a.project_id = p.id\n",
    "        join memory_error me on a.alert_type_id = me.alert_type_id\n",
    "        where is_invalid=0\n",
    "        and me.memory is null\n",
    "        group by name\n",
    "        order by name'''\n",
    "tnma = pd.DataFrame(sql.execute(q)) \n",
    "tnma['non_memory (%)']= round((tnma.non_memory / ta.total) * 100,2)\n",
    "df= reduce(lambda x,y: pd.merge(x,y, on='name', how='outer'),[ta,tma,tnma])   \n",
    "df = df.sort_values('total',ascending=False)"
   ]
  },
  {
   "cell_type": "code",
   "execution_count": 154,
   "metadata": {},
   "outputs": [
    {
     "output_type": "execute_result",
     "data": {
      "text/plain": "37.72"
     },
     "metadata": {},
     "execution_count": 154
    }
   ],
   "source": [
    "df['memory (%)'].median()"
   ]
  },
  {
   "cell_type": "code",
   "execution_count": 155,
   "metadata": {
    "tags": []
   },
   "outputs": [
    {
     "output_type": "stream",
     "name": "stdout",
     "text": "| Project               |   Total Alerts | Memory Alerts   |\n|:----------------------|---------------:|:----------------|\n| Linux                 |          19514 | 7903 (40.5%)    |\n| Firefox               |          12945 | 5448 (42.09%)   |\n| LibreOffice           |          12515 | 4194 (33.51%)   |\n| Samba                 |           4507 | 1700 (37.72%)   |\n| ovirt-engine          |           2989 | 1272 (42.56%)   |\n| VTK                   |           2522 | 1166 (46.23%)   |\n| OpenCV                |           2443 | 710 (29.06%)    |\n| Kodi                  |           2393 | 682 (28.5%)     |\n| !CHAOS Control System |           1980 | 282 (14.24%)    |\n| Chromium EC           |            964 | 306 (31.74%)    |\n| Thunderbird           |            885 | 357 (40.34%)    |\n"
    }
   ],
   "source": [
    "df['memory']= df['memory'].astype(str)+' ('+df['memory (%)'].astype(str)+'%)'\n",
    "df=df.drop(columns=['non_memory', 'non_memory (%)', 'memory (%)'])\n",
    "df=df.rename(columns={'name':'Project','total':'Total Alerts', 'memory':'Memory Alerts'})\n",
    "print(tabulate(df, tablefmt='pipe',showindex=False, headers='keys'))"
   ]
  },
  {
   "cell_type": "code",
   "execution_count": 156,
   "metadata": {},
   "outputs": [],
   "source": [
    "q='''select * from alert a\n",
    "join project p on a.project_id = p.id\n",
    "join memory_error me on a.alert_type_id = me.alert_type_id\n",
    "where is_invalid=0\n",
    "and me.memory =1\n",
    "order by name;'''\n",
    "root=pd.DataFrame(sql.execute(q)) \n",
    "#root.head()\n",
    "total=root.groupby('name')[['cid']].count()\n",
    "total.rename(columns={'cid':'total'},inplace=True)\n",
    "eliminated=root[root['status']=='Fixed'].groupby('name')[['cid']].count()\n",
    "eliminated.rename(columns={'cid':'e'},inplace=True)\n",
    "bug=root[root['classification']=='Bug'].groupby('name')[['cid']].count()\n",
    "q='''select * from alert a\n",
    "join project p on a.project_id = p.id\n",
    "join memory_error me on a.alert_type_id = me.alert_type_id\n",
    "join actionability ac on ac.alert_id=a.id\n",
    "where is_invalid=0\n",
    "and actionability = 1\n",
    "and me.memory =1\n",
    "order by name;'''\n",
    "df=pd.DataFrame(sql.execute(q))\n",
    "actionable=df.groupby('name')[['cid']].count()\n",
    "actionable.rename(columns={'cid':'a'},inplace=True)\n",
    "bug.rename(columns={'cid':'b'},inplace=True)\n",
    "df=reduce(lambda x,y:pd.merge(x,y,on='name'),[total,eliminated, actionable, bug])\n",
    "df.e = round((df.e/df.total)*100,2)    \n",
    "df.a = round((df.a/df.total)*100,2)\n",
    "df.b = round((df.b/df.total)*100,2)  \n",
    "df=df.reset_index() "
   ]
  },
  {
   "cell_type": "code",
   "execution_count": 157,
   "metadata": {
    "tags": []
   },
   "outputs": [
    {
     "output_type": "execute_result",
     "data": {
      "text/plain": "                  Project  Total Memory Alerts  Eliminated Memory  \\\n0   !CHAOS Control System                  282               80.1   \n1             Chromium EC                  306               93.5   \n2                 Firefox                 5448               77.2   \n3                    Kodi                  682               68.6   \n4             LibreOffice                 4194               80.6   \n5                   Linux                 7903               73.1   \n6                  OpenCV                  710               89.2   \n7                   Samba                 1700               77.9   \n8             Thunderbird                  357               63.3   \n9                     VTK                 1166               12.8   \n10           ovirt-engine                 1272               36.1   \n\n    Actionable Memory  Triaged Bug by Devs. Memory  \n0                39.0                          1.4  \n1                29.7                         17.6  \n2                49.7                         12.4  \n3                54.1                         25.1  \n4                73.8                         52.4  \n5                43.5                          3.1  \n6                32.5                          0.3  \n7                39.9                          3.8  \n8                24.4                         12.6  \n9                 7.2                          0.4  \n10               27.1                          2.6  ",
      "text/html": "<div>\n<style scoped>\n    .dataframe tbody tr th:only-of-type {\n        vertical-align: middle;\n    }\n\n    .dataframe tbody tr th {\n        vertical-align: top;\n    }\n\n    .dataframe thead th {\n        text-align: right;\n    }\n</style>\n<table border=\"1\" class=\"dataframe\">\n  <thead>\n    <tr style=\"text-align: right;\">\n      <th></th>\n      <th>Project</th>\n      <th>Total Memory Alerts</th>\n      <th>Eliminated Memory</th>\n      <th>Actionable Memory</th>\n      <th>Triaged Bug by Devs. Memory</th>\n    </tr>\n  </thead>\n  <tbody>\n    <tr>\n      <th>0</th>\n      <td>!CHAOS Control System</td>\n      <td>282</td>\n      <td>80.1</td>\n      <td>39.0</td>\n      <td>1.4</td>\n    </tr>\n    <tr>\n      <th>1</th>\n      <td>Chromium EC</td>\n      <td>306</td>\n      <td>93.5</td>\n      <td>29.7</td>\n      <td>17.6</td>\n    </tr>\n    <tr>\n      <th>2</th>\n      <td>Firefox</td>\n      <td>5448</td>\n      <td>77.2</td>\n      <td>49.7</td>\n      <td>12.4</td>\n    </tr>\n    <tr>\n      <th>3</th>\n      <td>Kodi</td>\n      <td>682</td>\n      <td>68.6</td>\n      <td>54.1</td>\n      <td>25.1</td>\n    </tr>\n    <tr>\n      <th>4</th>\n      <td>LibreOffice</td>\n      <td>4194</td>\n      <td>80.6</td>\n      <td>73.8</td>\n      <td>52.4</td>\n    </tr>\n    <tr>\n      <th>5</th>\n      <td>Linux</td>\n      <td>7903</td>\n      <td>73.1</td>\n      <td>43.5</td>\n      <td>3.1</td>\n    </tr>\n    <tr>\n      <th>6</th>\n      <td>OpenCV</td>\n      <td>710</td>\n      <td>89.2</td>\n      <td>32.5</td>\n      <td>0.3</td>\n    </tr>\n    <tr>\n      <th>7</th>\n      <td>Samba</td>\n      <td>1700</td>\n      <td>77.9</td>\n      <td>39.9</td>\n      <td>3.8</td>\n    </tr>\n    <tr>\n      <th>8</th>\n      <td>Thunderbird</td>\n      <td>357</td>\n      <td>63.3</td>\n      <td>24.4</td>\n      <td>12.6</td>\n    </tr>\n    <tr>\n      <th>9</th>\n      <td>VTK</td>\n      <td>1166</td>\n      <td>12.8</td>\n      <td>7.2</td>\n      <td>0.4</td>\n    </tr>\n    <tr>\n      <th>10</th>\n      <td>ovirt-engine</td>\n      <td>1272</td>\n      <td>36.1</td>\n      <td>27.1</td>\n      <td>2.6</td>\n    </tr>\n  </tbody>\n</table>\n</div>"
     },
     "metadata": {},
     "execution_count": 157
    }
   ],
   "source": [
    "# df.e=df.e.astype(str)+'%'\n",
    "# df.a=df.a.astype(str)+'%'\n",
    "# df.b=df.b.astype(str)+'%'\n",
    "df.rename(columns={'name':'Project','total':'Total Memory Alerts', 'e':'Eliminated Memory', 'a':'Actionable Memory','b':'Triaged Bug by Devs. Memory'}, inplace=True)\n",
    "memory = df \n",
    "memory"
   ]
  },
  {
   "cell_type": "code",
   "execution_count": 158,
   "metadata": {
    "tags": []
   },
   "outputs": [
    {
     "output_type": "stream",
     "name": "stdout",
     "text": "| Project               |   Total Memory Alerts |   Eliminated Memory |   Actionable Memory |   Triaged Bug by Devs. Memory |\n|:----------------------|----------------------:|--------------------:|--------------------:|------------------------------:|\n| Linux                 |                  7903 |               73.06 |               43.54 |                          3.11 |\n| Firefox               |                  5448 |               77.22 |               49.72 |                         12.43 |\n| LibreOffice           |                  4194 |               80.64 |               73.75 |                         52.43 |\n| Samba                 |                  1700 |               77.88 |               39.88 |                          3.82 |\n| ovirt-engine          |                  1272 |               36.08 |               27.12 |                          2.59 |\n| VTK                   |                  1166 |               12.78 |                7.2  |                          0.43 |\n| OpenCV                |                   710 |               89.15 |               32.54 |                          0.28 |\n| Kodi                  |                   682 |               68.62 |               54.11 |                         25.07 |\n| Thunderbird           |                   357 |               63.31 |               24.37 |                         12.61 |\n| Chromium EC           |                   306 |               93.46 |               29.74 |                         17.65 |\n| !CHAOS Control System |                   282 |               80.14 |               39.01 |                          1.42 |\n"
    }
   ],
   "source": [
    "       \n",
    "memory = memory.sort_values('Total Memory Alerts', ascending=False)\n",
    "print(tabulate(memory, tablefmt='pipe',headers='keys',showindex=False))"
   ]
  },
  {
   "cell_type": "code",
   "execution_count": 164,
   "metadata": {},
   "outputs": [
    {
     "output_type": "execute_result",
     "data": {
      "text/plain": "        Project  Total Non-Memory Alerts  Eliminated Non-memory  \\\n0   Chromium EC                      658                   71.6   \n1       Firefox                     7497                   70.9   \n2          Kodi                     1711                   67.3   \n3   LibreOffice                     8321                   94.1   \n4         Linux                    11611                   65.2   \n5        OpenCV                     1733                   76.5   \n6         Samba                     2807                   73.3   \n7   Thunderbird                      528                   49.8   \n8           VTK                     1356                   19.1   \n9  ovirt-engine                     1717                   47.8   \n\n   Actionable Non-memory  Triaged Bugs by Devs. Non-memory  \n0                   28.0                               8.5  \n1                   46.5                               5.1  \n2                   50.3                              11.6  \n3                   71.0                              41.4  \n4                   39.1                               3.4  \n5                   36.0                               0.4  \n6                   24.7                               1.5  \n7                   15.0                               5.1  \n8                    7.6                               1.8  \n9                   32.6                               2.6  ",
      "text/html": "<div>\n<style scoped>\n    .dataframe tbody tr th:only-of-type {\n        vertical-align: middle;\n    }\n\n    .dataframe tbody tr th {\n        vertical-align: top;\n    }\n\n    .dataframe thead th {\n        text-align: right;\n    }\n</style>\n<table border=\"1\" class=\"dataframe\">\n  <thead>\n    <tr style=\"text-align: right;\">\n      <th></th>\n      <th>Project</th>\n      <th>Total Non-Memory Alerts</th>\n      <th>Eliminated Non-memory</th>\n      <th>Actionable Non-memory</th>\n      <th>Triaged Bugs by Devs. Non-memory</th>\n    </tr>\n  </thead>\n  <tbody>\n    <tr>\n      <th>0</th>\n      <td>Chromium EC</td>\n      <td>658</td>\n      <td>71.6</td>\n      <td>28.0</td>\n      <td>8.5</td>\n    </tr>\n    <tr>\n      <th>1</th>\n      <td>Firefox</td>\n      <td>7497</td>\n      <td>70.9</td>\n      <td>46.5</td>\n      <td>5.1</td>\n    </tr>\n    <tr>\n      <th>2</th>\n      <td>Kodi</td>\n      <td>1711</td>\n      <td>67.3</td>\n      <td>50.3</td>\n      <td>11.6</td>\n    </tr>\n    <tr>\n      <th>3</th>\n      <td>LibreOffice</td>\n      <td>8321</td>\n      <td>94.1</td>\n      <td>71.0</td>\n      <td>41.4</td>\n    </tr>\n    <tr>\n      <th>4</th>\n      <td>Linux</td>\n      <td>11611</td>\n      <td>65.2</td>\n      <td>39.1</td>\n      <td>3.4</td>\n    </tr>\n    <tr>\n      <th>5</th>\n      <td>OpenCV</td>\n      <td>1733</td>\n      <td>76.5</td>\n      <td>36.0</td>\n      <td>0.4</td>\n    </tr>\n    <tr>\n      <th>6</th>\n      <td>Samba</td>\n      <td>2807</td>\n      <td>73.3</td>\n      <td>24.7</td>\n      <td>1.5</td>\n    </tr>\n    <tr>\n      <th>7</th>\n      <td>Thunderbird</td>\n      <td>528</td>\n      <td>49.8</td>\n      <td>15.0</td>\n      <td>5.1</td>\n    </tr>\n    <tr>\n      <th>8</th>\n      <td>VTK</td>\n      <td>1356</td>\n      <td>19.1</td>\n      <td>7.6</td>\n      <td>1.8</td>\n    </tr>\n    <tr>\n      <th>9</th>\n      <td>ovirt-engine</td>\n      <td>1717</td>\n      <td>47.8</td>\n      <td>32.6</td>\n      <td>2.6</td>\n    </tr>\n  </tbody>\n</table>\n</div>"
     },
     "metadata": {},
     "execution_count": 164
    }
   ],
   "source": [
    "q='''select * from alert a\n",
    "join project p on a.project_id = p.id\n",
    "join memory_error me on a.alert_type_id = me.alert_type_id\n",
    "where is_invalid=0\n",
    "and me.memory is null\n",
    "order by name;'''\n",
    "root=pd.DataFrame(sql.execute(q)) \n",
    "total=root.groupby('name')[['cid']].count()\n",
    "total.rename(columns={'cid':'total'},inplace=True)\n",
    "eliminated=root[root['status']=='Fixed'].groupby('name')[['cid']].count()\n",
    "eliminated.rename(columns={'cid':'e'},inplace=True)\n",
    "bug=root[root['classification']=='Bug'].groupby('name')[['cid']].count()\n",
    "q='''select * from alert a\n",
    "join project p on a.project_id = p.id\n",
    "join memory_error me on a.alert_type_id = me.alert_type_id\n",
    "join actionability ac on ac.alert_id=a.id\n",
    "where is_invalid=0\n",
    "and actionability = 1\n",
    "and me.memory is null\n",
    "order by name;'''\n",
    "df=pd.DataFrame(sql.execute(q))\n",
    "actionable=df.groupby('name')[['cid']].count()\n",
    "actionable.rename(columns={'cid':'a'},inplace=True)\n",
    "bug.rename(columns={'cid':'b'},inplace=True)\n",
    "df=reduce(lambda x,y:pd.merge(x,y,on='name'),[total,eliminated, actionable, bug])\n",
    "df=df.reset_index()\n",
    "df.e = round((df.e/df.total)*100,2)    \n",
    "df.a = round((df.a/df.total)*100,2)\n",
    "df.b = round((df.b/df.total)*100,2)   \n",
    "# df.e=df.e.astype(str)+'%'\n",
    "# df.a=df.a.astype(str)+'%'\n",
    "# df.b=df.b.astype(str)+'%'\n",
    "df.rename(columns={'name':'Project','total':'Total Non-Memory Alerts', 'e':'Eliminated Non-memory', 'a':'Actionable Non-memory','b':'Triaged Bugs by Devs. Non-memory'}, inplace=True)\n",
    "non_memory = df        \n",
    "#non_memory = non_memory.sort_values('total non_memory', ascending=False)\n",
    "non_memory"
   ]
  },
  {
   "cell_type": "code",
   "execution_count": 165,
   "metadata": {},
   "outputs": [
    {
     "output_type": "execute_result",
     "data": {
      "text/plain": "        Project  Total Memory Alerts  Eliminated Memory  Actionable Memory  \\\n0         Linux                 7903               73.1               43.5   \n1       Firefox                 5448               77.2               49.7   \n2   LibreOffice                 4194               80.6               73.8   \n3         Samba                 1700               77.9               39.9   \n4  ovirt-engine                 1272               36.1               27.1   \n5           VTK                 1166               12.8                7.2   \n6        OpenCV                  710               89.2               32.5   \n7          Kodi                  682               68.6               54.1   \n8   Thunderbird                  357               63.3               24.4   \n9   Chromium EC                  306               93.5               29.7   \n\n   Triaged Bug by Devs. Memory  Total Non-Memory Alerts  \\\n0                          3.1                    11611   \n1                         12.4                     7497   \n2                         52.4                     8321   \n3                          3.8                     2807   \n4                          2.6                     1717   \n5                          0.4                     1356   \n6                          0.3                     1733   \n7                         25.1                     1711   \n8                         12.6                      528   \n9                         17.6                      658   \n\n   Eliminated Non-memory  Actionable Non-memory  \\\n0                   65.2                   39.1   \n1                   70.9                   46.5   \n2                   94.1                   71.0   \n3                   73.3                   24.7   \n4                   47.8                   32.6   \n5                   19.1                    7.6   \n6                   76.5                   36.0   \n7                   67.3                   50.3   \n8                   49.8                   15.0   \n9                   71.6                   28.0   \n\n   Triaged Bugs by Devs. Non-memory  \n0                               3.4  \n1                               5.1  \n2                              41.4  \n3                               1.5  \n4                               2.6  \n5                               1.8  \n6                               0.4  \n7                              11.6  \n8                               5.1  \n9                               8.5  ",
      "text/html": "<div>\n<style scoped>\n    .dataframe tbody tr th:only-of-type {\n        vertical-align: middle;\n    }\n\n    .dataframe tbody tr th {\n        vertical-align: top;\n    }\n\n    .dataframe thead th {\n        text-align: right;\n    }\n</style>\n<table border=\"1\" class=\"dataframe\">\n  <thead>\n    <tr style=\"text-align: right;\">\n      <th></th>\n      <th>Project</th>\n      <th>Total Memory Alerts</th>\n      <th>Eliminated Memory</th>\n      <th>Actionable Memory</th>\n      <th>Triaged Bug by Devs. Memory</th>\n      <th>Total Non-Memory Alerts</th>\n      <th>Eliminated Non-memory</th>\n      <th>Actionable Non-memory</th>\n      <th>Triaged Bugs by Devs. Non-memory</th>\n    </tr>\n  </thead>\n  <tbody>\n    <tr>\n      <th>0</th>\n      <td>Linux</td>\n      <td>7903</td>\n      <td>73.1</td>\n      <td>43.5</td>\n      <td>3.1</td>\n      <td>11611</td>\n      <td>65.2</td>\n      <td>39.1</td>\n      <td>3.4</td>\n    </tr>\n    <tr>\n      <th>1</th>\n      <td>Firefox</td>\n      <td>5448</td>\n      <td>77.2</td>\n      <td>49.7</td>\n      <td>12.4</td>\n      <td>7497</td>\n      <td>70.9</td>\n      <td>46.5</td>\n      <td>5.1</td>\n    </tr>\n    <tr>\n      <th>2</th>\n      <td>LibreOffice</td>\n      <td>4194</td>\n      <td>80.6</td>\n      <td>73.8</td>\n      <td>52.4</td>\n      <td>8321</td>\n      <td>94.1</td>\n      <td>71.0</td>\n      <td>41.4</td>\n    </tr>\n    <tr>\n      <th>3</th>\n      <td>Samba</td>\n      <td>1700</td>\n      <td>77.9</td>\n      <td>39.9</td>\n      <td>3.8</td>\n      <td>2807</td>\n      <td>73.3</td>\n      <td>24.7</td>\n      <td>1.5</td>\n    </tr>\n    <tr>\n      <th>4</th>\n      <td>ovirt-engine</td>\n      <td>1272</td>\n      <td>36.1</td>\n      <td>27.1</td>\n      <td>2.6</td>\n      <td>1717</td>\n      <td>47.8</td>\n      <td>32.6</td>\n      <td>2.6</td>\n    </tr>\n    <tr>\n      <th>5</th>\n      <td>VTK</td>\n      <td>1166</td>\n      <td>12.8</td>\n      <td>7.2</td>\n      <td>0.4</td>\n      <td>1356</td>\n      <td>19.1</td>\n      <td>7.6</td>\n      <td>1.8</td>\n    </tr>\n    <tr>\n      <th>6</th>\n      <td>OpenCV</td>\n      <td>710</td>\n      <td>89.2</td>\n      <td>32.5</td>\n      <td>0.3</td>\n      <td>1733</td>\n      <td>76.5</td>\n      <td>36.0</td>\n      <td>0.4</td>\n    </tr>\n    <tr>\n      <th>7</th>\n      <td>Kodi</td>\n      <td>682</td>\n      <td>68.6</td>\n      <td>54.1</td>\n      <td>25.1</td>\n      <td>1711</td>\n      <td>67.3</td>\n      <td>50.3</td>\n      <td>11.6</td>\n    </tr>\n    <tr>\n      <th>8</th>\n      <td>Thunderbird</td>\n      <td>357</td>\n      <td>63.3</td>\n      <td>24.4</td>\n      <td>12.6</td>\n      <td>528</td>\n      <td>49.8</td>\n      <td>15.0</td>\n      <td>5.1</td>\n    </tr>\n    <tr>\n      <th>9</th>\n      <td>Chromium EC</td>\n      <td>306</td>\n      <td>93.5</td>\n      <td>29.7</td>\n      <td>17.6</td>\n      <td>658</td>\n      <td>71.6</td>\n      <td>28.0</td>\n      <td>8.5</td>\n    </tr>\n  </tbody>\n</table>\n</div>"
     },
     "metadata": {},
     "execution_count": 165
    }
   ],
   "source": [
    "df=reduce(lambda x,y: pd.merge(x,y,on='Project'),[memory,non_memory])\n",
    "df = df.sort_values('Total Memory Alerts', ascending=False)\n",
    "df"
   ]
  },
  {
   "cell_type": "code",
   "execution_count": 170,
   "metadata": {
    "tags": []
   },
   "outputs": [
    {
     "output_type": "stream",
     "name": "stdout",
     "text": "Total Memory Alerts 0.7904914021492004 0.011109322309494019\nEliminated Memory 0.8522984385490417 0.061861250549554825\nActionable Memory 0.9814115762710571 0.9722718596458435\nTriaged Bug by Devs. Memory 0.7839808464050293 0.009256302379071712\nTotal Non-Memory Alerts 0.786896824836731 0.01004474051296711\nEliminated Non-memory 0.9119260311126709 0.29448455572128296\nActionable Non-memory 0.9802671670913696 0.9665817618370056\nTriaged Bugs by Devs. Non-memory 0.6153701543807983 8.437768701696768e-05\n"
    }
   ],
   "source": [
    "from scipy.stats import shapiro\n",
    "stat, p = shapiro(df['Eliminated Memory'])\n",
    "for col in df.columns:\n",
    "    if col=='Project':\n",
    "        continue\n",
    "    stat, p = shapiro(df[col])\n",
    "    print(col, stat, p)"
   ]
  },
  {
   "cell_type": "code",
   "execution_count": 171,
   "metadata": {},
   "outputs": [
    {
     "output_type": "execute_result",
     "data": {
      "text/plain": "(39.0, 0.21367765694890384)"
     },
     "metadata": {},
     "execution_count": 171
    }
   ],
   "source": [
    "from scipy.stats import mannwhitneyu\n",
    "stat, p = mannwhitneyu(df['Eliminated Memory'],df['Eliminated Non-memory']\n",
    ")\n",
    "stat, p"
   ]
  },
  {
   "cell_type": "code",
   "execution_count": 172,
   "metadata": {},
   "outputs": [
    {
     "output_type": "execute_result",
     "data": {
      "text/plain": "(46.0, 0.3956683900503302)"
     },
     "metadata": {},
     "execution_count": 172
    }
   ],
   "source": [
    "from scipy.stats import mannwhitneyu\n",
    "stat, p = mannwhitneyu(df['Actionable Memory'],df['Actionable Non-memory']\n",
    ")\n",
    "stat, p"
   ]
  },
  {
   "cell_type": "code",
   "execution_count": 175,
   "metadata": {},
   "outputs": [
    {
     "output_type": "execute_result",
     "data": {
      "text/plain": "(40.0, 0.23633779675579358)"
     },
     "metadata": {},
     "execution_count": 175
    }
   ],
   "source": [
    "from scipy.stats import mannwhitneyu\n",
    "stat, p = mannwhitneyu(df['Triaged Bug by Devs. Memory'],df['Triaged Bugs by Devs. Non-memory']\n",
    ")\n",
    "stat, p"
   ]
  },
  {
   "cell_type": "code",
   "execution_count": 176,
   "metadata": {},
   "outputs": [
    {
     "output_type": "execute_result",
     "data": {
      "text/plain": "75.14"
     },
     "metadata": {},
     "execution_count": 176
    }
   ],
   "source": [
    "df['Eliminated Memory'].median()"
   ]
  },
  {
   "cell_type": "code",
   "execution_count": 177,
   "metadata": {},
   "outputs": [
    {
     "output_type": "execute_result",
     "data": {
      "text/plain": "36.21"
     },
     "metadata": {},
     "execution_count": 177
    }
   ],
   "source": [
    "df['Actionable Memory'].median()"
   ]
  },
  {
   "cell_type": "code",
   "execution_count": 179,
   "metadata": {},
   "outputs": [
    {
     "output_type": "execute_result",
     "data": {
      "text/plain": "8.125"
     },
     "metadata": {},
     "execution_count": 179
    }
   ],
   "source": [
    "df['Triaged Bug by Devs. Memory'].median()"
   ]
  },
  {
   "cell_type": "code",
   "execution_count": null,
   "metadata": {},
   "outputs": [],
   "source": []
  }
 ],
 "metadata": {
  "language_info": {
   "codemirror_mode": {
    "name": "ipython",
    "version": 3
   },
   "file_extension": ".py",
   "mimetype": "text/x-python",
   "name": "python",
   "nbconvert_exporter": "python",
   "pygments_lexer": "ipython3",
   "version": "3.7.3-final"
  },
  "orig_nbformat": 2,
  "kernelspec": {
   "name": "python3",
   "display_name": "Python 3"
  }
 },
 "nbformat": 4,
 "nbformat_minor": 2
}