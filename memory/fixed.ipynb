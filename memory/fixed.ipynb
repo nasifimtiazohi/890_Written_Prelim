{
 "cells": [
  {
   "cell_type": "code",
   "execution_count": 1,
   "metadata": {},
   "outputs": [],
   "source": [
    "import sys\n",
    "sys.path.append('../main')\n",
    "import sql\n",
    "import pandas as pd\n",
    "from functools import reduce"
   ]
  },
  {
   "cell_type": "code",
   "execution_count": 9,
   "metadata": {
    "tags": []
   },
   "outputs": [
    {
     "output_type": "execute_result",
     "data": {
      "text/plain": "                     name  total  memory memory (%)  non_memory non_memory (%)\n5                   Linux  19514    7903      40.5%       11611          59.5%\n2                 Firefox  12945    5448     42.09%        7497         57.91%\n4             LibreOffice  12495    4174     33.41%        8321         66.59%\n8                   Samba   4507    1700     37.72%        2807         62.28%\n7            ovirt-engine   2989    1272     42.56%        1717         57.44%\n10                    VTK   2522    1166     46.23%        1356         53.77%\n6                  OpenCV   2443     710     29.06%        1733         70.94%\n3                    Kodi   2393     682      28.5%        1711          71.5%\n0   !CHAOS Control System   1980     282     14.24%        1698         85.76%\n1             Chromium EC    964     306     31.74%         658         68.26%\n9             Thunderbird    885     357     40.34%         528         59.66%",
      "text/html": "<div>\n<style scoped>\n    .dataframe tbody tr th:only-of-type {\n        vertical-align: middle;\n    }\n\n    .dataframe tbody tr th {\n        vertical-align: top;\n    }\n\n    .dataframe thead th {\n        text-align: right;\n    }\n</style>\n<table border=\"1\" class=\"dataframe\">\n  <thead>\n    <tr style=\"text-align: right;\">\n      <th></th>\n      <th>name</th>\n      <th>total</th>\n      <th>memory</th>\n      <th>memory (%)</th>\n      <th>non_memory</th>\n      <th>non_memory (%)</th>\n    </tr>\n  </thead>\n  <tbody>\n    <tr>\n      <th>5</th>\n      <td>Linux</td>\n      <td>19514</td>\n      <td>7903</td>\n      <td>40.5%</td>\n      <td>11611</td>\n      <td>59.5%</td>\n    </tr>\n    <tr>\n      <th>2</th>\n      <td>Firefox</td>\n      <td>12945</td>\n      <td>5448</td>\n      <td>42.09%</td>\n      <td>7497</td>\n      <td>57.91%</td>\n    </tr>\n    <tr>\n      <th>4</th>\n      <td>LibreOffice</td>\n      <td>12495</td>\n      <td>4174</td>\n      <td>33.41%</td>\n      <td>8321</td>\n      <td>66.59%</td>\n    </tr>\n    <tr>\n      <th>8</th>\n      <td>Samba</td>\n      <td>4507</td>\n      <td>1700</td>\n      <td>37.72%</td>\n      <td>2807</td>\n      <td>62.28%</td>\n    </tr>\n    <tr>\n      <th>7</th>\n      <td>ovirt-engine</td>\n      <td>2989</td>\n      <td>1272</td>\n      <td>42.56%</td>\n      <td>1717</td>\n      <td>57.44%</td>\n    </tr>\n    <tr>\n      <th>10</th>\n      <td>VTK</td>\n      <td>2522</td>\n      <td>1166</td>\n      <td>46.23%</td>\n      <td>1356</td>\n      <td>53.77%</td>\n    </tr>\n    <tr>\n      <th>6</th>\n      <td>OpenCV</td>\n      <td>2443</td>\n      <td>710</td>\n      <td>29.06%</td>\n      <td>1733</td>\n      <td>70.94%</td>\n    </tr>\n    <tr>\n      <th>3</th>\n      <td>Kodi</td>\n      <td>2393</td>\n      <td>682</td>\n      <td>28.5%</td>\n      <td>1711</td>\n      <td>71.5%</td>\n    </tr>\n    <tr>\n      <th>0</th>\n      <td>!CHAOS Control System</td>\n      <td>1980</td>\n      <td>282</td>\n      <td>14.24%</td>\n      <td>1698</td>\n      <td>85.76%</td>\n    </tr>\n    <tr>\n      <th>1</th>\n      <td>Chromium EC</td>\n      <td>964</td>\n      <td>306</td>\n      <td>31.74%</td>\n      <td>658</td>\n      <td>68.26%</td>\n    </tr>\n    <tr>\n      <th>9</th>\n      <td>Thunderbird</td>\n      <td>885</td>\n      <td>357</td>\n      <td>40.34%</td>\n      <td>528</td>\n      <td>59.66%</td>\n    </tr>\n  </tbody>\n</table>\n</div>"
     },
     "metadata": {},
     "execution_count": 9
    }
   ],
   "source": [
    "q='''select name, count(*) as total from alert a\n",
    "        join project p on a.project_id = p.id\n",
    "        join memory_error me on a.alert_type_id = me.alert_type_id\n",
    "        where is_invalid=0\n",
    "        group by name\n",
    "        order by name'''\n",
    "ta = pd.DataFrame(sql.execute(q)) \n",
    "q='''select name, count(*) as memory from alert a\n",
    "        join project p on a.project_id = p.id\n",
    "        join memory_error me on a.alert_type_id = me.alert_type_id\n",
    "        where is_invalid=0\n",
    "        and me.memory =1 \n",
    "        group by name\n",
    "        order by name'''\n",
    "tma = pd.DataFrame(sql.execute(q)) \n",
    "tma['memory (%)']= round((tma.memory / ta.total) * 100,2)\n",
    "q='''select name, count(*) as non_memory from alert a\n",
    "        join project p on a.project_id = p.id\n",
    "        join memory_error me on a.alert_type_id = me.alert_type_id\n",
    "        where is_invalid=0\n",
    "        and me.memory is null\n",
    "        group by name\n",
    "        order by name'''\n",
    "tnma = pd.DataFrame(sql.execute(q)) \n",
    "tnma['non_memory (%)']= round((tnma.non_memory / ta.total) * 100,2)\n",
    "df= reduce(lambda x,y: pd.merge(x,y, on='name', how='outer'),[ta,tma,tnma])\n",
    "df['memory (%)']=df['memory (%)'].astype(str)+\"%\"\n",
    "df['non_memory (%)']=df['non_memory (%)'].astype(str)+\"%\"\n",
    "df = df.sort_values('total',ascending=False)\n",
    "df"
   ]
  },
  {
   "cell_type": "code",
   "execution_count": 3,
   "metadata": {},
   "outputs": [
    {
     "output_type": "execute_result",
     "data": {
      "text/plain": "                       total memory eliminated memory actionable memory  \\\nname                                                                      \nLinux                          7903            73.06%            43.54%   \nFirefox                        5448            77.22%            49.72%   \nLibreOffice                    4174            80.57%            73.74%   \nSamba                          1700            77.88%            39.88%   \novirt-engine                   1272            36.08%            27.12%   \nVTK                            1166            12.78%              7.2%   \nOpenCV                          710            89.15%            32.54%   \nKodi                            682            68.62%            54.11%   \nThunderbird                     357            63.31%            24.37%   \nChromium EC                     306            93.46%            29.74%   \n!CHAOS Control System           282            80.14%            39.01%   \n\n                      triaged_bug memory  \nname                                      \nLinux                              3.11%  \nFirefox                           12.43%  \nLibreOffice                       52.68%  \nSamba                              3.82%  \novirt-engine                       2.59%  \nVTK                                0.43%  \nOpenCV                             0.28%  \nKodi                              25.07%  \nThunderbird                       12.61%  \nChromium EC                       17.65%  \n!CHAOS Control System              1.42%  ",
      "text/html": "<div>\n<style scoped>\n    .dataframe tbody tr th:only-of-type {\n        vertical-align: middle;\n    }\n\n    .dataframe tbody tr th {\n        vertical-align: top;\n    }\n\n    .dataframe thead th {\n        text-align: right;\n    }\n</style>\n<table border=\"1\" class=\"dataframe\">\n  <thead>\n    <tr style=\"text-align: right;\">\n      <th></th>\n      <th>total memory</th>\n      <th>eliminated memory</th>\n      <th>actionable memory</th>\n      <th>triaged_bug memory</th>\n    </tr>\n    <tr>\n      <th>name</th>\n      <th></th>\n      <th></th>\n      <th></th>\n      <th></th>\n    </tr>\n  </thead>\n  <tbody>\n    <tr>\n      <th>Linux</th>\n      <td>7903</td>\n      <td>73.06%</td>\n      <td>43.54%</td>\n      <td>3.11%</td>\n    </tr>\n    <tr>\n      <th>Firefox</th>\n      <td>5448</td>\n      <td>77.22%</td>\n      <td>49.72%</td>\n      <td>12.43%</td>\n    </tr>\n    <tr>\n      <th>LibreOffice</th>\n      <td>4174</td>\n      <td>80.57%</td>\n      <td>73.74%</td>\n      <td>52.68%</td>\n    </tr>\n    <tr>\n      <th>Samba</th>\n      <td>1700</td>\n      <td>77.88%</td>\n      <td>39.88%</td>\n      <td>3.82%</td>\n    </tr>\n    <tr>\n      <th>ovirt-engine</th>\n      <td>1272</td>\n      <td>36.08%</td>\n      <td>27.12%</td>\n      <td>2.59%</td>\n    </tr>\n    <tr>\n      <th>VTK</th>\n      <td>1166</td>\n      <td>12.78%</td>\n      <td>7.2%</td>\n      <td>0.43%</td>\n    </tr>\n    <tr>\n      <th>OpenCV</th>\n      <td>710</td>\n      <td>89.15%</td>\n      <td>32.54%</td>\n      <td>0.28%</td>\n    </tr>\n    <tr>\n      <th>Kodi</th>\n      <td>682</td>\n      <td>68.62%</td>\n      <td>54.11%</td>\n      <td>25.07%</td>\n    </tr>\n    <tr>\n      <th>Thunderbird</th>\n      <td>357</td>\n      <td>63.31%</td>\n      <td>24.37%</td>\n      <td>12.61%</td>\n    </tr>\n    <tr>\n      <th>Chromium EC</th>\n      <td>306</td>\n      <td>93.46%</td>\n      <td>29.74%</td>\n      <td>17.65%</td>\n    </tr>\n    <tr>\n      <th>!CHAOS Control System</th>\n      <td>282</td>\n      <td>80.14%</td>\n      <td>39.01%</td>\n      <td>1.42%</td>\n    </tr>\n  </tbody>\n</table>\n</div>"
     },
     "metadata": {},
     "execution_count": 3
    }
   ],
   "source": [
    "q='''select * from alert a\n",
    "join project p on a.project_id = p.id\n",
    "join memory_error me on a.alert_type_id = me.alert_type_id\n",
    "where is_invalid=0\n",
    "and me.memory =1\n",
    "order by name;'''\n",
    "root=pd.DataFrame(sql.execute(q)) \n",
    "#root.head()\n",
    "total=root.groupby('name')[['cid']].count()\n",
    "total.rename(columns={'cid':'total'},inplace=True)\n",
    "eliminated=root[root['status']=='Fixed'].groupby('name')[['cid']].count()\n",
    "eliminated.rename(columns={'cid':'e'},inplace=True)\n",
    "bug=root[root['classification']=='Bug'].groupby('name')[['cid']].count()\n",
    "q='''select * from alert a\n",
    "join project p on a.project_id = p.id\n",
    "join memory_error me on a.alert_type_id = me.alert_type_id\n",
    "join actionability ac on ac.alert_id=a.id\n",
    "where is_invalid=0\n",
    "and actionability = 1\n",
    "and me.memory =1\n",
    "order by name;'''\n",
    "df=pd.DataFrame(sql.execute(q))\n",
    "actionable=df.groupby('name')[['cid']].count()\n",
    "actionable.rename(columns={'cid':'a'},inplace=True)\n",
    "bug.rename(columns={'cid':'b'},inplace=True)\n",
    "df=reduce(lambda x,y:pd.merge(x,y,on='name'),[total,eliminated, actionable, bug])\n",
    "df.e = round((df.e/df.total)*100,2)    \n",
    "df.a = round((df.a/df.total)*100,2)\n",
    "df.b = round((df.b/df.total)*100,2)   \n",
    "df.e=df.e.astype(str)+'%'\n",
    "df.a=df.a.astype(str)+'%'\n",
    "df.b=df.b.astype(str)+'%'\n",
    "df.rename(columns={'total':'total memory', 'e':'eliminated memory', 'a':'actionable memory','b':'triaged_bug memory'}, inplace=True)\n",
    "memory = df        \n",
    "memory = memory.sort_values('total memory', ascending=False)\n",
    "memory                                               "
   ]
  },
  {
   "cell_type": "code",
   "execution_count": 4,
   "metadata": {},
   "outputs": [],
   "source": [
    "q='''select * from alert a\n",
    "join project p on a.project_id = p.id\n",
    "join memory_error me on a.alert_type_id = me.alert_type_id\n",
    "where is_invalid=0\n",
    "and me.memory is null\n",
    "order by name;'''\n",
    "root=pd.DataFrame(sql.execute(q)) \n",
    "#root.head()\n",
    "total=root.groupby('name')[['cid']].count()\n",
    "total.rename(columns={'cid':'total'},inplace=True)\n",
    "eliminated=root[root['status']=='Fixed'].groupby('name')[['cid']].count()\n",
    "eliminated.rename(columns={'cid':'e'},inplace=True)\n",
    "bug=root[root['classification']=='Bug'].groupby('name')[['cid']].count()\n",
    "q='''select * from alert a\n",
    "join project p on a.project_id = p.id\n",
    "join memory_error me on a.alert_type_id = me.alert_type_id\n",
    "join actionability ac on ac.alert_id=a.id\n",
    "where is_invalid=0\n",
    "and actionability = 1\n",
    "and me.memory is null\n",
    "order by name;'''\n",
    "df=pd.DataFrame(sql.execute(q))\n",
    "actionable=df.groupby('name')[['cid']].count()\n",
    "actionable.rename(columns={'cid':'a'},inplace=True)\n",
    "bug.rename(columns={'cid':'b'},inplace=True)\n",
    "df=reduce(lambda x,y:pd.merge(x,y,on='name'),[total,eliminated, actionable, bug])\n",
    "df.e = round((df.e/df.total)*100,2)    \n",
    "df.a = round((df.a/df.total)*100,2)\n",
    "df.b = round((df.b/df.total)*100,2)   \n",
    "df.e=df.e.astype(str)+'%'\n",
    "df.a=df.a.astype(str)+'%'\n",
    "df.b=df.b.astype(str)+'%'\n",
    "df.rename(columns={'total':'total non_memory', 'e':'eliminated non_memory', 'a':'actionable non_memory','b':'triaged_bug non_memory'}, inplace=True)\n",
    "non_memory = df        \n",
    "non_memory = non_memory.sort_values('total non_memory', ascending=False) "
   ]
  },
  {
   "cell_type": "code",
   "execution_count": 5,
   "metadata": {},
   "outputs": [
    {
     "output_type": "execute_result",
     "data": {
      "text/plain": "              total memory  total non_memory eliminated memory  \\\nname                                                             \nLinux                 7903             11611            73.06%   \nFirefox               5448              7497            77.22%   \nLibreOffice           4174              8321            80.57%   \nSamba                 1700              2807            77.88%   \novirt-engine          1272              1717            36.08%   \nVTK                   1166              1356            12.78%   \nOpenCV                 710              1733            89.15%   \nKodi                   682              1711            68.62%   \nThunderbird            357               528            63.31%   \nChromium EC            306               658            93.46%   \n\n             eliminated non_memory actionable memory actionable non_memory  \\\nname                                                                         \nLinux                       65.19%            43.54%                39.08%   \nFirefox                      70.9%            49.72%                46.47%   \nLibreOffice                 94.08%            73.74%                71.01%   \nSamba                       73.35%            39.88%                24.72%   \novirt-engine                47.82%            27.12%                32.62%   \nVTK                          19.1%              7.2%                  7.6%   \nOpenCV                      76.46%            32.54%                35.95%   \nKodi                        67.27%            54.11%                50.32%   \nThunderbird                 49.81%            24.37%                14.96%   \nChromium EC                 71.58%            29.74%                27.96%   \n\n             triaged_bug memory triaged_bug non_memory  \nname                                                    \nLinux                     3.11%                  3.42%  \nFirefox                  12.43%                  5.14%  \nLibreOffice              52.68%                 41.39%  \nSamba                     3.82%                  1.53%  \novirt-engine              2.59%                  2.56%  \nVTK                       0.43%                  1.84%  \nOpenCV                    0.28%                   0.4%  \nKodi                     25.07%                 11.57%  \nThunderbird              12.61%                  5.11%  \nChromium EC              17.65%                  8.51%  ",
      "text/html": "<div>\n<style scoped>\n    .dataframe tbody tr th:only-of-type {\n        vertical-align: middle;\n    }\n\n    .dataframe tbody tr th {\n        vertical-align: top;\n    }\n\n    .dataframe thead th {\n        text-align: right;\n    }\n</style>\n<table border=\"1\" class=\"dataframe\">\n  <thead>\n    <tr style=\"text-align: right;\">\n      <th></th>\n      <th>total memory</th>\n      <th>total non_memory</th>\n      <th>eliminated memory</th>\n      <th>eliminated non_memory</th>\n      <th>actionable memory</th>\n      <th>actionable non_memory</th>\n      <th>triaged_bug memory</th>\n      <th>triaged_bug non_memory</th>\n    </tr>\n    <tr>\n      <th>name</th>\n      <th></th>\n      <th></th>\n      <th></th>\n      <th></th>\n      <th></th>\n      <th></th>\n      <th></th>\n      <th></th>\n    </tr>\n  </thead>\n  <tbody>\n    <tr>\n      <th>Linux</th>\n      <td>7903</td>\n      <td>11611</td>\n      <td>73.06%</td>\n      <td>65.19%</td>\n      <td>43.54%</td>\n      <td>39.08%</td>\n      <td>3.11%</td>\n      <td>3.42%</td>\n    </tr>\n    <tr>\n      <th>Firefox</th>\n      <td>5448</td>\n      <td>7497</td>\n      <td>77.22%</td>\n      <td>70.9%</td>\n      <td>49.72%</td>\n      <td>46.47%</td>\n      <td>12.43%</td>\n      <td>5.14%</td>\n    </tr>\n    <tr>\n      <th>LibreOffice</th>\n      <td>4174</td>\n      <td>8321</td>\n      <td>80.57%</td>\n      <td>94.08%</td>\n      <td>73.74%</td>\n      <td>71.01%</td>\n      <td>52.68%</td>\n      <td>41.39%</td>\n    </tr>\n    <tr>\n      <th>Samba</th>\n      <td>1700</td>\n      <td>2807</td>\n      <td>77.88%</td>\n      <td>73.35%</td>\n      <td>39.88%</td>\n      <td>24.72%</td>\n      <td>3.82%</td>\n      <td>1.53%</td>\n    </tr>\n    <tr>\n      <th>ovirt-engine</th>\n      <td>1272</td>\n      <td>1717</td>\n      <td>36.08%</td>\n      <td>47.82%</td>\n      <td>27.12%</td>\n      <td>32.62%</td>\n      <td>2.59%</td>\n      <td>2.56%</td>\n    </tr>\n    <tr>\n      <th>VTK</th>\n      <td>1166</td>\n      <td>1356</td>\n      <td>12.78%</td>\n      <td>19.1%</td>\n      <td>7.2%</td>\n      <td>7.6%</td>\n      <td>0.43%</td>\n      <td>1.84%</td>\n    </tr>\n    <tr>\n      <th>OpenCV</th>\n      <td>710</td>\n      <td>1733</td>\n      <td>89.15%</td>\n      <td>76.46%</td>\n      <td>32.54%</td>\n      <td>35.95%</td>\n      <td>0.28%</td>\n      <td>0.4%</td>\n    </tr>\n    <tr>\n      <th>Kodi</th>\n      <td>682</td>\n      <td>1711</td>\n      <td>68.62%</td>\n      <td>67.27%</td>\n      <td>54.11%</td>\n      <td>50.32%</td>\n      <td>25.07%</td>\n      <td>11.57%</td>\n    </tr>\n    <tr>\n      <th>Thunderbird</th>\n      <td>357</td>\n      <td>528</td>\n      <td>63.31%</td>\n      <td>49.81%</td>\n      <td>24.37%</td>\n      <td>14.96%</td>\n      <td>12.61%</td>\n      <td>5.11%</td>\n    </tr>\n    <tr>\n      <th>Chromium EC</th>\n      <td>306</td>\n      <td>658</td>\n      <td>93.46%</td>\n      <td>71.58%</td>\n      <td>29.74%</td>\n      <td>27.96%</td>\n      <td>17.65%</td>\n      <td>8.51%</td>\n    </tr>\n  </tbody>\n</table>\n</div>"
     },
     "metadata": {},
     "execution_count": 5
    }
   ],
   "source": [
    "df=reduce(lambda x,y: pd.merge(x,y,on='name'),[memory,non_memory])\n",
    "df=df[['total memory', 'total non_memory', 'eliminated memory', 'eliminated non_memory',\n",
    "    'actionable memory','actionable non_memory','triaged_bug memory','triaged_bug non_memory']]\n",
    "df = df.sort_values('total memory', ascending=False)\n",
    "df"
   ]
  }
 ],
 "metadata": {
  "language_info": {
   "codemirror_mode": {
    "name": "ipython",
    "version": 3
   },
   "file_extension": ".py",
   "mimetype": "text/x-python",
   "name": "python",
   "nbconvert_exporter": "python",
   "pygments_lexer": "ipython3",
   "version": "3.7.3-final"
  },
  "orig_nbformat": 2,
  "kernelspec": {
   "name": "python3",
   "display_name": "Python 3"
  }
 },
 "nbformat": 4,
 "nbformat_minor": 2
}